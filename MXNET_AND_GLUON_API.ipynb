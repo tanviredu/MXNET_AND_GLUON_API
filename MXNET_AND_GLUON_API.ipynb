{
  "nbformat": 4,
  "nbformat_minor": 0,
  "metadata": {
    "colab": {
      "name": "MXNET_AND_GLUON_API.ipynb",
      "provenance": [],
      "authorship_tag": "ABX9TyOA2wrec01Bma4PgLdSpY6I",
      "include_colab_link": true
    },
    "kernelspec": {
      "name": "python3",
      "display_name": "Python 3"
    }
  },
  "cells": [
    {
      "cell_type": "markdown",
      "metadata": {
        "id": "view-in-github",
        "colab_type": "text"
      },
      "source": [
        "<a href=\"https://colab.research.google.com/github/tanviredu/MXNET_AND_GLUON_API/blob/master/MXNET_AND_GLUON_API.ipynb\" target=\"_parent\"><img src=\"https://colab.research.google.com/assets/colab-badge.svg\" alt=\"Open In Colab\"/></a>"
      ]
    },
    {
      "cell_type": "code",
      "metadata": {
        "id": "e_4rmrWk_DmI",
        "colab_type": "code",
        "colab": {
          "base_uri": "https://localhost:8080/",
          "height": 171
        },
        "outputId": "1526edb8-926e-45f7-9eef-dd9005736096"
      },
      "source": [
        "!pip install mxnet"
      ],
      "execution_count": 1,
      "outputs": [
        {
          "output_type": "stream",
          "text": [
            "Requirement already satisfied: mxnet in /usr/local/lib/python3.6/dist-packages (1.6.0)\n",
            "Requirement already satisfied: graphviz<0.9.0,>=0.8.1 in /usr/local/lib/python3.6/dist-packages (from mxnet) (0.8.4)\n",
            "Requirement already satisfied: numpy<2.0.0,>1.16.0 in /usr/local/lib/python3.6/dist-packages (from mxnet) (1.18.3)\n",
            "Requirement already satisfied: requests<3,>=2.20.0 in /usr/local/lib/python3.6/dist-packages (from mxnet) (2.21.0)\n",
            "Requirement already satisfied: urllib3<1.25,>=1.21.1 in /usr/local/lib/python3.6/dist-packages (from requests<3,>=2.20.0->mxnet) (1.24.3)\n",
            "Requirement already satisfied: idna<2.9,>=2.5 in /usr/local/lib/python3.6/dist-packages (from requests<3,>=2.20.0->mxnet) (2.8)\n",
            "Requirement already satisfied: certifi>=2017.4.17 in /usr/local/lib/python3.6/dist-packages (from requests<3,>=2.20.0->mxnet) (2020.4.5.1)\n",
            "Requirement already satisfied: chardet<3.1.0,>=3.0.2 in /usr/local/lib/python3.6/dist-packages (from requests<3,>=2.20.0->mxnet) (3.0.4)\n"
          ],
          "name": "stdout"
        }
      ]
    },
    {
      "cell_type": "code",
      "metadata": {
        "id": "eag5AorvEGzi",
        "colab_type": "code",
        "colab": {}
      },
      "source": [
        "import mxnet as mx\n",
        "from mxnet import nd\n",
        "import numpy as np"
      ],
      "execution_count": 0,
      "outputs": []
    },
    {
      "cell_type": "code",
      "metadata": {
        "id": "kujCx6jvEe6z",
        "colab_type": "code",
        "colab": {}
      },
      "source": [
        "### ND array API is the basic of the MXNET its like the tensor datastructrure Tensorflow\n",
        "### exactly like the tensor in the tensorflow ND array is used in ND array\n",
        "### the ND array is very related with numpy.ndarray\n",
        "### ND array use lazy evaluation\n",
        "### it checks the data and then define how to optimize the calculation\n"
      ],
      "execution_count": 0,
      "outputs": []
    },
    {
      "cell_type": "code",
      "metadata": {
        "id": "COQDePTHH8CO",
        "colab_type": "code",
        "colab": {}
      },
      "source": [
        "## make a two rows and three clumns\n",
        "## in the nd array you use first brackets\n",
        "## you have to pass like this (((tuple1),(tuple2)))\n",
        "a = nd.array(((10,20,30),(40,50,60)))"
      ],
      "execution_count": 0,
      "outputs": []
    },
    {
      "cell_type": "code",
      "metadata": {
        "id": "H3KZIQjJILax",
        "colab_type": "code",
        "colab": {
          "base_uri": "https://localhost:8080/",
          "height": 34
        },
        "outputId": "62bc457e-c81a-452f-f1b2-059180ef94e9"
      },
      "source": [
        "a.shape"
      ],
      "execution_count": 4,
      "outputs": [
        {
          "output_type": "execute_result",
          "data": {
            "text/plain": [
              "(2, 3)"
            ]
          },
          "metadata": {
            "tags": []
          },
          "execution_count": 4
        }
      ]
    },
    {
      "cell_type": "code",
      "metadata": {
        "id": "Ur7pUhQrIboB",
        "colab_type": "code",
        "colab": {
          "base_uri": "https://localhost:8080/",
          "height": 34
        },
        "outputId": "aaae60ad-a65c-4ab4-cfc4-c361ff078bde"
      },
      "source": [
        "## nd array lives on a context either a  cpu or a GPU\n",
        "## you can find it with the context command\n",
        "## this array is stored in cpy\n",
        "a.context"
      ],
      "execution_count": 5,
      "outputs": [
        {
          "output_type": "execute_result",
          "data": {
            "text/plain": [
              "cpu(0)"
            ]
          },
          "metadata": {
            "tags": []
          },
          "execution_count": 5
        }
      ]
    },
    {
      "cell_type": "code",
      "metadata": {
        "id": "c8wpTm3NIexf",
        "colab_type": "code",
        "colab": {}
      },
      "source": [
        "## you can do almost all the operation in the numpy in the ND array\n",
        "## but you have to use the tuple\n",
        "b = nd.ones((2,3))"
      ],
      "execution_count": 0,
      "outputs": []
    },
    {
      "cell_type": "code",
      "metadata": {
        "id": "940r5ET8JBgO",
        "colab_type": "code",
        "colab": {
          "base_uri": "https://localhost:8080/",
          "height": 84
        },
        "outputId": "6f893fbb-4643-4965-ccee-5f372e80b419"
      },
      "source": [
        "b"
      ],
      "execution_count": 7,
      "outputs": [
        {
          "output_type": "execute_result",
          "data": {
            "text/plain": [
              "\n",
              "[[1. 1. 1.]\n",
              " [1. 1. 1.]]\n",
              "<NDArray 2x3 @cpu(0)>"
            ]
          },
          "metadata": {
            "tags": []
          },
          "execution_count": 7
        }
      ]
    },
    {
      "cell_type": "code",
      "metadata": {
        "id": "T12-t83FJCAm",
        "colab_type": "code",
        "colab": {
          "base_uri": "https://localhost:8080/",
          "height": 101
        },
        "outputId": "b70aec30-1494-4d04-be23-3457c82d687a"
      },
      "source": [
        "row = 3\n",
        "columns = 5\n",
        "one = nd.ones((row,columns))\n",
        "print(one)"
      ],
      "execution_count": 8,
      "outputs": [
        {
          "output_type": "stream",
          "text": [
            "\n",
            "[[1. 1. 1. 1. 1.]\n",
            " [1. 1. 1. 1. 1.]\n",
            " [1. 1. 1. 1. 1.]]\n",
            "<NDArray 3x5 @cpu(0)>\n"
          ],
          "name": "stdout"
        }
      ]
    },
    {
      "cell_type": "code",
      "metadata": {
        "id": "1vz2upECJN5O",
        "colab_type": "code",
        "colab": {}
      },
      "source": [
        "## you can generate random uniform distribution\n",
        "## using nd array just like the numpy array\n",
        "range1 = 1\n",
        "range2 = -1\n",
        "row,column = 2,3\n",
        "c = nd.random.uniform(range2,range1,(row,column))"
      ],
      "execution_count": 0,
      "outputs": []
    },
    {
      "cell_type": "code",
      "metadata": {
        "id": "XEaLf-ajJqP3",
        "colab_type": "code",
        "colab": {
          "base_uri": "https://localhost:8080/",
          "height": 84
        },
        "outputId": "4465ebf3-e7dd-4521-ff0c-d3deffdfcfeb"
      },
      "source": [
        "print(c)  ## this wil give you a 2,3 matrix with uniform random value\n",
        "## between the -1,1"
      ],
      "execution_count": 10,
      "outputs": [
        {
          "output_type": "stream",
          "text": [
            "\n",
            "[[0.09762704 0.18568921 0.43037868]\n",
            " [0.6885315  0.20552671 0.71589124]]\n",
            "<NDArray 2x3 @cpu(0)>\n"
          ],
          "name": "stdout"
        }
      ]
    },
    {
      "cell_type": "code",
      "metadata": {
        "id": "gPHPi938JzUV",
        "colab_type": "code",
        "colab": {}
      },
      "source": [
        "## you can fill array with a floating point tools\n",
        "d = nd.full((row,column),5.0)"
      ],
      "execution_count": 0,
      "outputs": []
    },
    {
      "cell_type": "code",
      "metadata": {
        "id": "SBl1ACtlKR1H",
        "colab_type": "code",
        "colab": {
          "base_uri": "https://localhost:8080/",
          "height": 84
        },
        "outputId": "08c804c1-7ab9-40cf-b118-4b1b010b66e1"
      },
      "source": [
        "d"
      ],
      "execution_count": 12,
      "outputs": [
        {
          "output_type": "execute_result",
          "data": {
            "text/plain": [
              "\n",
              "[[5. 5. 5.]\n",
              " [5. 5. 5.]]\n",
              "<NDArray 2x3 @cpu(0)>"
            ]
          },
          "metadata": {
            "tags": []
          },
          "execution_count": 12
        }
      ]
    },
    {
      "cell_type": "code",
      "metadata": {
        "id": "eUmkhebxKSr5",
        "colab_type": "code",
        "colab": {
          "base_uri": "https://localhost:8080/",
          "height": 34
        },
        "outputId": "fda8ed91-1fc1-4fda-a4a4-8260ddcb5dea"
      },
      "source": [
        "## you can convert a numpy array into nd array\n",
        "numpy_array = [[1,2,3],[4,5,6],[7,8,9]]\n",
        "print(numpy_array)"
      ],
      "execution_count": 13,
      "outputs": [
        {
          "output_type": "stream",
          "text": [
            "[[1, 2, 3], [4, 5, 6], [7, 8, 9]]\n"
          ],
          "name": "stdout"
        }
      ]
    },
    {
      "cell_type": "code",
      "metadata": {
        "id": "6etItZrkK_vN",
        "colab_type": "code",
        "colab": {}
      },
      "source": [
        "nd_array = mx.nd.array(numpy_array)"
      ],
      "execution_count": 0,
      "outputs": []
    },
    {
      "cell_type": "code",
      "metadata": {
        "id": "vFXJiI9JLEJd",
        "colab_type": "code",
        "colab": {
          "base_uri": "https://localhost:8080/",
          "height": 101
        },
        "outputId": "73da275a-6bed-4e19-c5e9-49ba12cb841b"
      },
      "source": [
        "nd_array"
      ],
      "execution_count": 15,
      "outputs": [
        {
          "output_type": "execute_result",
          "data": {
            "text/plain": [
              "\n",
              "[[1. 2. 3.]\n",
              " [4. 5. 6.]\n",
              " [7. 8. 9.]]\n",
              "<NDArray 3x3 @cpu(0)>"
            ]
          },
          "metadata": {
            "tags": []
          },
          "execution_count": 15
        }
      ]
    },
    {
      "cell_type": "code",
      "metadata": {
        "id": "A75l4SCWLFem",
        "colab_type": "code",
        "colab": {}
      },
      "source": [
        "# you can also convert a nd array into numpy array\n",
        "num_array_again = nd_array.asnumpy()"
      ],
      "execution_count": 0,
      "outputs": []
    },
    {
      "cell_type": "code",
      "metadata": {
        "id": "OlYe5lNyLdCu",
        "colab_type": "code",
        "colab": {
          "base_uri": "https://localhost:8080/",
          "height": 67
        },
        "outputId": "1eacbfdb-7559-4dd2-ab21-e308dcc50ee6"
      },
      "source": [
        "num_array_again"
      ],
      "execution_count": 17,
      "outputs": [
        {
          "output_type": "execute_result",
          "data": {
            "text/plain": [
              "array([[1., 2., 3.],\n",
              "       [4., 5., 6.],\n",
              "       [7., 8., 9.]], dtype=float32)"
            ]
          },
          "metadata": {
            "tags": []
          },
          "execution_count": 17
        }
      ]
    },
    {
      "cell_type": "code",
      "metadata": {
        "id": "BrPpZ8xVLeOB",
        "colab_type": "code",
        "colab": {}
      },
      "source": [
        "## transpose od the data\n",
        "## this is the transpose data\n",
        "transpose_nd_array = nd_array.T"
      ],
      "execution_count": 0,
      "outputs": []
    },
    {
      "cell_type": "code",
      "metadata": {
        "id": "_Zdr7LzOLl_v",
        "colab_type": "code",
        "colab": {
          "base_uri": "https://localhost:8080/",
          "height": 101
        },
        "outputId": "21847d4f-6c9c-4334-b21b-00a91ea30784"
      },
      "source": [
        "print(transpose_nd_array)"
      ],
      "execution_count": 19,
      "outputs": [
        {
          "output_type": "stream",
          "text": [
            "\n",
            "[[1. 4. 7.]\n",
            " [2. 5. 8.]\n",
            " [3. 6. 9.]]\n",
            "<NDArray 3x3 @cpu(0)>\n"
          ],
          "name": "stdout"
        }
      ]
    },
    {
      "cell_type": "code",
      "metadata": {
        "id": "tJ9cdsvVLyEH",
        "colab_type": "code",
        "colab": {
          "base_uri": "https://localhost:8080/",
          "height": 101
        },
        "outputId": "3f92966f-a97f-40eb-e1ff-63f49b645363"
      },
      "source": [
        "## dot product is possible in nd array\n",
        "## this is the element wise multiplication\n",
        "dot_produt = mx.ndarray.dot(nd_array,nd_array)\n",
        "print(dot_produt)"
      ],
      "execution_count": 20,
      "outputs": [
        {
          "output_type": "stream",
          "text": [
            "\n",
            "[[ 30.  36.  42.]\n",
            " [ 66.  81.  96.]\n",
            " [102. 126. 150.]]\n",
            "<NDArray 3x3 @cpu(0)>\n"
          ],
          "name": "stdout"
        }
      ]
    },
    {
      "cell_type": "code",
      "metadata": {
        "id": "ZiURmeBJMDB9",
        "colab_type": "code",
        "colab": {
          "base_uri": "https://localhost:8080/",
          "height": 168
        },
        "outputId": "0f06c398-d123-4f2e-ecf5-21fc7351eef7"
      },
      "source": [
        "### create a multi dimansional nd array\n",
        "## we can sue uniform random value in a three dimantional array\n",
        "g = nd.random.uniform(0,10,(2,3,1))\n",
        "print(g)"
      ],
      "execution_count": 21,
      "outputs": [
        {
          "output_type": "stream",
          "text": [
            "\n",
            "[[[5.448832 ]\n",
            "  [8.472517 ]\n",
            "  [4.236548 ]]\n",
            "\n",
            " [[6.235637 ]\n",
            "  [6.458941 ]\n",
            "  [3.8438172]]]\n",
            "<NDArray 2x3x1 @cpu(0)>\n"
          ],
          "name": "stdout"
        }
      ]
    },
    {
      "cell_type": "code",
      "metadata": {
        "id": "FYx0wyhWMe_T",
        "colab_type": "code",
        "colab": {
          "base_uri": "https://localhost:8080/",
          "height": 34
        },
        "outputId": "3fd5f90b-27b6-490f-bca6-63f8ecede863"
      },
      "source": [
        "## printing the shape of the multi dimentional array\n",
        "print(g.shape)"
      ],
      "execution_count": 22,
      "outputs": [
        {
          "output_type": "stream",
          "text": [
            "(2, 3, 1)\n"
          ],
          "name": "stdout"
        }
      ]
    },
    {
      "cell_type": "code",
      "metadata": {
        "id": "XB0Dy9NDMnHi",
        "colab_type": "code",
        "colab": {
          "base_uri": "https://localhost:8080/",
          "height": 84
        },
        "outputId": "5e029402-48f2-498d-9105-3c4126c7e403"
      },
      "source": [
        "## you can flatten the array\n",
        "## and convert of the array in to flatten\n",
        "print(g.flatten())"
      ],
      "execution_count": 23,
      "outputs": [
        {
          "output_type": "stream",
          "text": [
            "\n",
            "[[5.448832  8.472517  4.236548 ]\n",
            " [6.235637  6.458941  3.8438172]]\n",
            "<NDArray 2x3 @cpu(0)>\n"
          ],
          "name": "stdout"
        }
      ]
    },
    {
      "cell_type": "code",
      "metadata": {
        "id": "hR19JiRZMxbu",
        "colab_type": "code",
        "colab": {
          "base_uri": "https://localhost:8080/",
          "height": 386
        },
        "outputId": "961fe259-ebe4-4273-c63b-d71a5a84788c"
      },
      "source": [
        "## you can use the zeros and ones like th e numpy array\n",
        "ones = nd.ones((2,2))\n",
        "zeros = nd.zeros((2,2))\n",
        "print(ones)\n",
        "print(zeros)\n",
        "\n",
        "\n",
        "## we ca slso make this with a conversion of the numpy\n",
        "print(\"This is the numpy version\")\n",
        "numpy_ones = np.ones([2,2])\n",
        "numpy_zeros = np.zeros([2,2])\n",
        "print(numpy_ones)\n",
        "print(numpy_zeros)\n",
        "print(\"converting.......\")\n",
        "print(mx.nd.array(numpy_ones))\n",
        "print(mx.nd.array(numpy_zeros))"
      ],
      "execution_count": 24,
      "outputs": [
        {
          "output_type": "stream",
          "text": [
            "\n",
            "[[1. 1.]\n",
            " [1. 1.]]\n",
            "<NDArray 2x2 @cpu(0)>\n",
            "\n",
            "[[0. 0.]\n",
            " [0. 0.]]\n",
            "<NDArray 2x2 @cpu(0)>\n",
            "This is the numpy version\n",
            "[[1. 1.]\n",
            " [1. 1.]]\n",
            "[[0. 0.]\n",
            " [0. 0.]]\n",
            "converting.......\n",
            "\n",
            "[[1. 1.]\n",
            " [1. 1.]]\n",
            "<NDArray 2x2 @cpu(0)>\n",
            "\n",
            "[[0. 0.]\n",
            " [0. 0.]]\n",
            "<NDArray 2x2 @cpu(0)>\n"
          ],
          "name": "stdout"
        }
      ]
    },
    {
      "cell_type": "code",
      "metadata": {
        "id": "POeLy3NJM7n9",
        "colab_type": "code",
        "colab": {}
      },
      "source": [
        "## you cna also use the context to set it either it will work on cpu or the GPU\n",
        "x = nd.zeros((2,2),ctx=mx.cpu())"
      ],
      "execution_count": 0,
      "outputs": []
    },
    {
      "cell_type": "code",
      "metadata": {
        "id": "fiHrzdJlOEKb",
        "colab_type": "code",
        "colab": {
          "base_uri": "https://localhost:8080/",
          "height": 84
        },
        "outputId": "eda0669a-5245-4a65-a87a-5ac41b5f34af"
      },
      "source": [
        "print(x)"
      ],
      "execution_count": 26,
      "outputs": [
        {
          "output_type": "stream",
          "text": [
            "\n",
            "[[0. 0.]\n",
            " [0. 0.]]\n",
            "<NDArray 2x2 @cpu(0)>\n"
          ],
          "name": "stdout"
        }
      ]
    },
    {
      "cell_type": "code",
      "metadata": {
        "id": "Gea_GvtWOFXt",
        "colab_type": "code",
        "colab": {}
      },
      "source": [
        "# x = nd.zeros((2,2),ctx=mx.gpu())\n",
        "# you cannt use this unless you have a gpu"
      ],
      "execution_count": 0,
      "outputs": []
    },
    {
      "cell_type": "code",
      "metadata": {
        "id": "dueRMpVgOIJU",
        "colab_type": "code",
        "colab": {}
      },
      "source": [
        "## testing the lazy evaluation \n",
        "## define wo separate function that perform a long operation\n",
        "import time\n",
        "def long_operation(x_arr,n):\n",
        "  ## we make a dot product\n",
        "  return [nd.dot(x_arr,x_arr) for i in range(n)]\n",
        "\n",
        "  ##  another function \n",
        "  ## this function will wait untill the backend engine will\n",
        "  ## wait untill the alculation is done\n",
        "\n",
        "def wait_for_computation(x_arr):\n",
        "    for y in x_arr:\n",
        "      y.wait_to_read()"
      ],
      "execution_count": 0,
      "outputs": []
    },
    {
      "cell_type": "code",
      "metadata": {
        "id": "6vkxSNLxP8-x",
        "colab_type": "code",
        "colab": {}
      },
      "source": [
        "### the main thing is operations will be lazily valuated\n",
        "#### first the operation will be pushed to the backend engine and then\n",
        "#### the back engine will check it and find a optimal way to run  this calculation\n",
        "#### then it executed later"
      ],
      "execution_count": 0,
      "outputs": []
    },
    {
      "cell_type": "code",
      "metadata": {
        "id": "RTb1odEMQu44",
        "colab_type": "code",
        "colab": {
          "base_uri": "https://localhost:8080/",
          "height": 101
        },
        "outputId": "a2685bf9-bc29-4649-c790-19a662faa6f8"
      },
      "source": [
        "start_time = time.time()\n",
        "## create a large array\n",
        "large_array = mx.nd.ones((1000,1000))\n",
        "## this is a 1000x1000 array\n",
        "## perform calculation\n",
        "result = long_operation(large_array,500)\n",
        "\n",
        "## this print statement will work when all the data is pushed to the backend engine\n",
        "print(\"All operation pushed to the backend engine\")\n",
        "print(\"{} time is needed\".format(time.time()- start_time))\n",
        "\n",
        "## now we execute out wait function\n",
        "wait_for_computation(result)\n",
        "\n",
        "print(\"Compurtation is finished \")\n",
        "print(\"  {}  Time is needed\".format(time.time()-start_time))\n",
        "\n",
        "\n",
        "print(\"you can make the output wait untill all the operation is finished\")\n",
        "## this is the difference between numpy and ndarray\n",
        "## because in numpy one by one wil be showing\n",
        "## but the ndarray will hold untill the calculation is finished"
      ],
      "execution_count": 30,
      "outputs": [
        {
          "output_type": "stream",
          "text": [
            "All operation pushed to the backend engine\n",
            "0.023874998092651367 time is needed\n",
            "Compurtation is finished \n",
            "  17.155445098876953  Time is needed\n",
            "you can make the output wait untill all the operation is finished\n"
          ],
          "name": "stdout"
        }
      ]
    },
    {
      "cell_type": "markdown",
      "metadata": {
        "id": "TbgiB-D_WuoS",
        "colab_type": "text"
      },
      "source": [
        "# Symbol API in MXNET\n",
        "#### This is very much similler to the estimator API in tensorflow\n",
        "#### this is static method that means you create a graph then you execute this graph there are Placeholder and variable operation like extimator API\n"
      ]
    },
    {
      "cell_type": "code",
      "metadata": {
        "id": "0kyCT8g2XHsE",
        "colab_type": "code",
        "colab": {}
      },
      "source": [
        "import symbol as sym"
      ],
      "execution_count": 0,
      "outputs": []
    },
    {
      "cell_type": "code",
      "metadata": {
        "id": "ims6P-moXLam",
        "colab_type": "code",
        "colab": {}
      },
      "source": [
        "## make two place holder that is called Variable\n",
        "## or container\n",
        "X = mx.sym.Variable('X')\n",
        "y = mx.sym.Variable('y')\n",
        "z = mx.sym.Variable('z')\n",
        "\n",
        "## now making  a operation \n",
        "## we are making this operation\n",
        "## result = x*y+z\n",
        "## the value is not set yet\n",
        "## we are just making a graph\n",
        "result = (X.__mul__(y).__add__(z))\n"
      ],
      "execution_count": 0,
      "outputs": []
    },
    {
      "cell_type": "code",
      "metadata": {
        "id": "yevy1TxoX230",
        "colab_type": "code",
        "colab": {
          "base_uri": "https://localhost:8080/",
          "height": 34
        },
        "outputId": "d464b46d-29d3-4fa0-8c57-410419daaf55"
      },
      "source": [
        "## we do not create any calculation we just create a graph\n",
        "## to perform calulation we need to bind the data with graph\n",
        "print(result)"
      ],
      "execution_count": 33,
      "outputs": [
        {
          "output_type": "stream",
          "text": [
            "<Symbol _plus0>\n"
          ],
          "name": "stdout"
        }
      ]
    },
    {
      "cell_type": "code",
      "metadata": {
        "id": "l7lchFYLYw3O",
        "colab_type": "code",
        "colab": {
          "base_uri": "https://localhost:8080/",
          "height": 360
        },
        "outputId": "fb62a235-e381-4d39-feb5-8d0430b94db0"
      },
      "source": [
        "mx.viz.plot_network(result)"
      ],
      "execution_count": 34,
      "outputs": [
        {
          "output_type": "execute_result",
          "data": {
            "text/plain": [
              "<graphviz.dot.Digraph at 0x7fc6e0d2c5f8>"
            ],
            "image/svg+xml": "<?xml version=\"1.0\" encoding=\"UTF-8\" standalone=\"no\"?>\n<!DOCTYPE svg PUBLIC \"-//W3C//DTD SVG 1.1//EN\"\n \"http://www.w3.org/Graphics/SVG/1.1/DTD/svg11.dtd\">\n<!-- Generated by graphviz version 2.40.1 (20161225.0304)\n -->\n<!-- Title: plot Pages: 1 -->\n<svg width=\"270pt\" height=\"254pt\"\n viewBox=\"0.00 0.00 270.00 254.00\" xmlns=\"http://www.w3.org/2000/svg\" xmlns:xlink=\"http://www.w3.org/1999/xlink\">\n<g id=\"graph0\" class=\"graph\" transform=\"scale(1 1) rotate(0) translate(4 250)\">\n<title>plot</title>\n<polygon fill=\"#ffffff\" stroke=\"transparent\" points=\"-4,4 -4,-250 266,-250 266,4 -4,4\"/>\n<!-- X -->\n<g id=\"node1\" class=\"node\">\n<title>X</title>\n<ellipse fill=\"#8dd3c7\" stroke=\"#000000\" cx=\"47\" cy=\"-29\" rx=\"47\" ry=\"29\"/>\n<text text-anchor=\"middle\" x=\"47\" y=\"-25.3\" font-family=\"Times,serif\" font-size=\"14.00\" fill=\"#000000\">X</text>\n</g>\n<!-- y -->\n<g id=\"node2\" class=\"node\">\n<title>y</title>\n<ellipse fill=\"#8dd3c7\" stroke=\"#000000\" cx=\"159\" cy=\"-29\" rx=\"47\" ry=\"29\"/>\n<text text-anchor=\"middle\" x=\"159\" y=\"-25.3\" font-family=\"Times,serif\" font-size=\"14.00\" fill=\"#000000\">y</text>\n</g>\n<!-- _mul0 -->\n<g id=\"node3\" class=\"node\">\n<title>_mul0</title>\n<polygon fill=\"#fccde5\" stroke=\"#000000\" points=\"150,-152 56,-152 56,-94 150,-94 150,-152\"/>\n<text text-anchor=\"middle\" x=\"103\" y=\"-119.3\" font-family=\"Times,serif\" font-size=\"14.00\" fill=\"#000000\">_mul0</text>\n</g>\n<!-- _mul0&#45;&gt;X -->\n<g id=\"edge1\" class=\"edge\">\n<title>_mul0&#45;&gt;X</title>\n<path fill=\"none\" stroke=\"#000000\" d=\"M80.4288,-85.1126C74.6818,-75.4659 68.6175,-65.2865 63.2551,-56.2854\"/>\n<polygon fill=\"#000000\" stroke=\"#000000\" points=\"85.5882,-93.7731 76.6042,-87.4852 83.0292,-89.4776 80.4701,-85.1821 80.4701,-85.1821 80.4701,-85.1821 83.0292,-89.4776 84.3361,-82.8789 85.5882,-93.7731 85.5882,-93.7731\"/>\n</g>\n<!-- _mul0&#45;&gt;y -->\n<g id=\"edge2\" class=\"edge\">\n<title>_mul0&#45;&gt;y</title>\n<path fill=\"none\" stroke=\"#000000\" d=\"M125.5712,-85.1126C131.3182,-75.4659 137.3825,-65.2865 142.7449,-56.2854\"/>\n<polygon fill=\"#000000\" stroke=\"#000000\" points=\"120.4118,-93.7731 121.6639,-82.8789 122.9708,-89.4776 125.5299,-85.1821 125.5299,-85.1821 125.5299,-85.1821 122.9708,-89.4776 129.3958,-87.4852 120.4118,-93.7731 120.4118,-93.7731\"/>\n</g>\n<!-- z -->\n<g id=\"node4\" class=\"node\">\n<title>z</title>\n<ellipse fill=\"#8dd3c7\" stroke=\"#000000\" cx=\"215\" cy=\"-123\" rx=\"47\" ry=\"29\"/>\n<text text-anchor=\"middle\" x=\"215\" y=\"-119.3\" font-family=\"Times,serif\" font-size=\"14.00\" fill=\"#000000\">z</text>\n</g>\n<!-- _plus0 -->\n<g id=\"node5\" class=\"node\">\n<title>_plus0</title>\n<polygon fill=\"#fccde5\" stroke=\"#000000\" points=\"206,-246 112,-246 112,-188 206,-188 206,-246\"/>\n<text text-anchor=\"middle\" x=\"159\" y=\"-213.3\" font-family=\"Times,serif\" font-size=\"14.00\" fill=\"#000000\">_plus0</text>\n</g>\n<!-- _plus0&#45;&gt;_mul0 -->\n<g id=\"edge3\" class=\"edge\">\n<title>_plus0&#45;&gt;_mul0</title>\n<path fill=\"none\" stroke=\"#000000\" d=\"M136.3812,-179.0328C131.0542,-170.091 125.4571,-160.6959 120.401,-152.2088\"/>\n<polygon fill=\"#000000\" stroke=\"#000000\" points=\"141.5882,-187.7731 132.6042,-181.4852 139.0292,-183.4776 136.4701,-179.1821 136.4701,-179.1821 136.4701,-179.1821 139.0292,-183.4776 140.3361,-176.8789 141.5882,-187.7731 141.5882,-187.7731\"/>\n</g>\n<!-- _plus0&#45;&gt;z -->\n<g id=\"edge4\" class=\"edge\">\n<title>_plus0&#45;&gt;z</title>\n<path fill=\"none\" stroke=\"#000000\" d=\"M181.5712,-179.1126C187.3182,-169.4659 193.3825,-159.2865 198.7449,-150.2854\"/>\n<polygon fill=\"#000000\" stroke=\"#000000\" points=\"176.4118,-187.7731 177.6639,-176.8789 178.9708,-183.4776 181.5299,-179.1821 181.5299,-179.1821 181.5299,-179.1821 178.9708,-183.4776 185.3958,-181.4852 176.4118,-187.7731 176.4118,-187.7731\"/>\n</g>\n</g>\n</svg>\n"
          },
          "metadata": {
            "tags": []
          },
          "execution_count": 34
        }
      ]
    },
    {
      "cell_type": "code",
      "metadata": {
        "id": "wFMlAhfDY1DY",
        "colab_type": "code",
        "colab": {}
      },
      "source": [
        "## so we can see the total computation graph"
      ],
      "execution_count": 0,
      "outputs": []
    },
    {
      "cell_type": "code",
      "metadata": {
        "id": "BA1iKF1UY77G",
        "colab_type": "code",
        "colab": {}
      },
      "source": [
        "## now we make another operation \n",
        "mul = X*y\n",
        "## create a dot product of the X and y\n",
        "dot = mx.sym.dot(X,y)\n",
        "## perform the traanspose in the z\n",
        "zt = z.transpose()\n",
        "\n",
        "## now we make a reshape function\n",
        "reshape = mx.sym.reshape(dot+zt,shape=(1,4))\n",
        "#Broadcasting is a mechanism that allows NDArrays to perform arithmetic \n",
        "#operations with arrays of different shapes efficiently without creating multiple copies of data\n",
        "\n",
        "broadcast = mx.sym.broadcast_to(reshape,shape=(10,4))"
      ],
      "execution_count": 0,
      "outputs": []
    },
    {
      "cell_type": "code",
      "metadata": {
        "id": "Q5BMfYUEZNfV",
        "colab_type": "code",
        "colab": {
          "base_uri": "https://localhost:8080/",
          "height": 610
        },
        "outputId": "b970cd08-aacf-47fd-df60-4a94c78289ac"
      },
      "source": [
        "## nwo if we see visualize the graph\n",
        "mx.viz.plot_network(symbol=broadcast)"
      ],
      "execution_count": 37,
      "outputs": [
        {
          "output_type": "execute_result",
          "data": {
            "text/plain": [
              "<graphviz.dot.Digraph at 0x7fc6e0d2c860>"
            ],
            "image/svg+xml": "<?xml version=\"1.0\" encoding=\"UTF-8\" standalone=\"no\"?>\n<!DOCTYPE svg PUBLIC \"-//W3C//DTD SVG 1.1//EN\"\n \"http://www.w3.org/Graphics/SVG/1.1/DTD/svg11.dtd\">\n<!-- Generated by graphviz version 2.40.1 (20161225.0304)\n -->\n<!-- Title: plot Pages: 1 -->\n<svg width=\"326pt\" height=\"442pt\"\n viewBox=\"0.00 0.00 326.00 442.00\" xmlns=\"http://www.w3.org/2000/svg\" xmlns:xlink=\"http://www.w3.org/1999/xlink\">\n<g id=\"graph0\" class=\"graph\" transform=\"scale(1 1) rotate(0) translate(4 438)\">\n<title>plot</title>\n<polygon fill=\"#ffffff\" stroke=\"transparent\" points=\"-4,4 -4,-438 322,-438 322,4 -4,4\"/>\n<!-- X -->\n<g id=\"node1\" class=\"node\">\n<title>X</title>\n<ellipse fill=\"#8dd3c7\" stroke=\"#000000\" cx=\"47\" cy=\"-29\" rx=\"47\" ry=\"29\"/>\n<text text-anchor=\"middle\" x=\"47\" y=\"-25.3\" font-family=\"Times,serif\" font-size=\"14.00\" fill=\"#000000\">X</text>\n</g>\n<!-- y -->\n<g id=\"node2\" class=\"node\">\n<title>y</title>\n<ellipse fill=\"#8dd3c7\" stroke=\"#000000\" cx=\"159\" cy=\"-29\" rx=\"47\" ry=\"29\"/>\n<text text-anchor=\"middle\" x=\"159\" y=\"-25.3\" font-family=\"Times,serif\" font-size=\"14.00\" fill=\"#000000\">y</text>\n</g>\n<!-- dot0 -->\n<g id=\"node3\" class=\"node\">\n<title>dot0</title>\n<polygon fill=\"#fccde5\" stroke=\"#000000\" points=\"206,-152 112,-152 112,-94 206,-94 206,-152\"/>\n<text text-anchor=\"middle\" x=\"159\" y=\"-119.3\" font-family=\"Times,serif\" font-size=\"14.00\" fill=\"#000000\">dot0</text>\n</g>\n<!-- dot0&#45;&gt;X -->\n<g id=\"edge1\" class=\"edge\">\n<title>dot0&#45;&gt;X</title>\n<path fill=\"none\" stroke=\"#000000\" d=\"M116.2159,-87.0919C102.4266,-75.5188 87.5036,-62.9941 75.0568,-52.5477\"/>\n<polygon fill=\"#000000\" stroke=\"#000000\" points=\"124.1764,-93.7731 113.6237,-90.7912 120.3466,-90.5587 116.5167,-87.3443 116.5167,-87.3443 116.5167,-87.3443 120.3466,-90.5587 119.4096,-83.8974 124.1764,-93.7731 124.1764,-93.7731\"/>\n</g>\n<!-- dot0&#45;&gt;y -->\n<g id=\"edge2\" class=\"edge\">\n<title>dot0&#45;&gt;y</title>\n<path fill=\"none\" stroke=\"#000000\" d=\"M159,-83.6321C159,-75.1148 159,-66.2539 159,-58.2088\"/>\n<polygon fill=\"#000000\" stroke=\"#000000\" points=\"159,-93.7731 154.5001,-83.773 159,-88.7731 159.0001,-83.7731 159.0001,-83.7731 159.0001,-83.7731 159,-88.7731 163.5001,-83.7731 159,-93.7731 159,-93.7731\"/>\n</g>\n<!-- z -->\n<g id=\"node4\" class=\"node\">\n<title>z</title>\n<ellipse fill=\"#8dd3c7\" stroke=\"#000000\" cx=\"271\" cy=\"-29\" rx=\"47\" ry=\"29\"/>\n<text text-anchor=\"middle\" x=\"271\" y=\"-25.3\" font-family=\"Times,serif\" font-size=\"14.00\" fill=\"#000000\">z</text>\n</g>\n<!-- transpose0 -->\n<g id=\"node5\" class=\"node\">\n<title>transpose0</title>\n<polygon fill=\"#fccde5\" stroke=\"#000000\" points=\"318,-152 224,-152 224,-94 318,-94 318,-152\"/>\n<text text-anchor=\"middle\" x=\"271\" y=\"-119.3\" font-family=\"Times,serif\" font-size=\"14.00\" fill=\"#000000\">transpose0</text>\n</g>\n<!-- transpose0&#45;&gt;z -->\n<g id=\"edge3\" class=\"edge\">\n<title>transpose0&#45;&gt;z</title>\n<path fill=\"none\" stroke=\"#000000\" d=\"M271,-83.6321C271,-75.1148 271,-66.2539 271,-58.2088\"/>\n<polygon fill=\"#000000\" stroke=\"#000000\" points=\"271,-93.7731 266.5001,-83.773 271,-88.7731 271.0001,-83.7731 271.0001,-83.7731 271.0001,-83.7731 271,-88.7731 275.5001,-83.7731 271,-93.7731 271,-93.7731\"/>\n</g>\n<!-- _plus1 -->\n<g id=\"node6\" class=\"node\">\n<title>_plus1</title>\n<polygon fill=\"#fccde5\" stroke=\"#000000\" points=\"262,-246 168,-246 168,-188 262,-188 262,-246\"/>\n<text text-anchor=\"middle\" x=\"215\" y=\"-213.3\" font-family=\"Times,serif\" font-size=\"14.00\" fill=\"#000000\">_plus1</text>\n</g>\n<!-- _plus1&#45;&gt;dot0 -->\n<g id=\"edge4\" class=\"edge\">\n<title>_plus1&#45;&gt;dot0</title>\n<path fill=\"none\" stroke=\"#000000\" d=\"M192.3812,-179.0328C187.0542,-170.091 181.4571,-160.6959 176.401,-152.2088\"/>\n<polygon fill=\"#000000\" stroke=\"#000000\" points=\"197.5882,-187.7731 188.6042,-181.4852 195.0292,-183.4776 192.4701,-179.1821 192.4701,-179.1821 192.4701,-179.1821 195.0292,-183.4776 196.3361,-176.8789 197.5882,-187.7731 197.5882,-187.7731\"/>\n</g>\n<!-- _plus1&#45;&gt;transpose0 -->\n<g id=\"edge5\" class=\"edge\">\n<title>_plus1&#45;&gt;transpose0</title>\n<path fill=\"none\" stroke=\"#000000\" d=\"M237.6188,-179.0328C242.9458,-170.091 248.5429,-160.6959 253.599,-152.2088\"/>\n<polygon fill=\"#000000\" stroke=\"#000000\" points=\"232.4118,-187.7731 233.6639,-176.8789 234.9708,-183.4776 237.5299,-179.1821 237.5299,-179.1821 237.5299,-179.1821 234.9708,-183.4776 241.3958,-181.4852 232.4118,-187.7731 232.4118,-187.7731\"/>\n</g>\n<!-- reshape0 -->\n<g id=\"node7\" class=\"node\">\n<title>reshape0</title>\n<polygon fill=\"#fdb462\" stroke=\"#000000\" points=\"262,-340 168,-340 168,-282 262,-282 262,-340\"/>\n<text text-anchor=\"middle\" x=\"215\" y=\"-307.3\" font-family=\"Times,serif\" font-size=\"14.00\" fill=\"#000000\">reshape0</text>\n</g>\n<!-- reshape0&#45;&gt;_plus1 -->\n<g id=\"edge6\" class=\"edge\">\n<title>reshape0&#45;&gt;_plus1</title>\n<path fill=\"none\" stroke=\"#000000\" d=\"M215,-271.6321C215,-263.1148 215,-254.2539 215,-246.2088\"/>\n<polygon fill=\"#000000\" stroke=\"#000000\" points=\"215,-281.7731 210.5001,-271.773 215,-276.7731 215.0001,-271.7731 215.0001,-271.7731 215.0001,-271.7731 215,-276.7731 219.5001,-271.7731 215,-281.7731 215,-281.7731\"/>\n</g>\n<!-- broadcast_to0 -->\n<g id=\"node8\" class=\"node\">\n<title>broadcast_to0</title>\n<polygon fill=\"#fccde5\" stroke=\"#000000\" points=\"262,-434 168,-434 168,-376 262,-376 262,-434\"/>\n<text text-anchor=\"middle\" x=\"215\" y=\"-401.3\" font-family=\"Times,serif\" font-size=\"14.00\" fill=\"#000000\">broadcast_to0</text>\n</g>\n<!-- broadcast_to0&#45;&gt;reshape0 -->\n<g id=\"edge7\" class=\"edge\">\n<title>broadcast_to0&#45;&gt;reshape0</title>\n<path fill=\"none\" stroke=\"#000000\" d=\"M215,-365.6321C215,-357.1148 215,-348.2539 215,-340.2088\"/>\n<polygon fill=\"#000000\" stroke=\"#000000\" points=\"215,-375.7731 210.5001,-365.773 215,-370.7731 215.0001,-365.7731 215.0001,-365.7731 215.0001,-365.7731 215,-370.7731 219.5001,-365.7731 215,-375.7731 215,-375.7731\"/>\n</g>\n</g>\n</svg>\n"
          },
          "metadata": {
            "tags": []
          },
          "execution_count": 37
        }
      ]
    },
    {
      "cell_type": "code",
      "metadata": {
        "id": "sj3q9sM5abpA",
        "colab_type": "code",
        "colab": {
          "base_uri": "https://localhost:8080/",
          "height": 234
        },
        "outputId": "6ede7505-a199-4f55-bcad-2bf80a7cc19f"
      },
      "source": [
        "## You can see the part of the graph if you want\n",
        "mx.viz.plot_network(symbol=dot)"
      ],
      "execution_count": 38,
      "outputs": [
        {
          "output_type": "execute_result",
          "data": {
            "text/plain": [
              "<graphviz.dot.Digraph at 0x7fc6e0d2cc50>"
            ],
            "image/svg+xml": "<?xml version=\"1.0\" encoding=\"UTF-8\" standalone=\"no\"?>\n<!DOCTYPE svg PUBLIC \"-//W3C//DTD SVG 1.1//EN\"\n \"http://www.w3.org/Graphics/SVG/1.1/DTD/svg11.dtd\">\n<!-- Generated by graphviz version 2.40.1 (20161225.0304)\n -->\n<!-- Title: plot Pages: 1 -->\n<svg width=\"214pt\" height=\"160pt\"\n viewBox=\"0.00 0.00 214.00 160.00\" xmlns=\"http://www.w3.org/2000/svg\" xmlns:xlink=\"http://www.w3.org/1999/xlink\">\n<g id=\"graph0\" class=\"graph\" transform=\"scale(1 1) rotate(0) translate(4 156)\">\n<title>plot</title>\n<polygon fill=\"#ffffff\" stroke=\"transparent\" points=\"-4,4 -4,-156 210,-156 210,4 -4,4\"/>\n<!-- X -->\n<g id=\"node1\" class=\"node\">\n<title>X</title>\n<ellipse fill=\"#8dd3c7\" stroke=\"#000000\" cx=\"47\" cy=\"-29\" rx=\"47\" ry=\"29\"/>\n<text text-anchor=\"middle\" x=\"47\" y=\"-25.3\" font-family=\"Times,serif\" font-size=\"14.00\" fill=\"#000000\">X</text>\n</g>\n<!-- y -->\n<g id=\"node2\" class=\"node\">\n<title>y</title>\n<ellipse fill=\"#8dd3c7\" stroke=\"#000000\" cx=\"159\" cy=\"-29\" rx=\"47\" ry=\"29\"/>\n<text text-anchor=\"middle\" x=\"159\" y=\"-25.3\" font-family=\"Times,serif\" font-size=\"14.00\" fill=\"#000000\">y</text>\n</g>\n<!-- dot0 -->\n<g id=\"node3\" class=\"node\">\n<title>dot0</title>\n<polygon fill=\"#fccde5\" stroke=\"#000000\" points=\"150,-152 56,-152 56,-94 150,-94 150,-152\"/>\n<text text-anchor=\"middle\" x=\"103\" y=\"-119.3\" font-family=\"Times,serif\" font-size=\"14.00\" fill=\"#000000\">dot0</text>\n</g>\n<!-- dot0&#45;&gt;X -->\n<g id=\"edge1\" class=\"edge\">\n<title>dot0&#45;&gt;X</title>\n<path fill=\"none\" stroke=\"#000000\" d=\"M80.4288,-85.1126C74.6818,-75.4659 68.6175,-65.2865 63.2551,-56.2854\"/>\n<polygon fill=\"#000000\" stroke=\"#000000\" points=\"85.5882,-93.7731 76.6042,-87.4852 83.0292,-89.4776 80.4701,-85.1821 80.4701,-85.1821 80.4701,-85.1821 83.0292,-89.4776 84.3361,-82.8789 85.5882,-93.7731 85.5882,-93.7731\"/>\n</g>\n<!-- dot0&#45;&gt;y -->\n<g id=\"edge2\" class=\"edge\">\n<title>dot0&#45;&gt;y</title>\n<path fill=\"none\" stroke=\"#000000\" d=\"M125.5712,-85.1126C131.3182,-75.4659 137.3825,-65.2865 142.7449,-56.2854\"/>\n<polygon fill=\"#000000\" stroke=\"#000000\" points=\"120.4118,-93.7731 121.6639,-82.8789 122.9708,-89.4776 125.5299,-85.1821 125.5299,-85.1821 125.5299,-85.1821 122.9708,-89.4776 129.3958,-87.4852 120.4118,-93.7731 120.4118,-93.7731\"/>\n</g>\n</g>\n</svg>\n"
          },
          "metadata": {
            "tags": []
          },
          "execution_count": 38
        }
      ]
    },
    {
      "cell_type": "code",
      "metadata": {
        "id": "Y7k0Fxrgau7I",
        "colab_type": "code",
        "colab": {}
      },
      "source": [
        "## now we need to feed the data to the graph\n",
        "## we want to deef the data for the dot operation\n",
        "## we need to make two nd array\n",
        "## and then bind it to the dot operation\n",
        "## we will use the numpy array\n",
        "## then convert it ti the nd array\n",
        "import numpy as np\n",
        "def convert(data):\n",
        "  return mx.nd.array(data)\n",
        "\n",
        "x_data = convert(np.array([1,1]))\n",
        "y_data = convert(np.array([2,2])) "
      ],
      "execution_count": 0,
      "outputs": []
    },
    {
      "cell_type": "code",
      "metadata": {
        "id": "245xZmUbbpEx",
        "colab_type": "code",
        "colab": {}
      },
      "source": [
        "## now we bind the data with the the computation graph\n",
        "## it will return a computation graph\n",
        "ctx = mx.cpu();\n",
        "args = {'X':x_data,'y':y_data}\n",
        "executor = dot.bind(ctx=ctx,args=args)"
      ],
      "execution_count": 0,
      "outputs": []
    },
    {
      "cell_type": "code",
      "metadata": {
        "id": "qLX6WE73cJzA",
        "colab_type": "code",
        "colab": {
          "base_uri": "https://localhost:8080/",
          "height": 34
        },
        "outputId": "6caef7fc-51b3-4488-f33f-9bcc00c73867"
      },
      "source": [
        "print(executor)"
      ],
      "execution_count": 41,
      "outputs": [
        {
          "output_type": "stream",
          "text": [
            "<mxnet.executor.Executor object at 0x7fc6e0d07860>\n"
          ],
          "name": "stdout"
        }
      ]
    },
    {
      "cell_type": "code",
      "metadata": {
        "id": "_I-K74IxcLbk",
        "colab_type": "code",
        "colab": {
          "base_uri": "https://localhost:8080/",
          "height": 67
        },
        "outputId": "a25c6784-6f84-4371-efff-b19ed686f659"
      },
      "source": [
        "## t get the output of the calculation\n",
        "## this function will happen\n",
        "print(executor.forward())"
      ],
      "execution_count": 42,
      "outputs": [
        {
          "output_type": "stream",
          "text": [
            "[\n",
            "[4.]\n",
            "<NDArray 1 @cpu(0)>]\n"
          ],
          "name": "stdout"
        }
      ]
    },
    {
      "cell_type": "code",
      "metadata": {
        "id": "fRjRoijpcfli",
        "colab_type": "code",
        "colab": {}
      },
      "source": [
        "## lets make anotheer symbolic function\n",
        "f=X.__pow__(y)"
      ],
      "execution_count": 0,
      "outputs": []
    },
    {
      "cell_type": "code",
      "metadata": {
        "id": "QJEMiLlScxDq",
        "colab_type": "code",
        "colab": {
          "base_uri": "https://localhost:8080/",
          "height": 234
        },
        "outputId": "7d81f468-d146-42e3-e0cc-8d102c06c028"
      },
      "source": [
        "## again plot it with the graphviz\n",
        "mx.viz.plot_network(f)"
      ],
      "execution_count": 44,
      "outputs": [
        {
          "output_type": "execute_result",
          "data": {
            "text/plain": [
              "<graphviz.dot.Digraph at 0x7fc6decbc080>"
            ],
            "image/svg+xml": "<?xml version=\"1.0\" encoding=\"UTF-8\" standalone=\"no\"?>\n<!DOCTYPE svg PUBLIC \"-//W3C//DTD SVG 1.1//EN\"\n \"http://www.w3.org/Graphics/SVG/1.1/DTD/svg11.dtd\">\n<!-- Generated by graphviz version 2.40.1 (20161225.0304)\n -->\n<!-- Title: plot Pages: 1 -->\n<svg width=\"214pt\" height=\"160pt\"\n viewBox=\"0.00 0.00 214.00 160.00\" xmlns=\"http://www.w3.org/2000/svg\" xmlns:xlink=\"http://www.w3.org/1999/xlink\">\n<g id=\"graph0\" class=\"graph\" transform=\"scale(1 1) rotate(0) translate(4 156)\">\n<title>plot</title>\n<polygon fill=\"#ffffff\" stroke=\"transparent\" points=\"-4,4 -4,-156 210,-156 210,4 -4,4\"/>\n<!-- X -->\n<g id=\"node1\" class=\"node\">\n<title>X</title>\n<ellipse fill=\"#8dd3c7\" stroke=\"#000000\" cx=\"47\" cy=\"-29\" rx=\"47\" ry=\"29\"/>\n<text text-anchor=\"middle\" x=\"47\" y=\"-25.3\" font-family=\"Times,serif\" font-size=\"14.00\" fill=\"#000000\">X</text>\n</g>\n<!-- y -->\n<g id=\"node2\" class=\"node\">\n<title>y</title>\n<ellipse fill=\"#8dd3c7\" stroke=\"#000000\" cx=\"159\" cy=\"-29\" rx=\"47\" ry=\"29\"/>\n<text text-anchor=\"middle\" x=\"159\" y=\"-25.3\" font-family=\"Times,serif\" font-size=\"14.00\" fill=\"#000000\">y</text>\n</g>\n<!-- _power0 -->\n<g id=\"node3\" class=\"node\">\n<title>_power0</title>\n<polygon fill=\"#fccde5\" stroke=\"#000000\" points=\"150,-152 56,-152 56,-94 150,-94 150,-152\"/>\n<text text-anchor=\"middle\" x=\"103\" y=\"-119.3\" font-family=\"Times,serif\" font-size=\"14.00\" fill=\"#000000\">_power0</text>\n</g>\n<!-- _power0&#45;&gt;X -->\n<g id=\"edge1\" class=\"edge\">\n<title>_power0&#45;&gt;X</title>\n<path fill=\"none\" stroke=\"#000000\" d=\"M80.4288,-85.1126C74.6818,-75.4659 68.6175,-65.2865 63.2551,-56.2854\"/>\n<polygon fill=\"#000000\" stroke=\"#000000\" points=\"85.5882,-93.7731 76.6042,-87.4852 83.0292,-89.4776 80.4701,-85.1821 80.4701,-85.1821 80.4701,-85.1821 83.0292,-89.4776 84.3361,-82.8789 85.5882,-93.7731 85.5882,-93.7731\"/>\n</g>\n<!-- _power0&#45;&gt;y -->\n<g id=\"edge2\" class=\"edge\">\n<title>_power0&#45;&gt;y</title>\n<path fill=\"none\" stroke=\"#000000\" d=\"M125.5712,-85.1126C131.3182,-75.4659 137.3825,-65.2865 142.7449,-56.2854\"/>\n<polygon fill=\"#000000\" stroke=\"#000000\" points=\"120.4118,-93.7731 121.6639,-82.8789 122.9708,-89.4776 125.5299,-85.1821 125.5299,-85.1821 125.5299,-85.1821 122.9708,-89.4776 129.3958,-87.4852 120.4118,-93.7731 120.4118,-93.7731\"/>\n</g>\n</g>\n</svg>\n"
          },
          "metadata": {
            "tags": []
          },
          "execution_count": 44
        }
      ]
    },
    {
      "cell_type": "code",
      "metadata": {
        "id": "SpMqE1t2fE7H",
        "colab_type": "code",
        "colab": {}
      },
      "source": [
        "## now we bind out data witht the graph\n",
        "executor = f.bind(mx.cpu(),{'X':convert([3]),'y':convert([2])})"
      ],
      "execution_count": 0,
      "outputs": []
    },
    {
      "cell_type": "code",
      "metadata": {
        "id": "KVyZQ7XPfbbD",
        "colab_type": "code",
        "colab": {
          "base_uri": "https://localhost:8080/",
          "height": 67
        },
        "outputId": "20fde4eb-5f76-41af-e2e6-78048c8f0238"
      },
      "source": [
        "executor.forward()"
      ],
      "execution_count": 46,
      "outputs": [
        {
          "output_type": "execute_result",
          "data": {
            "text/plain": [
              "[\n",
              " [9.]\n",
              " <NDArray 1 @cpu(0)>]"
            ]
          },
          "metadata": {
            "tags": []
          },
          "execution_count": 46
        }
      ]
    },
    {
      "cell_type": "code",
      "metadata": {
        "id": "LdqwWq2dfdV0",
        "colab_type": "code",
        "colab": {}
      },
      "source": [
        "## so thats how we feed a network data and do calculation\n",
        "## we can further exytend this gaph\n",
        "result = f.__sub__(z.sqrt())\n",
        "executor = f.bind(mx.cpu(),{'X':convert([3]),'y':convert([3]),'z':convert([9])})"
      ],
      "execution_count": 0,
      "outputs": []
    },
    {
      "cell_type": "code",
      "metadata": {
        "id": "GMIODWiaf_t-",
        "colab_type": "code",
        "colab": {
          "base_uri": "https://localhost:8080/",
          "height": 67
        },
        "outputId": "c184037a-6ccb-453d-e4ce-2d084fb4a7c9"
      },
      "source": [
        "print(executor.forward())"
      ],
      "execution_count": 48,
      "outputs": [
        {
          "output_type": "stream",
          "text": [
            "[\n",
            "[27.]\n",
            "<NDArray 1 @cpu(0)>]\n"
          ],
          "name": "stdout"
        }
      ]
    },
    {
      "cell_type": "code",
      "metadata": {
        "id": "ezhVSY2NgQr_",
        "colab_type": "code",
        "colab": {
          "base_uri": "https://localhost:8080/",
          "height": 360
        },
        "outputId": "a0c2c2d1-b1c7-4886-cc84-bcef9c812f67"
      },
      "source": [
        "mx.viz.plot_network(result)"
      ],
      "execution_count": 49,
      "outputs": [
        {
          "output_type": "execute_result",
          "data": {
            "text/plain": [
              "<graphviz.dot.Digraph at 0x7fc6decbc9b0>"
            ],
            "image/svg+xml": "<?xml version=\"1.0\" encoding=\"UTF-8\" standalone=\"no\"?>\n<!DOCTYPE svg PUBLIC \"-//W3C//DTD SVG 1.1//EN\"\n \"http://www.w3.org/Graphics/SVG/1.1/DTD/svg11.dtd\">\n<!-- Generated by graphviz version 2.40.1 (20161225.0304)\n -->\n<!-- Title: plot Pages: 1 -->\n<svg width=\"326pt\" height=\"254pt\"\n viewBox=\"0.00 0.00 326.00 254.00\" xmlns=\"http://www.w3.org/2000/svg\" xmlns:xlink=\"http://www.w3.org/1999/xlink\">\n<g id=\"graph0\" class=\"graph\" transform=\"scale(1 1) rotate(0) translate(4 250)\">\n<title>plot</title>\n<polygon fill=\"#ffffff\" stroke=\"transparent\" points=\"-4,4 -4,-250 322,-250 322,4 -4,4\"/>\n<!-- X -->\n<g id=\"node1\" class=\"node\">\n<title>X</title>\n<ellipse fill=\"#8dd3c7\" stroke=\"#000000\" cx=\"47\" cy=\"-29\" rx=\"47\" ry=\"29\"/>\n<text text-anchor=\"middle\" x=\"47\" y=\"-25.3\" font-family=\"Times,serif\" font-size=\"14.00\" fill=\"#000000\">X</text>\n</g>\n<!-- y -->\n<g id=\"node2\" class=\"node\">\n<title>y</title>\n<ellipse fill=\"#8dd3c7\" stroke=\"#000000\" cx=\"159\" cy=\"-29\" rx=\"47\" ry=\"29\"/>\n<text text-anchor=\"middle\" x=\"159\" y=\"-25.3\" font-family=\"Times,serif\" font-size=\"14.00\" fill=\"#000000\">y</text>\n</g>\n<!-- _power0 -->\n<g id=\"node3\" class=\"node\">\n<title>_power0</title>\n<polygon fill=\"#fccde5\" stroke=\"#000000\" points=\"206,-152 112,-152 112,-94 206,-94 206,-152\"/>\n<text text-anchor=\"middle\" x=\"159\" y=\"-119.3\" font-family=\"Times,serif\" font-size=\"14.00\" fill=\"#000000\">_power0</text>\n</g>\n<!-- _power0&#45;&gt;X -->\n<g id=\"edge1\" class=\"edge\">\n<title>_power0&#45;&gt;X</title>\n<path fill=\"none\" stroke=\"#000000\" d=\"M116.2159,-87.0919C102.4266,-75.5188 87.5036,-62.9941 75.0568,-52.5477\"/>\n<polygon fill=\"#000000\" stroke=\"#000000\" points=\"124.1764,-93.7731 113.6237,-90.7912 120.3466,-90.5587 116.5167,-87.3443 116.5167,-87.3443 116.5167,-87.3443 120.3466,-90.5587 119.4096,-83.8974 124.1764,-93.7731 124.1764,-93.7731\"/>\n</g>\n<!-- _power0&#45;&gt;y -->\n<g id=\"edge2\" class=\"edge\">\n<title>_power0&#45;&gt;y</title>\n<path fill=\"none\" stroke=\"#000000\" d=\"M159,-83.6321C159,-75.1148 159,-66.2539 159,-58.2088\"/>\n<polygon fill=\"#000000\" stroke=\"#000000\" points=\"159,-93.7731 154.5001,-83.773 159,-88.7731 159.0001,-83.7731 159.0001,-83.7731 159.0001,-83.7731 159,-88.7731 163.5001,-83.7731 159,-93.7731 159,-93.7731\"/>\n</g>\n<!-- z -->\n<g id=\"node4\" class=\"node\">\n<title>z</title>\n<ellipse fill=\"#8dd3c7\" stroke=\"#000000\" cx=\"271\" cy=\"-29\" rx=\"47\" ry=\"29\"/>\n<text text-anchor=\"middle\" x=\"271\" y=\"-25.3\" font-family=\"Times,serif\" font-size=\"14.00\" fill=\"#000000\">z</text>\n</g>\n<!-- sqrt0 -->\n<g id=\"node5\" class=\"node\">\n<title>sqrt0</title>\n<polygon fill=\"#fccde5\" stroke=\"#000000\" points=\"318,-152 224,-152 224,-94 318,-94 318,-152\"/>\n<text text-anchor=\"middle\" x=\"271\" y=\"-119.3\" font-family=\"Times,serif\" font-size=\"14.00\" fill=\"#000000\">sqrt0</text>\n</g>\n<!-- sqrt0&#45;&gt;z -->\n<g id=\"edge3\" class=\"edge\">\n<title>sqrt0&#45;&gt;z</title>\n<path fill=\"none\" stroke=\"#000000\" d=\"M271,-83.6321C271,-75.1148 271,-66.2539 271,-58.2088\"/>\n<polygon fill=\"#000000\" stroke=\"#000000\" points=\"271,-93.7731 266.5001,-83.773 271,-88.7731 271.0001,-83.7731 271.0001,-83.7731 271.0001,-83.7731 271,-88.7731 275.5001,-83.7731 271,-93.7731 271,-93.7731\"/>\n</g>\n<!-- _minus0 -->\n<g id=\"node6\" class=\"node\">\n<title>_minus0</title>\n<polygon fill=\"#fccde5\" stroke=\"#000000\" points=\"262,-246 168,-246 168,-188 262,-188 262,-246\"/>\n<text text-anchor=\"middle\" x=\"215\" y=\"-213.3\" font-family=\"Times,serif\" font-size=\"14.00\" fill=\"#000000\">_minus0</text>\n</g>\n<!-- _minus0&#45;&gt;_power0 -->\n<g id=\"edge4\" class=\"edge\">\n<title>_minus0&#45;&gt;_power0</title>\n<path fill=\"none\" stroke=\"#000000\" d=\"M192.3812,-179.0328C187.0542,-170.091 181.4571,-160.6959 176.401,-152.2088\"/>\n<polygon fill=\"#000000\" stroke=\"#000000\" points=\"197.5882,-187.7731 188.6042,-181.4852 195.0292,-183.4776 192.4701,-179.1821 192.4701,-179.1821 192.4701,-179.1821 195.0292,-183.4776 196.3361,-176.8789 197.5882,-187.7731 197.5882,-187.7731\"/>\n</g>\n<!-- _minus0&#45;&gt;sqrt0 -->\n<g id=\"edge5\" class=\"edge\">\n<title>_minus0&#45;&gt;sqrt0</title>\n<path fill=\"none\" stroke=\"#000000\" d=\"M237.6188,-179.0328C242.9458,-170.091 248.5429,-160.6959 253.599,-152.2088\"/>\n<polygon fill=\"#000000\" stroke=\"#000000\" points=\"232.4118,-187.7731 233.6639,-176.8789 234.9708,-183.4776 237.5299,-179.1821 237.5299,-179.1821 237.5299,-179.1821 234.9708,-183.4776 241.3958,-181.4852 232.4118,-187.7731 232.4118,-187.7731\"/>\n</g>\n</g>\n</svg>\n"
          },
          "metadata": {
            "tags": []
          },
          "execution_count": 49
        }
      ]
    },
    {
      "cell_type": "code",
      "metadata": {
        "id": "7-VorSF_gg35",
        "colab_type": "code",
        "colab": {}
      },
      "source": [
        "## mx net provide the Data iterators so we can feed the data \n",
        "## in batchs it gives us the data iterator"
      ],
      "execution_count": 0,
      "outputs": []
    },
    {
      "cell_type": "code",
      "metadata": {
        "id": "Wm2tmgyQhMZO",
        "colab_type": "code",
        "colab": {}
      },
      "source": [
        "### we make some dummy data\n",
        "data = np.random.rand(300,3)"
      ],
      "execution_count": 0,
      "outputs": []
    },
    {
      "cell_type": "code",
      "metadata": {
        "id": "-YAHZdb1hT_8",
        "colab_type": "code",
        "colab": {}
      },
      "source": [
        "#print(data)\n",
        "## so we have three column with 300 row random value\n",
        "## now we make 300 target all are from 0-9 \n",
        "label = np.random.randint(0,10,(300,))"
      ],
      "execution_count": 0,
      "outputs": []
    },
    {
      "cell_type": "code",
      "metadata": {
        "id": "AfPfc2DGhVmT",
        "colab_type": "code",
        "colab": {
          "base_uri": "https://localhost:8080/",
          "height": 168
        },
        "outputId": "16933d02-3f18-4d8f-9af8-d71ae0458864"
      },
      "source": [
        "print(label)  ## we dont define any column so its a array of 300 value"
      ],
      "execution_count": 53,
      "outputs": [
        {
          "output_type": "stream",
          "text": [
            "[7 8 9 5 4 7 2 4 2 6 2 2 2 3 3 9 2 5 3 5 6 1 6 4 4 6 0 6 1 3 4 1 4 0 9 8 7\n",
            " 1 6 6 3 9 2 6 4 9 8 2 6 2 0 7 7 5 3 1 9 9 6 4 9 8 0 9 8 4 9 5 1 7 7 2 5 5\n",
            " 3 3 9 3 9 5 4 2 0 9 7 0 2 6 0 1 2 2 1 5 1 2 5 1 8 4 3 9 6 4 0 8 2 0 7 5 4\n",
            " 5 5 0 2 7 4 6 6 0 3 3 9 6 9 1 6 4 9 3 5 7 1 0 5 3 2 2 9 3 9 3 6 0 9 7 2 7\n",
            " 4 3 0 8 5 4 6 5 0 2 3 0 3 6 6 2 8 7 3 3 7 7 3 0 5 4 0 7 6 9 4 6 7 4 8 0 2\n",
            " 2 6 4 6 2 2 2 0 0 7 4 3 5 8 7 0 2 4 6 1 8 9 7 4 8 2 6 6 2 2 9 6 5 2 7 0 4\n",
            " 9 5 6 4 4 3 5 9 8 0 8 2 2 9 5 8 5 1 0 1 2 4 4 7 6 6 3 2 7 1 1 7 8 8 9 9 9\n",
            " 8 5 2 7 0 5 5 5 8 9 3 5 5 6 8 3 8 4 8 6 0 5 3 0 1 5 9 6 4 5 6 3 1 5 8 9 7\n",
            " 0 6 1 1]\n"
          ],
          "name": "stdout"
        }
      ]
    },
    {
      "cell_type": "code",
      "metadata": {
        "id": "UidDvRd2hr7u",
        "colab_type": "code",
        "colab": {}
      },
      "source": [
        "## now making the data iterator like pytorh and make data iterator\n",
        "## for feeding the data in batches\n",
        "## and now wee feed the whole data to make the data iterator\n",
        "data_iter = mx.io.NDArrayIter(data={'features':data},label={'labels':label},shuffle=True,batch_size=50)"
      ],
      "execution_count": 0,
      "outputs": []
    },
    {
      "cell_type": "code",
      "metadata": {
        "id": "jNEkq189it1A",
        "colab_type": "code",
        "colab": {
          "base_uri": "https://localhost:8080/",
          "height": 34
        },
        "outputId": "48c7b33e-13e2-4bf2-a940-660bf5884ae0"
      },
      "source": [
        "data_iter ## we get a iterator object"
      ],
      "execution_count": 55,
      "outputs": [
        {
          "output_type": "execute_result",
          "data": {
            "text/plain": [
              "<mxnet.io.io.NDArrayIter at 0x7fc6decbc6d8>"
            ]
          },
          "metadata": {
            "tags": []
          },
          "execution_count": 55
        }
      ]
    },
    {
      "cell_type": "code",
      "metadata": {
        "id": "D2fYSY8Siu48",
        "colab_type": "code",
        "colab": {
          "base_uri": "https://localhost:8080/",
          "height": 34
        },
        "outputId": "33cedbd0-08d4-4703-e8c9-0a4611c573e5"
      },
      "source": [
        "## name and shape of the data on every epochs is found by this\n",
        "data_iter.provide_data"
      ],
      "execution_count": 56,
      "outputs": [
        {
          "output_type": "execute_result",
          "data": {
            "text/plain": [
              "[DataDesc[features,(50, 3),<class 'numpy.float32'>,NCHW]]"
            ]
          },
          "metadata": {
            "tags": []
          },
          "execution_count": 56
        }
      ]
    },
    {
      "cell_type": "code",
      "metadata": {
        "id": "---7j7dGjFhe",
        "colab_type": "code",
        "colab": {
          "base_uri": "https://localhost:8080/",
          "height": 1000
        },
        "outputId": "b4d7c680-aa63-4af4-e945-d86f7a5ab855"
      },
      "source": [
        "### you can use simple for loop to get the data\n",
        "batch_num  = 1\n",
        "for batch in data_iter:\n",
        "  print(\"----------------{}-------------\".format(batch_num))\n",
        "  print(batch.data,batch.label)\n",
        "  batch_num+=1"
      ],
      "execution_count": 57,
      "outputs": [
        {
          "output_type": "stream",
          "text": [
            "----------------1-------------\n",
            "[\n",
            "[[0.5449512  0.21588345 0.37588096]\n",
            " [0.00196063 0.05941265 0.45466003]\n",
            " [0.0813852  0.5370554  0.5710528 ]\n",
            " [0.24315701 0.84208834 0.42830372]\n",
            " [0.71594554 0.45184132 0.9973438 ]\n",
            " [0.35746363 0.2593596  0.07324441]\n",
            " [0.08876266 0.572901   0.8553963 ]\n",
            " [0.74313617 0.2361921  0.64001256]\n",
            " [0.63475513 0.68975353 0.00414498]\n",
            " [0.9103339  0.5103488  0.15773395]\n",
            " [0.28118962 0.24078217 0.48401314]\n",
            " [0.21937093 0.44723177 0.54382074]\n",
            " [0.80246997 0.89422446 0.33257952]\n",
            " [0.78676504 0.09239919 0.5481554 ]\n",
            " [0.16519533 0.6336492  0.9079675 ]\n",
            " [0.44170046 0.96717584 0.7724699 ]\n",
            " [0.33725667 0.13295561 0.5314553 ]\n",
            " [0.7697243  0.60861015 0.759428  ]\n",
            " [0.42983812 0.821117   0.04184983]\n",
            " [0.84636337 0.02711978 0.73654866]\n",
            " [0.15149097 0.43559998 0.3939399 ]\n",
            " [0.15395236 0.805068   0.01563625]\n",
            " [0.65992934 0.39181226 0.72934985]\n",
            " [0.5320228  0.58026016 0.35977793]\n",
            " [0.14852059 0.25112215 0.39637244]\n",
            " [0.85434747 0.8683223  0.97815084]\n",
            " [0.54800034 0.23439482 0.02332339]\n",
            " [0.9475649  0.73019236 0.57782   ]\n",
            " [0.32399938 0.5370486  0.17388283]\n",
            " [0.99713343 0.19667886 0.75843114]\n",
            " [0.5109225  0.42255345 0.96548474]\n",
            " [0.1417412  0.3011684  0.20380071]\n",
            " [0.01837717 0.02148068 0.6374368 ]\n",
            " [0.40853432 0.36806756 0.39342   ]\n",
            " [0.60323435 0.93221587 0.5413679 ]\n",
            " [0.14712226 0.6410915  0.18673962]\n",
            " [0.8792841  0.1355736  0.7084487 ]\n",
            " [0.22582167 0.70679027 0.7517775 ]\n",
            " [0.91171306 0.8804802  0.11646976]\n",
            " [0.15921082 0.73457044 0.06520216]\n",
            " [0.62656206 0.5894361  0.91704154]\n",
            " [0.6045641  0.72337836 0.9336    ]\n",
            " [0.56754535 0.9658205  0.39373803]\n",
            " [0.21417978 0.2966889  0.99038416]\n",
            " [0.7581655  0.6966255  0.54148567]\n",
            " [0.6857328  0.10917906 0.10856208]\n",
            " [0.6085555  0.52211976 0.6582683 ]\n",
            " [0.74009544 0.75519735 0.9592708 ]\n",
            " [0.02491992 0.01336799 0.6655186 ]\n",
            " [0.68368167 0.41337982 0.89108616]]\n",
            "<NDArray 50x3 @cpu(0)>] [\n",
            "[6. 8. 3. 0. 7. 5. 0. 2. 1. 1. 5. 3. 3. 5. 7. 0. 6. 7. 2. 9. 7. 9. 3. 0.\n",
            " 1. 6. 3. 2. 8. 7. 7. 0. 6. 4. 8. 3. 3. 9. 4. 9. 2. 3. 2. 9. 5. 8. 4. 0.\n",
            " 9. 6.]\n",
            "<NDArray 50 @cpu(0)>]\n",
            "----------------2-------------\n",
            "[\n",
            "[[0.08422883 0.8759036  0.5715336 ]\n",
            " [0.5212728  0.45938572 0.34684882]\n",
            " [0.00983112 0.12845308 0.9070719 ]\n",
            " [0.24951048 0.2518625  0.01915909]\n",
            " [0.70942235 0.79677355 0.7616658 ]\n",
            " [0.91624933 0.4275811  0.78558725]\n",
            " [0.54784256 0.16476394 0.30038926]\n",
            " [0.55691844 0.7323311  0.92604697]\n",
            " [0.35888815 0.45302495 0.44074047]\n",
            " [0.05656536 0.09877314 0.8166664 ]\n",
            " [0.78139573 0.31956974 0.00277648]\n",
            " [0.400281   0.13025767 0.8709288 ]\n",
            " [0.9321556  0.178947   0.81425875]\n",
            " [0.5926476  0.33747944 0.14521557]\n",
            " [0.6348648  0.1673572  0.73334825]\n",
            " [0.5360425  0.9580603  0.914859  ]\n",
            " [0.75751996 0.621284   0.8953518 ]\n",
            " [0.05550864 0.44214556 0.19526602]\n",
            " [0.6578265  0.44915545 0.6115103 ]\n",
            " [0.8772705  0.198375   0.253267  ]\n",
            " [0.6178312  0.45435596 0.3113411 ]\n",
            " [0.6414882  0.6083024  0.26553482]\n",
            " [0.69451076 0.00495927 0.75018597]\n",
            " [0.40312788 0.39266002 0.46015167]\n",
            " [0.97146016 0.20346937 0.09529063]\n",
            " [0.9344455  0.22232248 0.6036043 ]\n",
            " [0.94657046 0.6677673  0.32136634]\n",
            " [0.68571967 0.9686057  0.4975323 ]\n",
            " [0.9899902  0.9974133  0.10841064]\n",
            " [0.5204565  0.31469354 0.8112843 ]\n",
            " [0.7254777  0.06316795 0.47465858]\n",
            " [0.27048662 0.4998006  0.56248057]\n",
            " [0.12271547 0.5855958  0.9683536 ]\n",
            " [0.74767804 0.29663643 0.8277678 ]\n",
            " [0.77017057 0.0886296  0.5846254 ]\n",
            " [0.8348674  0.50239384 0.5629893 ]\n",
            " [0.26878375 0.73950756 0.2566943 ]\n",
            " [0.20195545 0.84792423 0.557848  ]\n",
            " [0.7653657  0.39371097 0.45983246]\n",
            " [0.6643817  0.29563215 0.44722137]\n",
            " [0.85236454 0.17616613 0.6007481 ]\n",
            " [0.8300891  0.4833286  0.46252003]\n",
            " [0.97231925 0.62710947 0.02040235]\n",
            " [0.512049   0.12702328 0.7583691 ]\n",
            " [0.3686946  0.9926153  0.97470343]\n",
            " [0.6833359  0.4462837  0.6490487 ]\n",
            " [0.24188505 0.85296667 0.07151967]\n",
            " [0.6602782  0.2072177  0.28623763]\n",
            " [0.02277912 0.58183825 0.3630158 ]\n",
            " [0.84281325 0.79309124 0.77764654]]\n",
            "<NDArray 50x3 @cpu(0)>] [\n",
            "[9. 6. 8. 6. 0. 1. 1. 0. 7. 1. 9. 8. 4. 2. 2. 5. 2. 6. 8. 0. 2. 2. 2. 6.\n",
            " 4. 3. 4. 5. 5. 5. 0. 9. 6. 6. 6. 6. 2. 7. 6. 6. 1. 4. 9. 0. 5. 2. 9. 2.\n",
            " 7. 1.]\n",
            "<NDArray 50 @cpu(0)>]\n",
            "----------------3-------------\n",
            "[\n",
            "[[0.67944556 0.57455724 0.3222684 ]\n",
            " [0.04354178 0.11866729 0.6857785 ]\n",
            " [0.27136734 0.5381606  0.86498517]\n",
            " [0.7649867  0.6768426  0.01403084]\n",
            " [0.42498997 0.6956262  0.13255613]\n",
            " [0.9933025  0.3212162  0.25508943]\n",
            " [0.60378605 0.11220918 0.20330307]\n",
            " [0.07839824 0.5382794  0.41934514]\n",
            " [0.9328033  0.84755445 0.1356792 ]\n",
            " [0.9701002  0.0540544  0.42092013]\n",
            " [0.7645315  0.9005682  0.2820073 ]\n",
            " [0.17425272 0.8992712  0.28120214]\n",
            " [0.8685314  0.46696106 0.4560116 ]\n",
            " [0.021138   0.9525156  0.2895859 ]\n",
            " [0.720107   0.4835622  0.87776476]\n",
            " [0.58810884 0.31306314 0.73119426]\n",
            " [0.45380157 0.24913438 0.434633  ]\n",
            " [0.9147169  0.6692741  0.8933658 ]\n",
            " [0.58061093 0.561822   0.5833062 ]\n",
            " [0.16707341 0.58120656 0.64187205]\n",
            " [0.6573013  0.40731817 0.48640874]\n",
            " [0.28639808 0.39924312 0.54252434]\n",
            " [0.35195732 0.21701339 0.6571679 ]\n",
            " [0.32352838 0.3436674  0.29561552]\n",
            " [0.46906382 0.96795976 0.79420996]\n",
            " [0.95444316 0.5996234  0.30405888]\n",
            " [0.6312429  0.8539737  0.45644778]\n",
            " [0.34447822 0.27750677 0.43731776]\n",
            " [0.40016717 0.00425654 0.9781535 ]\n",
            " [0.929568   0.2957919  0.80681694]\n",
            " [0.6971278  0.62652105 0.93945545]\n",
            " [0.7315301  0.45104232 0.9219175 ]\n",
            " [0.08337674 0.29819474 0.02733654]\n",
            " [0.79273087 0.0497417  0.41107425]\n",
            " [0.7393479  0.97050774 0.7998454 ]\n",
            " [0.1561833  0.95788664 0.39963052]\n",
            " [0.7244486  0.7468275  0.34892386]\n",
            " [0.67108935 0.66787475 0.00754228]\n",
            " [0.54986835 0.52247286 0.27056053]\n",
            " [0.58853924 0.07505667 0.19277282]\n",
            " [0.06035888 0.55816615 0.11870813]\n",
            " [0.8512342  0.4047527  0.5663538 ]\n",
            " [0.0603769  0.954231   0.5738493 ]\n",
            " [0.9535132  0.3310146  0.01759102]\n",
            " [0.7609866  0.09503363 0.15903442]\n",
            " [0.11812102 0.16261354 0.49844977]\n",
            " [0.18276474 0.2726175  0.28879228]\n",
            " [0.1933426  0.6653645  0.52772176]\n",
            " [0.53719866 0.9391762  0.9983286 ]\n",
            " [0.95662445 0.15322372 0.9855107 ]]\n",
            "<NDArray 50x3 @cpu(0)>] [\n",
            "[7. 6. 7. 5. 4. 6. 4. 9. 2. 9. 8. 9. 4. 7. 5. 0. 7. 5. 8. 6. 2. 5. 6. 4.\n",
            " 8. 2. 5. 5. 4. 2. 1. 3. 9. 1. 3. 7. 6. 1. 6. 4. 3. 3. 3. 8. 0. 6. 4. 0.\n",
            " 2. 7.]\n",
            "<NDArray 50 @cpu(0)>]\n",
            "----------------4-------------\n",
            "[\n",
            "[[0.2860853  0.28834972 0.5109812 ]\n",
            " [0.21665396 0.5262799  0.61547136]\n",
            " [0.2665164  0.41153    0.47682583]\n",
            " [0.35772082 0.5992178  0.8469233 ]\n",
            " [0.92558485 0.44844928 0.21784218]\n",
            " [0.5541159  0.33955657 0.57364905]\n",
            " [0.93586004 0.7442387  0.45407656]\n",
            " [0.85115576 0.25635168 0.9683653 ]\n",
            " [0.29838654 0.30949974 0.10542236]\n",
            " [0.08725563 0.43069434 0.12962234]\n",
            " [0.28228968 0.38296086 0.5418255 ]\n",
            " [0.22143282 0.88480943 0.23697636]\n",
            " [0.8212295  0.46381164 0.8102553 ]\n",
            " [0.18795308 0.73441094 0.4357768 ]\n",
            " [0.6499642  0.4635653  0.16024905]\n",
            " [0.16653746 0.28105563 0.9262958 ]\n",
            " [0.30740803 0.29240796 0.23968165]\n",
            " [0.93671227 0.35040608 0.18374628]\n",
            " [0.28912565 0.08019536 0.61814386]\n",
            " [0.8242974  0.06880661 0.57553744]\n",
            " [0.77907133 0.1849993  0.36926746]\n",
            " [0.31306037 0.11674289 0.43100834]\n",
            " [0.48712298 0.6684113  0.48515132]\n",
            " [0.1279492  0.2840595  0.59912837]\n",
            " [0.92312634 0.9354487  0.8935553 ]\n",
            " [0.97121817 0.9727143  0.4424587 ]\n",
            " [0.42093867 0.08011574 0.36035144]\n",
            " [0.29593298 0.4846075  0.48676208]\n",
            " [0.8796745  0.5474007  0.88264453]\n",
            " [0.44247636 0.977308   0.2522705 ]\n",
            " [0.27078146 0.82754725 0.7533226 ]\n",
            " [0.48110965 0.21796997 0.18264514]\n",
            " [0.9469107  0.6132542  0.6234142 ]\n",
            " [0.53567994 0.03121109 0.192617  ]\n",
            " [0.5866386  0.7030203  0.882153  ]\n",
            " [0.37235734 0.51887727 0.20632169]\n",
            " [0.89520556 0.85754335 0.34108245]\n",
            " [0.86614    0.3920948  0.45486942]\n",
            " [0.7075168  0.49847132 0.37368286]\n",
            " [0.5301174  0.04442463 0.2012735 ]\n",
            " [0.60663986 0.7974902  0.21627675]\n",
            " [0.7390358  0.4397163  0.4673245 ]\n",
            " [0.9752033  0.49021018 0.03237364]\n",
            " [0.98029417 0.56881654 0.6578522 ]\n",
            " [0.5402007  0.85978115 0.1582506 ]\n",
            " [0.78306973 0.37937242 0.4727405 ]\n",
            " [0.3221913  0.15356135 0.46274117]\n",
            " [0.3522035  0.0915401  0.276801  ]\n",
            " [0.11280085 0.0195592  0.5929754 ]\n",
            " [0.91040033 0.64049274 0.4575687 ]]\n",
            "<NDArray 50x3 @cpu(0)>] [\n",
            "[8. 1. 0. 3. 2. 6. 7. 4. 5. 1. 0. 1. 6. 8. 1. 4. 4. 4. 3. 7. 3. 6. 2. 0.\n",
            " 0. 9. 4. 2. 1. 9. 4. 7. 4. 3. 8. 4. 9. 6. 3. 6. 3. 9. 3. 8. 2. 6. 5. 6.\n",
            " 7. 1.]\n",
            "<NDArray 50 @cpu(0)>]\n",
            "----------------5-------------\n",
            "[\n",
            "[[0.48756814 0.12821707 0.4830869 ]\n",
            " [0.8500476  0.20385003 0.60612506]\n",
            " [0.9045274  0.89961267 0.19732967]\n",
            " [0.8770019  0.12427127 0.22804561]\n",
            " [0.8310293  0.62872404 0.25125897]\n",
            " [0.76344776 0.64624566 0.12770751]\n",
            " [0.13312528 0.47251678 0.19392088]\n",
            " [0.8956226  0.35823956 0.22983623]\n",
            " [0.6774151  0.27755925 0.99359417]\n",
            " [0.81811816 0.7974713  0.9947369 ]\n",
            " [0.02397143 0.77000874 0.7866222 ]\n",
            " [0.7589731  0.41976663 0.1385791 ]\n",
            " [0.37732172 0.47590774 0.35671425]\n",
            " [0.0755654  0.7999478  0.17649782]\n",
            " [0.7597724  0.96215767 0.36810058]\n",
            " [0.83432263 0.12941764 0.7570786 ]\n",
            " [0.36946154 0.40478596 0.1948556 ]\n",
            " [0.69840693 0.3007228  0.91730624]\n",
            " [0.07749803 0.11073386 0.24406067]\n",
            " [0.45628732 0.91253495 0.03102505]\n",
            " [0.10193177 0.9658696  0.7446931 ]\n",
            " [0.9863333  0.8391572  0.7675915 ]\n",
            " [0.3477165  0.0190886  0.12549749]\n",
            " [0.09825791 0.5615158  0.8843252 ]\n",
            " [0.8971162  0.30082473 0.1354229 ]\n",
            " [0.656497   0.3545236  0.36984494]\n",
            " [0.21969387 0.22907715 0.9657032 ]\n",
            " [0.40288973 0.26258004 0.5238542 ]\n",
            " [0.49819297 0.8867958  0.02491736]\n",
            " [0.67869455 0.7840644  0.25756028]\n",
            " [0.97178626 0.28787893 0.15502162]\n",
            " [0.87821454 0.8062628  0.02676602]\n",
            " [0.564011   0.7220132  0.26046342]\n",
            " [0.15557627 0.4545239  0.8278834 ]\n",
            " [0.9546669  0.73104036 0.37361693]\n",
            " [0.43733084 0.74110925 0.3311337 ]\n",
            " [0.56879896 0.8671761  0.687122  ]\n",
            " [0.05731304 0.24139598 0.36082643]\n",
            " [0.31218967 0.3514473  0.10780896]\n",
            " [0.7510488  0.56521916 0.6753841 ]\n",
            " [0.08202696 0.58700657 0.2775153 ]\n",
            " [0.89997214 0.17090794 0.6694021 ]\n",
            " [0.7557435  0.39607632 0.5841146 ]\n",
            " [0.17270863 0.84859496 0.9412557 ]\n",
            " [0.23105231 0.0393591  0.38450196]\n",
            " [0.27416143 0.09632011 0.8254256 ]\n",
            " [0.37806687 0.02645755 0.12424427]\n",
            " [0.21170956 0.8696785  0.5021153 ]\n",
            " [0.97889847 0.47194132 0.81276196]\n",
            " [0.42601034 0.25556365 0.6322641 ]]\n",
            "<NDArray 50x3 @cpu(0)>] [\n",
            "[5. 5. 0. 6. 5. 2. 9. 5. 2. 8. 8. 2. 5. 9. 5. 7. 7. 0. 7. 4. 7. 1. 9. 3.\n",
            " 4. 9. 5. 5. 6. 8. 0. 2. 6. 2. 4. 5. 5. 1. 4. 5. 2. 4. 2. 5. 0. 3. 0. 2.\n",
            " 0. 4.]\n",
            "<NDArray 50 @cpu(0)>]\n",
            "----------------6-------------\n",
            "[\n",
            "[[0.05242866 0.9756784  0.06586679]\n",
            " [0.5979937  0.21259087 0.9880068 ]\n",
            " [0.01014893 0.5962489  0.8013824 ]\n",
            " [0.8073342  0.6975508  0.63512826]\n",
            " [0.24249548 0.8020758  0.5330916 ]\n",
            " [0.6393972  0.582706   0.41526726]\n",
            " [0.34502956 0.9070705  0.16812645]\n",
            " [0.6970677  0.33268976 0.9873505 ]\n",
            " [0.87512046 0.2906863  0.19545326]\n",
            " [0.20574698 0.5001733  0.12522522]\n",
            " [0.19490254 0.0693054  0.9522014 ]\n",
            " [0.7274759  0.97514105 0.47061807]\n",
            " [0.7300881  0.14658351 0.49402252]\n",
            " [0.12552379 0.41403538 0.01691665]\n",
            " [0.7537104  0.30252096 0.7284269 ]\n",
            " [0.73963505 0.571773   0.32376462]\n",
            " [0.00936287 0.88151497 0.37897107]\n",
            " [0.88554245 0.56925255 0.10406455]\n",
            " [0.9056244  0.07784507 0.13878934]\n",
            " [0.40221992 0.55242854 0.18154134]\n",
            " [0.49710575 0.35251716 0.40347207]\n",
            " [0.44860256 0.61216974 0.5011374 ]\n",
            " [0.25918883 0.5302841  0.12752922]\n",
            " [0.5112263  0.39130127 0.70916617]\n",
            " [0.9818875  0.47158566 0.84637874]\n",
            " [0.88826925 0.9528105  0.901643  ]\n",
            " [0.74767905 0.11041126 0.2841857 ]\n",
            " [0.1739563  0.28728473 0.24270828]\n",
            " [0.7975978  0.90420556 0.65993786]\n",
            " [0.29655617 0.91043437 0.8295206 ]\n",
            " [0.07568724 0.4456494  0.07559358]\n",
            " [0.64277834 0.18249139 0.86252505]\n",
            " [0.38532886 0.18046387 0.57386875]\n",
            " [0.25573674 0.8231917  0.524421  ]\n",
            " [0.5831062  0.16221653 0.70653516]\n",
            " [0.35340282 0.04867092 0.05853583]\n",
            " [0.6387339  0.7763326  0.5716944 ]\n",
            " [0.2092467  0.3844775  0.20242551]\n",
            " [0.34780845 0.09703682 0.23846355]\n",
            " [0.9206451  0.69760096 0.8955197 ]\n",
            " [0.21735382 0.89089036 0.44862932]\n",
            " [0.94803643 0.83336526 0.47102824]\n",
            " [0.6092475  0.9054236  0.18597198]\n",
            " [0.9856862  0.52657956 0.14824235]\n",
            " [0.2273769  0.75048184 0.15017746]\n",
            " [0.83604157 0.5413794  0.5469499 ]\n",
            " [0.72911304 0.28990218 0.5631957 ]\n",
            " [0.0121335  0.18674037 0.30104092]\n",
            " [0.87414473 0.8560983  0.9126073 ]\n",
            " [0.7622709  0.12436421 0.11047749]]\n",
            "<NDArray 50x3 @cpu(0)>] [\n",
            "[9. 9. 7. 4. 2. 5. 0. 6. 9. 7. 5. 9. 9. 6. 8. 6. 3. 0. 2. 0. 9. 7. 9. 1.\n",
            " 9. 6. 8. 2. 9. 3. 8. 3. 2. 5. 3. 1. 2. 4. 7. 0. 3. 8. 2. 4. 5. 8. 3. 0.\n",
            " 8. 5.]\n",
            "<NDArray 50 @cpu(0)>]\n"
          ],
          "name": "stdout"
        }
      ]
    },
    {
      "cell_type": "code",
      "metadata": {
        "id": "MpNgbApSjoEs",
        "colab_type": "code",
        "colab": {}
      },
      "source": [
        "### we can save this data intoa csv file\n",
        "### numpy alone can do this job\n",
        "np.savetxt('data.csv',data,delimiter=',')"
      ],
      "execution_count": 0,
      "outputs": []
    },
    {
      "cell_type": "code",
      "metadata": {
        "id": "fq_qc8ogj6mQ",
        "colab_type": "code",
        "colab": {
          "base_uri": "https://localhost:8080/",
          "height": 34
        },
        "outputId": "e7ba3c1d-a9e5-46c6-bb76-c9ccbcbf2fa4"
      },
      "source": [
        "!ls"
      ],
      "execution_count": 59,
      "outputs": [
        {
          "output_type": "stream",
          "text": [
            "data.csv  sample_data\n"
          ],
          "name": "stdout"
        }
      ]
    },
    {
      "cell_type": "code",
      "metadata": {
        "id": "sMhEm7S8j-m7",
        "colab_type": "code",
        "colab": {}
      },
      "source": [
        "## we can directly load the csx in a csv iterator\n",
        "csv_iter = mx.io.CSVIter(data_csv='data.csv',data_shape=(3),batch_size=50)"
      ],
      "execution_count": 0,
      "outputs": []
    },
    {
      "cell_type": "code",
      "metadata": {
        "id": "pg9v8TtUkXfx",
        "colab_type": "code",
        "colab": {
          "base_uri": "https://localhost:8080/",
          "height": 1000
        },
        "outputId": "1e39b032-d9df-4741-8652-afb4870ae405"
      },
      "source": [
        "### you can use simple for loop to get the data\n",
        "batch_num  = 1\n",
        "for batch in csv_iter:\n",
        "  print(\"----------------{}-------------\".format(batch_num))\n",
        "  print(batch.data,batch.label)\n",
        "  batch_num+=1"
      ],
      "execution_count": 61,
      "outputs": [
        {
          "output_type": "stream",
          "text": [
            "----------------1-------------\n",
            "[\n",
            "[[0.7697243  0.60861015 0.759428  ]\n",
            " [0.18795308 0.73441094 0.4357768 ]\n",
            " [0.9712181  0.9727143  0.4424587 ]\n",
            " [0.7649867  0.6768426  0.01403084]\n",
            " [0.85115576 0.25635165 0.9683653 ]\n",
            " [0.10193177 0.9658696  0.7446931 ]\n",
            " [0.929568   0.2957919  0.80681694]\n",
            " [0.20924671 0.3844775  0.20242551]\n",
            " [0.08202696 0.58700657 0.2775153 ]\n",
            " [0.9933025  0.3212162  0.25508946]\n",
            " [0.95444316 0.5996234  0.30405888]\n",
            " [0.6414882  0.6083024  0.26553482]\n",
            " [0.6178312  0.45435596 0.3113411 ]\n",
            " [0.0813852  0.5370554  0.5710528 ]\n",
            " [0.3577208  0.5992178  0.84692335]\n",
            " [0.24188504 0.85296667 0.07151967]\n",
            " [0.24249549 0.80207574 0.53309166]\n",
            " [0.2983865  0.30949974 0.10542236]\n",
            " [0.77907133 0.1849993  0.36926746]\n",
            " [0.4373308  0.74110925 0.3311337 ]\n",
            " [0.5541159  0.33955657 0.57364905]\n",
            " [0.85236454 0.17616615 0.6007481 ]\n",
            " [0.7396351  0.571773   0.32376462]\n",
            " [0.31218967 0.3514473  0.10780896]\n",
            " [0.30740803 0.29240793 0.23968165]\n",
            " [0.16707341 0.58120656 0.64187205]\n",
            " [0.5320228  0.58026016 0.35977793]\n",
            " [0.8543475  0.86832225 0.97815084]\n",
            " [0.6971278  0.62652105 0.9394554 ]\n",
            " [0.21937093 0.44723177 0.54382074]\n",
            " [0.18276474 0.2726175  0.28879228]\n",
            " [0.8428133  0.79309124 0.77764654]\n",
            " [0.8971162  0.30082473 0.1354229 ]\n",
            " [0.5881089  0.31306314 0.7311942 ]\n",
            " [0.84636337 0.02711978 0.7365487 ]\n",
            " [0.67869455 0.7840644  0.25756028]\n",
            " [0.35888815 0.45302495 0.44074044]\n",
            " [0.9104003  0.64049274 0.4575687 ]\n",
            " [0.33725667 0.13295561 0.53145534]\n",
            " [0.88826925 0.95281047 0.901643  ]\n",
            " [0.0603769  0.95423096 0.5738493 ]\n",
            " [0.78139573 0.31956977 0.00277648]\n",
            " [0.1739563  0.28728473 0.24270828]\n",
            " [0.3522035  0.0915401  0.27680102]\n",
            " [0.9546669  0.73104036 0.37361693]\n",
            " [0.17425272 0.8992712  0.28120214]\n",
            " [0.00983112 0.12845309 0.9070719 ]\n",
            " [0.7557435  0.39607632 0.5841146 ]\n",
            " [0.68368167 0.41337982 0.8910862 ]\n",
            " [0.6387339  0.7763326  0.5716944 ]]\n",
            "<NDArray 50x3 @cpu(0)>] [\n",
            "[0. 0. 0. 0. 0. 0. 0. 0. 0. 0. 0. 0. 0. 0. 0. 0. 0. 0. 0. 0. 0. 0. 0. 0.\n",
            " 0. 0. 0. 0. 0. 0. 0. 0. 0. 0. 0. 0. 0. 0. 0. 0. 0. 0. 0. 0. 0. 0. 0. 0.\n",
            " 0. 0.]\n",
            "<NDArray 50 @cpu(0)>]\n",
            "----------------2-------------\n",
            "[\n",
            "[[0.08876266 0.572901   0.8553963 ]\n",
            " [0.99713343 0.19667888 0.75843114]\n",
            " [0.8242974  0.06880662 0.57553744]\n",
            " [0.56879896 0.86717606 0.687122  ]\n",
            " [0.9752032  0.49021015 0.03237364]\n",
            " [0.05731304 0.24139598 0.36082643]\n",
            " [0.0755654  0.79994786 0.17649782]\n",
            " [0.7975978  0.9042056  0.65993786]\n",
            " [0.564011   0.7220132  0.26046342]\n",
            " [0.8685314  0.46696106 0.4560116 ]\n",
            " [0.7390358  0.43971634 0.4673245 ]\n",
            " [0.5866386  0.7030202  0.88215303]\n",
            " [0.72547764 0.06316795 0.47465858]\n",
            " [0.05242866 0.9756783  0.06586679]\n",
            " [0.60323435 0.93221587 0.5413679 ]\n",
            " [0.9856862  0.5265795  0.14824235]\n",
            " [0.02491992 0.01336799 0.6655186 ]\n",
            " [0.7597724  0.9621576  0.36810058]\n",
            " [0.5112263  0.39130124 0.70916617]\n",
            " [0.16519533 0.63364923 0.90796757]\n",
            " [0.51092255 0.42255345 0.96548474]\n",
            " [0.75751996 0.621284   0.89535177]\n",
            " [0.21969387 0.22907715 0.9657032 ]\n",
            " [0.786765   0.09239919 0.5481554 ]\n",
            " [0.85123414 0.40475267 0.56635386]\n",
            " [0.53567994 0.03121109 0.19261698]\n",
            " [0.9701002  0.0540544  0.42092013]\n",
            " [0.21735382 0.8908903  0.44862932]\n",
            " [0.5979937  0.21259086 0.9880068 ]\n",
            " [0.6393972  0.5827059  0.4152673 ]\n",
            " [0.16653746 0.28105563 0.9262959 ]\n",
            " [0.9255849  0.44844928 0.21784218]\n",
            " [0.14174119 0.3011684  0.20380071]\n",
            " [0.27048662 0.4998006  0.56248057]\n",
            " [0.71594554 0.4518413  0.99734384]\n",
            " [0.44170046 0.96717584 0.7724699 ]\n",
            " [0.15557627 0.4545239  0.8278834 ]\n",
            " [0.7476781  0.29663643 0.8277677 ]\n",
            " [0.12794921 0.28405946 0.59912837]\n",
            " [0.79273087 0.0497417  0.41107425]\n",
            " [0.677415   0.27755925 0.99359417]\n",
            " [0.7589731  0.4197666  0.1385791 ]\n",
            " [0.98633325 0.8391572  0.7675915 ]\n",
            " [0.3221913  0.15356135 0.4627412 ]\n",
            " [0.21665394 0.5262799  0.61547136]\n",
            " [0.53719866 0.9391762  0.9983287 ]\n",
            " [0.35746363 0.2593596  0.07324441]\n",
            " [0.9162494  0.42758107 0.78558725]\n",
            " [0.02397143 0.77000874 0.7866222 ]\n",
            " [0.9117131  0.8804802  0.11646976]]\n",
            "<NDArray 50x3 @cpu(0)>] [\n",
            "[0. 0. 0. 0. 0. 0. 0. 0. 0. 0. 0. 0. 0. 0. 0. 0. 0. 0. 0. 0. 0. 0. 0. 0.\n",
            " 0. 0. 0. 0. 0. 0. 0. 0. 0. 0. 0. 0. 0. 0. 0. 0. 0. 0. 0. 0. 0. 0. 0. 0.\n",
            " 0. 0.]\n",
            "<NDArray 50 @cpu(0)>]\n",
            "----------------3-------------\n",
            "[\n",
            "[[0.14712226 0.6410915  0.18673964]\n",
            " [0.08422883 0.8759036  0.5715336 ]\n",
            " [0.05550864 0.44214553 0.19526601]\n",
            " [0.4260103  0.25556365 0.6322641 ]\n",
            " [0.55691844 0.7323311  0.92604697]\n",
            " [0.8181182  0.7974713  0.99473685]\n",
            " [0.5402007  0.85978115 0.1582506 ]\n",
            " [0.34502953 0.9070705  0.16812646]\n",
            " [0.20195547 0.84792423 0.557848  ]\n",
            " [0.75104874 0.56521916 0.6753841 ]\n",
            " [0.9469107  0.6132542  0.6234142 ]\n",
            " [0.37732172 0.47590774 0.35671425]\n",
            " [0.5204565  0.31469354 0.81128424]\n",
            " [0.74009544 0.75519735 0.9592708 ]\n",
            " [0.76344776 0.64624566 0.12770751]\n",
            " [0.83432263 0.12941764 0.7570786 ]\n",
            " [0.40016717 0.00425653 0.9781535 ]\n",
            " [0.01837717 0.02148067 0.6374368 ]\n",
            " [0.82122946 0.46381164 0.8102552 ]\n",
            " [0.512049   0.1270233  0.7583691 ]\n",
            " [0.7393478  0.97050774 0.7998454 ]\n",
            " [0.54800034 0.23439483 0.02332339]\n",
            " [0.3477165  0.0190886  0.12549749]\n",
            " [0.04354178 0.11866729 0.6857785 ]\n",
            " [0.15395236 0.805068   0.01563625]\n",
            " [0.87967455 0.5474008  0.88264453]\n",
            " [0.49819297 0.8867958  0.02491736]\n",
            " [0.9321556  0.178947   0.81425875]\n",
            " [0.656497   0.3545236  0.36984494]\n",
            " [0.64277834 0.18249139 0.8625251 ]\n",
            " [0.25573674 0.82319176 0.524421  ]\n",
            " [0.45380157 0.24913438 0.43463296]\n",
            " [0.6710893  0.66787475 0.00754228]\n",
            " [0.8855425  0.5692526  0.10406455]\n",
            " [0.34447822 0.27750677 0.43731776]\n",
            " [0.65992934 0.39181226 0.72934985]\n",
            " [0.38532883 0.18046387 0.57386875]\n",
            " [0.487123   0.6684113  0.4851513 ]\n",
            " [0.25918883 0.5302841  0.12752922]\n",
            " [0.72911304 0.28990215 0.5631957 ]\n",
            " [0.08337674 0.2981947  0.02733654]\n",
            " [0.09825791 0.5615158  0.8843252 ]\n",
            " [0.35195732 0.2170134  0.6571679 ]\n",
            " [0.0121335  0.18674037 0.30104092]\n",
            " [0.44247636 0.977308   0.2522705 ]\n",
            " [0.20574698 0.5001732  0.12522522]\n",
            " [0.6602782  0.2072177  0.28623766]\n",
            " [0.34780845 0.09703682 0.23846355]\n",
            " [0.9465705  0.6677673  0.32136634]\n",
            " [0.8792841  0.1355736  0.70844877]]\n",
            "<NDArray 50x3 @cpu(0)>] [\n",
            "[0. 0. 0. 0. 0. 0. 0. 0. 0. 0. 0. 0. 0. 0. 0. 0. 0. 0. 0. 0. 0. 0. 0. 0.\n",
            " 0. 0. 0. 0. 0. 0. 0. 0. 0. 0. 0. 0. 0. 0. 0. 0. 0. 0. 0. 0. 0. 0. 0. 0.\n",
            " 0. 0.]\n",
            "<NDArray 50 @cpu(0)>]\n",
            "----------------4-------------\n",
            "[\n",
            "[[0.90452737 0.8996127  0.19732967]\n",
            " [0.95351326 0.3310146  0.01759102]\n",
            " [0.8500476  0.20385003 0.60612506]\n",
            " [0.93671227 0.3504061  0.18374626]\n",
            " [0.5212728  0.45938572 0.34684882]\n",
            " [0.68571967 0.9686057  0.4975323 ]\n",
            " [0.37806687 0.02645755 0.12424426]\n",
            " [0.9328033  0.8475544  0.1356792 ]\n",
            " [0.6045641  0.72337836 0.93359995]\n",
            " [0.2665164  0.41152996 0.4768258 ]\n",
            " [0.5831062  0.16221653 0.70653516]\n",
            " [0.6970677  0.33268976 0.9873506 ]\n",
            " [0.40312785 0.39266002 0.46015167]\n",
            " [0.9056244  0.07784507 0.13878934]\n",
            " [0.9802941  0.56881654 0.6578522 ]\n",
            " [0.01014893 0.5962489  0.8013824 ]\n",
            " [0.7075168  0.49847132 0.37368283]\n",
            " [0.28912565 0.08019536 0.6181439 ]\n",
            " [0.11280085 0.0195592  0.5929754 ]\n",
            " [0.67944556 0.5745572  0.32226843]\n",
            " [0.80247    0.89422446 0.33257952]\n",
            " [0.243157   0.84208834 0.42830372]\n",
            " [0.8310293  0.628724   0.25125897]\n",
            " [0.37235734 0.51887727 0.20632169]\n",
            " [0.92312634 0.93544865 0.8935553 ]\n",
            " [0.02277912 0.58183825 0.3630158 ]\n",
            " [0.8348675  0.50239384 0.5629893 ]\n",
            " [0.97231925 0.62710947 0.02040235]\n",
            " [0.58853924 0.07505668 0.19277282]\n",
            " [0.54986835 0.52247286 0.27056053]\n",
            " [0.27136734 0.5381606  0.86498517]\n",
            " [0.89997214 0.17090794 0.66940206]\n",
            " [0.58061093 0.561822   0.5833062 ]\n",
            " [0.28228968 0.38296086 0.5418255 ]\n",
            " [0.7431361  0.2361921  0.64001256]\n",
            " [0.9475649  0.73019236 0.57782   ]\n",
            " [0.12271547 0.5855957  0.9683536 ]\n",
            " [0.6037861  0.11220918 0.20330307]\n",
            " [0.78306973 0.37937242 0.4727405 ]\n",
            " [0.5926476  0.33747944 0.14521559]\n",
            " [0.42983812 0.82111704 0.04184983]\n",
            " [0.6945108  0.00495927 0.75018597]\n",
            " [0.70942235 0.79677355 0.7616658 ]\n",
            " [0.698407   0.3007228  0.91730624]\n",
            " [0.15149097 0.43559998 0.3939399 ]\n",
            " [0.27078146 0.82754725 0.7533226 ]\n",
            " [0.60663986 0.7974902  0.21627674]\n",
            " [0.6312429  0.8539737  0.45644778]\n",
            " [0.07568724 0.4456494  0.07559358]\n",
            " [0.48110968 0.21796997 0.18264516]]\n",
            "<NDArray 50x3 @cpu(0)>] [\n",
            "[0. 0. 0. 0. 0. 0. 0. 0. 0. 0. 0. 0. 0. 0. 0. 0. 0. 0. 0. 0. 0. 0. 0. 0.\n",
            " 0. 0. 0. 0. 0. 0. 0. 0. 0. 0. 0. 0. 0. 0. 0. 0. 0. 0. 0. 0. 0. 0. 0. 0.\n",
            " 0. 0.]\n",
            "<NDArray 50 @cpu(0)>]\n",
            "----------------5-------------\n",
            "[\n",
            "[[0.1933426  0.66536456 0.52772176]\n",
            " [0.62656206 0.5894361  0.9170415 ]\n",
            " [0.8073341  0.6975508  0.63512826]\n",
            " [0.7653657  0.39371094 0.4598325 ]\n",
            " [0.6499642  0.4635653  0.16024905]\n",
            " [0.32399938 0.5370486  0.17388281]\n",
            " [0.21417978 0.2966889  0.9903841 ]\n",
            " [0.93586004 0.74423873 0.4540766 ]\n",
            " [0.8300891  0.48332858 0.46252003]\n",
            " [0.00196063 0.05941265 0.45466003]\n",
            " [0.21170957 0.8696785  0.5021153 ]\n",
            " [0.5301174  0.04442463 0.20127352]\n",
            " [0.24951048 0.25186247 0.01915909]\n",
            " [0.6833359  0.44628373 0.6490487 ]\n",
            " [0.56754535 0.9658205  0.39373803]\n",
            " [0.15921082 0.73457044 0.06520216]\n",
            " [0.11812101 0.16261354 0.49844974]\n",
            " [0.17270863 0.84859496 0.9412557 ]\n",
            " [0.60924757 0.9054235  0.18597198]\n",
            " [0.4486026  0.61216974 0.5011374 ]\n",
            " [0.9206451  0.69760096 0.8955196 ]\n",
            " [0.40853435 0.36806756 0.39342   ]\n",
            " [0.7274759  0.97514105 0.47061807]\n",
            " [0.19490254 0.0693054  0.9522015 ]\n",
            " [0.8770019  0.12427126 0.22804561]\n",
            " [0.42499    0.6956262  0.13255613]\n",
            " [0.42093864 0.08011574 0.3603514 ]\n",
            " [0.00936287 0.8815149  0.37897104]\n",
            " [0.48756814 0.12821707 0.4830869 ]\n",
            " [0.07839825 0.5382794  0.41934514]\n",
            " [0.65782654 0.44915542 0.6115103 ]\n",
            " [0.7609867  0.09503362 0.15903442]\n",
            " [0.2860853  0.2883497  0.5109812 ]\n",
            " [0.26878375 0.73950756 0.25669426]\n",
            " [0.6573013  0.40731817 0.48640877]\n",
            " [0.8952055  0.85754335 0.34108245]\n",
            " [0.5360425  0.9580604  0.914859  ]\n",
            " [0.40028104 0.13025767 0.8709289 ]\n",
            " [0.7622709  0.12436421 0.11047749]\n",
            " [0.14852059 0.25112215 0.39637244]\n",
            " [0.8772705  0.19837502 0.253267  ]\n",
            " [0.2214328  0.8848095  0.23697636]\n",
            " [0.6348648  0.1673572  0.73334825]\n",
            " [0.45628732 0.912535   0.03102505]\n",
            " [0.32352838 0.3436674  0.29561552]\n",
            " [0.021138   0.9525156  0.2895859 ]\n",
            " [0.5449512  0.21588345 0.37588096]\n",
            " [0.86614    0.3920948  0.45486942]\n",
            " [0.27416143 0.09632012 0.8254256 ]\n",
            " [0.87821454 0.8062628  0.02676602]]\n",
            "<NDArray 50x3 @cpu(0)>] [\n",
            "[0. 0. 0. 0. 0. 0. 0. 0. 0. 0. 0. 0. 0. 0. 0. 0. 0. 0. 0. 0. 0. 0. 0. 0.\n",
            " 0. 0. 0. 0. 0. 0. 0. 0. 0. 0. 0. 0. 0. 0. 0. 0. 0. 0. 0. 0. 0. 0. 0. 0.\n",
            " 0. 0.]\n",
            "<NDArray 50 @cpu(0)>]\n",
            "----------------6-------------\n",
            "[\n",
            "[[0.9566245  0.15322372 0.9855107 ]\n",
            " [0.6347552  0.68975353 0.00414498]\n",
            " [0.35340282 0.04867092 0.05853583]\n",
            " [0.15618329 0.9578866  0.3996305 ]\n",
            " [0.83604157 0.54137933 0.5469499 ]\n",
            " [0.7645315  0.9005682  0.2820073 ]\n",
            " [0.9818875  0.47158566 0.8463787 ]\n",
            " [0.7300881  0.14658351 0.49402252]\n",
            " [0.87512046 0.2906863  0.19545326]\n",
            " [0.7537104  0.30252096 0.7284269 ]\n",
            " [0.2273769  0.75048184 0.15017745]\n",
            " [0.29593295 0.48460752 0.4867621 ]\n",
            " [0.07749802 0.11073387 0.24406067]\n",
            " [0.23105231 0.0393591  0.384502  ]\n",
            " [0.9147169  0.6692741  0.89336574]\n",
            " [0.28118962 0.24078217 0.48401314]\n",
            " [0.8956226  0.35823956 0.22983623]\n",
            " [0.9480365  0.83336526 0.47102824]\n",
            " [0.13312528 0.47251678 0.19392088]\n",
            " [0.7315301  0.45104232 0.92191756]\n",
            " [0.3686946  0.99261534 0.97470343]\n",
            " [0.720107   0.48356217 0.8777648 ]\n",
            " [0.77017057 0.08862961 0.5846254 ]\n",
            " [0.46906385 0.96795976 0.79420996]\n",
            " [0.29655617 0.91043437 0.8295206 ]\n",
            " [0.87414473 0.8560983  0.9126074 ]\n",
            " [0.6085555  0.5221197  0.6582683 ]\n",
            " [0.6857327  0.10917906 0.10856209]\n",
            " [0.7244486  0.7468275  0.34892386]\n",
            " [0.9788985  0.47194132 0.81276196]\n",
            " [0.9899901  0.9974133  0.10841064]\n",
            " [0.9344455  0.22232246 0.6036044 ]\n",
            " [0.40221992 0.55242854 0.18154135]\n",
            " [0.91033393 0.5103488  0.15773395]\n",
            " [0.40288973 0.26258    0.5238542 ]\n",
            " [0.22582169 0.70679027 0.7517775 ]\n",
            " [0.31306037 0.11674289 0.43100834]\n",
            " [0.97146016 0.20346937 0.09529063]\n",
            " [0.7581655  0.6966254  0.54148567]\n",
            " [0.6643817  0.29563215 0.44722137]\n",
            " [0.06035888 0.55816615 0.11870813]\n",
            " [0.05656536 0.09877314 0.8166664 ]\n",
            " [0.28639808 0.39924312 0.54252434]\n",
            " [0.74767905 0.11041126 0.2841857 ]\n",
            " [0.49710575 0.3525172  0.40347204]\n",
            " [0.36946154 0.40478596 0.1948556 ]\n",
            " [0.9717863  0.28787893 0.15502162]\n",
            " [0.12552379 0.41403538 0.01691665]\n",
            " [0.08725562 0.43069434 0.12962234]\n",
            " [0.54784256 0.16476396 0.30038923]]\n",
            "<NDArray 50x3 @cpu(0)>] [\n",
            "[0. 0. 0. 0. 0. 0. 0. 0. 0. 0. 0. 0. 0. 0. 0. 0. 0. 0. 0. 0. 0. 0. 0. 0.\n",
            " 0. 0. 0. 0. 0. 0. 0. 0. 0. 0. 0. 0. 0. 0. 0. 0. 0. 0. 0. 0. 0. 0. 0. 0.\n",
            " 0. 0.]\n",
            "<NDArray 50 @cpu(0)>]\n"
          ],
          "name": "stdout"
        }
      ]
    },
    {
      "cell_type": "code",
      "metadata": {
        "id": "q8eqIHjWkeLT",
        "colab_type": "code",
        "colab": {}
      },
      "source": [
        "## make a static computation graph and make  nural network\n",
        "# for predicting brest cancer data\n",
        "import pandas as pd"
      ],
      "execution_count": 0,
      "outputs": []
    },
    {
      "cell_type": "code",
      "metadata": {
        "id": "k6X2FxDlllsd",
        "colab_type": "code",
        "colab": {}
      },
      "source": [
        "import pandas as pd\n",
        "\n",
        "url=\"https://raw.githubusercontent.com/tanviredu/Breast-Cancer-UCI-Dataset/master/data.csv\"\n",
        "df=pd.read_csv(url)"
      ],
      "execution_count": 0,
      "outputs": []
    },
    {
      "cell_type": "code",
      "metadata": {
        "id": "NVy62_3ZmYXk",
        "colab_type": "code",
        "colab": {
          "base_uri": "https://localhost:8080/",
          "height": 232
        },
        "outputId": "a94b9a4a-7548-46d7-d926-c8fc7e0dd47c"
      },
      "source": [
        "df.head()"
      ],
      "execution_count": 64,
      "outputs": [
        {
          "output_type": "execute_result",
          "data": {
            "text/html": [
              "<div>\n",
              "<style scoped>\n",
              "    .dataframe tbody tr th:only-of-type {\n",
              "        vertical-align: middle;\n",
              "    }\n",
              "\n",
              "    .dataframe tbody tr th {\n",
              "        vertical-align: top;\n",
              "    }\n",
              "\n",
              "    .dataframe thead th {\n",
              "        text-align: right;\n",
              "    }\n",
              "</style>\n",
              "<table border=\"1\" class=\"dataframe\">\n",
              "  <thead>\n",
              "    <tr style=\"text-align: right;\">\n",
              "      <th></th>\n",
              "      <th>id</th>\n",
              "      <th>diagnosis</th>\n",
              "      <th>radius_mean</th>\n",
              "      <th>texture_mean</th>\n",
              "      <th>perimeter_mean</th>\n",
              "      <th>area_mean</th>\n",
              "      <th>smoothness_mean</th>\n",
              "      <th>compactness_mean</th>\n",
              "      <th>concavity_mean</th>\n",
              "      <th>concave points_mean</th>\n",
              "      <th>symmetry_mean</th>\n",
              "      <th>fractal_dimension_mean</th>\n",
              "      <th>radius_se</th>\n",
              "      <th>texture_se</th>\n",
              "      <th>perimeter_se</th>\n",
              "      <th>area_se</th>\n",
              "      <th>smoothness_se</th>\n",
              "      <th>compactness_se</th>\n",
              "      <th>concavity_se</th>\n",
              "      <th>concave points_se</th>\n",
              "      <th>symmetry_se</th>\n",
              "      <th>fractal_dimension_se</th>\n",
              "      <th>radius_worst</th>\n",
              "      <th>texture_worst</th>\n",
              "      <th>perimeter_worst</th>\n",
              "      <th>area_worst</th>\n",
              "      <th>smoothness_worst</th>\n",
              "      <th>compactness_worst</th>\n",
              "      <th>concavity_worst</th>\n",
              "      <th>concave points_worst</th>\n",
              "      <th>symmetry_worst</th>\n",
              "      <th>fractal_dimension_worst</th>\n",
              "    </tr>\n",
              "  </thead>\n",
              "  <tbody>\n",
              "    <tr>\n",
              "      <th>0</th>\n",
              "      <td>842302</td>\n",
              "      <td>M</td>\n",
              "      <td>17.99</td>\n",
              "      <td>10.38</td>\n",
              "      <td>122.80</td>\n",
              "      <td>1001.0</td>\n",
              "      <td>0.11840</td>\n",
              "      <td>0.27760</td>\n",
              "      <td>0.3001</td>\n",
              "      <td>0.14710</td>\n",
              "      <td>0.2419</td>\n",
              "      <td>0.07871</td>\n",
              "      <td>1.0950</td>\n",
              "      <td>0.9053</td>\n",
              "      <td>8.589</td>\n",
              "      <td>153.40</td>\n",
              "      <td>0.006399</td>\n",
              "      <td>0.04904</td>\n",
              "      <td>0.05373</td>\n",
              "      <td>0.01587</td>\n",
              "      <td>0.03003</td>\n",
              "      <td>0.006193</td>\n",
              "      <td>25.38</td>\n",
              "      <td>17.33</td>\n",
              "      <td>184.60</td>\n",
              "      <td>2019.0</td>\n",
              "      <td>0.1622</td>\n",
              "      <td>0.6656</td>\n",
              "      <td>0.7119</td>\n",
              "      <td>0.2654</td>\n",
              "      <td>0.4601</td>\n",
              "      <td>0.11890</td>\n",
              "    </tr>\n",
              "    <tr>\n",
              "      <th>1</th>\n",
              "      <td>842517</td>\n",
              "      <td>M</td>\n",
              "      <td>20.57</td>\n",
              "      <td>17.77</td>\n",
              "      <td>132.90</td>\n",
              "      <td>1326.0</td>\n",
              "      <td>0.08474</td>\n",
              "      <td>0.07864</td>\n",
              "      <td>0.0869</td>\n",
              "      <td>0.07017</td>\n",
              "      <td>0.1812</td>\n",
              "      <td>0.05667</td>\n",
              "      <td>0.5435</td>\n",
              "      <td>0.7339</td>\n",
              "      <td>3.398</td>\n",
              "      <td>74.08</td>\n",
              "      <td>0.005225</td>\n",
              "      <td>0.01308</td>\n",
              "      <td>0.01860</td>\n",
              "      <td>0.01340</td>\n",
              "      <td>0.01389</td>\n",
              "      <td>0.003532</td>\n",
              "      <td>24.99</td>\n",
              "      <td>23.41</td>\n",
              "      <td>158.80</td>\n",
              "      <td>1956.0</td>\n",
              "      <td>0.1238</td>\n",
              "      <td>0.1866</td>\n",
              "      <td>0.2416</td>\n",
              "      <td>0.1860</td>\n",
              "      <td>0.2750</td>\n",
              "      <td>0.08902</td>\n",
              "    </tr>\n",
              "    <tr>\n",
              "      <th>2</th>\n",
              "      <td>84300903</td>\n",
              "      <td>M</td>\n",
              "      <td>19.69</td>\n",
              "      <td>21.25</td>\n",
              "      <td>130.00</td>\n",
              "      <td>1203.0</td>\n",
              "      <td>0.10960</td>\n",
              "      <td>0.15990</td>\n",
              "      <td>0.1974</td>\n",
              "      <td>0.12790</td>\n",
              "      <td>0.2069</td>\n",
              "      <td>0.05999</td>\n",
              "      <td>0.7456</td>\n",
              "      <td>0.7869</td>\n",
              "      <td>4.585</td>\n",
              "      <td>94.03</td>\n",
              "      <td>0.006150</td>\n",
              "      <td>0.04006</td>\n",
              "      <td>0.03832</td>\n",
              "      <td>0.02058</td>\n",
              "      <td>0.02250</td>\n",
              "      <td>0.004571</td>\n",
              "      <td>23.57</td>\n",
              "      <td>25.53</td>\n",
              "      <td>152.50</td>\n",
              "      <td>1709.0</td>\n",
              "      <td>0.1444</td>\n",
              "      <td>0.4245</td>\n",
              "      <td>0.4504</td>\n",
              "      <td>0.2430</td>\n",
              "      <td>0.3613</td>\n",
              "      <td>0.08758</td>\n",
              "    </tr>\n",
              "    <tr>\n",
              "      <th>3</th>\n",
              "      <td>84348301</td>\n",
              "      <td>M</td>\n",
              "      <td>11.42</td>\n",
              "      <td>20.38</td>\n",
              "      <td>77.58</td>\n",
              "      <td>386.1</td>\n",
              "      <td>0.14250</td>\n",
              "      <td>0.28390</td>\n",
              "      <td>0.2414</td>\n",
              "      <td>0.10520</td>\n",
              "      <td>0.2597</td>\n",
              "      <td>0.09744</td>\n",
              "      <td>0.4956</td>\n",
              "      <td>1.1560</td>\n",
              "      <td>3.445</td>\n",
              "      <td>27.23</td>\n",
              "      <td>0.009110</td>\n",
              "      <td>0.07458</td>\n",
              "      <td>0.05661</td>\n",
              "      <td>0.01867</td>\n",
              "      <td>0.05963</td>\n",
              "      <td>0.009208</td>\n",
              "      <td>14.91</td>\n",
              "      <td>26.50</td>\n",
              "      <td>98.87</td>\n",
              "      <td>567.7</td>\n",
              "      <td>0.2098</td>\n",
              "      <td>0.8663</td>\n",
              "      <td>0.6869</td>\n",
              "      <td>0.2575</td>\n",
              "      <td>0.6638</td>\n",
              "      <td>0.17300</td>\n",
              "    </tr>\n",
              "    <tr>\n",
              "      <th>4</th>\n",
              "      <td>84358402</td>\n",
              "      <td>M</td>\n",
              "      <td>20.29</td>\n",
              "      <td>14.34</td>\n",
              "      <td>135.10</td>\n",
              "      <td>1297.0</td>\n",
              "      <td>0.10030</td>\n",
              "      <td>0.13280</td>\n",
              "      <td>0.1980</td>\n",
              "      <td>0.10430</td>\n",
              "      <td>0.1809</td>\n",
              "      <td>0.05883</td>\n",
              "      <td>0.7572</td>\n",
              "      <td>0.7813</td>\n",
              "      <td>5.438</td>\n",
              "      <td>94.44</td>\n",
              "      <td>0.011490</td>\n",
              "      <td>0.02461</td>\n",
              "      <td>0.05688</td>\n",
              "      <td>0.01885</td>\n",
              "      <td>0.01756</td>\n",
              "      <td>0.005115</td>\n",
              "      <td>22.54</td>\n",
              "      <td>16.67</td>\n",
              "      <td>152.20</td>\n",
              "      <td>1575.0</td>\n",
              "      <td>0.1374</td>\n",
              "      <td>0.2050</td>\n",
              "      <td>0.4000</td>\n",
              "      <td>0.1625</td>\n",
              "      <td>0.2364</td>\n",
              "      <td>0.07678</td>\n",
              "    </tr>\n",
              "  </tbody>\n",
              "</table>\n",
              "</div>"
            ],
            "text/plain": [
              "         id diagnosis  ...  symmetry_worst  fractal_dimension_worst\n",
              "0    842302         M  ...          0.4601                  0.11890\n",
              "1    842517         M  ...          0.2750                  0.08902\n",
              "2  84300903         M  ...          0.3613                  0.08758\n",
              "3  84348301         M  ...          0.6638                  0.17300\n",
              "4  84358402         M  ...          0.2364                  0.07678\n",
              "\n",
              "[5 rows x 32 columns]"
            ]
          },
          "metadata": {
            "tags": []
          },
          "execution_count": 64
        }
      ]
    },
    {
      "cell_type": "code",
      "metadata": {
        "id": "LeUsTEWdmZWz",
        "colab_type": "code",
        "colab": {}
      },
      "source": [
        "d = {'M':1,'B':0}\n",
        "df['diagnosis'] = df['diagnosis'].map(d)"
      ],
      "execution_count": 0,
      "outputs": []
    },
    {
      "cell_type": "code",
      "metadata": {
        "id": "HjNoaJxImuVv",
        "colab_type": "code",
        "colab": {
          "base_uri": "https://localhost:8080/",
          "height": 232
        },
        "outputId": "0e7aeeed-ce07-46e3-85d6-1daa4343d98d"
      },
      "source": [
        "df.head()"
      ],
      "execution_count": 66,
      "outputs": [
        {
          "output_type": "execute_result",
          "data": {
            "text/html": [
              "<div>\n",
              "<style scoped>\n",
              "    .dataframe tbody tr th:only-of-type {\n",
              "        vertical-align: middle;\n",
              "    }\n",
              "\n",
              "    .dataframe tbody tr th {\n",
              "        vertical-align: top;\n",
              "    }\n",
              "\n",
              "    .dataframe thead th {\n",
              "        text-align: right;\n",
              "    }\n",
              "</style>\n",
              "<table border=\"1\" class=\"dataframe\">\n",
              "  <thead>\n",
              "    <tr style=\"text-align: right;\">\n",
              "      <th></th>\n",
              "      <th>id</th>\n",
              "      <th>diagnosis</th>\n",
              "      <th>radius_mean</th>\n",
              "      <th>texture_mean</th>\n",
              "      <th>perimeter_mean</th>\n",
              "      <th>area_mean</th>\n",
              "      <th>smoothness_mean</th>\n",
              "      <th>compactness_mean</th>\n",
              "      <th>concavity_mean</th>\n",
              "      <th>concave points_mean</th>\n",
              "      <th>symmetry_mean</th>\n",
              "      <th>fractal_dimension_mean</th>\n",
              "      <th>radius_se</th>\n",
              "      <th>texture_se</th>\n",
              "      <th>perimeter_se</th>\n",
              "      <th>area_se</th>\n",
              "      <th>smoothness_se</th>\n",
              "      <th>compactness_se</th>\n",
              "      <th>concavity_se</th>\n",
              "      <th>concave points_se</th>\n",
              "      <th>symmetry_se</th>\n",
              "      <th>fractal_dimension_se</th>\n",
              "      <th>radius_worst</th>\n",
              "      <th>texture_worst</th>\n",
              "      <th>perimeter_worst</th>\n",
              "      <th>area_worst</th>\n",
              "      <th>smoothness_worst</th>\n",
              "      <th>compactness_worst</th>\n",
              "      <th>concavity_worst</th>\n",
              "      <th>concave points_worst</th>\n",
              "      <th>symmetry_worst</th>\n",
              "      <th>fractal_dimension_worst</th>\n",
              "    </tr>\n",
              "  </thead>\n",
              "  <tbody>\n",
              "    <tr>\n",
              "      <th>0</th>\n",
              "      <td>842302</td>\n",
              "      <td>1</td>\n",
              "      <td>17.99</td>\n",
              "      <td>10.38</td>\n",
              "      <td>122.80</td>\n",
              "      <td>1001.0</td>\n",
              "      <td>0.11840</td>\n",
              "      <td>0.27760</td>\n",
              "      <td>0.3001</td>\n",
              "      <td>0.14710</td>\n",
              "      <td>0.2419</td>\n",
              "      <td>0.07871</td>\n",
              "      <td>1.0950</td>\n",
              "      <td>0.9053</td>\n",
              "      <td>8.589</td>\n",
              "      <td>153.40</td>\n",
              "      <td>0.006399</td>\n",
              "      <td>0.04904</td>\n",
              "      <td>0.05373</td>\n",
              "      <td>0.01587</td>\n",
              "      <td>0.03003</td>\n",
              "      <td>0.006193</td>\n",
              "      <td>25.38</td>\n",
              "      <td>17.33</td>\n",
              "      <td>184.60</td>\n",
              "      <td>2019.0</td>\n",
              "      <td>0.1622</td>\n",
              "      <td>0.6656</td>\n",
              "      <td>0.7119</td>\n",
              "      <td>0.2654</td>\n",
              "      <td>0.4601</td>\n",
              "      <td>0.11890</td>\n",
              "    </tr>\n",
              "    <tr>\n",
              "      <th>1</th>\n",
              "      <td>842517</td>\n",
              "      <td>1</td>\n",
              "      <td>20.57</td>\n",
              "      <td>17.77</td>\n",
              "      <td>132.90</td>\n",
              "      <td>1326.0</td>\n",
              "      <td>0.08474</td>\n",
              "      <td>0.07864</td>\n",
              "      <td>0.0869</td>\n",
              "      <td>0.07017</td>\n",
              "      <td>0.1812</td>\n",
              "      <td>0.05667</td>\n",
              "      <td>0.5435</td>\n",
              "      <td>0.7339</td>\n",
              "      <td>3.398</td>\n",
              "      <td>74.08</td>\n",
              "      <td>0.005225</td>\n",
              "      <td>0.01308</td>\n",
              "      <td>0.01860</td>\n",
              "      <td>0.01340</td>\n",
              "      <td>0.01389</td>\n",
              "      <td>0.003532</td>\n",
              "      <td>24.99</td>\n",
              "      <td>23.41</td>\n",
              "      <td>158.80</td>\n",
              "      <td>1956.0</td>\n",
              "      <td>0.1238</td>\n",
              "      <td>0.1866</td>\n",
              "      <td>0.2416</td>\n",
              "      <td>0.1860</td>\n",
              "      <td>0.2750</td>\n",
              "      <td>0.08902</td>\n",
              "    </tr>\n",
              "    <tr>\n",
              "      <th>2</th>\n",
              "      <td>84300903</td>\n",
              "      <td>1</td>\n",
              "      <td>19.69</td>\n",
              "      <td>21.25</td>\n",
              "      <td>130.00</td>\n",
              "      <td>1203.0</td>\n",
              "      <td>0.10960</td>\n",
              "      <td>0.15990</td>\n",
              "      <td>0.1974</td>\n",
              "      <td>0.12790</td>\n",
              "      <td>0.2069</td>\n",
              "      <td>0.05999</td>\n",
              "      <td>0.7456</td>\n",
              "      <td>0.7869</td>\n",
              "      <td>4.585</td>\n",
              "      <td>94.03</td>\n",
              "      <td>0.006150</td>\n",
              "      <td>0.04006</td>\n",
              "      <td>0.03832</td>\n",
              "      <td>0.02058</td>\n",
              "      <td>0.02250</td>\n",
              "      <td>0.004571</td>\n",
              "      <td>23.57</td>\n",
              "      <td>25.53</td>\n",
              "      <td>152.50</td>\n",
              "      <td>1709.0</td>\n",
              "      <td>0.1444</td>\n",
              "      <td>0.4245</td>\n",
              "      <td>0.4504</td>\n",
              "      <td>0.2430</td>\n",
              "      <td>0.3613</td>\n",
              "      <td>0.08758</td>\n",
              "    </tr>\n",
              "    <tr>\n",
              "      <th>3</th>\n",
              "      <td>84348301</td>\n",
              "      <td>1</td>\n",
              "      <td>11.42</td>\n",
              "      <td>20.38</td>\n",
              "      <td>77.58</td>\n",
              "      <td>386.1</td>\n",
              "      <td>0.14250</td>\n",
              "      <td>0.28390</td>\n",
              "      <td>0.2414</td>\n",
              "      <td>0.10520</td>\n",
              "      <td>0.2597</td>\n",
              "      <td>0.09744</td>\n",
              "      <td>0.4956</td>\n",
              "      <td>1.1560</td>\n",
              "      <td>3.445</td>\n",
              "      <td>27.23</td>\n",
              "      <td>0.009110</td>\n",
              "      <td>0.07458</td>\n",
              "      <td>0.05661</td>\n",
              "      <td>0.01867</td>\n",
              "      <td>0.05963</td>\n",
              "      <td>0.009208</td>\n",
              "      <td>14.91</td>\n",
              "      <td>26.50</td>\n",
              "      <td>98.87</td>\n",
              "      <td>567.7</td>\n",
              "      <td>0.2098</td>\n",
              "      <td>0.8663</td>\n",
              "      <td>0.6869</td>\n",
              "      <td>0.2575</td>\n",
              "      <td>0.6638</td>\n",
              "      <td>0.17300</td>\n",
              "    </tr>\n",
              "    <tr>\n",
              "      <th>4</th>\n",
              "      <td>84358402</td>\n",
              "      <td>1</td>\n",
              "      <td>20.29</td>\n",
              "      <td>14.34</td>\n",
              "      <td>135.10</td>\n",
              "      <td>1297.0</td>\n",
              "      <td>0.10030</td>\n",
              "      <td>0.13280</td>\n",
              "      <td>0.1980</td>\n",
              "      <td>0.10430</td>\n",
              "      <td>0.1809</td>\n",
              "      <td>0.05883</td>\n",
              "      <td>0.7572</td>\n",
              "      <td>0.7813</td>\n",
              "      <td>5.438</td>\n",
              "      <td>94.44</td>\n",
              "      <td>0.011490</td>\n",
              "      <td>0.02461</td>\n",
              "      <td>0.05688</td>\n",
              "      <td>0.01885</td>\n",
              "      <td>0.01756</td>\n",
              "      <td>0.005115</td>\n",
              "      <td>22.54</td>\n",
              "      <td>16.67</td>\n",
              "      <td>152.20</td>\n",
              "      <td>1575.0</td>\n",
              "      <td>0.1374</td>\n",
              "      <td>0.2050</td>\n",
              "      <td>0.4000</td>\n",
              "      <td>0.1625</td>\n",
              "      <td>0.2364</td>\n",
              "      <td>0.07678</td>\n",
              "    </tr>\n",
              "  </tbody>\n",
              "</table>\n",
              "</div>"
            ],
            "text/plain": [
              "         id  diagnosis  ...  symmetry_worst  fractal_dimension_worst\n",
              "0    842302          1  ...          0.4601                  0.11890\n",
              "1    842517          1  ...          0.2750                  0.08902\n",
              "2  84300903          1  ...          0.3613                  0.08758\n",
              "3  84348301          1  ...          0.6638                  0.17300\n",
              "4  84358402          1  ...          0.2364                  0.07678\n",
              "\n",
              "[5 rows x 32 columns]"
            ]
          },
          "metadata": {
            "tags": []
          },
          "execution_count": 66
        }
      ]
    },
    {
      "cell_type": "code",
      "metadata": {
        "id": "29e_kcjxmvYI",
        "colab_type": "code",
        "colab": {
          "base_uri": "https://localhost:8080/",
          "height": 571
        },
        "outputId": "73844230-6798-481f-8c03-5140b8520f57"
      },
      "source": [
        "df.isnull().sum()"
      ],
      "execution_count": 67,
      "outputs": [
        {
          "output_type": "execute_result",
          "data": {
            "text/plain": [
              "id                         0\n",
              "diagnosis                  0\n",
              "radius_mean                0\n",
              "texture_mean               0\n",
              "perimeter_mean             0\n",
              "area_mean                  0\n",
              "smoothness_mean            0\n",
              "compactness_mean           0\n",
              "concavity_mean             0\n",
              "concave points_mean        0\n",
              "symmetry_mean              0\n",
              "fractal_dimension_mean     0\n",
              "radius_se                  0\n",
              "texture_se                 0\n",
              "perimeter_se               0\n",
              "area_se                    0\n",
              "smoothness_se              0\n",
              "compactness_se             0\n",
              "concavity_se               0\n",
              "concave points_se          0\n",
              "symmetry_se                0\n",
              "fractal_dimension_se       0\n",
              "radius_worst               0\n",
              "texture_worst              0\n",
              "perimeter_worst            0\n",
              "area_worst                 0\n",
              "smoothness_worst           0\n",
              "compactness_worst          0\n",
              "concavity_worst            0\n",
              "concave points_worst       0\n",
              "symmetry_worst             0\n",
              "fractal_dimension_worst    0\n",
              "dtype: int64"
            ]
          },
          "metadata": {
            "tags": []
          },
          "execution_count": 67
        }
      ]
    },
    {
      "cell_type": "code",
      "metadata": {
        "id": "77pNUiNTmzyO",
        "colab_type": "code",
        "colab": {}
      },
      "source": [
        "labels = df['diagnosis']"
      ],
      "execution_count": 0,
      "outputs": []
    },
    {
      "cell_type": "code",
      "metadata": {
        "id": "4BBwvOKenDN7",
        "colab_type": "code",
        "colab": {
          "base_uri": "https://localhost:8080/",
          "height": 454
        },
        "outputId": "0da3cadf-225d-4099-e150-4e2a091c6955"
      },
      "source": [
        "labels_value = labels.values\n",
        "labels_value"
      ],
      "execution_count": 69,
      "outputs": [
        {
          "output_type": "execute_result",
          "data": {
            "text/plain": [
              "array([1, 1, 1, 1, 1, 1, 1, 1, 1, 1, 1, 1, 1, 1, 1, 1, 1, 1, 1, 0, 0, 0,\n",
              "       1, 1, 1, 1, 1, 1, 1, 1, 1, 1, 1, 1, 1, 1, 1, 0, 1, 1, 1, 1, 1, 1,\n",
              "       1, 1, 0, 1, 0, 0, 0, 0, 0, 1, 1, 0, 1, 1, 0, 0, 0, 0, 1, 0, 1, 1,\n",
              "       0, 0, 0, 0, 1, 0, 1, 1, 0, 1, 0, 1, 1, 0, 0, 0, 1, 1, 0, 1, 1, 1,\n",
              "       0, 0, 0, 1, 0, 0, 1, 1, 0, 0, 0, 1, 1, 0, 0, 0, 0, 1, 0, 0, 1, 0,\n",
              "       0, 0, 0, 0, 0, 0, 0, 1, 1, 1, 0, 1, 1, 0, 0, 0, 1, 1, 0, 1, 0, 1,\n",
              "       1, 0, 1, 1, 0, 0, 1, 0, 0, 1, 0, 0, 0, 0, 1, 0, 0, 0, 0, 0, 0, 0,\n",
              "       0, 0, 1, 0, 0, 0, 0, 1, 1, 0, 1, 0, 0, 1, 1, 0, 0, 1, 1, 0, 0, 0,\n",
              "       0, 1, 0, 0, 1, 1, 1, 0, 1, 0, 1, 0, 0, 0, 1, 0, 0, 1, 1, 0, 1, 1,\n",
              "       1, 1, 0, 1, 1, 1, 0, 1, 0, 1, 0, 0, 1, 0, 1, 1, 1, 1, 0, 0, 1, 1,\n",
              "       0, 0, 0, 1, 0, 0, 0, 0, 0, 1, 1, 0, 0, 1, 0, 0, 1, 1, 0, 1, 0, 0,\n",
              "       0, 0, 1, 0, 0, 0, 0, 0, 1, 0, 1, 1, 1, 1, 1, 1, 1, 1, 1, 1, 1, 1,\n",
              "       1, 1, 0, 0, 0, 0, 0, 0, 1, 0, 1, 0, 0, 1, 0, 0, 1, 0, 1, 1, 0, 0,\n",
              "       0, 0, 0, 0, 0, 0, 0, 0, 0, 0, 0, 1, 0, 0, 1, 0, 1, 0, 0, 0, 0, 0,\n",
              "       0, 0, 0, 0, 0, 0, 0, 0, 0, 1, 0, 0, 0, 1, 0, 1, 0, 0, 0, 0, 1, 1,\n",
              "       1, 0, 0, 0, 0, 1, 0, 1, 0, 1, 0, 0, 0, 1, 0, 0, 0, 0, 0, 0, 0, 1,\n",
              "       1, 1, 0, 0, 0, 0, 0, 0, 0, 0, 0, 0, 0, 1, 1, 0, 1, 1, 1, 0, 1, 1,\n",
              "       0, 0, 0, 0, 0, 1, 0, 0, 0, 0, 0, 1, 0, 0, 0, 1, 0, 0, 1, 1, 0, 0,\n",
              "       0, 0, 0, 0, 1, 0, 0, 0, 0, 0, 0, 0, 1, 0, 0, 0, 0, 0, 1, 0, 0, 1,\n",
              "       0, 0, 0, 0, 0, 0, 0, 0, 0, 0, 0, 0, 1, 0, 1, 1, 0, 1, 0, 0, 0, 0,\n",
              "       0, 1, 0, 0, 1, 0, 1, 0, 0, 1, 0, 1, 0, 0, 0, 0, 0, 0, 0, 0, 1, 1,\n",
              "       0, 0, 0, 0, 0, 0, 1, 0, 0, 0, 0, 0, 0, 0, 0, 0, 0, 1, 0, 0, 0, 0,\n",
              "       0, 0, 0, 1, 0, 1, 0, 0, 1, 0, 0, 0, 0, 0, 1, 1, 0, 1, 0, 1, 0, 0,\n",
              "       0, 0, 0, 1, 0, 0, 1, 0, 1, 0, 1, 1, 0, 0, 0, 1, 0, 0, 0, 0, 0, 0,\n",
              "       0, 0, 0, 0, 0, 1, 0, 1, 1, 0, 0, 0, 0, 0, 0, 0, 0, 0, 0, 0, 0, 0,\n",
              "       0, 0, 0, 0, 0, 0, 0, 0, 0, 0, 0, 0, 1, 1, 1, 1, 1, 1, 0])"
            ]
          },
          "metadata": {
            "tags": []
          },
          "execution_count": 69
        }
      ]
    },
    {
      "cell_type": "code",
      "metadata": {
        "id": "iW1Tg6MGnEO7",
        "colab_type": "code",
        "colab": {
          "base_uri": "https://localhost:8080/",
          "height": 232
        },
        "outputId": "0cd32331-de05-4d7d-89a8-ade5115e1bf6"
      },
      "source": [
        "df = df.drop(['diagnosis','id'],axis=1)\n",
        "df.head()"
      ],
      "execution_count": 70,
      "outputs": [
        {
          "output_type": "execute_result",
          "data": {
            "text/html": [
              "<div>\n",
              "<style scoped>\n",
              "    .dataframe tbody tr th:only-of-type {\n",
              "        vertical-align: middle;\n",
              "    }\n",
              "\n",
              "    .dataframe tbody tr th {\n",
              "        vertical-align: top;\n",
              "    }\n",
              "\n",
              "    .dataframe thead th {\n",
              "        text-align: right;\n",
              "    }\n",
              "</style>\n",
              "<table border=\"1\" class=\"dataframe\">\n",
              "  <thead>\n",
              "    <tr style=\"text-align: right;\">\n",
              "      <th></th>\n",
              "      <th>radius_mean</th>\n",
              "      <th>texture_mean</th>\n",
              "      <th>perimeter_mean</th>\n",
              "      <th>area_mean</th>\n",
              "      <th>smoothness_mean</th>\n",
              "      <th>compactness_mean</th>\n",
              "      <th>concavity_mean</th>\n",
              "      <th>concave points_mean</th>\n",
              "      <th>symmetry_mean</th>\n",
              "      <th>fractal_dimension_mean</th>\n",
              "      <th>radius_se</th>\n",
              "      <th>texture_se</th>\n",
              "      <th>perimeter_se</th>\n",
              "      <th>area_se</th>\n",
              "      <th>smoothness_se</th>\n",
              "      <th>compactness_se</th>\n",
              "      <th>concavity_se</th>\n",
              "      <th>concave points_se</th>\n",
              "      <th>symmetry_se</th>\n",
              "      <th>fractal_dimension_se</th>\n",
              "      <th>radius_worst</th>\n",
              "      <th>texture_worst</th>\n",
              "      <th>perimeter_worst</th>\n",
              "      <th>area_worst</th>\n",
              "      <th>smoothness_worst</th>\n",
              "      <th>compactness_worst</th>\n",
              "      <th>concavity_worst</th>\n",
              "      <th>concave points_worst</th>\n",
              "      <th>symmetry_worst</th>\n",
              "      <th>fractal_dimension_worst</th>\n",
              "    </tr>\n",
              "  </thead>\n",
              "  <tbody>\n",
              "    <tr>\n",
              "      <th>0</th>\n",
              "      <td>17.99</td>\n",
              "      <td>10.38</td>\n",
              "      <td>122.80</td>\n",
              "      <td>1001.0</td>\n",
              "      <td>0.11840</td>\n",
              "      <td>0.27760</td>\n",
              "      <td>0.3001</td>\n",
              "      <td>0.14710</td>\n",
              "      <td>0.2419</td>\n",
              "      <td>0.07871</td>\n",
              "      <td>1.0950</td>\n",
              "      <td>0.9053</td>\n",
              "      <td>8.589</td>\n",
              "      <td>153.40</td>\n",
              "      <td>0.006399</td>\n",
              "      <td>0.04904</td>\n",
              "      <td>0.05373</td>\n",
              "      <td>0.01587</td>\n",
              "      <td>0.03003</td>\n",
              "      <td>0.006193</td>\n",
              "      <td>25.38</td>\n",
              "      <td>17.33</td>\n",
              "      <td>184.60</td>\n",
              "      <td>2019.0</td>\n",
              "      <td>0.1622</td>\n",
              "      <td>0.6656</td>\n",
              "      <td>0.7119</td>\n",
              "      <td>0.2654</td>\n",
              "      <td>0.4601</td>\n",
              "      <td>0.11890</td>\n",
              "    </tr>\n",
              "    <tr>\n",
              "      <th>1</th>\n",
              "      <td>20.57</td>\n",
              "      <td>17.77</td>\n",
              "      <td>132.90</td>\n",
              "      <td>1326.0</td>\n",
              "      <td>0.08474</td>\n",
              "      <td>0.07864</td>\n",
              "      <td>0.0869</td>\n",
              "      <td>0.07017</td>\n",
              "      <td>0.1812</td>\n",
              "      <td>0.05667</td>\n",
              "      <td>0.5435</td>\n",
              "      <td>0.7339</td>\n",
              "      <td>3.398</td>\n",
              "      <td>74.08</td>\n",
              "      <td>0.005225</td>\n",
              "      <td>0.01308</td>\n",
              "      <td>0.01860</td>\n",
              "      <td>0.01340</td>\n",
              "      <td>0.01389</td>\n",
              "      <td>0.003532</td>\n",
              "      <td>24.99</td>\n",
              "      <td>23.41</td>\n",
              "      <td>158.80</td>\n",
              "      <td>1956.0</td>\n",
              "      <td>0.1238</td>\n",
              "      <td>0.1866</td>\n",
              "      <td>0.2416</td>\n",
              "      <td>0.1860</td>\n",
              "      <td>0.2750</td>\n",
              "      <td>0.08902</td>\n",
              "    </tr>\n",
              "    <tr>\n",
              "      <th>2</th>\n",
              "      <td>19.69</td>\n",
              "      <td>21.25</td>\n",
              "      <td>130.00</td>\n",
              "      <td>1203.0</td>\n",
              "      <td>0.10960</td>\n",
              "      <td>0.15990</td>\n",
              "      <td>0.1974</td>\n",
              "      <td>0.12790</td>\n",
              "      <td>0.2069</td>\n",
              "      <td>0.05999</td>\n",
              "      <td>0.7456</td>\n",
              "      <td>0.7869</td>\n",
              "      <td>4.585</td>\n",
              "      <td>94.03</td>\n",
              "      <td>0.006150</td>\n",
              "      <td>0.04006</td>\n",
              "      <td>0.03832</td>\n",
              "      <td>0.02058</td>\n",
              "      <td>0.02250</td>\n",
              "      <td>0.004571</td>\n",
              "      <td>23.57</td>\n",
              "      <td>25.53</td>\n",
              "      <td>152.50</td>\n",
              "      <td>1709.0</td>\n",
              "      <td>0.1444</td>\n",
              "      <td>0.4245</td>\n",
              "      <td>0.4504</td>\n",
              "      <td>0.2430</td>\n",
              "      <td>0.3613</td>\n",
              "      <td>0.08758</td>\n",
              "    </tr>\n",
              "    <tr>\n",
              "      <th>3</th>\n",
              "      <td>11.42</td>\n",
              "      <td>20.38</td>\n",
              "      <td>77.58</td>\n",
              "      <td>386.1</td>\n",
              "      <td>0.14250</td>\n",
              "      <td>0.28390</td>\n",
              "      <td>0.2414</td>\n",
              "      <td>0.10520</td>\n",
              "      <td>0.2597</td>\n",
              "      <td>0.09744</td>\n",
              "      <td>0.4956</td>\n",
              "      <td>1.1560</td>\n",
              "      <td>3.445</td>\n",
              "      <td>27.23</td>\n",
              "      <td>0.009110</td>\n",
              "      <td>0.07458</td>\n",
              "      <td>0.05661</td>\n",
              "      <td>0.01867</td>\n",
              "      <td>0.05963</td>\n",
              "      <td>0.009208</td>\n",
              "      <td>14.91</td>\n",
              "      <td>26.50</td>\n",
              "      <td>98.87</td>\n",
              "      <td>567.7</td>\n",
              "      <td>0.2098</td>\n",
              "      <td>0.8663</td>\n",
              "      <td>0.6869</td>\n",
              "      <td>0.2575</td>\n",
              "      <td>0.6638</td>\n",
              "      <td>0.17300</td>\n",
              "    </tr>\n",
              "    <tr>\n",
              "      <th>4</th>\n",
              "      <td>20.29</td>\n",
              "      <td>14.34</td>\n",
              "      <td>135.10</td>\n",
              "      <td>1297.0</td>\n",
              "      <td>0.10030</td>\n",
              "      <td>0.13280</td>\n",
              "      <td>0.1980</td>\n",
              "      <td>0.10430</td>\n",
              "      <td>0.1809</td>\n",
              "      <td>0.05883</td>\n",
              "      <td>0.7572</td>\n",
              "      <td>0.7813</td>\n",
              "      <td>5.438</td>\n",
              "      <td>94.44</td>\n",
              "      <td>0.011490</td>\n",
              "      <td>0.02461</td>\n",
              "      <td>0.05688</td>\n",
              "      <td>0.01885</td>\n",
              "      <td>0.01756</td>\n",
              "      <td>0.005115</td>\n",
              "      <td>22.54</td>\n",
              "      <td>16.67</td>\n",
              "      <td>152.20</td>\n",
              "      <td>1575.0</td>\n",
              "      <td>0.1374</td>\n",
              "      <td>0.2050</td>\n",
              "      <td>0.4000</td>\n",
              "      <td>0.1625</td>\n",
              "      <td>0.2364</td>\n",
              "      <td>0.07678</td>\n",
              "    </tr>\n",
              "  </tbody>\n",
              "</table>\n",
              "</div>"
            ],
            "text/plain": [
              "   radius_mean  texture_mean  ...  symmetry_worst  fractal_dimension_worst\n",
              "0        17.99         10.38  ...          0.4601                  0.11890\n",
              "1        20.57         17.77  ...          0.2750                  0.08902\n",
              "2        19.69         21.25  ...          0.3613                  0.08758\n",
              "3        11.42         20.38  ...          0.6638                  0.17300\n",
              "4        20.29         14.34  ...          0.2364                  0.07678\n",
              "\n",
              "[5 rows x 30 columns]"
            ]
          },
          "metadata": {
            "tags": []
          },
          "execution_count": 70
        }
      ]
    },
    {
      "cell_type": "code",
      "metadata": {
        "id": "zBbVyo9MncvQ",
        "colab_type": "code",
        "colab": {}
      },
      "source": [
        "data_value = df.values"
      ],
      "execution_count": 0,
      "outputs": []
    },
    {
      "cell_type": "code",
      "metadata": {
        "id": "P5v5wEZEnrBH",
        "colab_type": "code",
        "colab": {
          "base_uri": "https://localhost:8080/",
          "height": 235
        },
        "outputId": "7a255423-50e7-4c95-b0f7-ab8c8f8a76f1"
      },
      "source": [
        "data_value"
      ],
      "execution_count": 72,
      "outputs": [
        {
          "output_type": "execute_result",
          "data": {
            "text/plain": [
              "array([[1.799e+01, 1.038e+01, 1.228e+02, ..., 2.654e-01, 4.601e-01,\n",
              "        1.189e-01],\n",
              "       [2.057e+01, 1.777e+01, 1.329e+02, ..., 1.860e-01, 2.750e-01,\n",
              "        8.902e-02],\n",
              "       [1.969e+01, 2.125e+01, 1.300e+02, ..., 2.430e-01, 3.613e-01,\n",
              "        8.758e-02],\n",
              "       ...,\n",
              "       [1.660e+01, 2.808e+01, 1.083e+02, ..., 1.418e-01, 2.218e-01,\n",
              "        7.820e-02],\n",
              "       [2.060e+01, 2.933e+01, 1.401e+02, ..., 2.650e-01, 4.087e-01,\n",
              "        1.240e-01],\n",
              "       [7.760e+00, 2.454e+01, 4.792e+01, ..., 0.000e+00, 2.871e-01,\n",
              "        7.039e-02]])"
            ]
          },
          "metadata": {
            "tags": []
          },
          "execution_count": 72
        }
      ]
    },
    {
      "cell_type": "code",
      "metadata": {
        "id": "TRXt0QMYnsWg",
        "colab_type": "code",
        "colab": {
          "base_uri": "https://localhost:8080/",
          "height": 34
        },
        "outputId": "3c92775e-90f2-4720-9255-f2c773de3f59"
      },
      "source": [
        "batch_size = 20\n",
        "data_value.shape"
      ],
      "execution_count": 73,
      "outputs": [
        {
          "output_type": "execute_result",
          "data": {
            "text/plain": [
              "(569, 30)"
            ]
          },
          "metadata": {
            "tags": []
          },
          "execution_count": 73
        }
      ]
    },
    {
      "cell_type": "code",
      "metadata": {
        "id": "TNVM4toHoGpQ",
        "colab_type": "code",
        "colab": {}
      },
      "source": [
        "train_size = int(data_value.shape[0]*.9)"
      ],
      "execution_count": 0,
      "outputs": []
    },
    {
      "cell_type": "code",
      "metadata": {
        "id": "kdcXYa4gosm4",
        "colab_type": "code",
        "colab": {
          "base_uri": "https://localhost:8080/",
          "height": 34
        },
        "outputId": "210a5272-b46e-4276-ad28-afd12c2808a4"
      },
      "source": [
        "print(train_size)"
      ],
      "execution_count": 75,
      "outputs": [
        {
          "output_type": "stream",
          "text": [
            "512\n"
          ],
          "name": "stdout"
        }
      ]
    },
    {
      "cell_type": "code",
      "metadata": {
        "id": "k4-42We7ouyV",
        "colab_type": "code",
        "colab": {}
      },
      "source": [
        "## now we make train iter and test iter\n",
        "train_iter = mx.io.NDArrayIter(data = data_value[:train_size],label = labels_value[:train_size],batch_size=batch_size)\n",
        "test_iter = mx.io.NDArrayIter(data = data_value[train_size:],label = labels_value[train_size:],batch_size=batch_size)"
      ],
      "execution_count": 0,
      "outputs": []
    },
    {
      "cell_type": "code",
      "metadata": {
        "id": "DLEWFrCgpUOX",
        "colab_type": "code",
        "colab": {}
      },
      "source": [
        "### define a neural network in MXNET\n",
        "net = mx.sym.Variable('data')   #### place holder for the data\n",
        "net = mx.sym.FullyConnected(net,name='fc1',num_hidden=250) ## 250 neuron\n",
        "net = mx.sym.Activation(net,name='relu1',act_type='relu') ## relu activation function\n",
        "net = mx.sym.FullyConnected(net,name='fc2',num_hidden=64) ## 64 neuron\n",
        "net = mx.sym.Activation(net,name='relu2',act_type='relu') ## relu activation function\n",
        "net = mx.sym.FullyConnected(net,name='fc3',num_hidden=8) ## 8 neuron\n",
        "net = mx.sym.SoftmaxOutput(net,name='softmax')\n"
      ],
      "execution_count": 0,
      "outputs": []
    },
    {
      "cell_type": "code",
      "metadata": {
        "id": "S7XjSL4gqxFt",
        "colab_type": "code",
        "colab": {
          "base_uri": "https://localhost:8080/",
          "height": 861
        },
        "outputId": "1cc8f1a6-3997-4199-c1f9-966dc937bab4"
      },
      "source": [
        "mx.viz.plot_network(net)"
      ],
      "execution_count": 78,
      "outputs": [
        {
          "output_type": "execute_result",
          "data": {
            "text/plain": [
              "<graphviz.dot.Digraph at 0x7fc6dd017208>"
            ],
            "image/svg+xml": "<?xml version=\"1.0\" encoding=\"UTF-8\" standalone=\"no\"?>\n<!DOCTYPE svg PUBLIC \"-//W3C//DTD SVG 1.1//EN\"\n \"http://www.w3.org/Graphics/SVG/1.1/DTD/svg11.dtd\">\n<!-- Generated by graphviz version 2.40.1 (20161225.0304)\n -->\n<!-- Title: plot Pages: 1 -->\n<svg width=\"214pt\" height=\"630pt\"\n viewBox=\"0.00 0.00 214.00 630.00\" xmlns=\"http://www.w3.org/2000/svg\" xmlns:xlink=\"http://www.w3.org/1999/xlink\">\n<g id=\"graph0\" class=\"graph\" transform=\"scale(1 1) rotate(0) translate(4 626)\">\n<title>plot</title>\n<polygon fill=\"#ffffff\" stroke=\"transparent\" points=\"-4,4 -4,-626 210,-626 210,4 -4,4\"/>\n<!-- data -->\n<g id=\"node1\" class=\"node\">\n<title>data</title>\n<ellipse fill=\"#8dd3c7\" stroke=\"#000000\" cx=\"47\" cy=\"-29\" rx=\"47\" ry=\"29\"/>\n<text text-anchor=\"middle\" x=\"47\" y=\"-25.3\" font-family=\"Times,serif\" font-size=\"14.00\" fill=\"#000000\">data</text>\n</g>\n<!-- fc1 -->\n<g id=\"node2\" class=\"node\">\n<title>fc1</title>\n<polygon fill=\"#fb8072\" stroke=\"#000000\" points=\"94,-152 0,-152 0,-94 94,-94 94,-152\"/>\n<text text-anchor=\"middle\" x=\"47\" y=\"-126.8\" font-family=\"Times,serif\" font-size=\"14.00\" fill=\"#000000\">FullyConnected</text>\n<text text-anchor=\"middle\" x=\"47\" y=\"-111.8\" font-family=\"Times,serif\" font-size=\"14.00\" fill=\"#000000\">250</text>\n</g>\n<!-- fc1&#45;&gt;data -->\n<g id=\"edge1\" class=\"edge\">\n<title>fc1&#45;&gt;data</title>\n<path fill=\"none\" stroke=\"#000000\" d=\"M47,-83.6321C47,-75.1148 47,-66.2539 47,-58.2088\"/>\n<polygon fill=\"#000000\" stroke=\"#000000\" points=\"47,-93.7731 42.5001,-83.773 47,-88.7731 47.0001,-83.7731 47.0001,-83.7731 47.0001,-83.7731 47,-88.7731 51.5001,-83.7731 47,-93.7731 47,-93.7731\"/>\n</g>\n<!-- relu1 -->\n<g id=\"node3\" class=\"node\">\n<title>relu1</title>\n<polygon fill=\"#ffffb3\" stroke=\"#000000\" points=\"94,-246 0,-246 0,-188 94,-188 94,-246\"/>\n<text text-anchor=\"middle\" x=\"47\" y=\"-220.8\" font-family=\"Times,serif\" font-size=\"14.00\" fill=\"#000000\">Activation</text>\n<text text-anchor=\"middle\" x=\"47\" y=\"-205.8\" font-family=\"Times,serif\" font-size=\"14.00\" fill=\"#000000\">relu</text>\n</g>\n<!-- relu1&#45;&gt;fc1 -->\n<g id=\"edge2\" class=\"edge\">\n<title>relu1&#45;&gt;fc1</title>\n<path fill=\"none\" stroke=\"#000000\" d=\"M47,-177.6321C47,-169.1148 47,-160.2539 47,-152.2088\"/>\n<polygon fill=\"#000000\" stroke=\"#000000\" points=\"47,-187.7731 42.5001,-177.773 47,-182.7731 47.0001,-177.7731 47.0001,-177.7731 47.0001,-177.7731 47,-182.7731 51.5001,-177.7731 47,-187.7731 47,-187.7731\"/>\n</g>\n<!-- fc2 -->\n<g id=\"node4\" class=\"node\">\n<title>fc2</title>\n<polygon fill=\"#fb8072\" stroke=\"#000000\" points=\"94,-340 0,-340 0,-282 94,-282 94,-340\"/>\n<text text-anchor=\"middle\" x=\"47\" y=\"-314.8\" font-family=\"Times,serif\" font-size=\"14.00\" fill=\"#000000\">FullyConnected</text>\n<text text-anchor=\"middle\" x=\"47\" y=\"-299.8\" font-family=\"Times,serif\" font-size=\"14.00\" fill=\"#000000\">64</text>\n</g>\n<!-- fc2&#45;&gt;relu1 -->\n<g id=\"edge3\" class=\"edge\">\n<title>fc2&#45;&gt;relu1</title>\n<path fill=\"none\" stroke=\"#000000\" d=\"M47,-271.6321C47,-263.1148 47,-254.2539 47,-246.2088\"/>\n<polygon fill=\"#000000\" stroke=\"#000000\" points=\"47,-281.7731 42.5001,-271.773 47,-276.7731 47.0001,-271.7731 47.0001,-271.7731 47.0001,-271.7731 47,-276.7731 51.5001,-271.7731 47,-281.7731 47,-281.7731\"/>\n</g>\n<!-- relu2 -->\n<g id=\"node5\" class=\"node\">\n<title>relu2</title>\n<polygon fill=\"#ffffb3\" stroke=\"#000000\" points=\"94,-434 0,-434 0,-376 94,-376 94,-434\"/>\n<text text-anchor=\"middle\" x=\"47\" y=\"-408.8\" font-family=\"Times,serif\" font-size=\"14.00\" fill=\"#000000\">Activation</text>\n<text text-anchor=\"middle\" x=\"47\" y=\"-393.8\" font-family=\"Times,serif\" font-size=\"14.00\" fill=\"#000000\">relu</text>\n</g>\n<!-- relu2&#45;&gt;fc2 -->\n<g id=\"edge4\" class=\"edge\">\n<title>relu2&#45;&gt;fc2</title>\n<path fill=\"none\" stroke=\"#000000\" d=\"M47,-365.6321C47,-357.1148 47,-348.2539 47,-340.2088\"/>\n<polygon fill=\"#000000\" stroke=\"#000000\" points=\"47,-375.7731 42.5001,-365.773 47,-370.7731 47.0001,-365.7731 47.0001,-365.7731 47.0001,-365.7731 47,-370.7731 51.5001,-365.7731 47,-375.7731 47,-375.7731\"/>\n</g>\n<!-- fc3 -->\n<g id=\"node6\" class=\"node\">\n<title>fc3</title>\n<polygon fill=\"#fb8072\" stroke=\"#000000\" points=\"94,-528 0,-528 0,-470 94,-470 94,-528\"/>\n<text text-anchor=\"middle\" x=\"47\" y=\"-502.8\" font-family=\"Times,serif\" font-size=\"14.00\" fill=\"#000000\">FullyConnected</text>\n<text text-anchor=\"middle\" x=\"47\" y=\"-487.8\" font-family=\"Times,serif\" font-size=\"14.00\" fill=\"#000000\">8</text>\n</g>\n<!-- fc3&#45;&gt;relu2 -->\n<g id=\"edge5\" class=\"edge\">\n<title>fc3&#45;&gt;relu2</title>\n<path fill=\"none\" stroke=\"#000000\" d=\"M47,-459.6321C47,-451.1148 47,-442.2539 47,-434.2088\"/>\n<polygon fill=\"#000000\" stroke=\"#000000\" points=\"47,-469.7731 42.5001,-459.773 47,-464.7731 47.0001,-459.7731 47.0001,-459.7731 47.0001,-459.7731 47,-464.7731 51.5001,-459.7731 47,-469.7731 47,-469.7731\"/>\n</g>\n<!-- softmax_label -->\n<g id=\"node7\" class=\"node\">\n<title>softmax_label</title>\n<ellipse fill=\"#8dd3c7\" stroke=\"#000000\" cx=\"159\" cy=\"-499\" rx=\"47\" ry=\"29\"/>\n<text text-anchor=\"middle\" x=\"159\" y=\"-495.3\" font-family=\"Times,serif\" font-size=\"14.00\" fill=\"#000000\">softmax_label</text>\n</g>\n<!-- softmax -->\n<g id=\"node8\" class=\"node\">\n<title>softmax</title>\n<polygon fill=\"#fccde5\" stroke=\"#000000\" points=\"150,-622 56,-622 56,-564 150,-564 150,-622\"/>\n<text text-anchor=\"middle\" x=\"103\" y=\"-589.3\" font-family=\"Times,serif\" font-size=\"14.00\" fill=\"#000000\">softmax</text>\n</g>\n<!-- softmax&#45;&gt;fc3 -->\n<g id=\"edge6\" class=\"edge\">\n<title>softmax&#45;&gt;fc3</title>\n<path fill=\"none\" stroke=\"#000000\" d=\"M80.3812,-555.0328C75.0542,-546.091 69.4571,-536.6959 64.401,-528.2088\"/>\n<polygon fill=\"#000000\" stroke=\"#000000\" points=\"85.5882,-563.7731 76.6042,-557.4852 83.0292,-559.4776 80.4701,-555.1821 80.4701,-555.1821 80.4701,-555.1821 83.0292,-559.4776 84.3361,-552.8789 85.5882,-563.7731 85.5882,-563.7731\"/>\n</g>\n<!-- softmax&#45;&gt;softmax_label -->\n<g id=\"edge7\" class=\"edge\">\n<title>softmax&#45;&gt;softmax_label</title>\n<path fill=\"none\" stroke=\"#000000\" d=\"M125.5712,-555.1126C131.3182,-545.4659 137.3825,-535.2865 142.7449,-526.2854\"/>\n<polygon fill=\"#000000\" stroke=\"#000000\" points=\"120.4118,-563.7731 121.6639,-552.8789 122.9708,-559.4776 125.5299,-555.1821 125.5299,-555.1821 125.5299,-555.1821 122.9708,-559.4776 129.3958,-557.4852 120.4118,-563.7731 120.4118,-563.7731\"/>\n</g>\n</g>\n</svg>\n"
          },
          "metadata": {
            "tags": []
          },
          "execution_count": 78
        }
      ]
    },
    {
      "cell_type": "code",
      "metadata": {
        "id": "TYYmtgR_qyCL",
        "colab_type": "code",
        "colab": {}
      },
      "source": [
        "## wrap with the module function\n",
        "mod = mx.mod.Module(symbol=net,context=mx.cpu(),data_names=['data'],label_names=['softmax_label'])"
      ],
      "execution_count": 0,
      "outputs": []
    },
    {
      "cell_type": "code",
      "metadata": {
        "id": "N1cAudNerY2t",
        "colab_type": "code",
        "colab": {}
      },
      "source": [
        "## bind the data with the graph\n",
        "mod.bind(data_shapes=train_iter.provide_data,label_shapes=train_iter.provide_label)"
      ],
      "execution_count": 0,
      "outputs": []
    },
    {
      "cell_type": "code",
      "metadata": {
        "id": "0BgkxHkMrqFM",
        "colab_type": "code",
        "colab": {}
      },
      "source": [
        "## now we need to initialize the parameter\n",
        "mod.init_params(initializer=mx.init.Uniform(scale=.01))"
      ],
      "execution_count": 0,
      "outputs": []
    },
    {
      "cell_type": "code",
      "metadata": {
        "id": "1_LPDJDMsDVX",
        "colab_type": "code",
        "colab": {}
      },
      "source": [
        "## adding a metrics to the model\n",
        "metric = mx.metric.create('acc')"
      ],
      "execution_count": 0,
      "outputs": []
    },
    {
      "cell_type": "code",
      "metadata": {
        "id": "JnmFGNrtsKbo",
        "colab_type": "code",
        "colab": {}
      },
      "source": [
        "## setting the optimizer\n",
        "lr = 0.001\n",
        "mod.init_optimizer(optimizer='Adam',optimizer_params=(('learning_rate',lr),))"
      ],
      "execution_count": 0,
      "outputs": []
    },
    {
      "cell_type": "code",
      "metadata": {
        "id": "7CMov18_sfb9",
        "colab_type": "code",
        "colab": {
          "base_uri": "https://localhost:8080/",
          "height": 1000
        },
        "outputId": "1f3c4595-6adb-4f2d-fb66-47afffe27fc1"
      },
      "source": [
        "## now we train the model like pytorch module\n",
        "\n",
        "for epochs in range(200):\n",
        "  train_iter.reset() ### after feeding all the data in opne epochs it wilstart again from the beginning\n",
        "  metric.reset() ## every accuracy will be from beginning at every epochs\n",
        "\n",
        "  for batch in train_iter:\n",
        "    ## calculate the forward for every data\n",
        "    mod.forward(batch,is_train=True)\n",
        "    mod.update_metric(metric,batch.label) ## find the metric with the data provided\n",
        "    mod.backward() ## for  calculate the backpropagation\n",
        "    mod.update() ### update value\n",
        "  print(\"Epochs {} Train Accuracy {} \".format(epochs,metric.get()))\n",
        "    \n"
      ],
      "execution_count": 84,
      "outputs": [
        {
          "output_type": "stream",
          "text": [
            "Epochs 0 Train Accuracy ('accuracy', 0.5173076923076924) \n",
            "Epochs 1 Train Accuracy ('accuracy', 0.5615384615384615) \n",
            "Epochs 2 Train Accuracy ('accuracy', 0.34423076923076923) \n",
            "Epochs 3 Train Accuracy ('accuracy', 0.46923076923076923) \n",
            "Epochs 4 Train Accuracy ('accuracy', 0.34615384615384615) \n",
            "Epochs 5 Train Accuracy ('accuracy', 0.5788461538461539) \n",
            "Epochs 6 Train Accuracy ('accuracy', 0.43846153846153846) \n",
            "Epochs 7 Train Accuracy ('accuracy', 0.7115384615384616) \n",
            "Epochs 8 Train Accuracy ('accuracy', 0.7538461538461538) \n",
            "Epochs 9 Train Accuracy ('accuracy', 0.8365384615384616) \n",
            "Epochs 10 Train Accuracy ('accuracy', 0.8519230769230769) \n",
            "Epochs 11 Train Accuracy ('accuracy', 0.8730769230769231) \n",
            "Epochs 12 Train Accuracy ('accuracy', 0.8865384615384615) \n",
            "Epochs 13 Train Accuracy ('accuracy', 0.8923076923076924) \n",
            "Epochs 14 Train Accuracy ('accuracy', 0.8884615384615384) \n",
            "Epochs 15 Train Accuracy ('accuracy', 0.8942307692307693) \n",
            "Epochs 16 Train Accuracy ('accuracy', 0.8961538461538462) \n",
            "Epochs 17 Train Accuracy ('accuracy', 0.9) \n",
            "Epochs 18 Train Accuracy ('accuracy', 0.9019230769230769) \n",
            "Epochs 19 Train Accuracy ('accuracy', 0.9) \n",
            "Epochs 20 Train Accuracy ('accuracy', 0.9038461538461539) \n",
            "Epochs 21 Train Accuracy ('accuracy', 0.9038461538461539) \n",
            "Epochs 22 Train Accuracy ('accuracy', 0.9038461538461539) \n",
            "Epochs 23 Train Accuracy ('accuracy', 0.9038461538461539) \n",
            "Epochs 24 Train Accuracy ('accuracy', 0.8942307692307693) \n",
            "Epochs 25 Train Accuracy ('accuracy', 0.8961538461538462) \n",
            "Epochs 26 Train Accuracy ('accuracy', 0.8923076923076924) \n",
            "Epochs 27 Train Accuracy ('accuracy', 0.8846153846153846) \n",
            "Epochs 28 Train Accuracy ('accuracy', 0.8769230769230769) \n",
            "Epochs 29 Train Accuracy ('accuracy', 0.8846153846153846) \n",
            "Epochs 30 Train Accuracy ('accuracy', 0.8884615384615384) \n",
            "Epochs 31 Train Accuracy ('accuracy', 0.8884615384615384) \n",
            "Epochs 32 Train Accuracy ('accuracy', 0.8865384615384615) \n",
            "Epochs 33 Train Accuracy ('accuracy', 0.8884615384615384) \n",
            "Epochs 34 Train Accuracy ('accuracy', 0.8923076923076924) \n",
            "Epochs 35 Train Accuracy ('accuracy', 0.8923076923076924) \n",
            "Epochs 36 Train Accuracy ('accuracy', 0.8942307692307693) \n",
            "Epochs 37 Train Accuracy ('accuracy', 0.8980769230769231) \n",
            "Epochs 38 Train Accuracy ('accuracy', 0.8980769230769231) \n",
            "Epochs 39 Train Accuracy ('accuracy', 0.9) \n",
            "Epochs 40 Train Accuracy ('accuracy', 0.8980769230769231) \n",
            "Epochs 41 Train Accuracy ('accuracy', 0.9019230769230769) \n",
            "Epochs 42 Train Accuracy ('accuracy', 0.9038461538461539) \n",
            "Epochs 43 Train Accuracy ('accuracy', 0.9038461538461539) \n",
            "Epochs 44 Train Accuracy ('accuracy', 0.9038461538461539) \n",
            "Epochs 45 Train Accuracy ('accuracy', 0.9019230769230769) \n",
            "Epochs 46 Train Accuracy ('accuracy', 0.9019230769230769) \n",
            "Epochs 47 Train Accuracy ('accuracy', 0.9038461538461539) \n",
            "Epochs 48 Train Accuracy ('accuracy', 0.9019230769230769) \n",
            "Epochs 49 Train Accuracy ('accuracy', 0.9038461538461539) \n",
            "Epochs 50 Train Accuracy ('accuracy', 0.9057692307692308) \n",
            "Epochs 51 Train Accuracy ('accuracy', 0.9038461538461539) \n",
            "Epochs 52 Train Accuracy ('accuracy', 0.9096153846153846) \n",
            "Epochs 53 Train Accuracy ('accuracy', 0.9134615384615384) \n",
            "Epochs 54 Train Accuracy ('accuracy', 0.9173076923076923) \n",
            "Epochs 55 Train Accuracy ('accuracy', 0.9153846153846154) \n",
            "Epochs 56 Train Accuracy ('accuracy', 0.9153846153846154) \n",
            "Epochs 57 Train Accuracy ('accuracy', 0.9153846153846154) \n",
            "Epochs 58 Train Accuracy ('accuracy', 0.9096153846153846) \n",
            "Epochs 59 Train Accuracy ('accuracy', 0.9173076923076923) \n",
            "Epochs 60 Train Accuracy ('accuracy', 0.9134615384615384) \n",
            "Epochs 61 Train Accuracy ('accuracy', 0.9096153846153846) \n",
            "Epochs 62 Train Accuracy ('accuracy', 0.9134615384615384) \n",
            "Epochs 63 Train Accuracy ('accuracy', 0.9211538461538461) \n",
            "Epochs 64 Train Accuracy ('accuracy', 0.926923076923077) \n",
            "Epochs 65 Train Accuracy ('accuracy', 0.9326923076923077) \n",
            "Epochs 66 Train Accuracy ('accuracy', 0.9307692307692308) \n",
            "Epochs 67 Train Accuracy ('accuracy', 0.9211538461538461) \n",
            "Epochs 68 Train Accuracy ('accuracy', 0.9346153846153846) \n",
            "Epochs 69 Train Accuracy ('accuracy', 0.926923076923077) \n",
            "Epochs 70 Train Accuracy ('accuracy', 0.9192307692307692) \n",
            "Epochs 71 Train Accuracy ('accuracy', 0.9307692307692308) \n",
            "Epochs 72 Train Accuracy ('accuracy', 0.9346153846153846) \n",
            "Epochs 73 Train Accuracy ('accuracy', 0.9288461538461539) \n",
            "Epochs 74 Train Accuracy ('accuracy', 0.9326923076923077) \n",
            "Epochs 75 Train Accuracy ('accuracy', 0.9365384615384615) \n",
            "Epochs 76 Train Accuracy ('accuracy', 0.9346153846153846) \n",
            "Epochs 77 Train Accuracy ('accuracy', 0.9365384615384615) \n",
            "Epochs 78 Train Accuracy ('accuracy', 0.9326923076923077) \n",
            "Epochs 79 Train Accuracy ('accuracy', 0.926923076923077) \n",
            "Epochs 80 Train Accuracy ('accuracy', 0.9211538461538461) \n",
            "Epochs 81 Train Accuracy ('accuracy', 0.9211538461538461) \n",
            "Epochs 82 Train Accuracy ('accuracy', 0.9134615384615384) \n",
            "Epochs 83 Train Accuracy ('accuracy', 0.9230769230769231) \n",
            "Epochs 84 Train Accuracy ('accuracy', 0.9192307692307692) \n",
            "Epochs 85 Train Accuracy ('accuracy', 0.9192307692307692) \n",
            "Epochs 86 Train Accuracy ('accuracy', 0.925) \n",
            "Epochs 87 Train Accuracy ('accuracy', 0.9192307692307692) \n",
            "Epochs 88 Train Accuracy ('accuracy', 0.9192307692307692) \n",
            "Epochs 89 Train Accuracy ('accuracy', 0.9153846153846154) \n",
            "Epochs 90 Train Accuracy ('accuracy', 0.9192307692307692) \n",
            "Epochs 91 Train Accuracy ('accuracy', 0.9153846153846154) \n",
            "Epochs 92 Train Accuracy ('accuracy', 0.9173076923076923) \n",
            "Epochs 93 Train Accuracy ('accuracy', 0.9211538461538461) \n",
            "Epochs 94 Train Accuracy ('accuracy', 0.9134615384615384) \n",
            "Epochs 95 Train Accuracy ('accuracy', 0.9211538461538461) \n",
            "Epochs 96 Train Accuracy ('accuracy', 0.9173076923076923) \n",
            "Epochs 97 Train Accuracy ('accuracy', 0.9192307692307692) \n",
            "Epochs 98 Train Accuracy ('accuracy', 0.9134615384615384) \n",
            "Epochs 99 Train Accuracy ('accuracy', 0.9153846153846154) \n",
            "Epochs 100 Train Accuracy ('accuracy', 0.9153846153846154) \n",
            "Epochs 101 Train Accuracy ('accuracy', 0.9153846153846154) \n",
            "Epochs 102 Train Accuracy ('accuracy', 0.9192307692307692) \n",
            "Epochs 103 Train Accuracy ('accuracy', 0.9230769230769231) \n",
            "Epochs 104 Train Accuracy ('accuracy', 0.9153846153846154) \n",
            "Epochs 105 Train Accuracy ('accuracy', 0.9134615384615384) \n",
            "Epochs 106 Train Accuracy ('accuracy', 0.9192307692307692) \n",
            "Epochs 107 Train Accuracy ('accuracy', 0.9134615384615384) \n",
            "Epochs 108 Train Accuracy ('accuracy', 0.9192307692307692) \n",
            "Epochs 109 Train Accuracy ('accuracy', 0.9134615384615384) \n",
            "Epochs 110 Train Accuracy ('accuracy', 0.9173076923076923) \n",
            "Epochs 111 Train Accuracy ('accuracy', 0.9153846153846154) \n",
            "Epochs 112 Train Accuracy ('accuracy', 0.9134615384615384) \n",
            "Epochs 113 Train Accuracy ('accuracy', 0.9134615384615384) \n",
            "Epochs 114 Train Accuracy ('accuracy', 0.9173076923076923) \n",
            "Epochs 115 Train Accuracy ('accuracy', 0.9134615384615384) \n",
            "Epochs 116 Train Accuracy ('accuracy', 0.9153846153846154) \n",
            "Epochs 117 Train Accuracy ('accuracy', 0.9173076923076923) \n",
            "Epochs 118 Train Accuracy ('accuracy', 0.9153846153846154) \n",
            "Epochs 119 Train Accuracy ('accuracy', 0.925) \n",
            "Epochs 120 Train Accuracy ('accuracy', 0.925) \n",
            "Epochs 121 Train Accuracy ('accuracy', 0.926923076923077) \n",
            "Epochs 122 Train Accuracy ('accuracy', 0.925) \n",
            "Epochs 123 Train Accuracy ('accuracy', 0.926923076923077) \n",
            "Epochs 124 Train Accuracy ('accuracy', 0.9346153846153846) \n",
            "Epochs 125 Train Accuracy ('accuracy', 0.9365384615384615) \n",
            "Epochs 126 Train Accuracy ('accuracy', 0.9384615384615385) \n",
            "Epochs 127 Train Accuracy ('accuracy', 0.9365384615384615) \n",
            "Epochs 128 Train Accuracy ('accuracy', 0.9307692307692308) \n",
            "Epochs 129 Train Accuracy ('accuracy', 0.9326923076923077) \n",
            "Epochs 130 Train Accuracy ('accuracy', 0.925) \n",
            "Epochs 131 Train Accuracy ('accuracy', 0.9211538461538461) \n",
            "Epochs 132 Train Accuracy ('accuracy', 0.925) \n",
            "Epochs 133 Train Accuracy ('accuracy', 0.926923076923077) \n",
            "Epochs 134 Train Accuracy ('accuracy', 0.925) \n",
            "Epochs 135 Train Accuracy ('accuracy', 0.9211538461538461) \n",
            "Epochs 136 Train Accuracy ('accuracy', 0.925) \n",
            "Epochs 137 Train Accuracy ('accuracy', 0.9288461538461539) \n",
            "Epochs 138 Train Accuracy ('accuracy', 0.9307692307692308) \n",
            "Epochs 139 Train Accuracy ('accuracy', 0.9346153846153846) \n",
            "Epochs 140 Train Accuracy ('accuracy', 0.9173076923076923) \n",
            "Epochs 141 Train Accuracy ('accuracy', 0.9173076923076923) \n",
            "Epochs 142 Train Accuracy ('accuracy', 0.926923076923077) \n",
            "Epochs 143 Train Accuracy ('accuracy', 0.9134615384615384) \n",
            "Epochs 144 Train Accuracy ('accuracy', 0.9192307692307692) \n",
            "Epochs 145 Train Accuracy ('accuracy', 0.9153846153846154) \n",
            "Epochs 146 Train Accuracy ('accuracy', 0.9211538461538461) \n",
            "Epochs 147 Train Accuracy ('accuracy', 0.925) \n",
            "Epochs 148 Train Accuracy ('accuracy', 0.925) \n",
            "Epochs 149 Train Accuracy ('accuracy', 0.9173076923076923) \n",
            "Epochs 150 Train Accuracy ('accuracy', 0.9230769230769231) \n",
            "Epochs 151 Train Accuracy ('accuracy', 0.926923076923077) \n",
            "Epochs 152 Train Accuracy ('accuracy', 0.9307692307692308) \n",
            "Epochs 153 Train Accuracy ('accuracy', 0.9288461538461539) \n",
            "Epochs 154 Train Accuracy ('accuracy', 0.9211538461538461) \n",
            "Epochs 155 Train Accuracy ('accuracy', 0.9326923076923077) \n",
            "Epochs 156 Train Accuracy ('accuracy', 0.9403846153846154) \n",
            "Epochs 157 Train Accuracy ('accuracy', 0.9423076923076923) \n",
            "Epochs 158 Train Accuracy ('accuracy', 0.9403846153846154) \n",
            "Epochs 159 Train Accuracy ('accuracy', 0.9423076923076923) \n",
            "Epochs 160 Train Accuracy ('accuracy', 0.9423076923076923) \n",
            "Epochs 161 Train Accuracy ('accuracy', 0.9423076923076923) \n",
            "Epochs 162 Train Accuracy ('accuracy', 0.9403846153846154) \n",
            "Epochs 163 Train Accuracy ('accuracy', 0.9384615384615385) \n",
            "Epochs 164 Train Accuracy ('accuracy', 0.9461538461538461) \n",
            "Epochs 165 Train Accuracy ('accuracy', 0.9384615384615385) \n",
            "Epochs 166 Train Accuracy ('accuracy', 0.9365384615384615) \n",
            "Epochs 167 Train Accuracy ('accuracy', 0.9365384615384615) \n",
            "Epochs 168 Train Accuracy ('accuracy', 0.9442307692307692) \n",
            "Epochs 169 Train Accuracy ('accuracy', 0.9461538461538461) \n",
            "Epochs 170 Train Accuracy ('accuracy', 0.9384615384615385) \n",
            "Epochs 171 Train Accuracy ('accuracy', 0.9461538461538461) \n",
            "Epochs 172 Train Accuracy ('accuracy', 0.9461538461538461) \n",
            "Epochs 173 Train Accuracy ('accuracy', 0.95) \n",
            "Epochs 174 Train Accuracy ('accuracy', 0.9423076923076923) \n",
            "Epochs 175 Train Accuracy ('accuracy', 0.9461538461538461) \n",
            "Epochs 176 Train Accuracy ('accuracy', 0.9423076923076923) \n",
            "Epochs 177 Train Accuracy ('accuracy', 0.9384615384615385) \n",
            "Epochs 178 Train Accuracy ('accuracy', 0.9384615384615385) \n",
            "Epochs 179 Train Accuracy ('accuracy', 0.9423076923076923) \n",
            "Epochs 180 Train Accuracy ('accuracy', 0.9423076923076923) \n",
            "Epochs 181 Train Accuracy ('accuracy', 0.9384615384615385) \n",
            "Epochs 182 Train Accuracy ('accuracy', 0.9442307692307692) \n",
            "Epochs 183 Train Accuracy ('accuracy', 0.9442307692307692) \n",
            "Epochs 184 Train Accuracy ('accuracy', 0.9403846153846154) \n",
            "Epochs 185 Train Accuracy ('accuracy', 0.9384615384615385) \n",
            "Epochs 186 Train Accuracy ('accuracy', 0.9442307692307692) \n",
            "Epochs 187 Train Accuracy ('accuracy', 0.9442307692307692) \n",
            "Epochs 188 Train Accuracy ('accuracy', 0.9403846153846154) \n",
            "Epochs 189 Train Accuracy ('accuracy', 0.9326923076923077) \n",
            "Epochs 190 Train Accuracy ('accuracy', 0.9423076923076923) \n",
            "Epochs 191 Train Accuracy ('accuracy', 0.9442307692307692) \n",
            "Epochs 192 Train Accuracy ('accuracy', 0.9307692307692308) \n",
            "Epochs 193 Train Accuracy ('accuracy', 0.926923076923077) \n",
            "Epochs 194 Train Accuracy ('accuracy', 0.9211538461538461) \n",
            "Epochs 195 Train Accuracy ('accuracy', 0.9211538461538461) \n",
            "Epochs 196 Train Accuracy ('accuracy', 0.9211538461538461) \n",
            "Epochs 197 Train Accuracy ('accuracy', 0.9288461538461539) \n",
            "Epochs 198 Train Accuracy ('accuracy', 0.926923076923077) \n",
            "Epochs 199 Train Accuracy ('accuracy', 0.926923076923077) \n"
          ],
          "name": "stdout"
        }
      ]
    },
    {
      "cell_type": "code",
      "metadata": {
        "id": "5v97PZojt-dv",
        "colab_type": "code",
        "colab": {}
      },
      "source": [
        "y = mod.predict(test_iter)"
      ],
      "execution_count": 0,
      "outputs": []
    },
    {
      "cell_type": "code",
      "metadata": {
        "id": "SevFsQ6XuVy3",
        "colab_type": "code",
        "colab": {
          "base_uri": "https://localhost:8080/",
          "height": 1000
        },
        "outputId": "df1da953-be5e-4a8b-cb2a-6f6218dbc535"
      },
      "source": [
        "y"
      ],
      "execution_count": 86,
      "outputs": [
        {
          "output_type": "execute_result",
          "data": {
            "text/plain": [
              "\n",
              "[[1.76698878e-01 8.23159099e-01 2.35195275e-05 2.78249845e-05\n",
              "  2.30412934e-05 2.14599368e-05 1.98143462e-05 2.61819896e-05]\n",
              " [7.74176776e-01 2.25574493e-01 4.19638818e-05 4.99373382e-05\n",
              "  4.11269211e-05 3.79375379e-05 3.39697108e-05 4.37242161e-05]\n",
              " [4.73117322e-01 5.26121199e-01 1.26986939e-04 1.49355445e-04\n",
              "  1.26390572e-04 1.16269788e-04 1.07291969e-04 1.35162074e-04]\n",
              " [9.99578297e-01 4.21658886e-04 1.64242706e-16 6.58926623e-16\n",
              "  1.96223639e-16 1.52004575e-16 1.11903428e-16 2.91482592e-16]\n",
              " [9.74268001e-03 9.90257263e-01 7.31406741e-11 1.17857626e-10\n",
              "  7.42148634e-11 5.83608994e-11 5.12600691e-11 9.72185041e-11]\n",
              " [1.26312645e-02 9.87368762e-01 2.19542676e-10 3.46821627e-10\n",
              "  2.24050473e-10 1.76710591e-10 1.56549135e-10 2.88331969e-10]\n",
              " [9.69543874e-01 3.04560717e-02 1.10433449e-08 1.99486117e-08\n",
              "  1.18092007e-08 1.03489262e-08 8.70105055e-09 1.41021488e-08]\n",
              " [9.98407900e-01 1.59210642e-03 4.03766986e-14 1.26398376e-13\n",
              "  4.62395218e-14 3.71910144e-14 2.86517433e-14 6.45249777e-14]\n",
              " [9.99766529e-01 2.33427665e-04 2.64148730e-17 1.17237261e-16\n",
              "  3.23422094e-17 2.47845827e-17 1.79823473e-17 4.90536864e-17]\n",
              " [1.68466613e-06 9.99998331e-01 1.29573655e-26 4.51701354e-26\n",
              "  1.31734702e-26 7.35673885e-27 5.24848651e-27 2.72459460e-26]\n",
              " [9.99912858e-01 8.71088705e-05 6.65066073e-20 3.66106753e-19\n",
              "  8.30493471e-20 6.08395218e-20 4.18588771e-20 1.34757144e-19]\n",
              " [9.96158302e-01 3.84170236e-03 7.76289623e-13 2.09421564e-12\n",
              "  8.66388721e-13 7.11381691e-13 5.57785534e-13 1.16611582e-12]\n",
              " [9.99730647e-01 2.69393873e-04 4.94804156e-17 2.13659508e-16\n",
              "  6.02978535e-17 4.64079558e-17 3.38485549e-17 9.07999997e-17]\n",
              " [9.99842644e-01 1.57390794e-04 5.14976841e-18 2.46008064e-17\n",
              "  6.38931469e-18 4.84082390e-18 3.46507510e-18 9.87108043e-18]\n",
              " [9.87404704e-01 1.25953108e-02 1.53937002e-10 3.31426581e-10\n",
              "  1.67473216e-10 1.42597545e-10 1.16137697e-10 2.11104786e-10]\n",
              " [9.99620914e-01 3.79039848e-04 3.46454640e-17 1.44361069e-16\n",
              "  4.12193264e-17 3.15112601e-17 2.28658215e-17 6.23233740e-17]\n",
              " [9.99581158e-01 4.18840180e-04 1.13347228e-17 4.75064616e-17\n",
              "  1.33001510e-17 1.00513595e-17 7.21383633e-18 2.03695492e-17]\n",
              " [9.99511242e-01 4.88812570e-04 1.41698130e-16 5.59756059e-16\n",
              "  1.67576297e-16 1.29441060e-16 9.50895267e-17 2.49351015e-16]\n",
              " [9.97738361e-01 2.26166705e-03 4.93924617e-13 1.42625809e-12\n",
              "  5.64553233e-13 4.63388984e-13 3.64279841e-13 7.64957216e-13]\n",
              " [9.97460485e-01 2.53944378e-03 1.01030024e-12 2.84174897e-12\n",
              "  1.15052249e-12 9.49764681e-13 7.51160961e-13 1.54559503e-12]\n",
              " [9.42828774e-01 5.71705960e-02 7.06414411e-08 1.14506761e-07\n",
              "  7.38106536e-08 6.53370122e-08 5.56579565e-08 8.61330776e-08]\n",
              " [1.23282596e-02 9.87671733e-01 2.39729986e-10 3.81223636e-10\n",
              "  2.44720910e-10 1.94276317e-10 1.72251644e-10 3.16598137e-10]\n",
              " [9.99923944e-01 7.60276162e-05 4.62974928e-20 2.60611601e-19\n",
              "  5.81618477e-20 4.25245313e-20 2.91748573e-20 9.47585023e-20]\n",
              " [1.58972130e-03 9.98410225e-01 3.57012427e-14 6.80887231e-14\n",
              "  3.64266417e-14 2.64512279e-14 2.23163112e-14 5.23059989e-14]\n",
              " [9.98224318e-01 1.77572889e-03 1.34814535e-14 4.26421932e-14\n",
              "  1.53431548e-14 1.22320926e-14 9.26339626e-15 2.16327776e-14]\n",
              " [9.99761164e-01 2.38797933e-04 1.53593394e-17 6.85765683e-17\n",
              "  1.86995096e-17 1.42552237e-17 1.02816854e-17 2.85184578e-17]\n",
              " [9.98169303e-01 1.83065247e-03 2.39598597e-12 6.85731550e-12\n",
              "  2.76502063e-12 2.30398621e-12 1.84270199e-12 3.66229573e-12]\n",
              " [9.95913684e-01 4.08624299e-03 1.92410237e-11 4.91008866e-11\n",
              "  2.13899575e-11 1.85270792e-11 1.48276148e-11 2.75975805e-11]\n",
              " [9.99867678e-01 1.32280780e-04 3.50047377e-19 1.78393721e-18\n",
              "  4.30843303e-19 3.19117155e-19 2.22627597e-19 6.85984604e-19]\n",
              " [9.45061922e-01 5.49380854e-02 1.46948036e-08 2.46849456e-08\n",
              "  1.53891566e-08 1.34412614e-08 1.12004956e-08 1.82004616e-08]\n",
              " [8.81425560e-01 1.18571721e-01 4.42128652e-07 6.29072076e-07\n",
              "  4.45964048e-07 3.98509144e-07 3.40755037e-07 5.01784939e-07]\n",
              " [9.99177992e-01 8.21933849e-04 1.40665555e-15 5.04242568e-15\n",
              "  1.64272225e-15 1.29055380e-15 9.64112806e-16 2.37949385e-15]\n",
              " [9.99260247e-01 7.39731535e-04 3.98300938e-16 1.47245698e-15\n",
              "  4.62813297e-16 3.59449390e-16 2.66059428e-16 6.80747780e-16]\n",
              " [9.32589829e-01 6.74094930e-02 1.04180309e-07 1.64714706e-07\n",
              "  1.08657346e-07 9.63760343e-08 8.19705406e-08 1.25790862e-07]\n",
              " [9.99852300e-01 1.47688406e-04 1.43864865e-18 7.07150502e-18\n",
              "  1.77604673e-18 1.33124328e-18 9.41206219e-19 2.78380459e-18]\n",
              " [9.99935150e-01 6.48290443e-05 2.63138819e-20 1.52380304e-19\n",
              "  3.32614494e-20 2.42320525e-20 1.65503751e-20 5.45488520e-20]\n",
              " [9.99575913e-01 4.24089871e-04 5.37589736e-16 2.11449663e-15\n",
              "  6.47416398e-16 5.06987653e-16 3.77592862e-16 9.49072889e-16]\n",
              " [9.86673474e-01 1.33265015e-02 1.55270119e-09 3.19656968e-09\n",
              "  1.70595282e-09 1.48460766e-09 1.23491450e-09 2.09446727e-09]\n",
              " [9.99849677e-01 1.50268505e-04 1.23211644e-18 6.05879317e-18\n",
              "  1.51761183e-18 1.13567225e-18 8.01514904e-19 2.38232545e-18]\n",
              " [9.99818146e-01 1.81899450e-04 3.56577379e-18 1.68430169e-17\n",
              "  4.37157799e-18 3.29716012e-18 2.34867430e-18 6.78024066e-18]\n",
              " [9.99185383e-01 8.14664410e-04 1.89940722e-15 6.77658037e-15\n",
              "  2.22103029e-15 1.74920202e-15 1.31194223e-15 3.20758185e-15]\n",
              " [9.99894977e-01 1.04989442e-04 6.01934731e-19 3.12569406e-18\n",
              "  7.54776460e-19 5.62741104e-19 3.95175792e-19 1.19375666e-18]\n",
              " [9.99324322e-01 6.75674120e-04 8.05790331e-16 2.97845075e-15\n",
              "  9.46296421e-16 7.40532901e-16 5.51910892e-16 1.38054004e-15]\n",
              " [9.99877930e-01 1.22031612e-04 1.20622382e-18 6.08205184e-18\n",
              "  1.50462685e-18 1.12773483e-18 7.96547840e-19 2.36130224e-18]\n",
              " [9.99931812e-01 6.81415695e-05 3.84216767e-20 2.19796339e-19\n",
              "  4.85421411e-20 3.54627450e-20 2.42992658e-20 7.92323222e-20]\n",
              " [9.99648333e-01 3.51708441e-04 3.89277364e-16 1.57372379e-15\n",
              "  4.73248160e-16 3.69976103e-16 2.74830666e-16 6.95443378e-16]\n",
              " [9.99571860e-01 4.28098632e-04 1.44367121e-17 6.01160392e-17\n",
              "  1.69484874e-17 1.28364079e-17 9.23144482e-18 2.58894380e-17]\n",
              " [9.99705613e-01 2.94354832e-04 5.27589890e-17 2.25135825e-16\n",
              "  6.39387916e-17 4.91942343e-17 3.58766727e-17 9.61806838e-17]\n",
              " [9.96463954e-01 3.53604718e-03 2.96685419e-13 8.23157677e-13\n",
              "  3.32270642e-13 2.70886368e-13 2.09760405e-13 4.51331138e-13]\n",
              " [9.99826610e-01 1.73447042e-04 4.35862682e-18 2.06387949e-17\n",
              "  5.36588796e-18 4.05636882e-18 2.89504384e-18 8.30042657e-18]\n",
              " [5.03367662e-01 4.96438146e-01 3.25206893e-05 3.91472386e-05\n",
              "  3.19540923e-05 2.95363625e-05 2.64347455e-05 3.45350636e-05]\n",
              " [1.58607319e-03 9.98413920e-01 3.57406162e-14 6.84385681e-14\n",
              "  3.66091231e-14 2.64659104e-14 2.23647140e-14 5.24336501e-14]\n",
              " [1.15882212e-04 9.99884129e-01 7.10875400e-19 1.72828822e-18\n",
              "  7.29690295e-19 4.76575095e-19 3.79590805e-19 1.20219804e-18]\n",
              " [1.25552935e-03 9.98744488e-01 1.38693226e-14 2.69675046e-14\n",
              "  1.41205796e-14 1.02020104e-14 8.55579679e-15 2.05955807e-14]\n",
              " [2.56875664e-01 7.43012905e-01 1.83818956e-05 2.27861474e-05\n",
              "  1.83632183e-05 1.64647481e-05 1.51741860e-05 2.02565643e-05]\n",
              " [3.16867401e-04 9.99683142e-01 3.97427925e-17 8.47905193e-17\n",
              "  3.92841175e-17 2.78927652e-17 2.21856011e-17 6.25914798e-17]\n",
              " [9.94806230e-01 5.19373175e-03 1.76558795e-10 4.16061713e-10\n",
              "  1.95929911e-10 1.70426340e-10 1.39747838e-10 2.46050402e-10]]\n",
              "<NDArray 57x8 @cpu(0)>"
            ]
          },
          "metadata": {
            "tags": []
          },
          "execution_count": 86
        }
      ]
    },
    {
      "cell_type": "code",
      "metadata": {
        "id": "nd0VGK3BuWmv",
        "colab_type": "code",
        "colab": {}
      },
      "source": [
        "score = mod.score(test_iter,['acc'])"
      ],
      "execution_count": 0,
      "outputs": []
    },
    {
      "cell_type": "code",
      "metadata": {
        "id": "JgdIzsgzvF1A",
        "colab_type": "code",
        "colab": {
          "base_uri": "https://localhost:8080/",
          "height": 34
        },
        "outputId": "e71a76d9-33ff-4993-97f8-4c7fd5f4238f"
      },
      "source": [
        "print(\"Accuracy score is {}\".format(score))"
      ],
      "execution_count": 88,
      "outputs": [
        {
          "output_type": "stream",
          "text": [
            "Accuracy score is [('accuracy', 0.9666666666666667)]\n"
          ],
          "name": "stdout"
        }
      ]
    },
    {
      "cell_type": "code",
      "metadata": {
        "id": "ypDtnH9ovK7_",
        "colab_type": "code",
        "colab": {}
      },
      "source": [
        "### this process is difficult we can use keras like operation\n",
        "train_iter.reset()\n",
        "\n",
        "## create again  a new neural net\n",
        "mod = mx.mod.Module(symbol=net,context=mx.cpu(),data_names=['data'],label_names=['softmax_label'])"
      ],
      "execution_count": 0,
      "outputs": []
    },
    {
      "cell_type": "code",
      "metadata": {
        "id": "67npOpx5wwIB",
        "colab_type": "code",
        "colab": {}
      },
      "source": [
        "mod.fit(train_iter,eval_data=test_iter,optimizer='Adam',optimizer_params={'learning_rate':.001},eval_metric='acc',num_epoch=10)"
      ],
      "execution_count": 0,
      "outputs": []
    },
    {
      "cell_type": "code",
      "metadata": {
        "id": "xObQMCJ0xEG0",
        "colab_type": "code",
        "colab": {}
      },
      "source": [
        "y = mod.predict(test_iter)"
      ],
      "execution_count": 0,
      "outputs": []
    },
    {
      "cell_type": "code",
      "metadata": {
        "id": "kW3Ll1PzxQOM",
        "colab_type": "code",
        "colab": {
          "base_uri": "https://localhost:8080/",
          "height": 34
        },
        "outputId": "c2f603cf-b9a2-4c55-9316-ac2e4b2fca58"
      },
      "source": [
        "score = mod.score(test_iter,['acc'])\n",
        "print(\"Accuracy score is {}\".format(score))"
      ],
      "execution_count": 92,
      "outputs": [
        {
          "output_type": "stream",
          "text": [
            "Accuracy score is [('accuracy', 0.9)]\n"
          ],
          "name": "stdout"
        }
      ]
    },
    {
      "cell_type": "code",
      "metadata": {
        "id": "3wPyEbnzxdS9",
        "colab_type": "code",
        "colab": {}
      },
      "source": [
        ""
      ],
      "execution_count": 0,
      "outputs": []
    },
    {
      "cell_type": "markdown",
      "metadata": {
        "id": "FOHGST3wRh-U",
        "colab_type": "text"
      },
      "source": [
        "# Convolutional Neural Network Using the Gluon API\n",
        "#### Gluon can be done with static and dynamic way"
      ]
    },
    {
      "cell_type": "code",
      "metadata": {
        "id": "kLmE7CX7R0K9",
        "colab_type": "code",
        "colab": {}
      },
      "source": [
        "### project 2 \n",
        "import mxnet as mx\n",
        "from mxnet import nd ## using ndarray\n",
        "from mxnet import gluon  ## using gluon api\n",
        "from mxnet import init   ## used for model initialization\n",
        "from mxnet import autograd   ### using for backpropagation\n",
        "import numpy as np\n",
        "import matplotlib.pyplot as plt \n",
        "from time import time"
      ],
      "execution_count": 0,
      "outputs": []
    },
    {
      "cell_type": "code",
      "metadata": {
        "id": "oqlFP0mNSVCy",
        "colab_type": "code",
        "colab": {}
      },
      "source": [
        "from mxnet.gluon import nn  ## for constructing neuran network\n",
        "from mxnet.gluon.data.vision import datasets,transforms  ### for dataset and transformation"
      ],
      "execution_count": 0,
      "outputs": []
    },
    {
      "cell_type": "code",
      "metadata": {
        "id": "dbNOH3d2SpMn",
        "colab_type": "code",
        "colab": {}
      },
      "source": [
        "### import the train data\n",
        "train_data = datasets.CIFAR10(train=True)"
      ],
      "execution_count": 0,
      "outputs": []
    },
    {
      "cell_type": "code",
      "metadata": {
        "id": "zyJhzWegS6Dt",
        "colab_type": "code",
        "colab": {}
      },
      "source": [
        "test_image,test_label = train_data[0]  ## taking a test image"
      ],
      "execution_count": 0,
      "outputs": []
    },
    {
      "cell_type": "code",
      "metadata": {
        "id": "RWD3gsZoTD-2",
        "colab_type": "code",
        "colab": {
          "base_uri": "https://localhost:8080/",
          "height": 50
        },
        "outputId": "90f61635-bcc9-4c11-c90f-f9a8886838ba"
      },
      "source": [
        "## see the test image size shape and  target\n",
        "print(\"shape of the imahe {}\".format(test_image.shape))\n",
        "print(\"The image target {}\".format(test_label))"
      ],
      "execution_count": 5,
      "outputs": [
        {
          "output_type": "stream",
          "text": [
            "shape of the imahe (32, 32, 3)\n",
            "The image target 6\n"
          ],
          "name": "stdout"
        }
      ]
    },
    {
      "cell_type": "code",
      "metadata": {
        "id": "hOxSUkghTbhZ",
        "colab_type": "code",
        "colab": {}
      },
      "source": [
        "## setting the target from the documentation\n",
        "test_labels = ['airplane','car','bird','cat','deer','dog','frog','horse','ship','truck']"
      ],
      "execution_count": 0,
      "outputs": []
    },
    {
      "cell_type": "code",
      "metadata": {
        "id": "pddrRyj5UFw3",
        "colab_type": "code",
        "colab": {
          "base_uri": "https://localhost:8080/",
          "height": 283
        },
        "outputId": "ad809ce7-36e5-450a-b312-4f9fd4334d37"
      },
      "source": [
        "def rev_convert(data):\n",
        "  return data.asnumpy()\n",
        "\n",
        "\n",
        "plt.imshow(rev_convert(test_image))\n",
        "print(\"target refers to {}\".format(test_labels[6]))"
      ],
      "execution_count": 7,
      "outputs": [
        {
          "output_type": "stream",
          "text": [
            "target refers to frog\n"
          ],
          "name": "stdout"
        },
        {
          "output_type": "display_data",
          "data": {
            "image/png": "[encoded data removed]",
            "text/plain": [
              "<Figure size 432x288 with 1 Axes>"
            ]
          },
          "metadata": {
            "tags": [],
            "needs_background": "light"
          }
        }
      ]
    },
    {
      "cell_type": "code",
      "metadata": {
        "id": "vl6EycLZUYpA",
        "colab_type": "code",
        "colab": {
          "base_uri": "https://localhost:8080/",
          "height": 566
        },
        "outputId": "755a6c53-e83c-4fa2-9f7e-8a451009bdcd"
      },
      "source": [
        "image_list,label_list = train_data[:2]\n",
        "\n",
        "for image,label in zip (image_list,label_list):\n",
        "  plt.imshow(rev_convert(image))\n",
        "  plt.figure()\n",
        "\n",
        "  print(\"Target value {}\".format(test_labels[label]))\n",
        "  \n"
      ],
      "execution_count": 8,
      "outputs": [
        {
          "output_type": "stream",
          "text": [
            "Target value frog\n",
            "Target value truck\n"
          ],
          "name": "stdout"
        },
        {
          "output_type": "display_data",
          "data": {
            "image/png": "[encoded data removed]",
            "text/plain": [
              "<Figure size 432x288 with 1 Axes>"
            ]
          },
          "metadata": {
            "tags": [],
            "needs_background": "light"
          }
        },
        {
          "output_type": "display_data",
          "data": {
            "image/png": "[encoded data removed]",
            "text/plain": [
              "<Figure size 432x288 with 1 Axes>"
            ]
          },
          "metadata": {
            "tags": [],
            "needs_background": "light"
          }
        },
        {
          "output_type": "display_data",
          "data": {
            "text/plain": [
              "<Figure size 432x288 with 0 Axes>"
            ]
          },
          "metadata": {
            "tags": []
          }
        }
      ]
    },
    {
      "cell_type": "code",
      "metadata": {
        "id": "8YWAKH4eVp9w",
        "colab_type": "code",
        "colab": {}
      },
      "source": [
        "### normalize and standaralize the image\n",
        "MEAN = (.4914,.4822,.4465)\n",
        "STD = (.4914,.4822,.4465)\n",
        "trans_form_list = [transforms.ToTensor(),transforms.Normalize(MEAN,STD)]\n",
        "## transform the image\n",
        "transform = transforms.Compose(trans_form_list)"
      ],
      "execution_count": 0,
      "outputs": []
    },
    {
      "cell_type": "code",
      "metadata": {
        "id": "3lvW_jnDW6vj",
        "colab_type": "code",
        "colab": {}
      },
      "source": [
        "### now apply the transform to the trani image\n",
        "train_data = train_data.transform_first(transform)"
      ],
      "execution_count": 0,
      "outputs": []
    },
    {
      "cell_type": "code",
      "metadata": {
        "id": "YuMW1FuiXVfS",
        "colab_type": "code",
        "colab": {}
      },
      "source": [
        "## now in the previous image we see the the shape is 32,32,3\n",
        "## means the chanel is at last\n",
        "## but when we convert to the tensor \n",
        "## the chanel comes first\n",
        "## this will be 3,32,32"
      ],
      "execution_count": 0,
      "outputs": []
    },
    {
      "cell_type": "code",
      "metadata": {
        "id": "9XVJIR8ZbR4c",
        "colab_type": "code",
        "colab": {}
      },
      "source": [
        "test_image,test_label = train_data[0]"
      ],
      "execution_count": 0,
      "outputs": []
    },
    {
      "cell_type": "code",
      "metadata": {
        "id": "rA33zI5tdCkj",
        "colab_type": "code",
        "colab": {
          "base_uri": "https://localhost:8080/",
          "height": 50
        },
        "outputId": "500fd66f-bdbc-4eba-d7d6-13459bcd8dd4"
      },
      "source": [
        "print(\"Shape if the test image {}\".format(test_image.shape))\n",
        "print(\"label of the image {}\".format(test_label))"
      ],
      "execution_count": 13,
      "outputs": [
        {
          "output_type": "stream",
          "text": [
            "Shape if the test image (3, 32, 32)\n",
            "label of the image 6\n"
          ],
          "name": "stdout"
        }
      ]
    },
    {
      "cell_type": "code",
      "metadata": {
        "id": "aicOsrMpd8bT",
        "colab_type": "code",
        "colab": {}
      },
      "source": [
        "#### create the image loader so we can feed them in batch\n",
        "batch_size = 256\n",
        "\n",
        "train_data = gluon.data.DataLoader(\n",
        "    train_data,batch_size=batch_size,\n",
        "    num_workers=4\n",
        ")"
      ],
      "execution_count": 0,
      "outputs": []
    },
    {
      "cell_type": "code",
      "metadata": {
        "id": "l1q_CFqQejQT",
        "colab_type": "code",
        "colab": {
          "base_uri": "https://localhost:8080/",
          "height": 34
        },
        "outputId": "6043f309-afbd-41a5-d5c5-1c257793c937"
      },
      "source": [
        "train_data"
      ],
      "execution_count": 15,
      "outputs": [
        {
          "output_type": "execute_result",
          "data": {
            "text/plain": [
              "<mxnet.gluon.data.dataloader.DataLoader at 0x7fd76f800438>"
            ]
          },
          "metadata": {
            "tags": []
          },
          "execution_count": 15
        }
      ]
    },
    {
      "cell_type": "code",
      "metadata": {
        "id": "5yymkWU_elL5",
        "colab_type": "code",
        "colab": {}
      },
      "source": [
        "## so now its a data loader"
      ],
      "execution_count": 0,
      "outputs": []
    },
    {
      "cell_type": "code",
      "metadata": {
        "id": "GZ0yWr-Ien56",
        "colab_type": "code",
        "colab": {}
      },
      "source": [
        "### now load out test data\n",
        "test_data = gluon.data.vision.CIFAR10(train=False)\n",
        "\n",
        "valid_data = gluon.data.DataLoader(\n",
        "    test_data.transform_first(transform),\n",
        "    batch_size=batch_size,\n",
        "    num_workers=4\n",
        ")"
      ],
      "execution_count": 0,
      "outputs": []
    },
    {
      "cell_type": "code",
      "metadata": {
        "id": "F9UUdTPDfNMN",
        "colab_type": "code",
        "colab": {}
      },
      "source": [
        "### creating the neiral network with dynamic way\n",
        "net = nn.Sequential()\n",
        "net.add(nn.Conv2D(channels=8,kernel_size=5,activation='relu'),\n",
        "       nn.MaxPool2D(pool_size=2,strides=2), \n",
        "       nn.Conv2D(channels=16,kernel_size=3,activation='relu'),\n",
        "       nn.MaxPool2D(pool_size=2,strides=2),\n",
        "       nn.Flatten(),## after faltten er feed he fully connected layer\n",
        "       nn.Dense(120,activation='relu'),\n",
        "       ##final Layer\n",
        "       nn.Dense(10)\n",
        ")"
      ],
      "execution_count": 0,
      "outputs": []
    },
    {
      "cell_type": "code",
      "metadata": {
        "id": "71REXTAHiisy",
        "colab_type": "code",
        "colab": {}
      },
      "source": [
        "# we do not use thrandom initializer we use Xavier Initialize\n",
        "net.initialize(init=init.Xavier())"
      ],
      "execution_count": 0,
      "outputs": []
    },
    {
      "cell_type": "code",
      "metadata": {
        "id": "4TtmMVzAi9kN",
        "colab_type": "code",
        "colab": {}
      },
      "source": [
        "\n",
        "## now this loss function will be applied to the last layer or the output layer\n",
        "softmax_cross_entropy = gluon.loss.SoftmaxCrossEntropyLoss()\n"
      ],
      "execution_count": 0,
      "outputs": []
    },
    {
      "cell_type": "code",
      "metadata": {
        "id": "ec88D0Gsjagv",
        "colab_type": "code",
        "colab": {
          "base_uri": "https://localhost:8080/",
          "height": 185
        },
        "outputId": "5b0a526b-7469-4671-fc11-164c8e866891"
      },
      "source": [
        "## we nee to make a trainer to train a model\n",
        "parameters = net.collect_params()\n",
        "optimizer = \"Adam\"\n",
        "lr = {\"learning_rate\":0.001}\n",
        "print(parameters)"
      ],
      "execution_count": 29,
      "outputs": [
        {
          "output_type": "stream",
          "text": [
            "sequential3_ (\n",
            "  Parameter conv0_weight (shape=(8, 0, 5, 5), dtype=<class 'numpy.float32'>)\n",
            "  Parameter conv0_bias (shape=(8,), dtype=<class 'numpy.float32'>)\n",
            "  Parameter conv1_weight (shape=(16, 0, 3, 3), dtype=<class 'numpy.float32'>)\n",
            "  Parameter conv1_bias (shape=(16,), dtype=<class 'numpy.float32'>)\n",
            "  Parameter dense0_weight (shape=(120, 0), dtype=float32)\n",
            "  Parameter dense0_bias (shape=(120,), dtype=float32)\n",
            "  Parameter dense1_weight (shape=(10, 0), dtype=float32)\n",
            "  Parameter dense1_bias (shape=(10,), dtype=float32)\n",
            ")\n"
          ],
          "name": "stdout"
        }
      ]
    },
    {
      "cell_type": "code",
      "metadata": {
        "id": "53OktvM8j01l",
        "colab_type": "code",
        "colab": {}
      },
      "source": [
        "## now we make  a trainer and by feeding this three parameter\n",
        "trainer = gluon.Trainer(parameters,optimizer,lr)"
      ],
      "execution_count": 0,
      "outputs": []
    },
    {
      "cell_type": "code",
      "metadata": {
        "id": "p7oiyxo4lc__",
        "colab_type": "code",
        "colab": {}
      },
      "source": [
        "## make a custom accuracy function\n",
        "\n",
        "def acc(output,label):\n",
        "  ## argmax return the hiegst propability index\n",
        "  correct_preds = output.argmax(axis=1) == label.astype('float32')\n",
        "  ## we compare how much is is matched then we take them mean then convert to scalar\n",
        "  return correct_preds.mean().asscalar()"
      ],
      "execution_count": 0,
      "outputs": []
    },
    {
      "cell_type": "code",
      "metadata": {
        "id": "QBNesIsomael",
        "colab_type": "code",
        "colab": {
          "base_uri": "https://localhost:8080/",
          "height": 67
        },
        "outputId": "430be49e-9f64-4c2b-ed82-bdac30fce030"
      },
      "source": [
        "#### training step\n",
        "#### this exactly like the pytorch train\n",
        "\n",
        "\n",
        "\n",
        "\n",
        "\n",
        "for epochs in  range(3):\n",
        "  ## start from 0\n",
        "  train_loss,train_acc,valid_acc = 0.0,0.0,0.0\n",
        "  tic = time() ## start the time\n",
        "\n",
        "  for data,label in train_data:\n",
        "    ## for each epoch we pass 1 batch to the neural net forward pass\n",
        "    ## now with autograd.record() we save the computation\n",
        "    with autograd.record():  \n",
        "      output = net(data) ## get the output\n",
        "      ## calculate loss\n",
        "      loss = softmax_cross_entropy(output,label)\n",
        "      ## this softmax_cross_entropy is a sum of the last layer activation softmax and the loss crossentropy\n",
        "      ## now the gradient of all of our loss is calculated \n",
        "      ## then backpropagate\n",
        "    loss.backward() \n",
        "    ## after backpropagate we need to update the value\n",
        "    trainer.step(batch_size)  ## this will update the the weight\n",
        "\n",
        "    ## now add the loss\n",
        "    train_loss += loss.mean().asscalar()\n",
        "    ## calculate the accuracy\n",
        "    train_acc += acc(output,label)\n",
        "  \n",
        "  ## same thing for valid accuracy in every epochs\n",
        "\n",
        "  for data,label in valid_data:\n",
        "    valid_acc +=acc(net(data),label)\n",
        "\n",
        "\n",
        "  ## print status for every epochs\n",
        "\n",
        "  print(\"EPOCHS : {} LOSS : {} TRAIN_ACC : {} TEST_ACC : {} TIME : {} \".format(epochs,train_loss/len(train_data),train_acc/len(train_data),valid_acc/len(valid_data),time()-tic))\n",
        "\n",
        "\n"
      ],
      "execution_count": 36,
      "outputs": [
        {
          "output_type": "stream",
          "text": [
            "EPOCHS : 0 LOSS : 1.0653426677596813 TRAIN_ACC : 0.6298987564383721 TEST_ACC : 0.60498046875 TIME : 35.48163866996765 \n",
            "EPOCHS : 1 LOSS : 1.0205456450277446 TRAIN_ACC : 0.6455038265914333 TEST_ACC : 0.60966796875 TIME : 35.15375065803528 \n",
            "EPOCHS : 2 LOSS : 0.9825194891618223 TRAIN_ACC : 0.6578842474489796 TEST_ACC : 0.6154296875 TIME : 35.2359299659729 \n"
          ],
          "name": "stdout"
        }
      ]
    },
    {
      "cell_type": "code",
      "metadata": {
        "id": "e813wcOrsWk4",
        "colab_type": "code",
        "colab": {}
      },
      "source": [
        "valid_data = gluon.data.vision.CIFAR10(train=False)\n",
        "X,labels = valid_data[:5]  ## take5 data\n",
        "preds=[]\n",
        "\n",
        "for x in X:\n",
        "  x = transform(x).expand_dims(axis=0)  ## so it will match the batech size and makeit 4 d\n",
        "  pred = net(x).argmax(axis=1)\n",
        "  preds.append(pred.astype('int32').asscalar())"
      ],
      "execution_count": 0,
      "outputs": []
    },
    {
      "cell_type": "code",
      "metadata": {
        "id": "YSLKgjEbvGBl",
        "colab_type": "code",
        "colab": {
          "base_uri": "https://localhost:8080/",
          "height": 34
        },
        "outputId": "4d01e4f3-0bf1-4887-ef62-bb779ac5ba8a"
      },
      "source": [
        "preds"
      ],
      "execution_count": 40,
      "outputs": [
        {
          "output_type": "execute_result",
          "data": {
            "text/plain": [
              "[3, 1, 1, 0, 6]"
            ]
          },
          "metadata": {
            "tags": []
          },
          "execution_count": 40
        }
      ]
    },
    {
      "cell_type": "code",
      "metadata": {
        "id": "b_LQ7SPKvMF4",
        "colab_type": "code",
        "colab": {
          "base_uri": "https://localhost:8080/",
          "height": 101
        },
        "outputId": "1ffafea7-cba5-4ba6-fd67-6a4a61c84c9d"
      },
      "source": [
        "for item in preds:\n",
        "  print(\"target item is {}\".format(test_labels[item]))"
      ],
      "execution_count": 41,
      "outputs": [
        {
          "output_type": "stream",
          "text": [
            "target item is cat\n",
            "target item is car\n",
            "target item is car\n",
            "target item is airplane\n",
            "target item is frog\n"
          ],
          "name": "stdout"
        }
      ]
    },
    {
      "cell_type": "code",
      "metadata": {
        "id": "NZgEEYQzvgiL",
        "colab_type": "code",
        "colab": {
          "base_uri": "https://localhost:8080/",
          "height": 1000
        },
        "outputId": "1a0ebb46-0140-4133-c4ae-80074534f7c9"
      },
      "source": [
        "for x in X:\n",
        "  plt.imshow(rev_convert(x))\n",
        "  plt.figure()"
      ],
      "execution_count": 43,
      "outputs": [
        {
          "output_type": "display_data",
          "data": {
            "image/png": "[encoded data removed]",
            "text/plain": [
              "<Figure size 432x288 with 1 Axes>"
            ]
          },
          "metadata": {
            "tags": [],
            "needs_background": "light"
          }
        },
        {
          "output_type": "display_data",
          "data": {
            "image/png": "[encoded data removed]",
            "text/plain": [
              "<Figure size 432x288 with 1 Axes>"
            ]
          },
          "metadata": {
            "tags": [],
            "needs_background": "light"
          }
        },
        {
          "output_type": "display_data",
          "data": {
            "image/png": "[encoded data removed]",
            "text/plain": [
              "<Figure size 432x288 with 1 Axes>"
            ]
          },
          "metadata": {
            "tags": [],
            "needs_background": "light"
          }
        },
        {
          "output_type": "display_data",
          "data": {
            "image/png": "[encoded data removed]",
            "text/plain": [
              "<Figure size 432x288 with 1 Axes>"
            ]
          },
          "metadata": {
            "tags": [],
            "needs_background": "light"
          }
        },
        {
          "output_type": "display_data",
          "data": {
            "image/png": "[encoded data removed]",
            "text/plain": [
              "<Figure size 432x288 with 1 Axes>"
            ]
          },
          "metadata": {
            "tags": [],
            "needs_background": "light"
          }
        },
        {
          "output_type": "display_data",
          "data": {
            "text/plain": [
              "<Figure size 432x288 with 0 Axes>"
            ]
          },
          "metadata": {
            "tags": []
          }
        }
      ]
    },
    {
      "cell_type": "code",
      "metadata": {
        "id": "c26uxOhqvoA-",
        "colab_type": "code",
        "colab": {}
      },
      "source": [
        ""
      ],
      "execution_count": 0,
      "outputs": []
    }
  ]
}