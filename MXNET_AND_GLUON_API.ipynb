{
  "nbformat": 4,
  "nbformat_minor": 0,
  "metadata": {
    "colab": {
      "name": "MXNET_AND_GLUON_API.ipynb",
      "provenance": [],
      "authorship_tag": "ABX9TyNhp7JniP8mdhh7qB+dh1o1",
      "include_colab_link": true
    },
    "kernelspec": {
      "name": "python3",
      "display_name": "Python 3"
    }
  },
  "cells": [
    {
      "cell_type": "markdown",
      "metadata": {
        "id": "view-in-github",
        "colab_type": "text"
      },
      "source": [
        "<a href=\"https://colab.research.google.com/github/tanviredu/MXNET_AND_GLUON_API/blob/master/MXNET_AND_GLUON_API.ipynb\" target=\"_parent\"><img src=\"https://colab.research.google.com/assets/colab-badge.svg\" alt=\"Open In Colab\"/></a>"
      ]
    },
    {
      "cell_type": "code",
      "metadata": {
        "id": "e_4rmrWk_DmI",
        "colab_type": "code",
        "colab": {
          "base_uri": "https://localhost:8080/",
          "height": 174
        },
        "outputId": "17ea2bb5-613e-46b1-cacb-b84dbb17ac21"
      },
      "source": [
        "!pip install mxnet"
      ],
      "execution_count": 93,
      "outputs": [
        {
          "output_type": "stream",
          "text": [
            "Requirement already satisfied: mxnet in /usr/local/lib/python3.6/dist-packages (1.6.0)\n",
            "Requirement already satisfied: requests<3,>=2.20.0 in /usr/local/lib/python3.6/dist-packages (from mxnet) (2.21.0)\n",
            "Requirement already satisfied: numpy<2.0.0,>1.16.0 in /usr/local/lib/python3.6/dist-packages (from mxnet) (1.18.3)\n",
            "Requirement already satisfied: graphviz<0.9.0,>=0.8.1 in /usr/local/lib/python3.6/dist-packages (from mxnet) (0.8.4)\n",
            "Requirement already satisfied: idna<2.9,>=2.5 in /usr/local/lib/python3.6/dist-packages (from requests<3,>=2.20.0->mxnet) (2.8)\n",
            "Requirement already satisfied: chardet<3.1.0,>=3.0.2 in /usr/local/lib/python3.6/dist-packages (from requests<3,>=2.20.0->mxnet) (3.0.4)\n",
            "Requirement already satisfied: urllib3<1.25,>=1.21.1 in /usr/local/lib/python3.6/dist-packages (from requests<3,>=2.20.0->mxnet) (1.24.3)\n",
            "Requirement already satisfied: certifi>=2017.4.17 in /usr/local/lib/python3.6/dist-packages (from requests<3,>=2.20.0->mxnet) (2020.4.5.1)\n"
          ],
          "name": "stdout"
        }
      ]
    },
    {
      "cell_type": "code",
      "metadata": {
        "id": "eag5AorvEGzi",
        "colab_type": "code",
        "colab": {}
      },
      "source": [
        "import mxnet as mx\n",
        "from mxnet import nd\n",
        "import numpy as np"
      ],
      "execution_count": 0,
      "outputs": []
    },
    {
      "cell_type": "code",
      "metadata": {
        "id": "kujCx6jvEe6z",
        "colab_type": "code",
        "colab": {}
      },
      "source": [
        "### ND array API is the basic of the MXNET its like the tensor datastructrure Tensorflow\n",
        "### exactly like the tensor in the tensorflow ND array is used in ND array\n",
        "### the ND array is very related with numpy.ndarray\n",
        "### ND array use lazy evaluation\n",
        "### it checks the data and then define how to optimize the calculation\n"
      ],
      "execution_count": 0,
      "outputs": []
    },
    {
      "cell_type": "code",
      "metadata": {
        "id": "COQDePTHH8CO",
        "colab_type": "code",
        "colab": {}
      },
      "source": [
        "## make a two rows and three clumns\n",
        "## in the nd array you use first brackets\n",
        "## you have to pass like this (((tuple1),(tuple2)))\n",
        "a = nd.array(((10,20,30),(40,50,60)))"
      ],
      "execution_count": 0,
      "outputs": []
    },
    {
      "cell_type": "code",
      "metadata": {
        "id": "H3KZIQjJILax",
        "colab_type": "code",
        "colab": {
          "base_uri": "https://localhost:8080/",
          "height": 34
        },
        "outputId": "97ff4a2b-0b3a-4a61-a3ca-967d3db41f15"
      },
      "source": [
        "a.shape"
      ],
      "execution_count": 96,
      "outputs": [
        {
          "output_type": "execute_result",
          "data": {
            "text/plain": [
              "(2, 3)"
            ]
          },
          "metadata": {
            "tags": []
          },
          "execution_count": 96
        }
      ]
    },
    {
      "cell_type": "code",
      "metadata": {
        "id": "Ur7pUhQrIboB",
        "colab_type": "code",
        "colab": {
          "base_uri": "https://localhost:8080/",
          "height": 34
        },
        "outputId": "65c424c7-c7fa-45a3-a7de-0687f0911e88"
      },
      "source": [
        "## nd array lives on a context either a  cpu or a GPU\n",
        "## you can find it with the context command\n",
        "## this array is stored in cpy\n",
        "a.context"
      ],
      "execution_count": 97,
      "outputs": [
        {
          "output_type": "execute_result",
          "data": {
            "text/plain": [
              "cpu(0)"
            ]
          },
          "metadata": {
            "tags": []
          },
          "execution_count": 97
        }
      ]
    },
    {
      "cell_type": "code",
      "metadata": {
        "id": "c8wpTm3NIexf",
        "colab_type": "code",
        "colab": {}
      },
      "source": [
        "## you can do almost all the operation in the numpy in the ND array\n",
        "## but you have to use the tuple\n",
        "b = nd.ones((2,3))"
      ],
      "execution_count": 0,
      "outputs": []
    },
    {
      "cell_type": "code",
      "metadata": {
        "id": "940r5ET8JBgO",
        "colab_type": "code",
        "colab": {
          "base_uri": "https://localhost:8080/",
          "height": 86
        },
        "outputId": "60cab92d-4d11-4d5b-dee3-c89079064e80"
      },
      "source": [
        "b"
      ],
      "execution_count": 99,
      "outputs": [
        {
          "output_type": "execute_result",
          "data": {
            "text/plain": [
              "\n",
              "[[1. 1. 1.]\n",
              " [1. 1. 1.]]\n",
              "<NDArray 2x3 @cpu(0)>"
            ]
          },
          "metadata": {
            "tags": []
          },
          "execution_count": 99
        }
      ]
    },
    {
      "cell_type": "code",
      "metadata": {
        "id": "T12-t83FJCAm",
        "colab_type": "code",
        "colab": {
          "base_uri": "https://localhost:8080/",
          "height": 103
        },
        "outputId": "b8e47eb1-4f2f-4ae7-b9d2-453a23c44e60"
      },
      "source": [
        "row = 3\n",
        "columns = 5\n",
        "one = nd.ones((row,columns))\n",
        "print(one)"
      ],
      "execution_count": 100,
      "outputs": [
        {
          "output_type": "stream",
          "text": [
            "\n",
            "[[1. 1. 1. 1. 1.]\n",
            " [1. 1. 1. 1. 1.]\n",
            " [1. 1. 1. 1. 1.]]\n",
            "<NDArray 3x5 @cpu(0)>\n"
          ],
          "name": "stdout"
        }
      ]
    },
    {
      "cell_type": "code",
      "metadata": {
        "id": "1vz2upECJN5O",
        "colab_type": "code",
        "colab": {}
      },
      "source": [
        "## you can generate random uniform distribution\n",
        "## using nd array just like the numpy array\n",
        "range1 = 1\n",
        "range2 = -1\n",
        "row,column = 2,3\n",
        "c = nd.random.uniform(range2,range1,(row,column))"
      ],
      "execution_count": 0,
      "outputs": []
    },
    {
      "cell_type": "code",
      "metadata": {
        "id": "XEaLf-ajJqP3",
        "colab_type": "code",
        "colab": {
          "base_uri": "https://localhost:8080/",
          "height": 86
        },
        "outputId": "a6ec1b72-3135-4d12-a22c-90d2e8ab714a"
      },
      "source": [
        "print(c)  ## this wil give you a 2,3 matrix with uniform random value\n",
        "## between the -1,1"
      ],
      "execution_count": 102,
      "outputs": [
        {
          "output_type": "stream",
          "text": [
            "\n",
            "[[-0.88394165 -0.88716334 -0.13116676]\n",
            " [-0.0243246  -0.37640822  0.76200914]]\n",
            "<NDArray 2x3 @cpu(0)>\n"
          ],
          "name": "stdout"
        }
      ]
    },
    {
      "cell_type": "code",
      "metadata": {
        "id": "gPHPi938JzUV",
        "colab_type": "code",
        "colab": {}
      },
      "source": [
        "## you can fill array with a floating point tools\n",
        "d = nd.full((row,column),5.0)"
      ],
      "execution_count": 0,
      "outputs": []
    },
    {
      "cell_type": "code",
      "metadata": {
        "id": "SBl1ACtlKR1H",
        "colab_type": "code",
        "colab": {
          "base_uri": "https://localhost:8080/",
          "height": 86
        },
        "outputId": "4cfc7e53-6f2c-4c7c-c151-760cc991774d"
      },
      "source": [
        "d"
      ],
      "execution_count": 104,
      "outputs": [
        {
          "output_type": "execute_result",
          "data": {
            "text/plain": [
              "\n",
              "[[5. 5. 5.]\n",
              " [5. 5. 5.]]\n",
              "<NDArray 2x3 @cpu(0)>"
            ]
          },
          "metadata": {
            "tags": []
          },
          "execution_count": 104
        }
      ]
    },
    {
      "cell_type": "code",
      "metadata": {
        "id": "eUmkhebxKSr5",
        "colab_type": "code",
        "colab": {
          "base_uri": "https://localhost:8080/",
          "height": 34
        },
        "outputId": "75e7912d-7303-458c-b6d3-59b2b6224088"
      },
      "source": [
        "## you can convert a numpy array into nd array\n",
        "numpy_array = [[1,2,3],[4,5,6],[7,8,9]]\n",
        "print(numpy_array)"
      ],
      "execution_count": 105,
      "outputs": [
        {
          "output_type": "stream",
          "text": [
            "[[1, 2, 3], [4, 5, 6], [7, 8, 9]]\n"
          ],
          "name": "stdout"
        }
      ]
    },
    {
      "cell_type": "code",
      "metadata": {
        "id": "6etItZrkK_vN",
        "colab_type": "code",
        "colab": {}
      },
      "source": [
        "nd_array = mx.nd.array(numpy_array)"
      ],
      "execution_count": 0,
      "outputs": []
    },
    {
      "cell_type": "code",
      "metadata": {
        "id": "vFXJiI9JLEJd",
        "colab_type": "code",
        "colab": {
          "base_uri": "https://localhost:8080/",
          "height": 103
        },
        "outputId": "b8ede8e2-fd4f-469d-91d3-79af952c1b9f"
      },
      "source": [
        "nd_array"
      ],
      "execution_count": 107,
      "outputs": [
        {
          "output_type": "execute_result",
          "data": {
            "text/plain": [
              "\n",
              "[[1. 2. 3.]\n",
              " [4. 5. 6.]\n",
              " [7. 8. 9.]]\n",
              "<NDArray 3x3 @cpu(0)>"
            ]
          },
          "metadata": {
            "tags": []
          },
          "execution_count": 107
        }
      ]
    },
    {
      "cell_type": "code",
      "metadata": {
        "id": "A75l4SCWLFem",
        "colab_type": "code",
        "colab": {}
      },
      "source": [
        "# you can also convert a nd array into numpy array\n",
        "num_array_again = nd_array.asnumpy()"
      ],
      "execution_count": 0,
      "outputs": []
    },
    {
      "cell_type": "code",
      "metadata": {
        "id": "OlYe5lNyLdCu",
        "colab_type": "code",
        "colab": {
          "base_uri": "https://localhost:8080/",
          "height": 68
        },
        "outputId": "2c2f37d4-bdf4-4e7b-9ba0-6f5fa86ed11d"
      },
      "source": [
        "num_array_again"
      ],
      "execution_count": 109,
      "outputs": [
        {
          "output_type": "execute_result",
          "data": {
            "text/plain": [
              "array([[1., 2., 3.],\n",
              "       [4., 5., 6.],\n",
              "       [7., 8., 9.]], dtype=float32)"
            ]
          },
          "metadata": {
            "tags": []
          },
          "execution_count": 109
        }
      ]
    },
    {
      "cell_type": "code",
      "metadata": {
        "id": "BrPpZ8xVLeOB",
        "colab_type": "code",
        "colab": {}
      },
      "source": [
        "## transpose od the data\n",
        "## this is the transpose data\n",
        "transpose_nd_array = nd_array.T"
      ],
      "execution_count": 0,
      "outputs": []
    },
    {
      "cell_type": "code",
      "metadata": {
        "id": "_Zdr7LzOLl_v",
        "colab_type": "code",
        "colab": {
          "base_uri": "https://localhost:8080/",
          "height": 103
        },
        "outputId": "f72299d5-bcd1-4730-feba-d9fdbfed7b2a"
      },
      "source": [
        "print(transpose_nd_array)"
      ],
      "execution_count": 111,
      "outputs": [
        {
          "output_type": "stream",
          "text": [
            "\n",
            "[[1. 4. 7.]\n",
            " [2. 5. 8.]\n",
            " [3. 6. 9.]]\n",
            "<NDArray 3x3 @cpu(0)>\n"
          ],
          "name": "stdout"
        }
      ]
    },
    {
      "cell_type": "code",
      "metadata": {
        "id": "tJ9cdsvVLyEH",
        "colab_type": "code",
        "colab": {
          "base_uri": "https://localhost:8080/",
          "height": 103
        },
        "outputId": "f6dd8952-b542-4e85-9f80-4faae0d943d9"
      },
      "source": [
        "## dot product is possible in nd array\n",
        "## this is the element wise multiplication\n",
        "dot_produt = mx.ndarray.dot(nd_array,nd_array)\n",
        "print(dot_produt)"
      ],
      "execution_count": 112,
      "outputs": [
        {
          "output_type": "stream",
          "text": [
            "\n",
            "[[ 30.  36.  42.]\n",
            " [ 66.  81.  96.]\n",
            " [102. 126. 150.]]\n",
            "<NDArray 3x3 @cpu(0)>\n"
          ],
          "name": "stdout"
        }
      ]
    },
    {
      "cell_type": "code",
      "metadata": {
        "id": "ZiURmeBJMDB9",
        "colab_type": "code",
        "colab": {
          "base_uri": "https://localhost:8080/",
          "height": 171
        },
        "outputId": "fc0df6a3-4f83-42ad-9633-a790c689dd37"
      },
      "source": [
        "### create a multi dimansional nd array\n",
        "## we can sue uniform random value in a three dimantional array\n",
        "g = nd.random.uniform(0,10,(2,3,1))\n",
        "print(g)"
      ],
      "execution_count": 113,
      "outputs": [
        {
          "output_type": "stream",
          "text": [
            "\n",
            "[[[6.9634347]\n",
            "  [9.764044 ]\n",
            "  [3.7775183]]\n",
            "\n",
            " [[6.176579 ]\n",
            "  [1.7960368]\n",
            "  [5.424988 ]]]\n",
            "<NDArray 2x3x1 @cpu(0)>\n"
          ],
          "name": "stdout"
        }
      ]
    },
    {
      "cell_type": "code",
      "metadata": {
        "id": "FYx0wyhWMe_T",
        "colab_type": "code",
        "colab": {
          "base_uri": "https://localhost:8080/",
          "height": 34
        },
        "outputId": "938837c5-1973-431f-b67f-3b1b853ee74f"
      },
      "source": [
        "## printing the shape of the multi dimentional array\n",
        "print(g.shape)"
      ],
      "execution_count": 114,
      "outputs": [
        {
          "output_type": "stream",
          "text": [
            "(2, 3, 1)\n"
          ],
          "name": "stdout"
        }
      ]
    },
    {
      "cell_type": "code",
      "metadata": {
        "id": "XB0Dy9NDMnHi",
        "colab_type": "code",
        "colab": {
          "base_uri": "https://localhost:8080/",
          "height": 86
        },
        "outputId": "5453100e-0bf1-4404-ea1e-dbe4fa91bebe"
      },
      "source": [
        "## you can flatten the array\n",
        "## and convert of the array in to flatten\n",
        "print(g.flatten())"
      ],
      "execution_count": 115,
      "outputs": [
        {
          "output_type": "stream",
          "text": [
            "\n",
            "[[6.9634347 9.764044  3.7775183]\n",
            " [6.176579  1.7960368 5.424988 ]]\n",
            "<NDArray 2x3 @cpu(0)>\n"
          ],
          "name": "stdout"
        }
      ]
    },
    {
      "cell_type": "code",
      "metadata": {
        "id": "hR19JiRZMxbu",
        "colab_type": "code",
        "colab": {
          "base_uri": "https://localhost:8080/",
          "height": 394
        },
        "outputId": "48da6281-d379-4b85-8957-d7518ec959ea"
      },
      "source": [
        "## you can use the zeros and ones like th e numpy array\n",
        "ones = nd.ones((2,2))\n",
        "zeros = nd.zeros((2,2))\n",
        "print(ones)\n",
        "print(zeros)\n",
        "\n",
        "\n",
        "## we ca slso make this with a conversion of the numpy\n",
        "print(\"This is the numpy version\")\n",
        "numpy_ones = np.ones([2,2])\n",
        "numpy_zeros = np.zeros([2,2])\n",
        "print(numpy_ones)\n",
        "print(numpy_zeros)\n",
        "print(\"converting.......\")\n",
        "print(mx.nd.array(numpy_ones))\n",
        "print(mx.nd.array(numpy_zeros))"
      ],
      "execution_count": 116,
      "outputs": [
        {
          "output_type": "stream",
          "text": [
            "\n",
            "[[1. 1.]\n",
            " [1. 1.]]\n",
            "<NDArray 2x2 @cpu(0)>\n",
            "\n",
            "[[0. 0.]\n",
            " [0. 0.]]\n",
            "<NDArray 2x2 @cpu(0)>\n",
            "This is the numpy version\n",
            "[[1. 1.]\n",
            " [1. 1.]]\n",
            "[[0. 0.]\n",
            " [0. 0.]]\n",
            "converting.......\n",
            "\n",
            "[[1. 1.]\n",
            " [1. 1.]]\n",
            "<NDArray 2x2 @cpu(0)>\n",
            "\n",
            "[[0. 0.]\n",
            " [0. 0.]]\n",
            "<NDArray 2x2 @cpu(0)>\n"
          ],
          "name": "stdout"
        }
      ]
    },
    {
      "cell_type": "code",
      "metadata": {
        "id": "POeLy3NJM7n9",
        "colab_type": "code",
        "colab": {}
      },
      "source": [
        "## you cna also use the context to set it either it will work on cpu or the GPU\n",
        "x = nd.zeros((2,2),ctx=mx.cpu())"
      ],
      "execution_count": 0,
      "outputs": []
    },
    {
      "cell_type": "code",
      "metadata": {
        "id": "fiHrzdJlOEKb",
        "colab_type": "code",
        "colab": {
          "base_uri": "https://localhost:8080/",
          "height": 86
        },
        "outputId": "17612151-0e37-41d6-b7b5-cf5518c8e479"
      },
      "source": [
        "print(x)"
      ],
      "execution_count": 118,
      "outputs": [
        {
          "output_type": "stream",
          "text": [
            "\n",
            "[[0. 0.]\n",
            " [0. 0.]]\n",
            "<NDArray 2x2 @cpu(0)>\n"
          ],
          "name": "stdout"
        }
      ]
    },
    {
      "cell_type": "code",
      "metadata": {
        "id": "Gea_GvtWOFXt",
        "colab_type": "code",
        "colab": {}
      },
      "source": [
        "# x = nd.zeros((2,2),ctx=mx.gpu())\n",
        "# you cannt use this unless you have a gpu"
      ],
      "execution_count": 0,
      "outputs": []
    },
    {
      "cell_type": "code",
      "metadata": {
        "id": "dueRMpVgOIJU",
        "colab_type": "code",
        "colab": {}
      },
      "source": [
        "## testing the lazy evaluation \n",
        "## define wo separate function that perform a long operation\n",
        "import time\n",
        "def long_operation(x_arr,n):\n",
        "  ## we make a dot product\n",
        "  return [nd.dot(x_arr,x_arr) for i in range(n)]\n",
        "\n",
        "  ##  another function \n",
        "  ## this function will wait untill the backend engine will\n",
        "  ## wait untill the alculation is done\n",
        "\n",
        "def wait_for_computation(x_arr):\n",
        "    for y in x_arr:\n",
        "      y.wait_to_read()"
      ],
      "execution_count": 0,
      "outputs": []
    },
    {
      "cell_type": "code",
      "metadata": {
        "id": "6vkxSNLxP8-x",
        "colab_type": "code",
        "colab": {}
      },
      "source": [
        "### the main thing is operations will be lazily valuated\n",
        "#### first the operation will be pushed to the backend engine and then\n",
        "#### the back engine will check it and find a optimal way to run  this calculation\n",
        "#### then it executed later"
      ],
      "execution_count": 0,
      "outputs": []
    },
    {
      "cell_type": "code",
      "metadata": {
        "id": "RTb1odEMQu44",
        "colab_type": "code",
        "colab": {
          "base_uri": "https://localhost:8080/",
          "height": 103
        },
        "outputId": "f7bf3af2-6fde-45c9-f860-d51f8f1de4c0"
      },
      "source": [
        "start_time = time.time()\n",
        "## create a large array\n",
        "large_array = mx.nd.ones((1000,1000))\n",
        "## this is a 1000x1000 array\n",
        "## perform calculation\n",
        "result = long_operation(large_array,500)\n",
        "\n",
        "## this print statement will work when all the data is pushed to the backend engine\n",
        "print(\"All operation pushed to the backend engine\")\n",
        "print(\"{} time is needed\".format(time.time()- start_time))\n",
        "\n",
        "## now we execute out wait function\n",
        "wait_for_computation(result)\n",
        "\n",
        "print(\"Compurtation is finished \")\n",
        "print(\"  {}  Time is needed\".format(time.time()-start_time))\n",
        "\n",
        "\n",
        "print(\"you can make the output wait untill all the operation is finished\")\n",
        "## this is the difference between numpy and ndarray\n",
        "## because in numpy one by one wil be showing\n",
        "## but the ndarray will hold untill the calculation is finished"
      ],
      "execution_count": 122,
      "outputs": [
        {
          "output_type": "stream",
          "text": [
            "All operation pushed to the backend engine\n",
            "0.022423267364501953 time is needed\n",
            "Compurtation is finished \n",
            "  18.28604555130005  Time is needed\n",
            "you can make the output wait untill all the operation is finished\n"
          ],
          "name": "stdout"
        }
      ]
    },
    {
      "cell_type": "markdown",
      "metadata": {
        "id": "TbgiB-D_WuoS",
        "colab_type": "text"
      },
      "source": [
        "# Symbol API in MXNET\n",
        "#### This is very much similler to the estimator API in tensorflow\n",
        "#### this is static method that means you create a graph then you execute this graph there are Placeholder and variable operation like extimator API\n"
      ]
    },
    {
      "cell_type": "code",
      "metadata": {
        "id": "0kyCT8g2XHsE",
        "colab_type": "code",
        "colab": {}
      },
      "source": [
        "import symbol as sym"
      ],
      "execution_count": 0,
      "outputs": []
    },
    {
      "cell_type": "code",
      "metadata": {
        "id": "ims6P-moXLam",
        "colab_type": "code",
        "colab": {}
      },
      "source": [
        "## make two place holder that is called Variable\n",
        "## or container\n",
        "X = mx.sym.Variable('X')\n",
        "y = mx.sym.Variable('y')\n",
        "z = mx.sym.Variable('z')\n",
        "\n",
        "## now making  a operation \n",
        "## we are making this operation\n",
        "## result = x*y+z\n",
        "## the value is not set yet\n",
        "## we are just making a graph\n",
        "result = (X.__mul__(y).__add__(z))\n"
      ],
      "execution_count": 0,
      "outputs": []
    },
    {
      "cell_type": "code",
      "metadata": {
        "id": "yevy1TxoX230",
        "colab_type": "code",
        "colab": {
          "base_uri": "https://localhost:8080/",
          "height": 34
        },
        "outputId": "05b32bbd-36e0-47d7-9be7-2ea6ff79307a"
      },
      "source": [
        "## we do not create any calculation we just create a graph\n",
        "## to perform calulation we need to bind the data with graph\n",
        "print(result)"
      ],
      "execution_count": 125,
      "outputs": [
        {
          "output_type": "stream",
          "text": [
            "<Symbol _plus2>\n"
          ],
          "name": "stdout"
        }
      ]
    },
    {
      "cell_type": "code",
      "metadata": {
        "id": "l7lchFYLYw3O",
        "colab_type": "code",
        "colab": {
          "base_uri": "https://localhost:8080/",
          "height": 359
        },
        "outputId": "77d4bd8c-4e50-4725-debd-a8a3de56dbab"
      },
      "source": [
        "mx.viz.plot_network(result)"
      ],
      "execution_count": 126,
      "outputs": [
        {
          "output_type": "execute_result",
          "data": {
            "text/plain": [
              "<graphviz.dot.Digraph at 0x7f894b6ea7f0>"
            ],
            "image/svg+xml": "<?xml version=\"1.0\" encoding=\"UTF-8\" standalone=\"no\"?>\n<!DOCTYPE svg PUBLIC \"-//W3C//DTD SVG 1.1//EN\"\n \"http://www.w3.org/Graphics/SVG/1.1/DTD/svg11.dtd\">\n<!-- Generated by graphviz version 2.40.1 (20161225.0304)\n -->\n<!-- Title: plot Pages: 1 -->\n<svg width=\"270pt\" height=\"254pt\"\n viewBox=\"0.00 0.00 270.00 254.00\" xmlns=\"http://www.w3.org/2000/svg\" xmlns:xlink=\"http://www.w3.org/1999/xlink\">\n<g id=\"graph0\" class=\"graph\" transform=\"scale(1 1) rotate(0) translate(4 250)\">\n<title>plot</title>\n<polygon fill=\"#ffffff\" stroke=\"transparent\" points=\"-4,4 -4,-250 266,-250 266,4 -4,4\"/>\n<!-- X -->\n<g id=\"node1\" class=\"node\">\n<title>X</title>\n<ellipse fill=\"#8dd3c7\" stroke=\"#000000\" cx=\"47\" cy=\"-29\" rx=\"47\" ry=\"29\"/>\n<text text-anchor=\"middle\" x=\"47\" y=\"-25.3\" font-family=\"Times,serif\" font-size=\"14.00\" fill=\"#000000\">X</text>\n</g>\n<!-- y -->\n<g id=\"node2\" class=\"node\">\n<title>y</title>\n<ellipse fill=\"#8dd3c7\" stroke=\"#000000\" cx=\"159\" cy=\"-29\" rx=\"47\" ry=\"29\"/>\n<text text-anchor=\"middle\" x=\"159\" y=\"-25.3\" font-family=\"Times,serif\" font-size=\"14.00\" fill=\"#000000\">y</text>\n</g>\n<!-- _mul2 -->\n<g id=\"node3\" class=\"node\">\n<title>_mul2</title>\n<polygon fill=\"#fccde5\" stroke=\"#000000\" points=\"150,-152 56,-152 56,-94 150,-94 150,-152\"/>\n<text text-anchor=\"middle\" x=\"103\" y=\"-119.3\" font-family=\"Times,serif\" font-size=\"14.00\" fill=\"#000000\">_mul2</text>\n</g>\n<!-- _mul2&#45;&gt;X -->\n<g id=\"edge1\" class=\"edge\">\n<title>_mul2&#45;&gt;X</title>\n<path fill=\"none\" stroke=\"#000000\" d=\"M80.4288,-85.1126C74.6818,-75.4659 68.6175,-65.2865 63.2551,-56.2854\"/>\n<polygon fill=\"#000000\" stroke=\"#000000\" points=\"85.5882,-93.7731 76.6042,-87.4852 83.0292,-89.4776 80.4701,-85.1821 80.4701,-85.1821 80.4701,-85.1821 83.0292,-89.4776 84.3361,-82.8789 85.5882,-93.7731 85.5882,-93.7731\"/>\n</g>\n<!-- _mul2&#45;&gt;y -->\n<g id=\"edge2\" class=\"edge\">\n<title>_mul2&#45;&gt;y</title>\n<path fill=\"none\" stroke=\"#000000\" d=\"M125.5712,-85.1126C131.3182,-75.4659 137.3825,-65.2865 142.7449,-56.2854\"/>\n<polygon fill=\"#000000\" stroke=\"#000000\" points=\"120.4118,-93.7731 121.6639,-82.8789 122.9708,-89.4776 125.5299,-85.1821 125.5299,-85.1821 125.5299,-85.1821 122.9708,-89.4776 129.3958,-87.4852 120.4118,-93.7731 120.4118,-93.7731\"/>\n</g>\n<!-- z -->\n<g id=\"node4\" class=\"node\">\n<title>z</title>\n<ellipse fill=\"#8dd3c7\" stroke=\"#000000\" cx=\"215\" cy=\"-123\" rx=\"47\" ry=\"29\"/>\n<text text-anchor=\"middle\" x=\"215\" y=\"-119.3\" font-family=\"Times,serif\" font-size=\"14.00\" fill=\"#000000\">z</text>\n</g>\n<!-- _plus2 -->\n<g id=\"node5\" class=\"node\">\n<title>_plus2</title>\n<polygon fill=\"#fccde5\" stroke=\"#000000\" points=\"206,-246 112,-246 112,-188 206,-188 206,-246\"/>\n<text text-anchor=\"middle\" x=\"159\" y=\"-213.3\" font-family=\"Times,serif\" font-size=\"14.00\" fill=\"#000000\">_plus2</text>\n</g>\n<!-- _plus2&#45;&gt;_mul2 -->\n<g id=\"edge3\" class=\"edge\">\n<title>_plus2&#45;&gt;_mul2</title>\n<path fill=\"none\" stroke=\"#000000\" d=\"M136.3812,-179.0328C131.0542,-170.091 125.4571,-160.6959 120.401,-152.2088\"/>\n<polygon fill=\"#000000\" stroke=\"#000000\" points=\"141.5882,-187.7731 132.6042,-181.4852 139.0292,-183.4776 136.4701,-179.1821 136.4701,-179.1821 136.4701,-179.1821 139.0292,-183.4776 140.3361,-176.8789 141.5882,-187.7731 141.5882,-187.7731\"/>\n</g>\n<!-- _plus2&#45;&gt;z -->\n<g id=\"edge4\" class=\"edge\">\n<title>_plus2&#45;&gt;z</title>\n<path fill=\"none\" stroke=\"#000000\" d=\"M181.5712,-179.1126C187.3182,-169.4659 193.3825,-159.2865 198.7449,-150.2854\"/>\n<polygon fill=\"#000000\" stroke=\"#000000\" points=\"176.4118,-187.7731 177.6639,-176.8789 178.9708,-183.4776 181.5299,-179.1821 181.5299,-179.1821 181.5299,-179.1821 178.9708,-183.4776 185.3958,-181.4852 176.4118,-187.7731 176.4118,-187.7731\"/>\n</g>\n</g>\n</svg>\n"
          },
          "metadata": {
            "tags": []
          },
          "execution_count": 126
        }
      ]
    },
    {
      "cell_type": "code",
      "metadata": {
        "id": "wFMlAhfDY1DY",
        "colab_type": "code",
        "colab": {}
      },
      "source": [
        "## so we can see the total computation graph"
      ],
      "execution_count": 0,
      "outputs": []
    },
    {
      "cell_type": "code",
      "metadata": {
        "id": "BA1iKF1UY77G",
        "colab_type": "code",
        "colab": {}
      },
      "source": [
        "## now we make another operation \n",
        "mul = X*y\n",
        "## create a dot product of the X and y\n",
        "dot = mx.sym.dot(X,y)\n",
        "## perform the traanspose in the z\n",
        "zt = z.transpose()\n",
        "\n",
        "## now we make a reshape function\n",
        "reshape = mx.sym.reshape(dot+zt,shape=(1,4))\n",
        "#Broadcasting is a mechanism that allows NDArrays to perform arithmetic \n",
        "#operations with arrays of different shapes efficiently without creating multiple copies of data\n",
        "\n",
        "broadcast = mx.sym.broadcast_to(reshape,shape=(10,4))"
      ],
      "execution_count": 0,
      "outputs": []
    },
    {
      "cell_type": "code",
      "metadata": {
        "id": "Q5BMfYUEZNfV",
        "colab_type": "code",
        "colab": {
          "base_uri": "https://localhost:8080/",
          "height": 610
        },
        "outputId": "6065aa35-e86c-4bde-b182-1e0f86106440"
      },
      "source": [
        "## nwo if we see visualize the graph\n",
        "mx.viz.plot_network(symbol=broadcast)"
      ],
      "execution_count": 129,
      "outputs": [
        {
          "output_type": "execute_result",
          "data": {
            "text/plain": [
              "<graphviz.dot.Digraph at 0x7f894b6eac50>"
            ],
            "image/svg+xml": "<?xml version=\"1.0\" encoding=\"UTF-8\" standalone=\"no\"?>\n<!DOCTYPE svg PUBLIC \"-//W3C//DTD SVG 1.1//EN\"\n \"http://www.w3.org/Graphics/SVG/1.1/DTD/svg11.dtd\">\n<!-- Generated by graphviz version 2.40.1 (20161225.0304)\n -->\n<!-- Title: plot Pages: 1 -->\n<svg width=\"326pt\" height=\"442pt\"\n viewBox=\"0.00 0.00 326.00 442.00\" xmlns=\"http://www.w3.org/2000/svg\" xmlns:xlink=\"http://www.w3.org/1999/xlink\">\n<g id=\"graph0\" class=\"graph\" transform=\"scale(1 1) rotate(0) translate(4 438)\">\n<title>plot</title>\n<polygon fill=\"#ffffff\" stroke=\"transparent\" points=\"-4,4 -4,-438 322,-438 322,4 -4,4\"/>\n<!-- X -->\n<g id=\"node1\" class=\"node\">\n<title>X</title>\n<ellipse fill=\"#8dd3c7\" stroke=\"#000000\" cx=\"47\" cy=\"-29\" rx=\"47\" ry=\"29\"/>\n<text text-anchor=\"middle\" x=\"47\" y=\"-25.3\" font-family=\"Times,serif\" font-size=\"14.00\" fill=\"#000000\">X</text>\n</g>\n<!-- y -->\n<g id=\"node2\" class=\"node\">\n<title>y</title>\n<ellipse fill=\"#8dd3c7\" stroke=\"#000000\" cx=\"159\" cy=\"-29\" rx=\"47\" ry=\"29\"/>\n<text text-anchor=\"middle\" x=\"159\" y=\"-25.3\" font-family=\"Times,serif\" font-size=\"14.00\" fill=\"#000000\">y</text>\n</g>\n<!-- dot1 -->\n<g id=\"node3\" class=\"node\">\n<title>dot1</title>\n<polygon fill=\"#fccde5\" stroke=\"#000000\" points=\"206,-152 112,-152 112,-94 206,-94 206,-152\"/>\n<text text-anchor=\"middle\" x=\"159\" y=\"-119.3\" font-family=\"Times,serif\" font-size=\"14.00\" fill=\"#000000\">dot1</text>\n</g>\n<!-- dot1&#45;&gt;X -->\n<g id=\"edge1\" class=\"edge\">\n<title>dot1&#45;&gt;X</title>\n<path fill=\"none\" stroke=\"#000000\" d=\"M116.2159,-87.0919C102.4266,-75.5188 87.5036,-62.9941 75.0568,-52.5477\"/>\n<polygon fill=\"#000000\" stroke=\"#000000\" points=\"124.1764,-93.7731 113.6237,-90.7912 120.3466,-90.5587 116.5167,-87.3443 116.5167,-87.3443 116.5167,-87.3443 120.3466,-90.5587 119.4096,-83.8974 124.1764,-93.7731 124.1764,-93.7731\"/>\n</g>\n<!-- dot1&#45;&gt;y -->\n<g id=\"edge2\" class=\"edge\">\n<title>dot1&#45;&gt;y</title>\n<path fill=\"none\" stroke=\"#000000\" d=\"M159,-83.6321C159,-75.1148 159,-66.2539 159,-58.2088\"/>\n<polygon fill=\"#000000\" stroke=\"#000000\" points=\"159,-93.7731 154.5001,-83.773 159,-88.7731 159.0001,-83.7731 159.0001,-83.7731 159.0001,-83.7731 159,-88.7731 163.5001,-83.7731 159,-93.7731 159,-93.7731\"/>\n</g>\n<!-- z -->\n<g id=\"node4\" class=\"node\">\n<title>z</title>\n<ellipse fill=\"#8dd3c7\" stroke=\"#000000\" cx=\"271\" cy=\"-29\" rx=\"47\" ry=\"29\"/>\n<text text-anchor=\"middle\" x=\"271\" y=\"-25.3\" font-family=\"Times,serif\" font-size=\"14.00\" fill=\"#000000\">z</text>\n</g>\n<!-- transpose1 -->\n<g id=\"node5\" class=\"node\">\n<title>transpose1</title>\n<polygon fill=\"#fccde5\" stroke=\"#000000\" points=\"318,-152 224,-152 224,-94 318,-94 318,-152\"/>\n<text text-anchor=\"middle\" x=\"271\" y=\"-119.3\" font-family=\"Times,serif\" font-size=\"14.00\" fill=\"#000000\">transpose1</text>\n</g>\n<!-- transpose1&#45;&gt;z -->\n<g id=\"edge3\" class=\"edge\">\n<title>transpose1&#45;&gt;z</title>\n<path fill=\"none\" stroke=\"#000000\" d=\"M271,-83.6321C271,-75.1148 271,-66.2539 271,-58.2088\"/>\n<polygon fill=\"#000000\" stroke=\"#000000\" points=\"271,-93.7731 266.5001,-83.773 271,-88.7731 271.0001,-83.7731 271.0001,-83.7731 271.0001,-83.7731 271,-88.7731 275.5001,-83.7731 271,-93.7731 271,-93.7731\"/>\n</g>\n<!-- _plus3 -->\n<g id=\"node6\" class=\"node\">\n<title>_plus3</title>\n<polygon fill=\"#fccde5\" stroke=\"#000000\" points=\"262,-246 168,-246 168,-188 262,-188 262,-246\"/>\n<text text-anchor=\"middle\" x=\"215\" y=\"-213.3\" font-family=\"Times,serif\" font-size=\"14.00\" fill=\"#000000\">_plus3</text>\n</g>\n<!-- _plus3&#45;&gt;dot1 -->\n<g id=\"edge4\" class=\"edge\">\n<title>_plus3&#45;&gt;dot1</title>\n<path fill=\"none\" stroke=\"#000000\" d=\"M192.3812,-179.0328C187.0542,-170.091 181.4571,-160.6959 176.401,-152.2088\"/>\n<polygon fill=\"#000000\" stroke=\"#000000\" points=\"197.5882,-187.7731 188.6042,-181.4852 195.0292,-183.4776 192.4701,-179.1821 192.4701,-179.1821 192.4701,-179.1821 195.0292,-183.4776 196.3361,-176.8789 197.5882,-187.7731 197.5882,-187.7731\"/>\n</g>\n<!-- _plus3&#45;&gt;transpose1 -->\n<g id=\"edge5\" class=\"edge\">\n<title>_plus3&#45;&gt;transpose1</title>\n<path fill=\"none\" stroke=\"#000000\" d=\"M237.6188,-179.0328C242.9458,-170.091 248.5429,-160.6959 253.599,-152.2088\"/>\n<polygon fill=\"#000000\" stroke=\"#000000\" points=\"232.4118,-187.7731 233.6639,-176.8789 234.9708,-183.4776 237.5299,-179.1821 237.5299,-179.1821 237.5299,-179.1821 234.9708,-183.4776 241.3958,-181.4852 232.4118,-187.7731 232.4118,-187.7731\"/>\n</g>\n<!-- reshape1 -->\n<g id=\"node7\" class=\"node\">\n<title>reshape1</title>\n<polygon fill=\"#fdb462\" stroke=\"#000000\" points=\"262,-340 168,-340 168,-282 262,-282 262,-340\"/>\n<text text-anchor=\"middle\" x=\"215\" y=\"-307.3\" font-family=\"Times,serif\" font-size=\"14.00\" fill=\"#000000\">reshape1</text>\n</g>\n<!-- reshape1&#45;&gt;_plus3 -->\n<g id=\"edge6\" class=\"edge\">\n<title>reshape1&#45;&gt;_plus3</title>\n<path fill=\"none\" stroke=\"#000000\" d=\"M215,-271.6321C215,-263.1148 215,-254.2539 215,-246.2088\"/>\n<polygon fill=\"#000000\" stroke=\"#000000\" points=\"215,-281.7731 210.5001,-271.773 215,-276.7731 215.0001,-271.7731 215.0001,-271.7731 215.0001,-271.7731 215,-276.7731 219.5001,-271.7731 215,-281.7731 215,-281.7731\"/>\n</g>\n<!-- broadcast_to1 -->\n<g id=\"node8\" class=\"node\">\n<title>broadcast_to1</title>\n<polygon fill=\"#fccde5\" stroke=\"#000000\" points=\"262,-434 168,-434 168,-376 262,-376 262,-434\"/>\n<text text-anchor=\"middle\" x=\"215\" y=\"-401.3\" font-family=\"Times,serif\" font-size=\"14.00\" fill=\"#000000\">broadcast_to1</text>\n</g>\n<!-- broadcast_to1&#45;&gt;reshape1 -->\n<g id=\"edge7\" class=\"edge\">\n<title>broadcast_to1&#45;&gt;reshape1</title>\n<path fill=\"none\" stroke=\"#000000\" d=\"M215,-365.6321C215,-357.1148 215,-348.2539 215,-340.2088\"/>\n<polygon fill=\"#000000\" stroke=\"#000000\" points=\"215,-375.7731 210.5001,-365.773 215,-370.7731 215.0001,-365.7731 215.0001,-365.7731 215.0001,-365.7731 215,-370.7731 219.5001,-365.7731 215,-375.7731 215,-375.7731\"/>\n</g>\n</g>\n</svg>\n"
          },
          "metadata": {
            "tags": []
          },
          "execution_count": 129
        }
      ]
    },
    {
      "cell_type": "code",
      "metadata": {
        "id": "sj3q9sM5abpA",
        "colab_type": "code",
        "colab": {
          "base_uri": "https://localhost:8080/",
          "height": 234
        },
        "outputId": "58d442a9-1fe6-4916-dad4-8d657f54a60d"
      },
      "source": [
        "## You can see the part of the graph if you want\n",
        "mx.viz.plot_network(symbol=dot)"
      ],
      "execution_count": 130,
      "outputs": [
        {
          "output_type": "execute_result",
          "data": {
            "text/plain": [
              "<graphviz.dot.Digraph at 0x7f894b6ea438>"
            ],
            "image/svg+xml": "<?xml version=\"1.0\" encoding=\"UTF-8\" standalone=\"no\"?>\n<!DOCTYPE svg PUBLIC \"-//W3C//DTD SVG 1.1//EN\"\n \"http://www.w3.org/Graphics/SVG/1.1/DTD/svg11.dtd\">\n<!-- Generated by graphviz version 2.40.1 (20161225.0304)\n -->\n<!-- Title: plot Pages: 1 -->\n<svg width=\"214pt\" height=\"160pt\"\n viewBox=\"0.00 0.00 214.00 160.00\" xmlns=\"http://www.w3.org/2000/svg\" xmlns:xlink=\"http://www.w3.org/1999/xlink\">\n<g id=\"graph0\" class=\"graph\" transform=\"scale(1 1) rotate(0) translate(4 156)\">\n<title>plot</title>\n<polygon fill=\"#ffffff\" stroke=\"transparent\" points=\"-4,4 -4,-156 210,-156 210,4 -4,4\"/>\n<!-- X -->\n<g id=\"node1\" class=\"node\">\n<title>X</title>\n<ellipse fill=\"#8dd3c7\" stroke=\"#000000\" cx=\"47\" cy=\"-29\" rx=\"47\" ry=\"29\"/>\n<text text-anchor=\"middle\" x=\"47\" y=\"-25.3\" font-family=\"Times,serif\" font-size=\"14.00\" fill=\"#000000\">X</text>\n</g>\n<!-- y -->\n<g id=\"node2\" class=\"node\">\n<title>y</title>\n<ellipse fill=\"#8dd3c7\" stroke=\"#000000\" cx=\"159\" cy=\"-29\" rx=\"47\" ry=\"29\"/>\n<text text-anchor=\"middle\" x=\"159\" y=\"-25.3\" font-family=\"Times,serif\" font-size=\"14.00\" fill=\"#000000\">y</text>\n</g>\n<!-- dot1 -->\n<g id=\"node3\" class=\"node\">\n<title>dot1</title>\n<polygon fill=\"#fccde5\" stroke=\"#000000\" points=\"150,-152 56,-152 56,-94 150,-94 150,-152\"/>\n<text text-anchor=\"middle\" x=\"103\" y=\"-119.3\" font-family=\"Times,serif\" font-size=\"14.00\" fill=\"#000000\">dot1</text>\n</g>\n<!-- dot1&#45;&gt;X -->\n<g id=\"edge1\" class=\"edge\">\n<title>dot1&#45;&gt;X</title>\n<path fill=\"none\" stroke=\"#000000\" d=\"M80.4288,-85.1126C74.6818,-75.4659 68.6175,-65.2865 63.2551,-56.2854\"/>\n<polygon fill=\"#000000\" stroke=\"#000000\" points=\"85.5882,-93.7731 76.6042,-87.4852 83.0292,-89.4776 80.4701,-85.1821 80.4701,-85.1821 80.4701,-85.1821 83.0292,-89.4776 84.3361,-82.8789 85.5882,-93.7731 85.5882,-93.7731\"/>\n</g>\n<!-- dot1&#45;&gt;y -->\n<g id=\"edge2\" class=\"edge\">\n<title>dot1&#45;&gt;y</title>\n<path fill=\"none\" stroke=\"#000000\" d=\"M125.5712,-85.1126C131.3182,-75.4659 137.3825,-65.2865 142.7449,-56.2854\"/>\n<polygon fill=\"#000000\" stroke=\"#000000\" points=\"120.4118,-93.7731 121.6639,-82.8789 122.9708,-89.4776 125.5299,-85.1821 125.5299,-85.1821 125.5299,-85.1821 122.9708,-89.4776 129.3958,-87.4852 120.4118,-93.7731 120.4118,-93.7731\"/>\n</g>\n</g>\n</svg>\n"
          },
          "metadata": {
            "tags": []
          },
          "execution_count": 130
        }
      ]
    },
    {
      "cell_type": "code",
      "metadata": {
        "id": "Y7k0Fxrgau7I",
        "colab_type": "code",
        "colab": {}
      },
      "source": [
        "## now we need to feed the data to the graph\n",
        "## we want to deef the data for the dot operation\n",
        "## we need to make two nd array\n",
        "## and then bind it to the dot operation\n",
        "## we will use the numpy array\n",
        "## then convert it ti the nd array\n",
        "import numpy as np\n",
        "def convert(data):\n",
        "  return mx.nd.array(data)\n",
        "\n",
        "x_data = convert(np.array([1,1]))\n",
        "y_data = convert(np.array([2,2])) "
      ],
      "execution_count": 0,
      "outputs": []
    },
    {
      "cell_type": "code",
      "metadata": {
        "id": "245xZmUbbpEx",
        "colab_type": "code",
        "colab": {}
      },
      "source": [
        "## now we bind the data with the the computation graph\n",
        "## it will return a computation graph\n",
        "ctx = mx.cpu();\n",
        "args = {'X':x_data,'y':y_data}\n",
        "executor = dot.bind(ctx=ctx,args=args)"
      ],
      "execution_count": 0,
      "outputs": []
    },
    {
      "cell_type": "code",
      "metadata": {
        "id": "qLX6WE73cJzA",
        "colab_type": "code",
        "colab": {
          "base_uri": "https://localhost:8080/",
          "height": 34
        },
        "outputId": "0f16774c-cd93-4131-f25d-8a4640b86354"
      },
      "source": [
        "print(executor)"
      ],
      "execution_count": 133,
      "outputs": [
        {
          "output_type": "stream",
          "text": [
            "<mxnet.executor.Executor object at 0x7f8947e04630>\n"
          ],
          "name": "stdout"
        }
      ]
    },
    {
      "cell_type": "code",
      "metadata": {
        "id": "_I-K74IxcLbk",
        "colab_type": "code",
        "colab": {
          "base_uri": "https://localhost:8080/",
          "height": 68
        },
        "outputId": "f090e31c-a3d5-4a67-b377-905a1a07bbb3"
      },
      "source": [
        "## t get the output of the calculation\n",
        "## this function will happen\n",
        "print(executor.forward())"
      ],
      "execution_count": 134,
      "outputs": [
        {
          "output_type": "stream",
          "text": [
            "[\n",
            "[4.]\n",
            "<NDArray 1 @cpu(0)>]\n"
          ],
          "name": "stdout"
        }
      ]
    },
    {
      "cell_type": "code",
      "metadata": {
        "id": "fRjRoijpcfli",
        "colab_type": "code",
        "colab": {}
      },
      "source": [
        "## lets make anotheer symbolic function\n",
        "f=X.__pow__(y)"
      ],
      "execution_count": 0,
      "outputs": []
    },
    {
      "cell_type": "code",
      "metadata": {
        "id": "QJEMiLlScxDq",
        "colab_type": "code",
        "colab": {
          "base_uri": "https://localhost:8080/",
          "height": 234
        },
        "outputId": "da1eb601-5969-44fa-95b6-ce8652c9a7c8"
      },
      "source": [
        "## again plot it with the graphviz\n",
        "mx.viz.plot_network(f)"
      ],
      "execution_count": 136,
      "outputs": [
        {
          "output_type": "execute_result",
          "data": {
            "text/plain": [
              "<graphviz.dot.Digraph at 0x7f8947e04438>"
            ],
            "image/svg+xml": "<?xml version=\"1.0\" encoding=\"UTF-8\" standalone=\"no\"?>\n<!DOCTYPE svg PUBLIC \"-//W3C//DTD SVG 1.1//EN\"\n \"http://www.w3.org/Graphics/SVG/1.1/DTD/svg11.dtd\">\n<!-- Generated by graphviz version 2.40.1 (20161225.0304)\n -->\n<!-- Title: plot Pages: 1 -->\n<svg width=\"214pt\" height=\"160pt\"\n viewBox=\"0.00 0.00 214.00 160.00\" xmlns=\"http://www.w3.org/2000/svg\" xmlns:xlink=\"http://www.w3.org/1999/xlink\">\n<g id=\"graph0\" class=\"graph\" transform=\"scale(1 1) rotate(0) translate(4 156)\">\n<title>plot</title>\n<polygon fill=\"#ffffff\" stroke=\"transparent\" points=\"-4,4 -4,-156 210,-156 210,4 -4,4\"/>\n<!-- X -->\n<g id=\"node1\" class=\"node\">\n<title>X</title>\n<ellipse fill=\"#8dd3c7\" stroke=\"#000000\" cx=\"47\" cy=\"-29\" rx=\"47\" ry=\"29\"/>\n<text text-anchor=\"middle\" x=\"47\" y=\"-25.3\" font-family=\"Times,serif\" font-size=\"14.00\" fill=\"#000000\">X</text>\n</g>\n<!-- y -->\n<g id=\"node2\" class=\"node\">\n<title>y</title>\n<ellipse fill=\"#8dd3c7\" stroke=\"#000000\" cx=\"159\" cy=\"-29\" rx=\"47\" ry=\"29\"/>\n<text text-anchor=\"middle\" x=\"159\" y=\"-25.3\" font-family=\"Times,serif\" font-size=\"14.00\" fill=\"#000000\">y</text>\n</g>\n<!-- _power1 -->\n<g id=\"node3\" class=\"node\">\n<title>_power1</title>\n<polygon fill=\"#fccde5\" stroke=\"#000000\" points=\"150,-152 56,-152 56,-94 150,-94 150,-152\"/>\n<text text-anchor=\"middle\" x=\"103\" y=\"-119.3\" font-family=\"Times,serif\" font-size=\"14.00\" fill=\"#000000\">_power1</text>\n</g>\n<!-- _power1&#45;&gt;X -->\n<g id=\"edge1\" class=\"edge\">\n<title>_power1&#45;&gt;X</title>\n<path fill=\"none\" stroke=\"#000000\" d=\"M80.4288,-85.1126C74.6818,-75.4659 68.6175,-65.2865 63.2551,-56.2854\"/>\n<polygon fill=\"#000000\" stroke=\"#000000\" points=\"85.5882,-93.7731 76.6042,-87.4852 83.0292,-89.4776 80.4701,-85.1821 80.4701,-85.1821 80.4701,-85.1821 83.0292,-89.4776 84.3361,-82.8789 85.5882,-93.7731 85.5882,-93.7731\"/>\n</g>\n<!-- _power1&#45;&gt;y -->\n<g id=\"edge2\" class=\"edge\">\n<title>_power1&#45;&gt;y</title>\n<path fill=\"none\" stroke=\"#000000\" d=\"M125.5712,-85.1126C131.3182,-75.4659 137.3825,-65.2865 142.7449,-56.2854\"/>\n<polygon fill=\"#000000\" stroke=\"#000000\" points=\"120.4118,-93.7731 121.6639,-82.8789 122.9708,-89.4776 125.5299,-85.1821 125.5299,-85.1821 125.5299,-85.1821 122.9708,-89.4776 129.3958,-87.4852 120.4118,-93.7731 120.4118,-93.7731\"/>\n</g>\n</g>\n</svg>\n"
          },
          "metadata": {
            "tags": []
          },
          "execution_count": 136
        }
      ]
    },
    {
      "cell_type": "code",
      "metadata": {
        "id": "SpMqE1t2fE7H",
        "colab_type": "code",
        "colab": {}
      },
      "source": [
        "## now we bind out data witht the graph\n",
        "executor = f.bind(mx.cpu(),{'X':convert([3]),'y':convert([2])})"
      ],
      "execution_count": 0,
      "outputs": []
    },
    {
      "cell_type": "code",
      "metadata": {
        "id": "KVyZQ7XPfbbD",
        "colab_type": "code",
        "colab": {
          "base_uri": "https://localhost:8080/",
          "height": 68
        },
        "outputId": "b4e007e9-4439-4dda-c979-d44af0586d3b"
      },
      "source": [
        "executor.forward()"
      ],
      "execution_count": 138,
      "outputs": [
        {
          "output_type": "execute_result",
          "data": {
            "text/plain": [
              "[\n",
              " [9.]\n",
              " <NDArray 1 @cpu(0)>]"
            ]
          },
          "metadata": {
            "tags": []
          },
          "execution_count": 138
        }
      ]
    },
    {
      "cell_type": "code",
      "metadata": {
        "id": "LdqwWq2dfdV0",
        "colab_type": "code",
        "colab": {}
      },
      "source": [
        "## so thats how we feed a network data and do calculation\n",
        "## we can further exytend this gaph\n",
        "result = f.__sub__(z.sqrt())\n",
        "executor = f.bind(mx.cpu(),{'X':convert([3]),'y':convert([3]),'z':convert([9])})"
      ],
      "execution_count": 0,
      "outputs": []
    },
    {
      "cell_type": "code",
      "metadata": {
        "id": "GMIODWiaf_t-",
        "colab_type": "code",
        "colab": {
          "base_uri": "https://localhost:8080/",
          "height": 68
        },
        "outputId": "0aea6938-16c9-487b-8a7d-44b75c75e6c9"
      },
      "source": [
        "print(executor.forward())"
      ],
      "execution_count": 140,
      "outputs": [
        {
          "output_type": "stream",
          "text": [
            "[\n",
            "[27.]\n",
            "<NDArray 1 @cpu(0)>]\n"
          ],
          "name": "stdout"
        }
      ]
    },
    {
      "cell_type": "code",
      "metadata": {
        "id": "ezhVSY2NgQr_",
        "colab_type": "code",
        "colab": {
          "base_uri": "https://localhost:8080/",
          "height": 359
        },
        "outputId": "c5c70208-fc53-4c1b-95be-ffc2a6004f59"
      },
      "source": [
        "mx.viz.plot_network(result)"
      ],
      "execution_count": 141,
      "outputs": [
        {
          "output_type": "execute_result",
          "data": {
            "text/plain": [
              "<graphviz.dot.Digraph at 0x7f8947e04be0>"
            ],
            "image/svg+xml": "<?xml version=\"1.0\" encoding=\"UTF-8\" standalone=\"no\"?>\n<!DOCTYPE svg PUBLIC \"-//W3C//DTD SVG 1.1//EN\"\n \"http://www.w3.org/Graphics/SVG/1.1/DTD/svg11.dtd\">\n<!-- Generated by graphviz version 2.40.1 (20161225.0304)\n -->\n<!-- Title: plot Pages: 1 -->\n<svg width=\"326pt\" height=\"254pt\"\n viewBox=\"0.00 0.00 326.00 254.00\" xmlns=\"http://www.w3.org/2000/svg\" xmlns:xlink=\"http://www.w3.org/1999/xlink\">\n<g id=\"graph0\" class=\"graph\" transform=\"scale(1 1) rotate(0) translate(4 250)\">\n<title>plot</title>\n<polygon fill=\"#ffffff\" stroke=\"transparent\" points=\"-4,4 -4,-250 322,-250 322,4 -4,4\"/>\n<!-- X -->\n<g id=\"node1\" class=\"node\">\n<title>X</title>\n<ellipse fill=\"#8dd3c7\" stroke=\"#000000\" cx=\"47\" cy=\"-29\" rx=\"47\" ry=\"29\"/>\n<text text-anchor=\"middle\" x=\"47\" y=\"-25.3\" font-family=\"Times,serif\" font-size=\"14.00\" fill=\"#000000\">X</text>\n</g>\n<!-- y -->\n<g id=\"node2\" class=\"node\">\n<title>y</title>\n<ellipse fill=\"#8dd3c7\" stroke=\"#000000\" cx=\"159\" cy=\"-29\" rx=\"47\" ry=\"29\"/>\n<text text-anchor=\"middle\" x=\"159\" y=\"-25.3\" font-family=\"Times,serif\" font-size=\"14.00\" fill=\"#000000\">y</text>\n</g>\n<!-- _power1 -->\n<g id=\"node3\" class=\"node\">\n<title>_power1</title>\n<polygon fill=\"#fccde5\" stroke=\"#000000\" points=\"206,-152 112,-152 112,-94 206,-94 206,-152\"/>\n<text text-anchor=\"middle\" x=\"159\" y=\"-119.3\" font-family=\"Times,serif\" font-size=\"14.00\" fill=\"#000000\">_power1</text>\n</g>\n<!-- _power1&#45;&gt;X -->\n<g id=\"edge1\" class=\"edge\">\n<title>_power1&#45;&gt;X</title>\n<path fill=\"none\" stroke=\"#000000\" d=\"M116.2159,-87.0919C102.4266,-75.5188 87.5036,-62.9941 75.0568,-52.5477\"/>\n<polygon fill=\"#000000\" stroke=\"#000000\" points=\"124.1764,-93.7731 113.6237,-90.7912 120.3466,-90.5587 116.5167,-87.3443 116.5167,-87.3443 116.5167,-87.3443 120.3466,-90.5587 119.4096,-83.8974 124.1764,-93.7731 124.1764,-93.7731\"/>\n</g>\n<!-- _power1&#45;&gt;y -->\n<g id=\"edge2\" class=\"edge\">\n<title>_power1&#45;&gt;y</title>\n<path fill=\"none\" stroke=\"#000000\" d=\"M159,-83.6321C159,-75.1148 159,-66.2539 159,-58.2088\"/>\n<polygon fill=\"#000000\" stroke=\"#000000\" points=\"159,-93.7731 154.5001,-83.773 159,-88.7731 159.0001,-83.7731 159.0001,-83.7731 159.0001,-83.7731 159,-88.7731 163.5001,-83.7731 159,-93.7731 159,-93.7731\"/>\n</g>\n<!-- z -->\n<g id=\"node4\" class=\"node\">\n<title>z</title>\n<ellipse fill=\"#8dd3c7\" stroke=\"#000000\" cx=\"271\" cy=\"-29\" rx=\"47\" ry=\"29\"/>\n<text text-anchor=\"middle\" x=\"271\" y=\"-25.3\" font-family=\"Times,serif\" font-size=\"14.00\" fill=\"#000000\">z</text>\n</g>\n<!-- sqrt1 -->\n<g id=\"node5\" class=\"node\">\n<title>sqrt1</title>\n<polygon fill=\"#fccde5\" stroke=\"#000000\" points=\"318,-152 224,-152 224,-94 318,-94 318,-152\"/>\n<text text-anchor=\"middle\" x=\"271\" y=\"-119.3\" font-family=\"Times,serif\" font-size=\"14.00\" fill=\"#000000\">sqrt1</text>\n</g>\n<!-- sqrt1&#45;&gt;z -->\n<g id=\"edge3\" class=\"edge\">\n<title>sqrt1&#45;&gt;z</title>\n<path fill=\"none\" stroke=\"#000000\" d=\"M271,-83.6321C271,-75.1148 271,-66.2539 271,-58.2088\"/>\n<polygon fill=\"#000000\" stroke=\"#000000\" points=\"271,-93.7731 266.5001,-83.773 271,-88.7731 271.0001,-83.7731 271.0001,-83.7731 271.0001,-83.7731 271,-88.7731 275.5001,-83.7731 271,-93.7731 271,-93.7731\"/>\n</g>\n<!-- _minus1 -->\n<g id=\"node6\" class=\"node\">\n<title>_minus1</title>\n<polygon fill=\"#fccde5\" stroke=\"#000000\" points=\"262,-246 168,-246 168,-188 262,-188 262,-246\"/>\n<text text-anchor=\"middle\" x=\"215\" y=\"-213.3\" font-family=\"Times,serif\" font-size=\"14.00\" fill=\"#000000\">_minus1</text>\n</g>\n<!-- _minus1&#45;&gt;_power1 -->\n<g id=\"edge4\" class=\"edge\">\n<title>_minus1&#45;&gt;_power1</title>\n<path fill=\"none\" stroke=\"#000000\" d=\"M192.3812,-179.0328C187.0542,-170.091 181.4571,-160.6959 176.401,-152.2088\"/>\n<polygon fill=\"#000000\" stroke=\"#000000\" points=\"197.5882,-187.7731 188.6042,-181.4852 195.0292,-183.4776 192.4701,-179.1821 192.4701,-179.1821 192.4701,-179.1821 195.0292,-183.4776 196.3361,-176.8789 197.5882,-187.7731 197.5882,-187.7731\"/>\n</g>\n<!-- _minus1&#45;&gt;sqrt1 -->\n<g id=\"edge5\" class=\"edge\">\n<title>_minus1&#45;&gt;sqrt1</title>\n<path fill=\"none\" stroke=\"#000000\" d=\"M237.6188,-179.0328C242.9458,-170.091 248.5429,-160.6959 253.599,-152.2088\"/>\n<polygon fill=\"#000000\" stroke=\"#000000\" points=\"232.4118,-187.7731 233.6639,-176.8789 234.9708,-183.4776 237.5299,-179.1821 237.5299,-179.1821 237.5299,-179.1821 234.9708,-183.4776 241.3958,-181.4852 232.4118,-187.7731 232.4118,-187.7731\"/>\n</g>\n</g>\n</svg>\n"
          },
          "metadata": {
            "tags": []
          },
          "execution_count": 141
        }
      ]
    },
    {
      "cell_type": "code",
      "metadata": {
        "id": "7-VorSF_gg35",
        "colab_type": "code",
        "colab": {}
      },
      "source": [
        "## mx net provide the Data iterators so we can feed the data \n",
        "## in batchs it gives us the data iterator"
      ],
      "execution_count": 0,
      "outputs": []
    },
    {
      "cell_type": "code",
      "metadata": {
        "id": "Wm2tmgyQhMZO",
        "colab_type": "code",
        "colab": {}
      },
      "source": [
        "### we make some dummy data\n",
        "data = np.random.rand(300,3)"
      ],
      "execution_count": 0,
      "outputs": []
    },
    {
      "cell_type": "code",
      "metadata": {
        "id": "-YAHZdb1hT_8",
        "colab_type": "code",
        "colab": {}
      },
      "source": [
        "#print(data)\n",
        "## so we have three column with 300 row random value\n",
        "## now we make 300 target all are from 0-9 \n",
        "label = np.random.randint(0,10,(300,))"
      ],
      "execution_count": 0,
      "outputs": []
    },
    {
      "cell_type": "code",
      "metadata": {
        "id": "AfPfc2DGhVmT",
        "colab_type": "code",
        "colab": {
          "base_uri": "https://localhost:8080/",
          "height": 171
        },
        "outputId": "649e5be4-d0c9-4137-f3cb-ea22bd351a49"
      },
      "source": [
        "print(label)  ## we dont define any column so its a array of 300 value"
      ],
      "execution_count": 145,
      "outputs": [
        {
          "output_type": "stream",
          "text": [
            "[6 7 3 3 3 0 1 0 7 3 8 6 9 7 8 2 2 1 0 4 8 6 1 1 1 9 0 5 4 1 6 2 9 8 7 2 6\n",
            " 3 1 7 8 6 1 2 0 8 8 1 8 3 1 9 5 2 5 0 9 2 4 9 5 7 4 3 1 7 3 3 9 3 6 5 7 8\n",
            " 8 7 2 6 3 3 5 6 0 7 0 5 8 0 7 2 1 8 8 4 5 1 8 8 8 8 8 9 9 4 4 5 2 7 7 8 0\n",
            " 7 3 6 4 2 9 2 9 3 7 5 8 4 4 3 3 5 3 3 8 1 8 6 7 3 1 7 8 6 3 8 6 6 6 3 3 3\n",
            " 8 6 7 2 8 4 3 7 1 8 5 1 1 9 8 0 5 4 4 5 1 8 1 0 9 9 4 1 4 5 8 5 8 5 5 2 7\n",
            " 8 3 7 0 4 2 2 6 9 1 7 4 1 1 9 4 6 8 0 0 8 0 2 9 7 5 6 6 3 1 2 7 6 4 4 6 6\n",
            " 7 4 9 1 9 4 1 7 9 2 8 7 2 8 6 2 5 7 5 1 2 1 5 1 8 5 9 0 6 3 1 8 7 2 6 4 9\n",
            " 9 3 8 3 6 2 7 7 7 2 1 4 0 3 3 9 6 5 1 6 4 4 1 7 9 2 2 0 7 5 1 7 2 1 2 7 9\n",
            " 5 1 0 1]\n"
          ],
          "name": "stdout"
        }
      ]
    },
    {
      "cell_type": "code",
      "metadata": {
        "id": "UidDvRd2hr7u",
        "colab_type": "code",
        "colab": {}
      },
      "source": [
        "## now making the data iterator like pytorh and make data iterator\n",
        "## for feeding the data in batches\n",
        "## and now wee feed the whole data to make the data iterator\n",
        "data_iter = mx.io.NDArrayIter(data={'features':data},label={'labels':label},shuffle=True,batch_size=50)"
      ],
      "execution_count": 0,
      "outputs": []
    },
    {
      "cell_type": "code",
      "metadata": {
        "id": "jNEkq189it1A",
        "colab_type": "code",
        "colab": {
          "base_uri": "https://localhost:8080/",
          "height": 34
        },
        "outputId": "fe082b78-236d-4181-eec2-973e82c26d63"
      },
      "source": [
        "data_iter ## we get a iterator object"
      ],
      "execution_count": 147,
      "outputs": [
        {
          "output_type": "execute_result",
          "data": {
            "text/plain": [
              "<mxnet.io.io.NDArrayIter at 0x7f8947e04c88>"
            ]
          },
          "metadata": {
            "tags": []
          },
          "execution_count": 147
        }
      ]
    },
    {
      "cell_type": "code",
      "metadata": {
        "id": "D2fYSY8Siu48",
        "colab_type": "code",
        "colab": {
          "base_uri": "https://localhost:8080/",
          "height": 34
        },
        "outputId": "6d91bf72-f5ee-4106-e290-f5d0a6ca2cd1"
      },
      "source": [
        "## name and shape of the data on every epochs is found by this\n",
        "data_iter.provide_data"
      ],
      "execution_count": 148,
      "outputs": [
        {
          "output_type": "execute_result",
          "data": {
            "text/plain": [
              "[DataDesc[features,(50, 3),<class 'numpy.float32'>,NCHW]]"
            ]
          },
          "metadata": {
            "tags": []
          },
          "execution_count": 148
        }
      ]
    },
    {
      "cell_type": "code",
      "metadata": {
        "id": "---7j7dGjFhe",
        "colab_type": "code",
        "colab": {
          "base_uri": "https://localhost:8080/",
          "height": 1000
        },
        "outputId": "d4b6a748-6b04-4ce0-e985-f3eb576712f7"
      },
      "source": [
        "### you can use simple for loop to get the data\n",
        "batch_num  = 1\n",
        "for batch in data_iter:\n",
        "  print(\"----------------{}-------------\".format(batch_num))\n",
        "  print(batch.data,batch.label)\n",
        "  batch_num+=1"
      ],
      "execution_count": 149,
      "outputs": [
        {
          "output_type": "stream",
          "text": [
            "----------------1-------------\n",
            "[\n",
            "[[0.7695312  0.75561327 0.38409194]\n",
            " [0.89943206 0.19075392 0.1434713 ]\n",
            " [0.16502027 0.7209149  0.9511012 ]\n",
            " [0.7616722  0.09582645 0.00197773]\n",
            " [0.16670811 0.31409714 0.24634394]\n",
            " [0.47728986 0.08905558 0.89733326]\n",
            " [0.32365543 0.8441784  0.18544674]\n",
            " [0.8996223  0.1882214  0.21418056]\n",
            " [0.02790751 0.7256313  0.18369678]\n",
            " [0.15172063 0.43550143 0.7748512 ]\n",
            " [0.18209718 0.87601686 0.47221383]\n",
            " [0.06484019 0.17536557 0.01739547]\n",
            " [0.8235386  0.44964236 0.07243963]\n",
            " [0.291284   0.9611129  0.45171925]\n",
            " [0.07609767 0.61925083 0.5081568 ]\n",
            " [0.43453705 0.2367745  0.78731805]\n",
            " [0.62256914 0.42908382 0.4197794 ]\n",
            " [0.54642    0.95257074 0.6002535 ]\n",
            " [0.8759781  0.24298364 0.29429004]\n",
            " [0.47537062 0.9993271  0.27622285]\n",
            " [0.45931572 0.5663182  0.8644604 ]\n",
            " [0.5315121  0.41037214 0.66710186]\n",
            " [0.672603   0.58393776 0.48604587]\n",
            " [0.85188377 0.26488155 0.5411986 ]\n",
            " [0.4013673  0.18849024 0.7556426 ]\n",
            " [0.07385068 0.83909273 0.02867885]\n",
            " [0.14649619 0.73456186 0.46606198]\n",
            " [0.7032746  0.19656435 0.5799516 ]\n",
            " [0.6740013  0.60235876 0.7787618 ]\n",
            " [0.22022855 0.46482563 0.24524833]\n",
            " [0.5821749  0.62187386 0.4202547 ]\n",
            " [0.1477898  0.7189599  0.31926307]\n",
            " [0.13637133 0.09340494 0.32520053]\n",
            " [0.4435161  0.2139115  0.50922984]\n",
            " [0.6557036  0.5348253  0.92826295]\n",
            " [0.5151863  0.5654592  0.6302843 ]\n",
            " [0.5471183  0.64314944 0.92312557]\n",
            " [0.48007736 0.20078748 0.16131455]\n",
            " [0.13573842 0.2140881  0.62760264]\n",
            " [0.5179314  0.54907876 0.07893393]\n",
            " [0.36448142 0.6046863  0.00979442]\n",
            " [0.43707332 0.6060288  0.15663046]\n",
            " [0.22493273 0.09096252 0.38325816]\n",
            " [0.50711477 0.519815   0.42253095]\n",
            " [0.11989971 0.5372627  0.53933394]\n",
            " [0.02860005 0.15181962 0.14089967]\n",
            " [0.10957164 0.16904289 0.04802579]\n",
            " [0.60821813 0.9901492  0.87414217]\n",
            " [0.29794273 0.30071354 0.25982562]\n",
            " [0.6373726  0.27803376 0.57077295]]\n",
            "<NDArray 50x3 @cpu(0)>] [\n",
            "[7. 6. 8. 9. 9. 5. 4. 0. 8. 8. 3. 0. 6. 7. 1. 7. 7. 4. 2. 7. 8. 0. 4. 7.\n",
            " 1. 9. 3. 2. 9. 6. 3. 2. 1. 2. 1. 2. 8. 8. 9. 5. 9. 6. 4. 3. 8. 0. 5. 1.\n",
            " 6. 7.]\n",
            "<NDArray 50 @cpu(0)>]\n",
            "----------------2-------------\n",
            "[\n",
            "[[0.40003073 0.02152134 0.16804528]\n",
            " [0.4149841  0.305026   0.97299427]\n",
            " [0.15966892 0.96208936 0.8957816 ]\n",
            " [0.05480276 0.04100245 0.4280147 ]\n",
            " [0.46783784 0.9559065  0.5611371 ]\n",
            " [0.35155943 0.9504929  0.16144742]\n",
            " [0.5928164  0.31959307 0.86325824]\n",
            " [0.20954487 0.45784202 0.50476706]\n",
            " [0.9143715  0.95955163 0.7592281 ]\n",
            " [0.6259424  0.42205697 0.19495863]\n",
            " [0.6254289  0.91152185 0.19091794]\n",
            " [0.8183658  0.5809343  0.8471797 ]\n",
            " [0.13123356 0.34344438 0.4152482 ]\n",
            " [0.80380374 0.27502605 0.3493154 ]\n",
            " [0.8663478  0.7584867  0.949655  ]\n",
            " [0.125838   0.11822067 0.1745079 ]\n",
            " [0.19061047 0.0534589  0.83519524]\n",
            " [0.6190796  0.3981964  0.42313516]\n",
            " [0.52398914 0.9696566  0.87642336]\n",
            " [0.20611234 0.14262612 0.79816306]\n",
            " [0.9743641  0.7387222  0.99882984]\n",
            " [0.5101783  0.78991044 0.32688525]\n",
            " [0.8804047  0.18492039 0.23603335]\n",
            " [0.97185344 0.59059757 0.56640184]\n",
            " [0.8781868  0.22709736 0.7444704 ]\n",
            " [0.34378698 0.44250822 0.17637473]\n",
            " [0.29113215 0.1055678  0.2529314 ]\n",
            " [0.7212242  0.8341628  0.14821601]\n",
            " [0.5291799  0.9142507  0.01927348]\n",
            " [0.7810645  0.27536806 0.31186375]\n",
            " [0.96943766 0.852371   0.2408308 ]\n",
            " [0.45232153 0.24178039 0.6412799 ]\n",
            " [0.95957905 0.18563923 0.82118726]\n",
            " [0.68688107 0.47390804 0.75696963]\n",
            " [0.90486777 0.6470375  0.56679046]\n",
            " [0.27980366 0.9667083  0.23231527]\n",
            " [0.48893574 0.30307406 0.6067886 ]\n",
            " [0.9897292  0.4653464  0.3880472 ]\n",
            " [0.31757265 0.8356911  0.24227703]\n",
            " [0.85793847 0.0067899  0.12170617]\n",
            " [0.10048275 0.15590471 0.05406643]\n",
            " [0.39419678 0.38879615 0.76037633]\n",
            " [0.5172331  0.31360677 0.9082567 ]\n",
            " [0.39621148 0.38365108 0.3396803 ]\n",
            " [0.28191033 0.18100996 0.02510512]\n",
            " [0.17599317 0.69764817 0.52354914]\n",
            " [0.33118525 0.34437382 0.9808435 ]\n",
            " [0.7548998  0.38090116 0.4978501 ]\n",
            " [0.6244932  0.8160146  0.62174386]\n",
            " [0.29796267 0.8804305  0.79550105]]\n",
            "<NDArray 50x3 @cpu(0)>] [\n",
            "[9. 5. 1. 8. 5. 1. 2. 4. 6. 3. 6. 5. 2. 7. 5. 5. 6. 2. 0. 3. 8. 1. 5. 7.\n",
            " 3. 7. 6. 8. 1. 1. 9. 0. 4. 4. 3. 8. 1. 8. 1. 1. 3. 3. 1. 1. 4. 8. 7. 7.\n",
            " 6. 8.]\n",
            "<NDArray 50 @cpu(0)>]\n",
            "----------------3-------------\n",
            "[\n",
            "[[8.87488902e-01 3.37997973e-01 7.06145287e-01]\n",
            " [5.05753875e-01 7.32381880e-01 1.69006690e-01]\n",
            " [3.54311436e-01 7.38193274e-01 2.92938590e-01]\n",
            " [7.72876799e-01 8.05811942e-01 7.38470435e-01]\n",
            " [7.40271091e-01 9.08067703e-01 6.65760458e-01]\n",
            " [7.48833656e-01 6.67185843e-01 7.70218611e-01]\n",
            " [8.87445062e-02 3.38042617e-01 6.12980843e-01]\n",
            " [6.65409327e-01 7.92711139e-01 9.53850091e-01]\n",
            " [8.81059408e-01 4.23241377e-01 9.12949026e-01]\n",
            " [6.70922041e-01 1.47476271e-01 6.95319653e-01]\n",
            " [1.34500489e-01 5.80420852e-01 5.58894575e-01]\n",
            " [8.86939347e-01 7.92163312e-01 9.71078694e-01]\n",
            " [3.38403761e-01 1.72494963e-01 9.37330306e-01]\n",
            " [4.30437982e-01 9.09360051e-02 7.61955798e-01]\n",
            " [6.09615028e-01 5.03040314e-01 7.52270937e-01]\n",
            " [5.59177458e-01 6.92636549e-01 7.28660166e-01]\n",
            " [9.46194232e-01 2.22142935e-01 7.39222169e-01]\n",
            " [1.20550774e-01 5.01940310e-01 6.74825370e-01]\n",
            " [4.19372708e-01 4.56738949e-01 4.40961212e-01]\n",
            " [3.89365584e-01 2.89014101e-01 4.19237077e-01]\n",
            " [6.08300388e-01 8.66009951e-01 5.24486154e-02]\n",
            " [3.17569375e-01 7.14010596e-01 2.28367448e-02]\n",
            " [4.18998718e-01 2.94664055e-01 8.59527886e-02]\n",
            " [8.68386924e-02 2.68932521e-01 6.32831514e-01]\n",
            " [5.33906162e-01 2.89614707e-01 5.35301007e-02]\n",
            " [2.46646762e-01 1.23595037e-01 3.31102580e-01]\n",
            " [8.31680536e-01 4.86197531e-01 9.98574913e-01]\n",
            " [9.33863401e-01 1.19334541e-01 5.93008220e-01]\n",
            " [5.97979486e-01 5.56483343e-02 9.43551719e-01]\n",
            " [1.38609037e-01 1.57348648e-01 2.91705847e-01]\n",
            " [5.42493939e-01 7.83627868e-01 9.84923363e-01]\n",
            " [9.77792323e-01 9.78878498e-01 9.46853876e-01]\n",
            " [3.45295787e-01 5.12213826e-01 8.98308218e-01]\n",
            " [2.05276236e-01 7.98638761e-01 1.45235762e-01]\n",
            " [7.37449408e-01 6.32731736e-01 7.09847391e-01]\n",
            " [9.56966102e-01 7.81825542e-01 7.29795218e-01]\n",
            " [7.21714318e-01 9.91779566e-01 4.46451604e-01]\n",
            " [8.48285079e-01 4.13926929e-01 7.75250196e-01]\n",
            " [5.20685911e-01 3.28359723e-01 5.78820050e-01]\n",
            " [8.04444015e-01 8.00282061e-01 8.95701528e-01]\n",
            " [2.08398476e-01 4.01419222e-01 6.09364510e-01]\n",
            " [4.27166029e-04 6.55655444e-01 4.37569395e-02]\n",
            " [3.91160548e-01 9.75895524e-01 8.60471785e-01]\n",
            " [7.58221924e-01 4.17647243e-01 6.97854519e-01]\n",
            " [5.31265914e-01 5.25830448e-01 8.17678332e-01]\n",
            " [7.16175020e-01 7.11393431e-02 1.76834553e-01]\n",
            " [2.65137702e-01 4.99104708e-01 2.99705118e-01]\n",
            " [6.29541934e-01 7.36838281e-01 9.71619606e-01]\n",
            " [5.72650969e-01 9.16136503e-01 9.28799331e-01]\n",
            " [4.15483534e-01 2.66980708e-01 4.59575742e-01]]\n",
            "<NDArray 50x3 @cpu(0)>] [\n",
            "[9. 1. 9. 2. 8. 5. 2. 0. 4. 3. 1. 2. 4. 4. 7. 5. 1. 1. 4. 9. 8. 2. 2. 9.\n",
            " 1. 5. 9. 3. 7. 9. 4. 4. 1. 0. 8. 8. 4. 2. 4. 9. 1. 0. 8. 3. 8. 6. 7. 4.\n",
            " 2. 6.]\n",
            "<NDArray 50 @cpu(0)>]\n",
            "----------------4-------------\n",
            "[\n",
            "[[0.92573136 0.9529619  0.47568464]\n",
            " [0.18296608 0.7566542  0.16171202]\n",
            " [0.06291282 0.41057482 0.19721802]\n",
            " [0.10676961 0.5645967  0.82753146]\n",
            " [0.9176554  0.7445946  0.9021375 ]\n",
            " [0.07824545 0.04884171 0.6848874 ]\n",
            " [0.36181945 0.7638851  0.44045472]\n",
            " [0.9964682  0.7641164  0.9661069 ]\n",
            " [0.26830083 0.32726306 0.88073105]\n",
            " [0.38004684 0.07933904 0.68216   ]\n",
            " [0.59196097 0.6224865  0.8725602 ]\n",
            " [0.69296086 0.32846656 0.6571797 ]\n",
            " [0.7662507  0.83446383 0.05980713]\n",
            " [0.6523869  0.3620614  0.6785326 ]\n",
            " [0.7311436  0.85139877 0.72153753]\n",
            " [0.80731136 0.48545033 0.0115369 ]\n",
            " [0.35348612 0.37112144 0.607695  ]\n",
            " [0.960992   0.8276611  0.35595998]\n",
            " [0.63296884 0.16390507 0.33576527]\n",
            " [0.5371813  0.92879254 0.6453856 ]\n",
            " [0.44020042 0.34250927 0.61192966]\n",
            " [0.7910809  0.38349107 0.10911474]\n",
            " [0.47357488 0.24528985 0.47425896]\n",
            " [0.6532504  0.6462772  0.4459076 ]\n",
            " [0.08699047 0.4581969  0.9755113 ]\n",
            " [0.41241848 0.07162341 0.6547333 ]\n",
            " [0.31235415 0.53881264 0.64399695]\n",
            " [0.49781227 0.02319543 0.92947155]\n",
            " [0.68844503 0.65203035 0.6816396 ]\n",
            " [0.8293763  0.9672963  0.3630396 ]\n",
            " [0.8742054  0.30407554 0.27223787]\n",
            " [0.6699873  0.25396815 0.8352564 ]\n",
            " [0.7200465  0.47424647 0.52875787]\n",
            " [0.65337217 0.3482831  0.5467728 ]\n",
            " [0.5012462  0.6663465  0.22621185]\n",
            " [0.01995351 0.37160775 0.8242847 ]\n",
            " [0.03509701 0.10092606 0.11837235]\n",
            " [0.60494524 0.8658121  0.56039   ]\n",
            " [0.42667824 0.210664   0.43340835]\n",
            " [0.37889794 0.6090537  0.80334103]\n",
            " [0.14599854 0.36742112 0.46658978]\n",
            " [0.10241145 0.1343865  0.58076125]\n",
            " [0.03400152 0.34386912 0.8257308 ]\n",
            " [0.3959278  0.753557   0.29652143]\n",
            " [0.6841423  0.10628692 0.9303759 ]\n",
            " [0.14840385 0.40506592 0.03465411]\n",
            " [0.6673755  0.9533072  0.8465869 ]\n",
            " [0.8366741  0.4204384  0.60146075]\n",
            " [0.19018094 0.40696234 0.94518167]\n",
            " [0.86714506 0.03258611 0.15281782]]\n",
            "<NDArray 50x3 @cpu(0)>] [\n",
            "[8. 8. 1. 5. 0. 7. 2. 2. 4. 2. 8. 1. 1. 7. 3. 2. 6. 7. 8. 6. 2. 1. 1. 1.\n",
            " 6. 3. 9. 2. 3. 1. 9. 2. 3. 7. 7. 2. 4. 6. 0. 8. 1. 6. 9. 2. 9. 6. 8. 0.\n",
            " 9. 5.]\n",
            "<NDArray 50 @cpu(0)>]\n",
            "----------------5-------------\n",
            "[\n",
            "[[0.23892847 0.9054662  0.635415  ]\n",
            " [0.56120205 0.359204   0.06283357]\n",
            " [0.56809014 0.187983   0.8235186 ]\n",
            " [0.6515298  0.11326775 0.56766856]\n",
            " [0.19533466 0.80624944 0.33633676]\n",
            " [0.37303776 0.67194    0.5635904 ]\n",
            " [0.49289417 0.31512052 0.38358673]\n",
            " [0.62927186 0.58478844 0.7680357 ]\n",
            " [0.15090902 0.67051125 0.94962615]\n",
            " [0.4179873  0.0624359  0.29913172]\n",
            " [0.0092632  0.19181688 0.17718577]\n",
            " [0.7286826  0.9268007  0.14531694]\n",
            " [0.2652661  0.16945073 0.1609785 ]\n",
            " [0.7308479  0.5300083  0.8891322 ]\n",
            " [0.16718186 0.9629552  0.16349131]\n",
            " [0.06687445 0.184589   0.7296468 ]\n",
            " [0.947408   0.71504605 0.49731365]\n",
            " [0.41519204 0.4739381  0.13583623]\n",
            " [0.418441   0.79167455 0.03978253]\n",
            " [0.9875953  0.30205745 0.5462551 ]\n",
            " [0.981473   0.28175473 0.3189886 ]\n",
            " [0.83063257 0.477676   0.06084523]\n",
            " [0.8335568  0.5045406  0.18051854]\n",
            " [0.7391008  0.8943056  0.57264686]\n",
            " [0.61475146 0.6988432  0.6750516 ]\n",
            " [0.6604185  0.9171203  0.11708038]\n",
            " [0.43635935 0.15333775 0.25192204]\n",
            " [0.50074905 0.75891954 0.0933823 ]\n",
            " [0.34403086 0.58976656 0.96581787]\n",
            " [0.6828592  0.30938497 0.5915849 ]\n",
            " [0.36766988 0.90442824 0.57457644]\n",
            " [0.22919543 0.20262681 0.23530492]\n",
            " [0.92514855 0.24372752 0.03118734]\n",
            " [0.16460826 0.9755402  0.08992917]\n",
            " [0.02305178 0.12430317 0.7039931 ]\n",
            " [0.1394269  0.8114934  0.17589024]\n",
            " [0.09905761 0.37059322 0.28260797]\n",
            " [0.9665026  0.15703872 0.05436055]\n",
            " [0.86216825 0.82924354 0.3668783 ]\n",
            " [0.44140106 0.8503588  0.37472382]\n",
            " [0.9938467  0.98187727 0.75219786]\n",
            " [0.91467273 0.6680219  0.08899901]\n",
            " [0.8517171  0.18017262 0.7983027 ]\n",
            " [0.19862379 0.25390846 0.24429414]\n",
            " [0.4275512  0.77910405 0.56173474]\n",
            " [0.08110217 0.78254867 0.8434927 ]\n",
            " [0.02768144 0.46122947 0.5024764 ]\n",
            " [0.1466016  0.6585901  0.1058777 ]\n",
            " [0.06719168 0.02378812 0.84515375]\n",
            " [0.38189626 0.01068746 0.24950457]]\n",
            "<NDArray 50x3 @cpu(0)>] [\n",
            "[7. 6. 8. 1. 0. 2. 3. 4. 1. 8. 5. 7. 5. 6. 8. 8. 9. 5. 5. 8. 6. 6. 5. 1.\n",
            " 7. 5. 3. 5. 0. 1. 6. 7. 6. 3. 5. 3. 7. 4. 4. 3. 7. 7. 7. 8. 4. 5. 1. 5.\n",
            " 1. 1.]\n",
            "<NDArray 50 @cpu(0)>]\n",
            "----------------6-------------\n",
            "[\n",
            "[[0.60002846 0.36648855 0.06953409]\n",
            " [0.2153341  0.24029447 0.12285884]\n",
            " [0.7379355  0.55745274 0.5519364 ]\n",
            " [0.39694908 0.26630872 0.24103732]\n",
            " [0.9164052  0.7748295  0.21656363]\n",
            " [0.07108313 0.62754554 0.14450862]\n",
            " [0.06007179 0.31374273 0.65596783]\n",
            " [0.48738453 0.16675478 0.92245793]\n",
            " [0.47737926 0.29934263 0.5892428 ]\n",
            " [0.34089693 0.2790703  0.35644355]\n",
            " [0.81900907 0.47057366 0.5923425 ]\n",
            " [0.533245   0.6137085  0.3174524 ]\n",
            " [0.75377196 0.5056321  0.57429004]\n",
            " [0.28125235 0.10187896 0.60530514]\n",
            " [0.3233422  0.773547   0.3144307 ]\n",
            " [0.4517725  0.33206487 0.36724025]\n",
            " [0.17902821 0.7165902  0.848726  ]\n",
            " [0.6676308  0.76607126 0.94594747]\n",
            " [0.18517278 0.33590057 0.18300653]\n",
            " [0.11013159 0.58110124 0.48588753]\n",
            " [0.29425508 0.2709842  0.6610704 ]\n",
            " [0.8997765  0.78327    0.82189596]\n",
            " [0.63088703 0.49893358 0.42571583]\n",
            " [0.20705976 0.3298334  0.38583243]\n",
            " [0.83597475 0.5230867  0.4287902 ]\n",
            " [0.14976582 0.25708818 0.35990515]\n",
            " [0.45404318 0.6526742  0.7815202 ]\n",
            " [0.4197674  0.79932094 0.5374694 ]\n",
            " [0.28492874 0.7843553  0.5927041 ]\n",
            " [0.1485736  0.47797137 0.24007444]\n",
            " [0.1547531  0.15287346 0.5881193 ]\n",
            " [0.20040293 0.46452206 0.7194559 ]\n",
            " [0.35097373 0.1370127  0.5096063 ]\n",
            " [0.83580005 0.7330649  0.08770602]\n",
            " [0.5240737  0.7285798  0.64740795]\n",
            " [0.23995583 0.20020325 0.41258606]\n",
            " [0.9399159  0.7912616  0.9702373 ]\n",
            " [0.3998886  0.2704758  0.04423973]\n",
            " [0.7589636  0.32292992 0.89561075]\n",
            " [0.7390146  0.05363628 0.7709986 ]\n",
            " [0.81833696 0.936984   0.33920735]\n",
            " [0.36486128 0.15101258 0.34572247]\n",
            " [0.862086   0.31259707 0.43275443]\n",
            " [0.79937005 0.6687579  0.14246704]\n",
            " [0.14489596 0.15329784 0.01697812]\n",
            " [0.23943742 0.79199594 0.39007992]\n",
            " [0.63940406 0.3118228  0.97369224]\n",
            " [0.5146433  0.65846014 0.7630172 ]\n",
            " [0.642741   0.6318822  0.9684639 ]\n",
            " [0.17615207 0.8735687  0.19157422]]\n",
            "<NDArray 50x3 @cpu(0)>] [\n",
            "[7. 8. 2. 2. 8. 7. 9. 0. 4. 7. 2. 6. 9. 7. 6. 5. 2. 9. 6. 3. 1. 0. 7. 0.\n",
            " 4. 4. 7. 8. 0. 3. 8. 3. 3. 0. 3. 3. 6. 7. 9. 5. 3. 0. 7. 8. 3. 9. 3. 6.\n",
            " 8. 8.]\n",
            "<NDArray 50 @cpu(0)>]\n"
          ],
          "name": "stdout"
        }
      ]
    },
    {
      "cell_type": "code",
      "metadata": {
        "id": "MpNgbApSjoEs",
        "colab_type": "code",
        "colab": {}
      },
      "source": [
        "### we can save this data intoa csv file\n",
        "### numpy alone can do this job\n",
        "np.savetxt('data.csv',data,delimiter=',')"
      ],
      "execution_count": 0,
      "outputs": []
    },
    {
      "cell_type": "code",
      "metadata": {
        "id": "fq_qc8ogj6mQ",
        "colab_type": "code",
        "colab": {
          "base_uri": "https://localhost:8080/",
          "height": 34
        },
        "outputId": "1eb71737-4c56-4208-c40b-5fd963a44ae4"
      },
      "source": [
        "!ls"
      ],
      "execution_count": 151,
      "outputs": [
        {
          "output_type": "stream",
          "text": [
            "data.csv  sample_data\n"
          ],
          "name": "stdout"
        }
      ]
    },
    {
      "cell_type": "code",
      "metadata": {
        "id": "sMhEm7S8j-m7",
        "colab_type": "code",
        "colab": {}
      },
      "source": [
        "## we can directly load the csx in a csv iterator\n",
        "csv_iter = mx.io.CSVIter(data_csv='data.csv',data_shape=(3),batch_size=50)"
      ],
      "execution_count": 0,
      "outputs": []
    },
    {
      "cell_type": "code",
      "metadata": {
        "id": "pg9v8TtUkXfx",
        "colab_type": "code",
        "colab": {
          "base_uri": "https://localhost:8080/",
          "height": 1000
        },
        "outputId": "2ad9444d-e3bf-4ae2-f325-76f1d3a6c0cc"
      },
      "source": [
        "### you can use simple for loop to get the data\n",
        "batch_num  = 1\n",
        "for batch in csv_iter:\n",
        "  print(\"----------------{}-------------\".format(batch_num))\n",
        "  print(batch.data,batch.label)\n",
        "  batch_num+=1"
      ],
      "execution_count": 153,
      "outputs": [
        {
          "output_type": "stream",
          "text": [
            "----------------1-------------\n",
            "[\n",
            "[[9.39915955e-01 7.91261613e-01 9.70237255e-01]\n",
            " [6.00028455e-01 3.66488516e-01 6.95340857e-02]\n",
            " [7.20046520e-01 4.74246442e-01 5.28757870e-01]\n",
            " [4.92894173e-01 3.15120518e-01 3.83586735e-01]\n",
            " [6.25942409e-01 4.22056973e-01 1.94958627e-01]\n",
            " [9.17655349e-01 7.44594514e-01 9.02137458e-01]\n",
            " [4.88935769e-01 3.03074062e-01 6.06788516e-01]\n",
            " [5.23989081e-01 9.69656587e-01 8.76423359e-01]\n",
            " [7.28682637e-01 9.26800728e-01 1.45316944e-01]\n",
            " [9.04867768e-01 6.47037566e-01 5.66790462e-01]\n",
            " [1.65020272e-01 7.20914960e-01 9.51101184e-01]\n",
            " [1.90610483e-01 5.34588955e-02 8.35195243e-01]\n",
            " [1.38609022e-01 1.57348633e-01 2.91705847e-01]\n",
            " [7.82454461e-02 4.88417037e-02 6.84887409e-01]\n",
            " [1.98623791e-01 2.53908455e-01 2.44294137e-01]\n",
            " [4.97812271e-01 2.31954344e-02 9.29471612e-01]\n",
            " [1.79028228e-01 7.16590226e-01 8.48725975e-01]\n",
            " [2.94255078e-01 2.70984203e-01 6.61070466e-01]\n",
            " [8.99776578e-01 7.83270001e-01 8.21895957e-01]\n",
            " [3.38403761e-01 1.72494963e-01 9.37330246e-01]\n",
            " [1.75993174e-01 6.97648168e-01 5.23549139e-01]\n",
            " [5.33245027e-01 6.13708496e-01 3.17452371e-01]\n",
            " [6.71916902e-02 2.37881131e-02 8.45153809e-01]\n",
            " [2.08398491e-01 4.01419222e-01 6.09364450e-01]\n",
            " [7.66250730e-01 8.34463775e-01 5.98071255e-02]\n",
            " [6.84142292e-01 1.06286921e-01 9.30375874e-01]\n",
            " [6.48401901e-02 1.75365567e-01 1.73954684e-02]\n",
            " [5.17931342e-01 5.49078822e-01 7.89339319e-02]\n",
            " [2.81910330e-01 1.81009978e-01 2.51051243e-02]\n",
            " [1.34500489e-01 5.80420852e-01 5.58894575e-01]\n",
            " [8.23538601e-01 4.49642360e-01 7.24396259e-02]\n",
            " [3.73037755e-01 6.71939969e-01 5.63590407e-01]\n",
            " [3.12354147e-01 5.38812637e-01 6.43996954e-01]\n",
            " [1.54753119e-01 1.52873456e-01 5.88119328e-01]\n",
            " [2.29195431e-01 2.02626795e-01 2.35304922e-01]\n",
            " [5.92816412e-01 3.19593072e-01 8.63258183e-01]\n",
            " [9.25148487e-01 2.43727520e-01 3.11873462e-02]\n",
            " [2.06112340e-01 1.42626122e-01 7.98163056e-01]\n",
            " [1.20550774e-01 5.01940310e-01 6.74825370e-01]\n",
            " [6.53372169e-01 3.48283112e-01 5.46772778e-01]\n",
            " [1.82966083e-01 7.56654203e-01 1.61712021e-01]\n",
            " [9.14371490e-01 9.59551632e-01 7.59228110e-01]\n",
            " [5.29179931e-01 9.14250672e-01 1.92734767e-02]\n",
            " [4.18998718e-01 2.94664055e-01 8.59527886e-02]\n",
            " [4.27166029e-04 6.55655503e-01 4.37569395e-02]\n",
            " [2.79075149e-02 7.25631356e-01 1.83696777e-01]\n",
            " [7.37449408e-01 6.32731795e-01 7.09847391e-01]\n",
            " [5.17233014e-01 3.13606769e-01 9.08256710e-01]\n",
            " [5.91961026e-01 6.22486472e-01 8.72560203e-01]\n",
            " [3.94196808e-01 3.88796151e-01 7.60376334e-01]]\n",
            "<NDArray 50x3 @cpu(0)>] [\n",
            "[0. 0. 0. 0. 0. 0. 0. 0. 0. 0. 0. 0. 0. 0. 0. 0. 0. 0. 0. 0. 0. 0. 0. 0.\n",
            " 0. 0. 0. 0. 0. 0. 0. 0. 0. 0. 0. 0. 0. 0. 0. 0. 0. 0. 0. 0. 0. 0. 0. 0.\n",
            " 0. 0.]\n",
            "<NDArray 50 @cpu(0)>]\n",
            "----------------2-------------\n",
            "[\n",
            "[[0.40136728 0.18849024 0.7556426 ]\n",
            " [0.08683869 0.26893252 0.63283145]\n",
            " [0.8335568  0.5045406  0.18051854]\n",
            " [0.6190796  0.3981964  0.42313513]\n",
            " [0.26526612 0.16945073 0.1609785 ]\n",
            " [0.34403086 0.58976656 0.9658178 ]\n",
            " [0.8316805  0.48619756 0.9985749 ]\n",
            " [0.8759781  0.24298362 0.29429   ]\n",
            " [0.22493275 0.09096252 0.38325816]\n",
            " [0.9694377  0.85237104 0.24083078]\n",
            " [0.125838   0.11822067 0.1745079 ]\n",
            " [0.91467273 0.6680219  0.08899901]\n",
            " [0.8621682  0.82924354 0.3668783 ]\n",
            " [0.758222   0.4176472  0.6978545 ]\n",
            " [0.9461943  0.22214293 0.73922217]\n",
            " [0.609615   0.5030403  0.75227094]\n",
            " [0.14489596 0.15329786 0.01697812]\n",
            " [0.5240737  0.7285798  0.6474079 ]\n",
            " [0.75377196 0.5056321  0.57429004]\n",
            " [0.16460827 0.9755403  0.08992917]\n",
            " [0.29113215 0.1055678  0.2529314 ]\n",
            " [0.46783787 0.9559065  0.5611371 ]\n",
            " [0.97185344 0.59059757 0.56640184]\n",
            " [0.37889794 0.60905373 0.80334103]\n",
            " [0.79937005 0.6687579  0.14246704]\n",
            " [0.09905761 0.37059322 0.28260797]\n",
            " [0.1477898  0.7189599  0.31926307]\n",
            " [0.56120205 0.359204   0.06283357]\n",
            " [0.50711477 0.519815   0.42253098]\n",
            " [0.1485736  0.47797137 0.24007444]\n",
            " [0.50074905 0.75891954 0.09338229]\n",
            " [0.83063257 0.477676   0.06084523]\n",
            " [0.02860005 0.15181962 0.14089969]\n",
            " [0.65238696 0.3620614  0.6785326 ]\n",
            " [0.28492874 0.7843553  0.5927041 ]\n",
            " [0.74883366 0.6671859  0.7702186 ]\n",
            " [0.6673755  0.95330715 0.8465869 ]\n",
            " [0.83580005 0.73306483 0.08770602]\n",
            " [0.4753706  0.99932706 0.27622285]\n",
            " [0.13123356 0.3434444  0.41524822]\n",
            " [0.6532504  0.6462772  0.4459076 ]\n",
            " [0.16718188 0.9629552  0.16349132]\n",
            " [0.63296884 0.16390507 0.33576527]\n",
            " [0.4193727  0.45673895 0.4409612 ]\n",
            " [0.41519204 0.47393814 0.13583623]\n",
            " [0.35155943 0.950493   0.16144744]\n",
            " [0.9569661  0.78182554 0.7297952 ]\n",
            " [0.92573136 0.9529619  0.47568464]\n",
            " [0.9164052  0.7748295  0.21656363]\n",
            " [0.7212242  0.83416283 0.14821601]]\n",
            "<NDArray 50x3 @cpu(0)>] [\n",
            "[0. 0. 0. 0. 0. 0. 0. 0. 0. 0. 0. 0. 0. 0. 0. 0. 0. 0. 0. 0. 0. 0. 0. 0.\n",
            " 0. 0. 0. 0. 0. 0. 0. 0. 0. 0. 0. 0. 0. 0. 0. 0. 0. 0. 0. 0. 0. 0. 0. 0.\n",
            " 0. 0.]\n",
            "<NDArray 50 @cpu(0)>]\n",
            "----------------3-------------\n",
            "[\n",
            "[[0.4179873  0.0624359  0.29913172]\n",
            " [0.88748896 0.33799797 0.7061453 ]\n",
            " [0.06007179 0.31374273 0.65596783]\n",
            " [0.672603   0.58393776 0.4860459 ]\n",
            " [0.54249394 0.78362787 0.98492336]\n",
            " [0.41498408 0.305026   0.9729942 ]\n",
            " [0.7032746  0.19656435 0.57995164]\n",
            " [0.3998886  0.2704758  0.04423974]\n",
            " [0.3408969  0.2790703  0.35644355]\n",
            " [0.56809014 0.187983   0.8235186 ]\n",
            " [0.20527622 0.7986387  0.14523576]\n",
            " [0.5979794  0.05564834 0.9435517 ]\n",
            " [0.23995583 0.20020325 0.41258606]\n",
            " [0.5146433  0.65846014 0.7630172 ]\n",
            " [0.14976582 0.25708818 0.35990515]\n",
            " [0.88693935 0.7921633  0.9710787 ]\n",
            " [0.38936558 0.2890141  0.41923708]\n",
            " [0.39694908 0.26630872 0.24103732]\n",
            " [0.8742054  0.30407554 0.27223787]\n",
            " [0.5821749  0.62187386 0.4202547 ]\n",
            " [0.76953113 0.75561327 0.3840919 ]\n",
            " [0.86714506 0.03258611 0.15281782]\n",
            " [0.6427411  0.6318822  0.9684639 ]\n",
            " [0.9595791  0.18563923 0.8211873 ]\n",
            " [0.47737926 0.29934263 0.5892428 ]\n",
            " [0.43635932 0.15333775 0.25192207]\n",
            " [0.44140106 0.8503588  0.37472385]\n",
            " [0.02305178 0.12430318 0.7039931 ]\n",
            " [0.8781868  0.22709736 0.7444704 ]\n",
            " [0.7311436  0.85139877 0.7215375 ]\n",
            " [0.15172064 0.43550143 0.7748512 ]\n",
            " [0.7391008  0.8943056  0.5726468 ]\n",
            " [0.39116055 0.9758955  0.8604717 ]\n",
            " [0.3233422  0.773547   0.3144307 ]\n",
            " [0.07108313 0.62754554 0.14450863]\n",
            " [0.18209717 0.8760168  0.47221383]\n",
            " [0.65570366 0.5348253  0.9282629 ]\n",
            " [0.43453702 0.23677452 0.78731805]\n",
            " [0.6083004  0.8660099  0.05244862]\n",
            " [0.5371813  0.9287926  0.6453856 ]\n",
            " [0.20040293 0.46452206 0.71945584]\n",
            " [0.41976738 0.7993209  0.5374694 ]\n",
            " [0.89943206 0.19075392 0.14347132]\n",
            " [0.43707332 0.6060288  0.15663047]\n",
            " [0.716175   0.07113934 0.17683455]\n",
            " [0.35097373 0.13701269 0.5096063 ]\n",
            " [0.1394269  0.8114934  0.17589024]\n",
            " [0.63940406 0.31182283 0.97369224]\n",
            " [0.2153341  0.24029449 0.12285884]\n",
            " [0.6254289  0.9115219  0.19091794]]\n",
            "<NDArray 50x3 @cpu(0)>] [\n",
            "[0. 0. 0. 0. 0. 0. 0. 0. 0. 0. 0. 0. 0. 0. 0. 0. 0. 0. 0. 0. 0. 0. 0. 0.\n",
            " 0. 0. 0. 0. 0. 0. 0. 0. 0. 0. 0. 0. 0. 0. 0. 0. 0. 0. 0. 0. 0. 0. 0. 0.\n",
            " 0. 0.]\n",
            "<NDArray 50 @cpu(0)>]\n",
            "----------------4-------------\n",
            "[\n",
            "[[0.7548998  0.38090116 0.4978501 ]\n",
            " [0.57265097 0.91613644 0.92879933]\n",
            " [0.05480276 0.04100244 0.42801467]\n",
            " [0.7217144  0.9917796  0.4464516 ]\n",
            " [0.688445   0.65203035 0.6816396 ]\n",
            " [0.34378698 0.44250822 0.17637475]\n",
            " [0.31757265 0.8356911  0.24227703]\n",
            " [0.7402711  0.9080677  0.6657604 ]\n",
            " [0.0092632  0.19181688 0.17718577]\n",
            " [0.85793847 0.0067899  0.12170617]\n",
            " [0.15966892 0.96208936 0.89578164]\n",
            " [0.16670811 0.31409714 0.24634394]\n",
            " [0.27980366 0.9667083  0.23231527]\n",
            " [0.45232153 0.24178037 0.6412799 ]\n",
            " [0.4517725  0.33206487 0.36724025]\n",
            " [0.5206859  0.3283597  0.5788201 ]\n",
            " [0.8359747  0.5230867  0.42879024]\n",
            " [0.55917746 0.69263655 0.72866017]\n",
            " [0.69296086 0.32846656 0.6571797 ]\n",
            " [0.5312659  0.5258304  0.81767833]\n",
            " [0.60821813 0.9901492  0.87414217]\n",
            " [0.8996223  0.1882214  0.21418056]\n",
            " [0.23943742 0.79199594 0.39007992]\n",
            " [0.6676308  0.76607126 0.94594747]\n",
            " [0.03509701 0.10092606 0.11837234]\n",
            " [0.5101783  0.78991044 0.32688525]\n",
            " [0.4275512  0.77910405 0.56173474]\n",
            " [0.24664676 0.12359504 0.33110258]\n",
            " [0.29796267 0.8804305  0.79550105]\n",
            " [0.41844097 0.79167455 0.03978254]\n",
            " [0.9743641  0.7387222  0.99882984]\n",
            " [0.47728986 0.08905558 0.89733326]\n",
            " [0.88040465 0.18492039 0.23603335]\n",
            " [0.5151863  0.5654592  0.63028437]\n",
            " [0.6225692  0.42908382 0.4197794 ]\n",
            " [0.48007736 0.20078747 0.16131455]\n",
            " [0.14649619 0.7345618  0.46606198]\n",
            " [0.2651377  0.49910468 0.29970512]\n",
            " [0.66540927 0.79271114 0.9538501 ]\n",
            " [0.97779226 0.9788785  0.94685394]\n",
            " [0.44020042 0.34250927 0.61192966]\n",
            " [0.77287686 0.805812   0.73847044]\n",
            " [0.22022855 0.46482563 0.24524835]\n",
            " [0.7589636  0.32292992 0.8956107 ]\n",
            " [0.82937634 0.9672963  0.3630396 ]\n",
            " [0.8517172  0.1801726  0.79830277]\n",
            " [0.54642    0.95257074 0.6002535 ]\n",
            " [0.53390616 0.28961474 0.0535301 ]\n",
            " [0.6828592  0.309385   0.5915849 ]\n",
            " [0.03400152 0.34386912 0.8257308 ]]\n",
            "<NDArray 50x3 @cpu(0)>] [\n",
            "[0. 0. 0. 0. 0. 0. 0. 0. 0. 0. 0. 0. 0. 0. 0. 0. 0. 0. 0. 0. 0. 0. 0. 0.\n",
            " 0. 0. 0. 0. 0. 0. 0. 0. 0. 0. 0. 0. 0. 0. 0. 0. 0. 0. 0. 0. 0. 0. 0. 0.\n",
            " 0. 0.]\n",
            "<NDArray 50 @cpu(0)>]\n",
            "----------------5-------------\n",
            "[\n",
            "[[0.629542   0.7368382  0.9716196 ]\n",
            " [0.60494524 0.8658121  0.56039   ]\n",
            " [0.98759526 0.30205745 0.5462551 ]\n",
            " [0.5315121  0.41037217 0.66710186]\n",
            " [0.20705977 0.3298334  0.38583243]\n",
            " [0.45931572 0.5663182  0.86446035]\n",
            " [0.19533464 0.80624944 0.33633676]\n",
            " [0.3959278  0.7535571  0.29652143]\n",
            " [0.35431144 0.7381933  0.2929386 ]\n",
            " [0.33118528 0.34437382 0.9808434 ]\n",
            " [0.10957165 0.16904287 0.04802579]\n",
            " [0.10241145 0.1343865  0.58076125]\n",
            " [0.36766988 0.9044283  0.5745765 ]\n",
            " [0.81833696 0.93698394 0.33920735]\n",
            " [0.47357488 0.24528985 0.47425896]\n",
            " [0.31756938 0.7140106  0.02283674]\n",
            " [0.9938467  0.9818772  0.75219786]\n",
            " [0.6244932  0.8160146  0.62174386]\n",
            " [0.68688107 0.47390804 0.75696963]\n",
            " [0.32365543 0.8441784  0.18544674]\n",
            " [0.41548353 0.2669807  0.45957574]\n",
            " [0.29794273 0.30071354 0.25982562]\n",
            " [0.960992   0.82766116 0.35595998]\n",
            " [0.96650255 0.15703872 0.05436056]\n",
            " [0.947408   0.71504605 0.49731365]\n",
            " [0.6515298  0.11326774 0.56766856]\n",
            " [0.40003076 0.02152134 0.16804528]\n",
            " [0.43043798 0.09093601 0.76195586]\n",
            " [0.5057539  0.73238194 0.16900669]\n",
            " [0.5012462  0.6663465  0.22621183]\n",
            " [0.804444   0.8002821  0.8957016 ]\n",
            " [0.01995351 0.37160772 0.8242847 ]\n",
            " [0.11989971 0.5372626  0.53933394]\n",
            " [0.6373726  0.2780338  0.570773  ]\n",
            " [0.38004684 0.07933904 0.68216   ]\n",
            " [0.06687445 0.184589   0.7296468 ]\n",
            " [0.18517277 0.33590057 0.18300653]\n",
            " [0.819009   0.47057366 0.5923425 ]\n",
            " [0.7390146  0.05363628 0.7709986 ]\n",
            " [0.291284   0.96111286 0.45171922]\n",
            " [0.10676961 0.5645967  0.82753146]\n",
            " [0.34529582 0.5122138  0.8983083 ]\n",
            " [0.7379354  0.55745274 0.5519364 ]\n",
            " [0.07609767 0.61925083 0.5081568 ]\n",
            " [0.08110217 0.78254867 0.8434927 ]\n",
            " [0.38189626 0.01068746 0.24950457]\n",
            " [0.9897292  0.4653464  0.38804716]\n",
            " [0.6604185  0.9171203  0.11708038]\n",
            " [0.13573842 0.21408808 0.62760264]\n",
            " [0.42667824 0.21066399 0.43340835]]\n",
            "<NDArray 50x3 @cpu(0)>] [\n",
            "[0. 0. 0. 0. 0. 0. 0. 0. 0. 0. 0. 0. 0. 0. 0. 0. 0. 0. 0. 0. 0. 0. 0. 0.\n",
            " 0. 0. 0. 0. 0. 0. 0. 0. 0. 0. 0. 0. 0. 0. 0. 0. 0. 0. 0. 0. 0. 0. 0. 0.\n",
            " 0. 0.]\n",
            "<NDArray 50 @cpu(0)>]\n",
            "----------------6-------------\n",
            "[\n",
            "[[0.14840385 0.40506592 0.03465411]\n",
            " [0.10048275 0.15590471 0.05406643]\n",
            " [0.15090902 0.67051125 0.94962615]\n",
            " [0.17615207 0.8735687  0.19157422]\n",
            " [0.28125235 0.10187896 0.6053051 ]\n",
            " [0.6699873  0.25396815 0.8352564 ]\n",
            " [0.08699047 0.45819694 0.9755114 ]\n",
            " [0.62927186 0.58478844 0.7680357 ]\n",
            " [0.7616722  0.09582645 0.00197773]\n",
            " [0.07385068 0.83909273 0.02867885]\n",
            " [0.4124185  0.07162341 0.6547333 ]\n",
            " [0.5471183  0.64314944 0.92312557]\n",
            " [0.93386346 0.11933454 0.5930082 ]\n",
            " [0.9814731  0.28175473 0.3189886 ]\n",
            " [0.9964682  0.7641164  0.9661069 ]\n",
            " [0.23892847 0.9054662  0.635415  ]\n",
            " [0.63088703 0.4989336  0.42571583]\n",
            " [0.61475146 0.6988432  0.67505157]\n",
            " [0.08874451 0.33804262 0.6129808 ]\n",
            " [0.06291282 0.41057482 0.19721802]\n",
            " [0.26830083 0.32726306 0.880731  ]\n",
            " [0.83667403 0.42043838 0.6014608 ]\n",
            " [0.11013158 0.58110124 0.48588753]\n",
            " [0.67092204 0.14747629 0.69531965]\n",
            " [0.3644814  0.6046863  0.00979442]\n",
            " [0.35348612 0.37112147 0.607695  ]\n",
            " [0.8663478  0.7584867  0.94965494]\n",
            " [0.13637134 0.09340494 0.32520053]\n",
            " [0.73084795 0.5300083  0.8891322 ]\n",
            " [0.20954487 0.45784202 0.50476706]\n",
            " [0.88105947 0.42324138 0.9129491 ]\n",
            " [0.7810645  0.27536803 0.31186375]\n",
            " [0.862086   0.31259707 0.43275443]\n",
            " [0.19018094 0.40696234 0.94518167]\n",
            " [0.36181945 0.76388514 0.44045472]\n",
            " [0.8482851  0.41392693 0.7752502 ]\n",
            " [0.3648613  0.15101258 0.3457225 ]\n",
            " [0.4540432  0.6526742  0.78152025]\n",
            " [0.81836575 0.5809343  0.8471797 ]\n",
            " [0.02768144 0.46122947 0.5024764 ]\n",
            " [0.85188377 0.26488155 0.5411986 ]\n",
            " [0.4435161  0.21391149 0.50922984]\n",
            " [0.39621148 0.38365108 0.33968034]\n",
            " [0.80731136 0.48545033 0.0115369 ]\n",
            " [0.80380374 0.27502602 0.3493154 ]\n",
            " [0.6740013  0.60235876 0.7787618 ]\n",
            " [0.1466016  0.65859014 0.10587771]\n",
            " [0.14599854 0.3674211  0.46658978]\n",
            " [0.4873845  0.16675478 0.9224579 ]\n",
            " [0.79108083 0.3834911  0.10911474]]\n",
            "<NDArray 50x3 @cpu(0)>] [\n",
            "[0. 0. 0. 0. 0. 0. 0. 0. 0. 0. 0. 0. 0. 0. 0. 0. 0. 0. 0. 0. 0. 0. 0. 0.\n",
            " 0. 0. 0. 0. 0. 0. 0. 0. 0. 0. 0. 0. 0. 0. 0. 0. 0. 0. 0. 0. 0. 0. 0. 0.\n",
            " 0. 0.]\n",
            "<NDArray 50 @cpu(0)>]\n"
          ],
          "name": "stdout"
        }
      ]
    },
    {
      "cell_type": "code",
      "metadata": {
        "id": "q8eqIHjWkeLT",
        "colab_type": "code",
        "colab": {}
      },
      "source": [
        "## make a static computation graph and make  nural network\n",
        "# for predicting brest cancer data\n",
        "import pandas as pd"
      ],
      "execution_count": 0,
      "outputs": []
    },
    {
      "cell_type": "code",
      "metadata": {
        "id": "k6X2FxDlllsd",
        "colab_type": "code",
        "colab": {}
      },
      "source": [
        "import pandas as pd\n",
        "\n",
        "url=\"https://raw.githubusercontent.com/tanviredu/Breast-Cancer-UCI-Dataset/master/data.csv\"\n",
        "df=pd.read_csv(url)"
      ],
      "execution_count": 0,
      "outputs": []
    },
    {
      "cell_type": "code",
      "metadata": {
        "id": "NVy62_3ZmYXk",
        "colab_type": "code",
        "colab": {
          "base_uri": "https://localhost:8080/",
          "height": 240
        },
        "outputId": "6093c180-68dc-4b83-dc51-d7125c973a99"
      },
      "source": [
        "df.head()"
      ],
      "execution_count": 156,
      "outputs": [
        {
          "output_type": "execute_result",
          "data": {
            "text/html": [
              "<div>\n",
              "<style scoped>\n",
              "    .dataframe tbody tr th:only-of-type {\n",
              "        vertical-align: middle;\n",
              "    }\n",
              "\n",
              "    .dataframe tbody tr th {\n",
              "        vertical-align: top;\n",
              "    }\n",
              "\n",
              "    .dataframe thead th {\n",
              "        text-align: right;\n",
              "    }\n",
              "</style>\n",
              "<table border=\"1\" class=\"dataframe\">\n",
              "  <thead>\n",
              "    <tr style=\"text-align: right;\">\n",
              "      <th></th>\n",
              "      <th>id</th>\n",
              "      <th>diagnosis</th>\n",
              "      <th>radius_mean</th>\n",
              "      <th>texture_mean</th>\n",
              "      <th>perimeter_mean</th>\n",
              "      <th>area_mean</th>\n",
              "      <th>smoothness_mean</th>\n",
              "      <th>compactness_mean</th>\n",
              "      <th>concavity_mean</th>\n",
              "      <th>concave points_mean</th>\n",
              "      <th>symmetry_mean</th>\n",
              "      <th>fractal_dimension_mean</th>\n",
              "      <th>radius_se</th>\n",
              "      <th>texture_se</th>\n",
              "      <th>perimeter_se</th>\n",
              "      <th>area_se</th>\n",
              "      <th>smoothness_se</th>\n",
              "      <th>compactness_se</th>\n",
              "      <th>concavity_se</th>\n",
              "      <th>concave points_se</th>\n",
              "      <th>symmetry_se</th>\n",
              "      <th>fractal_dimension_se</th>\n",
              "      <th>radius_worst</th>\n",
              "      <th>texture_worst</th>\n",
              "      <th>perimeter_worst</th>\n",
              "      <th>area_worst</th>\n",
              "      <th>smoothness_worst</th>\n",
              "      <th>compactness_worst</th>\n",
              "      <th>concavity_worst</th>\n",
              "      <th>concave points_worst</th>\n",
              "      <th>symmetry_worst</th>\n",
              "      <th>fractal_dimension_worst</th>\n",
              "    </tr>\n",
              "  </thead>\n",
              "  <tbody>\n",
              "    <tr>\n",
              "      <th>0</th>\n",
              "      <td>842302</td>\n",
              "      <td>M</td>\n",
              "      <td>17.99</td>\n",
              "      <td>10.38</td>\n",
              "      <td>122.80</td>\n",
              "      <td>1001.0</td>\n",
              "      <td>0.11840</td>\n",
              "      <td>0.27760</td>\n",
              "      <td>0.3001</td>\n",
              "      <td>0.14710</td>\n",
              "      <td>0.2419</td>\n",
              "      <td>0.07871</td>\n",
              "      <td>1.0950</td>\n",
              "      <td>0.9053</td>\n",
              "      <td>8.589</td>\n",
              "      <td>153.40</td>\n",
              "      <td>0.006399</td>\n",
              "      <td>0.04904</td>\n",
              "      <td>0.05373</td>\n",
              "      <td>0.01587</td>\n",
              "      <td>0.03003</td>\n",
              "      <td>0.006193</td>\n",
              "      <td>25.38</td>\n",
              "      <td>17.33</td>\n",
              "      <td>184.60</td>\n",
              "      <td>2019.0</td>\n",
              "      <td>0.1622</td>\n",
              "      <td>0.6656</td>\n",
              "      <td>0.7119</td>\n",
              "      <td>0.2654</td>\n",
              "      <td>0.4601</td>\n",
              "      <td>0.11890</td>\n",
              "    </tr>\n",
              "    <tr>\n",
              "      <th>1</th>\n",
              "      <td>842517</td>\n",
              "      <td>M</td>\n",
              "      <td>20.57</td>\n",
              "      <td>17.77</td>\n",
              "      <td>132.90</td>\n",
              "      <td>1326.0</td>\n",
              "      <td>0.08474</td>\n",
              "      <td>0.07864</td>\n",
              "      <td>0.0869</td>\n",
              "      <td>0.07017</td>\n",
              "      <td>0.1812</td>\n",
              "      <td>0.05667</td>\n",
              "      <td>0.5435</td>\n",
              "      <td>0.7339</td>\n",
              "      <td>3.398</td>\n",
              "      <td>74.08</td>\n",
              "      <td>0.005225</td>\n",
              "      <td>0.01308</td>\n",
              "      <td>0.01860</td>\n",
              "      <td>0.01340</td>\n",
              "      <td>0.01389</td>\n",
              "      <td>0.003532</td>\n",
              "      <td>24.99</td>\n",
              "      <td>23.41</td>\n",
              "      <td>158.80</td>\n",
              "      <td>1956.0</td>\n",
              "      <td>0.1238</td>\n",
              "      <td>0.1866</td>\n",
              "      <td>0.2416</td>\n",
              "      <td>0.1860</td>\n",
              "      <td>0.2750</td>\n",
              "      <td>0.08902</td>\n",
              "    </tr>\n",
              "    <tr>\n",
              "      <th>2</th>\n",
              "      <td>84300903</td>\n",
              "      <td>M</td>\n",
              "      <td>19.69</td>\n",
              "      <td>21.25</td>\n",
              "      <td>130.00</td>\n",
              "      <td>1203.0</td>\n",
              "      <td>0.10960</td>\n",
              "      <td>0.15990</td>\n",
              "      <td>0.1974</td>\n",
              "      <td>0.12790</td>\n",
              "      <td>0.2069</td>\n",
              "      <td>0.05999</td>\n",
              "      <td>0.7456</td>\n",
              "      <td>0.7869</td>\n",
              "      <td>4.585</td>\n",
              "      <td>94.03</td>\n",
              "      <td>0.006150</td>\n",
              "      <td>0.04006</td>\n",
              "      <td>0.03832</td>\n",
              "      <td>0.02058</td>\n",
              "      <td>0.02250</td>\n",
              "      <td>0.004571</td>\n",
              "      <td>23.57</td>\n",
              "      <td>25.53</td>\n",
              "      <td>152.50</td>\n",
              "      <td>1709.0</td>\n",
              "      <td>0.1444</td>\n",
              "      <td>0.4245</td>\n",
              "      <td>0.4504</td>\n",
              "      <td>0.2430</td>\n",
              "      <td>0.3613</td>\n",
              "      <td>0.08758</td>\n",
              "    </tr>\n",
              "    <tr>\n",
              "      <th>3</th>\n",
              "      <td>84348301</td>\n",
              "      <td>M</td>\n",
              "      <td>11.42</td>\n",
              "      <td>20.38</td>\n",
              "      <td>77.58</td>\n",
              "      <td>386.1</td>\n",
              "      <td>0.14250</td>\n",
              "      <td>0.28390</td>\n",
              "      <td>0.2414</td>\n",
              "      <td>0.10520</td>\n",
              "      <td>0.2597</td>\n",
              "      <td>0.09744</td>\n",
              "      <td>0.4956</td>\n",
              "      <td>1.1560</td>\n",
              "      <td>3.445</td>\n",
              "      <td>27.23</td>\n",
              "      <td>0.009110</td>\n",
              "      <td>0.07458</td>\n",
              "      <td>0.05661</td>\n",
              "      <td>0.01867</td>\n",
              "      <td>0.05963</td>\n",
              "      <td>0.009208</td>\n",
              "      <td>14.91</td>\n",
              "      <td>26.50</td>\n",
              "      <td>98.87</td>\n",
              "      <td>567.7</td>\n",
              "      <td>0.2098</td>\n",
              "      <td>0.8663</td>\n",
              "      <td>0.6869</td>\n",
              "      <td>0.2575</td>\n",
              "      <td>0.6638</td>\n",
              "      <td>0.17300</td>\n",
              "    </tr>\n",
              "    <tr>\n",
              "      <th>4</th>\n",
              "      <td>84358402</td>\n",
              "      <td>M</td>\n",
              "      <td>20.29</td>\n",
              "      <td>14.34</td>\n",
              "      <td>135.10</td>\n",
              "      <td>1297.0</td>\n",
              "      <td>0.10030</td>\n",
              "      <td>0.13280</td>\n",
              "      <td>0.1980</td>\n",
              "      <td>0.10430</td>\n",
              "      <td>0.1809</td>\n",
              "      <td>0.05883</td>\n",
              "      <td>0.7572</td>\n",
              "      <td>0.7813</td>\n",
              "      <td>5.438</td>\n",
              "      <td>94.44</td>\n",
              "      <td>0.011490</td>\n",
              "      <td>0.02461</td>\n",
              "      <td>0.05688</td>\n",
              "      <td>0.01885</td>\n",
              "      <td>0.01756</td>\n",
              "      <td>0.005115</td>\n",
              "      <td>22.54</td>\n",
              "      <td>16.67</td>\n",
              "      <td>152.20</td>\n",
              "      <td>1575.0</td>\n",
              "      <td>0.1374</td>\n",
              "      <td>0.2050</td>\n",
              "      <td>0.4000</td>\n",
              "      <td>0.1625</td>\n",
              "      <td>0.2364</td>\n",
              "      <td>0.07678</td>\n",
              "    </tr>\n",
              "  </tbody>\n",
              "</table>\n",
              "</div>"
            ],
            "text/plain": [
              "         id diagnosis  ...  symmetry_worst  fractal_dimension_worst\n",
              "0    842302         M  ...          0.4601                  0.11890\n",
              "1    842517         M  ...          0.2750                  0.08902\n",
              "2  84300903         M  ...          0.3613                  0.08758\n",
              "3  84348301         M  ...          0.6638                  0.17300\n",
              "4  84358402         M  ...          0.2364                  0.07678\n",
              "\n",
              "[5 rows x 32 columns]"
            ]
          },
          "metadata": {
            "tags": []
          },
          "execution_count": 156
        }
      ]
    },
    {
      "cell_type": "code",
      "metadata": {
        "id": "LeUsTEWdmZWz",
        "colab_type": "code",
        "colab": {}
      },
      "source": [
        "d = {'M':1,'B':0}\n",
        "df['diagnosis'] = df['diagnosis'].map(d)"
      ],
      "execution_count": 0,
      "outputs": []
    },
    {
      "cell_type": "code",
      "metadata": {
        "id": "HjNoaJxImuVv",
        "colab_type": "code",
        "colab": {
          "base_uri": "https://localhost:8080/",
          "height": 240
        },
        "outputId": "2feed4cb-5b34-4f51-d64e-2c8a36fb5ad2"
      },
      "source": [
        "df.head()"
      ],
      "execution_count": 158,
      "outputs": [
        {
          "output_type": "execute_result",
          "data": {
            "text/html": [
              "<div>\n",
              "<style scoped>\n",
              "    .dataframe tbody tr th:only-of-type {\n",
              "        vertical-align: middle;\n",
              "    }\n",
              "\n",
              "    .dataframe tbody tr th {\n",
              "        vertical-align: top;\n",
              "    }\n",
              "\n",
              "    .dataframe thead th {\n",
              "        text-align: right;\n",
              "    }\n",
              "</style>\n",
              "<table border=\"1\" class=\"dataframe\">\n",
              "  <thead>\n",
              "    <tr style=\"text-align: right;\">\n",
              "      <th></th>\n",
              "      <th>id</th>\n",
              "      <th>diagnosis</th>\n",
              "      <th>radius_mean</th>\n",
              "      <th>texture_mean</th>\n",
              "      <th>perimeter_mean</th>\n",
              "      <th>area_mean</th>\n",
              "      <th>smoothness_mean</th>\n",
              "      <th>compactness_mean</th>\n",
              "      <th>concavity_mean</th>\n",
              "      <th>concave points_mean</th>\n",
              "      <th>symmetry_mean</th>\n",
              "      <th>fractal_dimension_mean</th>\n",
              "      <th>radius_se</th>\n",
              "      <th>texture_se</th>\n",
              "      <th>perimeter_se</th>\n",
              "      <th>area_se</th>\n",
              "      <th>smoothness_se</th>\n",
              "      <th>compactness_se</th>\n",
              "      <th>concavity_se</th>\n",
              "      <th>concave points_se</th>\n",
              "      <th>symmetry_se</th>\n",
              "      <th>fractal_dimension_se</th>\n",
              "      <th>radius_worst</th>\n",
              "      <th>texture_worst</th>\n",
              "      <th>perimeter_worst</th>\n",
              "      <th>area_worst</th>\n",
              "      <th>smoothness_worst</th>\n",
              "      <th>compactness_worst</th>\n",
              "      <th>concavity_worst</th>\n",
              "      <th>concave points_worst</th>\n",
              "      <th>symmetry_worst</th>\n",
              "      <th>fractal_dimension_worst</th>\n",
              "    </tr>\n",
              "  </thead>\n",
              "  <tbody>\n",
              "    <tr>\n",
              "      <th>0</th>\n",
              "      <td>842302</td>\n",
              "      <td>1</td>\n",
              "      <td>17.99</td>\n",
              "      <td>10.38</td>\n",
              "      <td>122.80</td>\n",
              "      <td>1001.0</td>\n",
              "      <td>0.11840</td>\n",
              "      <td>0.27760</td>\n",
              "      <td>0.3001</td>\n",
              "      <td>0.14710</td>\n",
              "      <td>0.2419</td>\n",
              "      <td>0.07871</td>\n",
              "      <td>1.0950</td>\n",
              "      <td>0.9053</td>\n",
              "      <td>8.589</td>\n",
              "      <td>153.40</td>\n",
              "      <td>0.006399</td>\n",
              "      <td>0.04904</td>\n",
              "      <td>0.05373</td>\n",
              "      <td>0.01587</td>\n",
              "      <td>0.03003</td>\n",
              "      <td>0.006193</td>\n",
              "      <td>25.38</td>\n",
              "      <td>17.33</td>\n",
              "      <td>184.60</td>\n",
              "      <td>2019.0</td>\n",
              "      <td>0.1622</td>\n",
              "      <td>0.6656</td>\n",
              "      <td>0.7119</td>\n",
              "      <td>0.2654</td>\n",
              "      <td>0.4601</td>\n",
              "      <td>0.11890</td>\n",
              "    </tr>\n",
              "    <tr>\n",
              "      <th>1</th>\n",
              "      <td>842517</td>\n",
              "      <td>1</td>\n",
              "      <td>20.57</td>\n",
              "      <td>17.77</td>\n",
              "      <td>132.90</td>\n",
              "      <td>1326.0</td>\n",
              "      <td>0.08474</td>\n",
              "      <td>0.07864</td>\n",
              "      <td>0.0869</td>\n",
              "      <td>0.07017</td>\n",
              "      <td>0.1812</td>\n",
              "      <td>0.05667</td>\n",
              "      <td>0.5435</td>\n",
              "      <td>0.7339</td>\n",
              "      <td>3.398</td>\n",
              "      <td>74.08</td>\n",
              "      <td>0.005225</td>\n",
              "      <td>0.01308</td>\n",
              "      <td>0.01860</td>\n",
              "      <td>0.01340</td>\n",
              "      <td>0.01389</td>\n",
              "      <td>0.003532</td>\n",
              "      <td>24.99</td>\n",
              "      <td>23.41</td>\n",
              "      <td>158.80</td>\n",
              "      <td>1956.0</td>\n",
              "      <td>0.1238</td>\n",
              "      <td>0.1866</td>\n",
              "      <td>0.2416</td>\n",
              "      <td>0.1860</td>\n",
              "      <td>0.2750</td>\n",
              "      <td>0.08902</td>\n",
              "    </tr>\n",
              "    <tr>\n",
              "      <th>2</th>\n",
              "      <td>84300903</td>\n",
              "      <td>1</td>\n",
              "      <td>19.69</td>\n",
              "      <td>21.25</td>\n",
              "      <td>130.00</td>\n",
              "      <td>1203.0</td>\n",
              "      <td>0.10960</td>\n",
              "      <td>0.15990</td>\n",
              "      <td>0.1974</td>\n",
              "      <td>0.12790</td>\n",
              "      <td>0.2069</td>\n",
              "      <td>0.05999</td>\n",
              "      <td>0.7456</td>\n",
              "      <td>0.7869</td>\n",
              "      <td>4.585</td>\n",
              "      <td>94.03</td>\n",
              "      <td>0.006150</td>\n",
              "      <td>0.04006</td>\n",
              "      <td>0.03832</td>\n",
              "      <td>0.02058</td>\n",
              "      <td>0.02250</td>\n",
              "      <td>0.004571</td>\n",
              "      <td>23.57</td>\n",
              "      <td>25.53</td>\n",
              "      <td>152.50</td>\n",
              "      <td>1709.0</td>\n",
              "      <td>0.1444</td>\n",
              "      <td>0.4245</td>\n",
              "      <td>0.4504</td>\n",
              "      <td>0.2430</td>\n",
              "      <td>0.3613</td>\n",
              "      <td>0.08758</td>\n",
              "    </tr>\n",
              "    <tr>\n",
              "      <th>3</th>\n",
              "      <td>84348301</td>\n",
              "      <td>1</td>\n",
              "      <td>11.42</td>\n",
              "      <td>20.38</td>\n",
              "      <td>77.58</td>\n",
              "      <td>386.1</td>\n",
              "      <td>0.14250</td>\n",
              "      <td>0.28390</td>\n",
              "      <td>0.2414</td>\n",
              "      <td>0.10520</td>\n",
              "      <td>0.2597</td>\n",
              "      <td>0.09744</td>\n",
              "      <td>0.4956</td>\n",
              "      <td>1.1560</td>\n",
              "      <td>3.445</td>\n",
              "      <td>27.23</td>\n",
              "      <td>0.009110</td>\n",
              "      <td>0.07458</td>\n",
              "      <td>0.05661</td>\n",
              "      <td>0.01867</td>\n",
              "      <td>0.05963</td>\n",
              "      <td>0.009208</td>\n",
              "      <td>14.91</td>\n",
              "      <td>26.50</td>\n",
              "      <td>98.87</td>\n",
              "      <td>567.7</td>\n",
              "      <td>0.2098</td>\n",
              "      <td>0.8663</td>\n",
              "      <td>0.6869</td>\n",
              "      <td>0.2575</td>\n",
              "      <td>0.6638</td>\n",
              "      <td>0.17300</td>\n",
              "    </tr>\n",
              "    <tr>\n",
              "      <th>4</th>\n",
              "      <td>84358402</td>\n",
              "      <td>1</td>\n",
              "      <td>20.29</td>\n",
              "      <td>14.34</td>\n",
              "      <td>135.10</td>\n",
              "      <td>1297.0</td>\n",
              "      <td>0.10030</td>\n",
              "      <td>0.13280</td>\n",
              "      <td>0.1980</td>\n",
              "      <td>0.10430</td>\n",
              "      <td>0.1809</td>\n",
              "      <td>0.05883</td>\n",
              "      <td>0.7572</td>\n",
              "      <td>0.7813</td>\n",
              "      <td>5.438</td>\n",
              "      <td>94.44</td>\n",
              "      <td>0.011490</td>\n",
              "      <td>0.02461</td>\n",
              "      <td>0.05688</td>\n",
              "      <td>0.01885</td>\n",
              "      <td>0.01756</td>\n",
              "      <td>0.005115</td>\n",
              "      <td>22.54</td>\n",
              "      <td>16.67</td>\n",
              "      <td>152.20</td>\n",
              "      <td>1575.0</td>\n",
              "      <td>0.1374</td>\n",
              "      <td>0.2050</td>\n",
              "      <td>0.4000</td>\n",
              "      <td>0.1625</td>\n",
              "      <td>0.2364</td>\n",
              "      <td>0.07678</td>\n",
              "    </tr>\n",
              "  </tbody>\n",
              "</table>\n",
              "</div>"
            ],
            "text/plain": [
              "         id  diagnosis  ...  symmetry_worst  fractal_dimension_worst\n",
              "0    842302          1  ...          0.4601                  0.11890\n",
              "1    842517          1  ...          0.2750                  0.08902\n",
              "2  84300903          1  ...          0.3613                  0.08758\n",
              "3  84348301          1  ...          0.6638                  0.17300\n",
              "4  84358402          1  ...          0.2364                  0.07678\n",
              "\n",
              "[5 rows x 32 columns]"
            ]
          },
          "metadata": {
            "tags": []
          },
          "execution_count": 158
        }
      ]
    },
    {
      "cell_type": "code",
      "metadata": {
        "id": "29e_kcjxmvYI",
        "colab_type": "code",
        "colab": {
          "base_uri": "https://localhost:8080/",
          "height": 583
        },
        "outputId": "78baa802-0fc3-4ec0-ab4e-d5814d561723"
      },
      "source": [
        "df.isnull().sum()"
      ],
      "execution_count": 159,
      "outputs": [
        {
          "output_type": "execute_result",
          "data": {
            "text/plain": [
              "id                         0\n",
              "diagnosis                  0\n",
              "radius_mean                0\n",
              "texture_mean               0\n",
              "perimeter_mean             0\n",
              "area_mean                  0\n",
              "smoothness_mean            0\n",
              "compactness_mean           0\n",
              "concavity_mean             0\n",
              "concave points_mean        0\n",
              "symmetry_mean              0\n",
              "fractal_dimension_mean     0\n",
              "radius_se                  0\n",
              "texture_se                 0\n",
              "perimeter_se               0\n",
              "area_se                    0\n",
              "smoothness_se              0\n",
              "compactness_se             0\n",
              "concavity_se               0\n",
              "concave points_se          0\n",
              "symmetry_se                0\n",
              "fractal_dimension_se       0\n",
              "radius_worst               0\n",
              "texture_worst              0\n",
              "perimeter_worst            0\n",
              "area_worst                 0\n",
              "smoothness_worst           0\n",
              "compactness_worst          0\n",
              "concavity_worst            0\n",
              "concave points_worst       0\n",
              "symmetry_worst             0\n",
              "fractal_dimension_worst    0\n",
              "dtype: int64"
            ]
          },
          "metadata": {
            "tags": []
          },
          "execution_count": 159
        }
      ]
    },
    {
      "cell_type": "code",
      "metadata": {
        "id": "77pNUiNTmzyO",
        "colab_type": "code",
        "colab": {}
      },
      "source": [
        "labels = df['diagnosis']"
      ],
      "execution_count": 0,
      "outputs": []
    },
    {
      "cell_type": "code",
      "metadata": {
        "id": "4BBwvOKenDN7",
        "colab_type": "code",
        "colab": {
          "base_uri": "https://localhost:8080/",
          "height": 463
        },
        "outputId": "bc199d57-a9e6-4721-890a-ae9ba25f47b7"
      },
      "source": [
        "labels_value = labels.values\n",
        "labels_value"
      ],
      "execution_count": 161,
      "outputs": [
        {
          "output_type": "execute_result",
          "data": {
            "text/plain": [
              "array([1, 1, 1, 1, 1, 1, 1, 1, 1, 1, 1, 1, 1, 1, 1, 1, 1, 1, 1, 0, 0, 0,\n",
              "       1, 1, 1, 1, 1, 1, 1, 1, 1, 1, 1, 1, 1, 1, 1, 0, 1, 1, 1, 1, 1, 1,\n",
              "       1, 1, 0, 1, 0, 0, 0, 0, 0, 1, 1, 0, 1, 1, 0, 0, 0, 0, 1, 0, 1, 1,\n",
              "       0, 0, 0, 0, 1, 0, 1, 1, 0, 1, 0, 1, 1, 0, 0, 0, 1, 1, 0, 1, 1, 1,\n",
              "       0, 0, 0, 1, 0, 0, 1, 1, 0, 0, 0, 1, 1, 0, 0, 0, 0, 1, 0, 0, 1, 0,\n",
              "       0, 0, 0, 0, 0, 0, 0, 1, 1, 1, 0, 1, 1, 0, 0, 0, 1, 1, 0, 1, 0, 1,\n",
              "       1, 0, 1, 1, 0, 0, 1, 0, 0, 1, 0, 0, 0, 0, 1, 0, 0, 0, 0, 0, 0, 0,\n",
              "       0, 0, 1, 0, 0, 0, 0, 1, 1, 0, 1, 0, 0, 1, 1, 0, 0, 1, 1, 0, 0, 0,\n",
              "       0, 1, 0, 0, 1, 1, 1, 0, 1, 0, 1, 0, 0, 0, 1, 0, 0, 1, 1, 0, 1, 1,\n",
              "       1, 1, 0, 1, 1, 1, 0, 1, 0, 1, 0, 0, 1, 0, 1, 1, 1, 1, 0, 0, 1, 1,\n",
              "       0, 0, 0, 1, 0, 0, 0, 0, 0, 1, 1, 0, 0, 1, 0, 0, 1, 1, 0, 1, 0, 0,\n",
              "       0, 0, 1, 0, 0, 0, 0, 0, 1, 0, 1, 1, 1, 1, 1, 1, 1, 1, 1, 1, 1, 1,\n",
              "       1, 1, 0, 0, 0, 0, 0, 0, 1, 0, 1, 0, 0, 1, 0, 0, 1, 0, 1, 1, 0, 0,\n",
              "       0, 0, 0, 0, 0, 0, 0, 0, 0, 0, 0, 1, 0, 0, 1, 0, 1, 0, 0, 0, 0, 0,\n",
              "       0, 0, 0, 0, 0, 0, 0, 0, 0, 1, 0, 0, 0, 1, 0, 1, 0, 0, 0, 0, 1, 1,\n",
              "       1, 0, 0, 0, 0, 1, 0, 1, 0, 1, 0, 0, 0, 1, 0, 0, 0, 0, 0, 0, 0, 1,\n",
              "       1, 1, 0, 0, 0, 0, 0, 0, 0, 0, 0, 0, 0, 1, 1, 0, 1, 1, 1, 0, 1, 1,\n",
              "       0, 0, 0, 0, 0, 1, 0, 0, 0, 0, 0, 1, 0, 0, 0, 1, 0, 0, 1, 1, 0, 0,\n",
              "       0, 0, 0, 0, 1, 0, 0, 0, 0, 0, 0, 0, 1, 0, 0, 0, 0, 0, 1, 0, 0, 1,\n",
              "       0, 0, 0, 0, 0, 0, 0, 0, 0, 0, 0, 0, 1, 0, 1, 1, 0, 1, 0, 0, 0, 0,\n",
              "       0, 1, 0, 0, 1, 0, 1, 0, 0, 1, 0, 1, 0, 0, 0, 0, 0, 0, 0, 0, 1, 1,\n",
              "       0, 0, 0, 0, 0, 0, 1, 0, 0, 0, 0, 0, 0, 0, 0, 0, 0, 1, 0, 0, 0, 0,\n",
              "       0, 0, 0, 1, 0, 1, 0, 0, 1, 0, 0, 0, 0, 0, 1, 1, 0, 1, 0, 1, 0, 0,\n",
              "       0, 0, 0, 1, 0, 0, 1, 0, 1, 0, 1, 1, 0, 0, 0, 1, 0, 0, 0, 0, 0, 0,\n",
              "       0, 0, 0, 0, 0, 1, 0, 1, 1, 0, 0, 0, 0, 0, 0, 0, 0, 0, 0, 0, 0, 0,\n",
              "       0, 0, 0, 0, 0, 0, 0, 0, 0, 0, 0, 0, 1, 1, 1, 1, 1, 1, 0])"
            ]
          },
          "metadata": {
            "tags": []
          },
          "execution_count": 161
        }
      ]
    },
    {
      "cell_type": "code",
      "metadata": {
        "id": "iW1Tg6MGnEO7",
        "colab_type": "code",
        "colab": {
          "base_uri": "https://localhost:8080/",
          "height": 240
        },
        "outputId": "c70a52c9-1b95-4059-e681-43192ef51e66"
      },
      "source": [
        "df = df.drop(['diagnosis','id'],axis=1)\n",
        "df.head()"
      ],
      "execution_count": 162,
      "outputs": [
        {
          "output_type": "execute_result",
          "data": {
            "text/html": [
              "<div>\n",
              "<style scoped>\n",
              "    .dataframe tbody tr th:only-of-type {\n",
              "        vertical-align: middle;\n",
              "    }\n",
              "\n",
              "    .dataframe tbody tr th {\n",
              "        vertical-align: top;\n",
              "    }\n",
              "\n",
              "    .dataframe thead th {\n",
              "        text-align: right;\n",
              "    }\n",
              "</style>\n",
              "<table border=\"1\" class=\"dataframe\">\n",
              "  <thead>\n",
              "    <tr style=\"text-align: right;\">\n",
              "      <th></th>\n",
              "      <th>radius_mean</th>\n",
              "      <th>texture_mean</th>\n",
              "      <th>perimeter_mean</th>\n",
              "      <th>area_mean</th>\n",
              "      <th>smoothness_mean</th>\n",
              "      <th>compactness_mean</th>\n",
              "      <th>concavity_mean</th>\n",
              "      <th>concave points_mean</th>\n",
              "      <th>symmetry_mean</th>\n",
              "      <th>fractal_dimension_mean</th>\n",
              "      <th>radius_se</th>\n",
              "      <th>texture_se</th>\n",
              "      <th>perimeter_se</th>\n",
              "      <th>area_se</th>\n",
              "      <th>smoothness_se</th>\n",
              "      <th>compactness_se</th>\n",
              "      <th>concavity_se</th>\n",
              "      <th>concave points_se</th>\n",
              "      <th>symmetry_se</th>\n",
              "      <th>fractal_dimension_se</th>\n",
              "      <th>radius_worst</th>\n",
              "      <th>texture_worst</th>\n",
              "      <th>perimeter_worst</th>\n",
              "      <th>area_worst</th>\n",
              "      <th>smoothness_worst</th>\n",
              "      <th>compactness_worst</th>\n",
              "      <th>concavity_worst</th>\n",
              "      <th>concave points_worst</th>\n",
              "      <th>symmetry_worst</th>\n",
              "      <th>fractal_dimension_worst</th>\n",
              "    </tr>\n",
              "  </thead>\n",
              "  <tbody>\n",
              "    <tr>\n",
              "      <th>0</th>\n",
              "      <td>17.99</td>\n",
              "      <td>10.38</td>\n",
              "      <td>122.80</td>\n",
              "      <td>1001.0</td>\n",
              "      <td>0.11840</td>\n",
              "      <td>0.27760</td>\n",
              "      <td>0.3001</td>\n",
              "      <td>0.14710</td>\n",
              "      <td>0.2419</td>\n",
              "      <td>0.07871</td>\n",
              "      <td>1.0950</td>\n",
              "      <td>0.9053</td>\n",
              "      <td>8.589</td>\n",
              "      <td>153.40</td>\n",
              "      <td>0.006399</td>\n",
              "      <td>0.04904</td>\n",
              "      <td>0.05373</td>\n",
              "      <td>0.01587</td>\n",
              "      <td>0.03003</td>\n",
              "      <td>0.006193</td>\n",
              "      <td>25.38</td>\n",
              "      <td>17.33</td>\n",
              "      <td>184.60</td>\n",
              "      <td>2019.0</td>\n",
              "      <td>0.1622</td>\n",
              "      <td>0.6656</td>\n",
              "      <td>0.7119</td>\n",
              "      <td>0.2654</td>\n",
              "      <td>0.4601</td>\n",
              "      <td>0.11890</td>\n",
              "    </tr>\n",
              "    <tr>\n",
              "      <th>1</th>\n",
              "      <td>20.57</td>\n",
              "      <td>17.77</td>\n",
              "      <td>132.90</td>\n",
              "      <td>1326.0</td>\n",
              "      <td>0.08474</td>\n",
              "      <td>0.07864</td>\n",
              "      <td>0.0869</td>\n",
              "      <td>0.07017</td>\n",
              "      <td>0.1812</td>\n",
              "      <td>0.05667</td>\n",
              "      <td>0.5435</td>\n",
              "      <td>0.7339</td>\n",
              "      <td>3.398</td>\n",
              "      <td>74.08</td>\n",
              "      <td>0.005225</td>\n",
              "      <td>0.01308</td>\n",
              "      <td>0.01860</td>\n",
              "      <td>0.01340</td>\n",
              "      <td>0.01389</td>\n",
              "      <td>0.003532</td>\n",
              "      <td>24.99</td>\n",
              "      <td>23.41</td>\n",
              "      <td>158.80</td>\n",
              "      <td>1956.0</td>\n",
              "      <td>0.1238</td>\n",
              "      <td>0.1866</td>\n",
              "      <td>0.2416</td>\n",
              "      <td>0.1860</td>\n",
              "      <td>0.2750</td>\n",
              "      <td>0.08902</td>\n",
              "    </tr>\n",
              "    <tr>\n",
              "      <th>2</th>\n",
              "      <td>19.69</td>\n",
              "      <td>21.25</td>\n",
              "      <td>130.00</td>\n",
              "      <td>1203.0</td>\n",
              "      <td>0.10960</td>\n",
              "      <td>0.15990</td>\n",
              "      <td>0.1974</td>\n",
              "      <td>0.12790</td>\n",
              "      <td>0.2069</td>\n",
              "      <td>0.05999</td>\n",
              "      <td>0.7456</td>\n",
              "      <td>0.7869</td>\n",
              "      <td>4.585</td>\n",
              "      <td>94.03</td>\n",
              "      <td>0.006150</td>\n",
              "      <td>0.04006</td>\n",
              "      <td>0.03832</td>\n",
              "      <td>0.02058</td>\n",
              "      <td>0.02250</td>\n",
              "      <td>0.004571</td>\n",
              "      <td>23.57</td>\n",
              "      <td>25.53</td>\n",
              "      <td>152.50</td>\n",
              "      <td>1709.0</td>\n",
              "      <td>0.1444</td>\n",
              "      <td>0.4245</td>\n",
              "      <td>0.4504</td>\n",
              "      <td>0.2430</td>\n",
              "      <td>0.3613</td>\n",
              "      <td>0.08758</td>\n",
              "    </tr>\n",
              "    <tr>\n",
              "      <th>3</th>\n",
              "      <td>11.42</td>\n",
              "      <td>20.38</td>\n",
              "      <td>77.58</td>\n",
              "      <td>386.1</td>\n",
              "      <td>0.14250</td>\n",
              "      <td>0.28390</td>\n",
              "      <td>0.2414</td>\n",
              "      <td>0.10520</td>\n",
              "      <td>0.2597</td>\n",
              "      <td>0.09744</td>\n",
              "      <td>0.4956</td>\n",
              "      <td>1.1560</td>\n",
              "      <td>3.445</td>\n",
              "      <td>27.23</td>\n",
              "      <td>0.009110</td>\n",
              "      <td>0.07458</td>\n",
              "      <td>0.05661</td>\n",
              "      <td>0.01867</td>\n",
              "      <td>0.05963</td>\n",
              "      <td>0.009208</td>\n",
              "      <td>14.91</td>\n",
              "      <td>26.50</td>\n",
              "      <td>98.87</td>\n",
              "      <td>567.7</td>\n",
              "      <td>0.2098</td>\n",
              "      <td>0.8663</td>\n",
              "      <td>0.6869</td>\n",
              "      <td>0.2575</td>\n",
              "      <td>0.6638</td>\n",
              "      <td>0.17300</td>\n",
              "    </tr>\n",
              "    <tr>\n",
              "      <th>4</th>\n",
              "      <td>20.29</td>\n",
              "      <td>14.34</td>\n",
              "      <td>135.10</td>\n",
              "      <td>1297.0</td>\n",
              "      <td>0.10030</td>\n",
              "      <td>0.13280</td>\n",
              "      <td>0.1980</td>\n",
              "      <td>0.10430</td>\n",
              "      <td>0.1809</td>\n",
              "      <td>0.05883</td>\n",
              "      <td>0.7572</td>\n",
              "      <td>0.7813</td>\n",
              "      <td>5.438</td>\n",
              "      <td>94.44</td>\n",
              "      <td>0.011490</td>\n",
              "      <td>0.02461</td>\n",
              "      <td>0.05688</td>\n",
              "      <td>0.01885</td>\n",
              "      <td>0.01756</td>\n",
              "      <td>0.005115</td>\n",
              "      <td>22.54</td>\n",
              "      <td>16.67</td>\n",
              "      <td>152.20</td>\n",
              "      <td>1575.0</td>\n",
              "      <td>0.1374</td>\n",
              "      <td>0.2050</td>\n",
              "      <td>0.4000</td>\n",
              "      <td>0.1625</td>\n",
              "      <td>0.2364</td>\n",
              "      <td>0.07678</td>\n",
              "    </tr>\n",
              "  </tbody>\n",
              "</table>\n",
              "</div>"
            ],
            "text/plain": [
              "   radius_mean  texture_mean  ...  symmetry_worst  fractal_dimension_worst\n",
              "0        17.99         10.38  ...          0.4601                  0.11890\n",
              "1        20.57         17.77  ...          0.2750                  0.08902\n",
              "2        19.69         21.25  ...          0.3613                  0.08758\n",
              "3        11.42         20.38  ...          0.6638                  0.17300\n",
              "4        20.29         14.34  ...          0.2364                  0.07678\n",
              "\n",
              "[5 rows x 30 columns]"
            ]
          },
          "metadata": {
            "tags": []
          },
          "execution_count": 162
        }
      ]
    },
    {
      "cell_type": "code",
      "metadata": {
        "id": "zBbVyo9MncvQ",
        "colab_type": "code",
        "colab": {}
      },
      "source": [
        "data_value = df.values"
      ],
      "execution_count": 0,
      "outputs": []
    },
    {
      "cell_type": "code",
      "metadata": {
        "id": "P5v5wEZEnrBH",
        "colab_type": "code",
        "colab": {
          "base_uri": "https://localhost:8080/",
          "height": 240
        },
        "outputId": "414a51e5-abaa-4ee6-acff-bcc22261d8d3"
      },
      "source": [
        "data_value"
      ],
      "execution_count": 164,
      "outputs": [
        {
          "output_type": "execute_result",
          "data": {
            "text/plain": [
              "array([[1.799e+01, 1.038e+01, 1.228e+02, ..., 2.654e-01, 4.601e-01,\n",
              "        1.189e-01],\n",
              "       [2.057e+01, 1.777e+01, 1.329e+02, ..., 1.860e-01, 2.750e-01,\n",
              "        8.902e-02],\n",
              "       [1.969e+01, 2.125e+01, 1.300e+02, ..., 2.430e-01, 3.613e-01,\n",
              "        8.758e-02],\n",
              "       ...,\n",
              "       [1.660e+01, 2.808e+01, 1.083e+02, ..., 1.418e-01, 2.218e-01,\n",
              "        7.820e-02],\n",
              "       [2.060e+01, 2.933e+01, 1.401e+02, ..., 2.650e-01, 4.087e-01,\n",
              "        1.240e-01],\n",
              "       [7.760e+00, 2.454e+01, 4.792e+01, ..., 0.000e+00, 2.871e-01,\n",
              "        7.039e-02]])"
            ]
          },
          "metadata": {
            "tags": []
          },
          "execution_count": 164
        }
      ]
    },
    {
      "cell_type": "code",
      "metadata": {
        "id": "TRXt0QMYnsWg",
        "colab_type": "code",
        "colab": {
          "base_uri": "https://localhost:8080/",
          "height": 34
        },
        "outputId": "22c8447c-8d2c-4473-d3b4-7d7fe20e4695"
      },
      "source": [
        "batch_size = 20\n",
        "data_value.shape"
      ],
      "execution_count": 165,
      "outputs": [
        {
          "output_type": "execute_result",
          "data": {
            "text/plain": [
              "(569, 30)"
            ]
          },
          "metadata": {
            "tags": []
          },
          "execution_count": 165
        }
      ]
    },
    {
      "cell_type": "code",
      "metadata": {
        "id": "TNVM4toHoGpQ",
        "colab_type": "code",
        "colab": {}
      },
      "source": [
        "train_size = int(data_value.shape[0]*.9)"
      ],
      "execution_count": 0,
      "outputs": []
    },
    {
      "cell_type": "code",
      "metadata": {
        "id": "kdcXYa4gosm4",
        "colab_type": "code",
        "colab": {
          "base_uri": "https://localhost:8080/",
          "height": 34
        },
        "outputId": "a94f8d23-093c-4e6f-c681-040553a84164"
      },
      "source": [
        "print(train_size)"
      ],
      "execution_count": 167,
      "outputs": [
        {
          "output_type": "stream",
          "text": [
            "512\n"
          ],
          "name": "stdout"
        }
      ]
    },
    {
      "cell_type": "code",
      "metadata": {
        "id": "k4-42We7ouyV",
        "colab_type": "code",
        "colab": {}
      },
      "source": [
        "## now we make train iter and test iter\n",
        "train_iter = mx.io.NDArrayIter(data = data_value[:train_size],label = labels_value[:train_size],batch_size=batch_size)\n",
        "test_iter = mx.io.NDArrayIter(data = data_value[train_size:],label = labels_value[train_size:],batch_size=batch_size)"
      ],
      "execution_count": 0,
      "outputs": []
    },
    {
      "cell_type": "code",
      "metadata": {
        "id": "DLEWFrCgpUOX",
        "colab_type": "code",
        "colab": {}
      },
      "source": [
        "### define a neural network in MXNET\n",
        "net = mx.sym.Variable('data')   #### place holder for the data\n",
        "net = mx.sym.FullyConnected(net,name='fc1',num_hidden=250) ## 250 neuron\n",
        "net = mx.sym.Activation(net,name='relu1',act_type='relu') ## relu activation function\n",
        "net = mx.sym.FullyConnected(net,name='fc2',num_hidden=64) ## 64 neuron\n",
        "net = mx.sym.Activation(net,name='relu2',act_type='relu') ## relu activation function\n",
        "net = mx.sym.FullyConnected(net,name='fc3',num_hidden=8) ## 8 neuron\n",
        "net = mx.sym.SoftmaxOutput(net,name='softmax')\n"
      ],
      "execution_count": 0,
      "outputs": []
    },
    {
      "cell_type": "code",
      "metadata": {
        "id": "S7XjSL4gqxFt",
        "colab_type": "code",
        "colab": {
          "base_uri": "https://localhost:8080/",
          "height": 861
        },
        "outputId": "156b4c56-f5a8-4dc2-c95a-59841ecfeaaf"
      },
      "source": [
        "mx.viz.plot_network(net)"
      ],
      "execution_count": 170,
      "outputs": [
        {
          "output_type": "execute_result",
          "data": {
            "text/plain": [
              "<graphviz.dot.Digraph at 0x7f894b6eab70>"
            ],
            "image/svg+xml": "<?xml version=\"1.0\" encoding=\"UTF-8\" standalone=\"no\"?>\n<!DOCTYPE svg PUBLIC \"-//W3C//DTD SVG 1.1//EN\"\n \"http://www.w3.org/Graphics/SVG/1.1/DTD/svg11.dtd\">\n<!-- Generated by graphviz version 2.40.1 (20161225.0304)\n -->\n<!-- Title: plot Pages: 1 -->\n<svg width=\"214pt\" height=\"630pt\"\n viewBox=\"0.00 0.00 214.00 630.00\" xmlns=\"http://www.w3.org/2000/svg\" xmlns:xlink=\"http://www.w3.org/1999/xlink\">\n<g id=\"graph0\" class=\"graph\" transform=\"scale(1 1) rotate(0) translate(4 626)\">\n<title>plot</title>\n<polygon fill=\"#ffffff\" stroke=\"transparent\" points=\"-4,4 -4,-626 210,-626 210,4 -4,4\"/>\n<!-- data -->\n<g id=\"node1\" class=\"node\">\n<title>data</title>\n<ellipse fill=\"#8dd3c7\" stroke=\"#000000\" cx=\"47\" cy=\"-29\" rx=\"47\" ry=\"29\"/>\n<text text-anchor=\"middle\" x=\"47\" y=\"-25.3\" font-family=\"Times,serif\" font-size=\"14.00\" fill=\"#000000\">data</text>\n</g>\n<!-- fc1 -->\n<g id=\"node2\" class=\"node\">\n<title>fc1</title>\n<polygon fill=\"#fb8072\" stroke=\"#000000\" points=\"94,-152 0,-152 0,-94 94,-94 94,-152\"/>\n<text text-anchor=\"middle\" x=\"47\" y=\"-126.8\" font-family=\"Times,serif\" font-size=\"14.00\" fill=\"#000000\">FullyConnected</text>\n<text text-anchor=\"middle\" x=\"47\" y=\"-111.8\" font-family=\"Times,serif\" font-size=\"14.00\" fill=\"#000000\">250</text>\n</g>\n<!-- fc1&#45;&gt;data -->\n<g id=\"edge1\" class=\"edge\">\n<title>fc1&#45;&gt;data</title>\n<path fill=\"none\" stroke=\"#000000\" d=\"M47,-83.6321C47,-75.1148 47,-66.2539 47,-58.2088\"/>\n<polygon fill=\"#000000\" stroke=\"#000000\" points=\"47,-93.7731 42.5001,-83.773 47,-88.7731 47.0001,-83.7731 47.0001,-83.7731 47.0001,-83.7731 47,-88.7731 51.5001,-83.7731 47,-93.7731 47,-93.7731\"/>\n</g>\n<!-- relu1 -->\n<g id=\"node3\" class=\"node\">\n<title>relu1</title>\n<polygon fill=\"#ffffb3\" stroke=\"#000000\" points=\"94,-246 0,-246 0,-188 94,-188 94,-246\"/>\n<text text-anchor=\"middle\" x=\"47\" y=\"-220.8\" font-family=\"Times,serif\" font-size=\"14.00\" fill=\"#000000\">Activation</text>\n<text text-anchor=\"middle\" x=\"47\" y=\"-205.8\" font-family=\"Times,serif\" font-size=\"14.00\" fill=\"#000000\">relu</text>\n</g>\n<!-- relu1&#45;&gt;fc1 -->\n<g id=\"edge2\" class=\"edge\">\n<title>relu1&#45;&gt;fc1</title>\n<path fill=\"none\" stroke=\"#000000\" d=\"M47,-177.6321C47,-169.1148 47,-160.2539 47,-152.2088\"/>\n<polygon fill=\"#000000\" stroke=\"#000000\" points=\"47,-187.7731 42.5001,-177.773 47,-182.7731 47.0001,-177.7731 47.0001,-177.7731 47.0001,-177.7731 47,-182.7731 51.5001,-177.7731 47,-187.7731 47,-187.7731\"/>\n</g>\n<!-- fc2 -->\n<g id=\"node4\" class=\"node\">\n<title>fc2</title>\n<polygon fill=\"#fb8072\" stroke=\"#000000\" points=\"94,-340 0,-340 0,-282 94,-282 94,-340\"/>\n<text text-anchor=\"middle\" x=\"47\" y=\"-314.8\" font-family=\"Times,serif\" font-size=\"14.00\" fill=\"#000000\">FullyConnected</text>\n<text text-anchor=\"middle\" x=\"47\" y=\"-299.8\" font-family=\"Times,serif\" font-size=\"14.00\" fill=\"#000000\">64</text>\n</g>\n<!-- fc2&#45;&gt;relu1 -->\n<g id=\"edge3\" class=\"edge\">\n<title>fc2&#45;&gt;relu1</title>\n<path fill=\"none\" stroke=\"#000000\" d=\"M47,-271.6321C47,-263.1148 47,-254.2539 47,-246.2088\"/>\n<polygon fill=\"#000000\" stroke=\"#000000\" points=\"47,-281.7731 42.5001,-271.773 47,-276.7731 47.0001,-271.7731 47.0001,-271.7731 47.0001,-271.7731 47,-276.7731 51.5001,-271.7731 47,-281.7731 47,-281.7731\"/>\n</g>\n<!-- relu2 -->\n<g id=\"node5\" class=\"node\">\n<title>relu2</title>\n<polygon fill=\"#ffffb3\" stroke=\"#000000\" points=\"94,-434 0,-434 0,-376 94,-376 94,-434\"/>\n<text text-anchor=\"middle\" x=\"47\" y=\"-408.8\" font-family=\"Times,serif\" font-size=\"14.00\" fill=\"#000000\">Activation</text>\n<text text-anchor=\"middle\" x=\"47\" y=\"-393.8\" font-family=\"Times,serif\" font-size=\"14.00\" fill=\"#000000\">relu</text>\n</g>\n<!-- relu2&#45;&gt;fc2 -->\n<g id=\"edge4\" class=\"edge\">\n<title>relu2&#45;&gt;fc2</title>\n<path fill=\"none\" stroke=\"#000000\" d=\"M47,-365.6321C47,-357.1148 47,-348.2539 47,-340.2088\"/>\n<polygon fill=\"#000000\" stroke=\"#000000\" points=\"47,-375.7731 42.5001,-365.773 47,-370.7731 47.0001,-365.7731 47.0001,-365.7731 47.0001,-365.7731 47,-370.7731 51.5001,-365.7731 47,-375.7731 47,-375.7731\"/>\n</g>\n<!-- fc3 -->\n<g id=\"node6\" class=\"node\">\n<title>fc3</title>\n<polygon fill=\"#fb8072\" stroke=\"#000000\" points=\"94,-528 0,-528 0,-470 94,-470 94,-528\"/>\n<text text-anchor=\"middle\" x=\"47\" y=\"-502.8\" font-family=\"Times,serif\" font-size=\"14.00\" fill=\"#000000\">FullyConnected</text>\n<text text-anchor=\"middle\" x=\"47\" y=\"-487.8\" font-family=\"Times,serif\" font-size=\"14.00\" fill=\"#000000\">8</text>\n</g>\n<!-- fc3&#45;&gt;relu2 -->\n<g id=\"edge5\" class=\"edge\">\n<title>fc3&#45;&gt;relu2</title>\n<path fill=\"none\" stroke=\"#000000\" d=\"M47,-459.6321C47,-451.1148 47,-442.2539 47,-434.2088\"/>\n<polygon fill=\"#000000\" stroke=\"#000000\" points=\"47,-469.7731 42.5001,-459.773 47,-464.7731 47.0001,-459.7731 47.0001,-459.7731 47.0001,-459.7731 47,-464.7731 51.5001,-459.7731 47,-469.7731 47,-469.7731\"/>\n</g>\n<!-- softmax_label -->\n<g id=\"node7\" class=\"node\">\n<title>softmax_label</title>\n<ellipse fill=\"#8dd3c7\" stroke=\"#000000\" cx=\"159\" cy=\"-499\" rx=\"47\" ry=\"29\"/>\n<text text-anchor=\"middle\" x=\"159\" y=\"-495.3\" font-family=\"Times,serif\" font-size=\"14.00\" fill=\"#000000\">softmax_label</text>\n</g>\n<!-- softmax -->\n<g id=\"node8\" class=\"node\">\n<title>softmax</title>\n<polygon fill=\"#fccde5\" stroke=\"#000000\" points=\"150,-622 56,-622 56,-564 150,-564 150,-622\"/>\n<text text-anchor=\"middle\" x=\"103\" y=\"-589.3\" font-family=\"Times,serif\" font-size=\"14.00\" fill=\"#000000\">softmax</text>\n</g>\n<!-- softmax&#45;&gt;fc3 -->\n<g id=\"edge6\" class=\"edge\">\n<title>softmax&#45;&gt;fc3</title>\n<path fill=\"none\" stroke=\"#000000\" d=\"M80.3812,-555.0328C75.0542,-546.091 69.4571,-536.6959 64.401,-528.2088\"/>\n<polygon fill=\"#000000\" stroke=\"#000000\" points=\"85.5882,-563.7731 76.6042,-557.4852 83.0292,-559.4776 80.4701,-555.1821 80.4701,-555.1821 80.4701,-555.1821 83.0292,-559.4776 84.3361,-552.8789 85.5882,-563.7731 85.5882,-563.7731\"/>\n</g>\n<!-- softmax&#45;&gt;softmax_label -->\n<g id=\"edge7\" class=\"edge\">\n<title>softmax&#45;&gt;softmax_label</title>\n<path fill=\"none\" stroke=\"#000000\" d=\"M125.5712,-555.1126C131.3182,-545.4659 137.3825,-535.2865 142.7449,-526.2854\"/>\n<polygon fill=\"#000000\" stroke=\"#000000\" points=\"120.4118,-563.7731 121.6639,-552.8789 122.9708,-559.4776 125.5299,-555.1821 125.5299,-555.1821 125.5299,-555.1821 122.9708,-559.4776 129.3958,-557.4852 120.4118,-563.7731 120.4118,-563.7731\"/>\n</g>\n</g>\n</svg>\n"
          },
          "metadata": {
            "tags": []
          },
          "execution_count": 170
        }
      ]
    },
    {
      "cell_type": "code",
      "metadata": {
        "id": "TYYmtgR_qyCL",
        "colab_type": "code",
        "colab": {}
      },
      "source": [
        "## wrap with the module function\n",
        "mod = mx.mod.Module(symbol=net,context=mx.cpu(),data_names=['data'],label_names=['softmax_label'])"
      ],
      "execution_count": 0,
      "outputs": []
    },
    {
      "cell_type": "code",
      "metadata": {
        "id": "N1cAudNerY2t",
        "colab_type": "code",
        "colab": {}
      },
      "source": [
        "## bind the data with the graph\n",
        "mod.bind(data_shapes=train_iter.provide_data,label_shapes=train_iter.provide_label)"
      ],
      "execution_count": 0,
      "outputs": []
    },
    {
      "cell_type": "code",
      "metadata": {
        "id": "0BgkxHkMrqFM",
        "colab_type": "code",
        "colab": {}
      },
      "source": [
        "## now we need to initialize the parameter\n",
        "mod.init_params(initializer=mx.init.Uniform(scale=.01))"
      ],
      "execution_count": 0,
      "outputs": []
    },
    {
      "cell_type": "code",
      "metadata": {
        "id": "1_LPDJDMsDVX",
        "colab_type": "code",
        "colab": {}
      },
      "source": [
        "## adding a metrics to the model\n",
        "metric = mx.metric.create('acc')"
      ],
      "execution_count": 0,
      "outputs": []
    },
    {
      "cell_type": "code",
      "metadata": {
        "id": "JnmFGNrtsKbo",
        "colab_type": "code",
        "colab": {}
      },
      "source": [
        "## setting the optimizer\n",
        "lr = 0.001\n",
        "mod.init_optimizer(optimizer='Adam',optimizer_params=(('learning_rate',lr),))"
      ],
      "execution_count": 0,
      "outputs": []
    },
    {
      "cell_type": "code",
      "metadata": {
        "id": "7CMov18_sfb9",
        "colab_type": "code",
        "colab": {
          "base_uri": "https://localhost:8080/",
          "height": 1000
        },
        "outputId": "089719c5-4550-4204-da4f-4b076bce1661"
      },
      "source": [
        "## now we train the model like pytorch module\n",
        "\n",
        "for epochs in range(200):\n",
        "  train_iter.reset() ### after feeding all the data in opne epochs it wilstart again from the beginning\n",
        "  metric.reset() ## every accuracy will be from beginning at every epochs\n",
        "\n",
        "  for batch in train_iter:\n",
        "    ## calculate the forward for every data\n",
        "    mod.forward(batch,is_train=True)\n",
        "    mod.update_metric(metric,batch.label) ## find the metric with the data provided\n",
        "    mod.backward() ## for  calculate the backpropagation\n",
        "    mod.update() ### update value\n",
        "  print(\"Epochs {} Train Accuracy {} \".format(epochs,metric.get()))\n",
        "    \n"
      ],
      "execution_count": 176,
      "outputs": [
        {
          "output_type": "stream",
          "text": [
            "Epochs 0 Train Accuracy ('accuracy', 0.47884615384615387) \n",
            "Epochs 1 Train Accuracy ('accuracy', 0.6153846153846154) \n",
            "Epochs 2 Train Accuracy ('accuracy', 0.3576923076923077) \n",
            "Epochs 3 Train Accuracy ('accuracy', 0.4326923076923077) \n",
            "Epochs 4 Train Accuracy ('accuracy', 0.39615384615384613) \n",
            "Epochs 5 Train Accuracy ('accuracy', 0.5211538461538462) \n",
            "Epochs 6 Train Accuracy ('accuracy', 0.46153846153846156) \n",
            "Epochs 7 Train Accuracy ('accuracy', 0.6173076923076923) \n",
            "Epochs 8 Train Accuracy ('accuracy', 0.7346153846153847) \n",
            "Epochs 9 Train Accuracy ('accuracy', 0.8115384615384615) \n",
            "Epochs 10 Train Accuracy ('accuracy', 0.8423076923076923) \n",
            "Epochs 11 Train Accuracy ('accuracy', 0.8884615384615384) \n",
            "Epochs 12 Train Accuracy ('accuracy', 0.8865384615384615) \n",
            "Epochs 13 Train Accuracy ('accuracy', 0.8865384615384615) \n",
            "Epochs 14 Train Accuracy ('accuracy', 0.8865384615384615) \n",
            "Epochs 15 Train Accuracy ('accuracy', 0.8826923076923077) \n",
            "Epochs 16 Train Accuracy ('accuracy', 0.8769230769230769) \n",
            "Epochs 17 Train Accuracy ('accuracy', 0.8730769230769231) \n",
            "Epochs 18 Train Accuracy ('accuracy', 0.8730769230769231) \n",
            "Epochs 19 Train Accuracy ('accuracy', 0.8769230769230769) \n",
            "Epochs 20 Train Accuracy ('accuracy', 0.8807692307692307) \n",
            "Epochs 21 Train Accuracy ('accuracy', 0.8865384615384615) \n",
            "Epochs 22 Train Accuracy ('accuracy', 0.8884615384615384) \n",
            "Epochs 23 Train Accuracy ('accuracy', 0.8961538461538462) \n",
            "Epochs 24 Train Accuracy ('accuracy', 0.9) \n",
            "Epochs 25 Train Accuracy ('accuracy', 0.8980769230769231) \n",
            "Epochs 26 Train Accuracy ('accuracy', 0.9) \n",
            "Epochs 27 Train Accuracy ('accuracy', 0.9) \n",
            "Epochs 28 Train Accuracy ('accuracy', 0.9) \n",
            "Epochs 29 Train Accuracy ('accuracy', 0.9) \n",
            "Epochs 30 Train Accuracy ('accuracy', 0.9) \n",
            "Epochs 31 Train Accuracy ('accuracy', 0.9019230769230769) \n",
            "Epochs 32 Train Accuracy ('accuracy', 0.9019230769230769) \n",
            "Epochs 33 Train Accuracy ('accuracy', 0.9019230769230769) \n",
            "Epochs 34 Train Accuracy ('accuracy', 0.9019230769230769) \n",
            "Epochs 35 Train Accuracy ('accuracy', 0.9038461538461539) \n",
            "Epochs 36 Train Accuracy ('accuracy', 0.9019230769230769) \n",
            "Epochs 37 Train Accuracy ('accuracy', 0.9038461538461539) \n",
            "Epochs 38 Train Accuracy ('accuracy', 0.9019230769230769) \n",
            "Epochs 39 Train Accuracy ('accuracy', 0.9038461538461539) \n",
            "Epochs 40 Train Accuracy ('accuracy', 0.9038461538461539) \n",
            "Epochs 41 Train Accuracy ('accuracy', 0.9038461538461539) \n",
            "Epochs 42 Train Accuracy ('accuracy', 0.9038461538461539) \n",
            "Epochs 43 Train Accuracy ('accuracy', 0.9038461538461539) \n",
            "Epochs 44 Train Accuracy ('accuracy', 0.9038461538461539) \n",
            "Epochs 45 Train Accuracy ('accuracy', 0.9057692307692308) \n",
            "Epochs 46 Train Accuracy ('accuracy', 0.9076923076923077) \n",
            "Epochs 47 Train Accuracy ('accuracy', 0.9076923076923077) \n",
            "Epochs 48 Train Accuracy ('accuracy', 0.9076923076923077) \n",
            "Epochs 49 Train Accuracy ('accuracy', 0.9096153846153846) \n",
            "Epochs 50 Train Accuracy ('accuracy', 0.9134615384615384) \n",
            "Epochs 51 Train Accuracy ('accuracy', 0.9134615384615384) \n",
            "Epochs 52 Train Accuracy ('accuracy', 0.9173076923076923) \n",
            "Epochs 53 Train Accuracy ('accuracy', 0.9153846153846154) \n",
            "Epochs 54 Train Accuracy ('accuracy', 0.9153846153846154) \n",
            "Epochs 55 Train Accuracy ('accuracy', 0.9153846153846154) \n",
            "Epochs 56 Train Accuracy ('accuracy', 0.9173076923076923) \n",
            "Epochs 57 Train Accuracy ('accuracy', 0.9173076923076923) \n",
            "Epochs 58 Train Accuracy ('accuracy', 0.9173076923076923) \n",
            "Epochs 59 Train Accuracy ('accuracy', 0.9173076923076923) \n",
            "Epochs 60 Train Accuracy ('accuracy', 0.9192307692307692) \n",
            "Epochs 61 Train Accuracy ('accuracy', 0.9173076923076923) \n",
            "Epochs 62 Train Accuracy ('accuracy', 0.9211538461538461) \n",
            "Epochs 63 Train Accuracy ('accuracy', 0.9192307692307692) \n",
            "Epochs 64 Train Accuracy ('accuracy', 0.9192307692307692) \n",
            "Epochs 65 Train Accuracy ('accuracy', 0.9192307692307692) \n",
            "Epochs 66 Train Accuracy ('accuracy', 0.9211538461538461) \n",
            "Epochs 67 Train Accuracy ('accuracy', 0.9211538461538461) \n",
            "Epochs 68 Train Accuracy ('accuracy', 0.9192307692307692) \n",
            "Epochs 69 Train Accuracy ('accuracy', 0.9192307692307692) \n",
            "Epochs 70 Train Accuracy ('accuracy', 0.9173076923076923) \n",
            "Epochs 71 Train Accuracy ('accuracy', 0.9173076923076923) \n",
            "Epochs 72 Train Accuracy ('accuracy', 0.9192307692307692) \n",
            "Epochs 73 Train Accuracy ('accuracy', 0.9192307692307692) \n",
            "Epochs 74 Train Accuracy ('accuracy', 0.9192307692307692) \n",
            "Epochs 75 Train Accuracy ('accuracy', 0.9211538461538461) \n",
            "Epochs 76 Train Accuracy ('accuracy', 0.9211538461538461) \n",
            "Epochs 77 Train Accuracy ('accuracy', 0.925) \n",
            "Epochs 78 Train Accuracy ('accuracy', 0.926923076923077) \n",
            "Epochs 79 Train Accuracy ('accuracy', 0.9288461538461539) \n",
            "Epochs 80 Train Accuracy ('accuracy', 0.9346153846153846) \n",
            "Epochs 81 Train Accuracy ('accuracy', 0.9288461538461539) \n",
            "Epochs 82 Train Accuracy ('accuracy', 0.926923076923077) \n",
            "Epochs 83 Train Accuracy ('accuracy', 0.9307692307692308) \n",
            "Epochs 84 Train Accuracy ('accuracy', 0.9288461538461539) \n",
            "Epochs 85 Train Accuracy ('accuracy', 0.9326923076923077) \n",
            "Epochs 86 Train Accuracy ('accuracy', 0.9288461538461539) \n",
            "Epochs 87 Train Accuracy ('accuracy', 0.9346153846153846) \n",
            "Epochs 88 Train Accuracy ('accuracy', 0.9346153846153846) \n",
            "Epochs 89 Train Accuracy ('accuracy', 0.9307692307692308) \n",
            "Epochs 90 Train Accuracy ('accuracy', 0.9346153846153846) \n",
            "Epochs 91 Train Accuracy ('accuracy', 0.9307692307692308) \n",
            "Epochs 92 Train Accuracy ('accuracy', 0.9307692307692308) \n",
            "Epochs 93 Train Accuracy ('accuracy', 0.9307692307692308) \n",
            "Epochs 94 Train Accuracy ('accuracy', 0.9326923076923077) \n",
            "Epochs 95 Train Accuracy ('accuracy', 0.9307692307692308) \n",
            "Epochs 96 Train Accuracy ('accuracy', 0.9288461538461539) \n",
            "Epochs 97 Train Accuracy ('accuracy', 0.9307692307692308) \n",
            "Epochs 98 Train Accuracy ('accuracy', 0.9346153846153846) \n",
            "Epochs 99 Train Accuracy ('accuracy', 0.926923076923077) \n",
            "Epochs 100 Train Accuracy ('accuracy', 0.926923076923077) \n",
            "Epochs 101 Train Accuracy ('accuracy', 0.9192307692307692) \n",
            "Epochs 102 Train Accuracy ('accuracy', 0.9230769230769231) \n",
            "Epochs 103 Train Accuracy ('accuracy', 0.9192307692307692) \n",
            "Epochs 104 Train Accuracy ('accuracy', 0.9192307692307692) \n",
            "Epochs 105 Train Accuracy ('accuracy', 0.9192307692307692) \n",
            "Epochs 106 Train Accuracy ('accuracy', 0.9153846153846154) \n",
            "Epochs 107 Train Accuracy ('accuracy', 0.9192307692307692) \n",
            "Epochs 108 Train Accuracy ('accuracy', 0.9211538461538461) \n",
            "Epochs 109 Train Accuracy ('accuracy', 0.9192307692307692) \n",
            "Epochs 110 Train Accuracy ('accuracy', 0.9153846153846154) \n",
            "Epochs 111 Train Accuracy ('accuracy', 0.9192307692307692) \n",
            "Epochs 112 Train Accuracy ('accuracy', 0.9134615384615384) \n",
            "Epochs 113 Train Accuracy ('accuracy', 0.9173076923076923) \n",
            "Epochs 114 Train Accuracy ('accuracy', 0.9153846153846154) \n",
            "Epochs 115 Train Accuracy ('accuracy', 0.9096153846153846) \n",
            "Epochs 116 Train Accuracy ('accuracy', 0.9173076923076923) \n",
            "Epochs 117 Train Accuracy ('accuracy', 0.9115384615384615) \n",
            "Epochs 118 Train Accuracy ('accuracy', 0.9192307692307692) \n",
            "Epochs 119 Train Accuracy ('accuracy', 0.9115384615384615) \n",
            "Epochs 120 Train Accuracy ('accuracy', 0.9230769230769231) \n",
            "Epochs 121 Train Accuracy ('accuracy', 0.9115384615384615) \n",
            "Epochs 122 Train Accuracy ('accuracy', 0.9192307692307692) \n",
            "Epochs 123 Train Accuracy ('accuracy', 0.9192307692307692) \n",
            "Epochs 124 Train Accuracy ('accuracy', 0.9173076923076923) \n",
            "Epochs 125 Train Accuracy ('accuracy', 0.9192307692307692) \n",
            "Epochs 126 Train Accuracy ('accuracy', 0.9230769230769231) \n",
            "Epochs 127 Train Accuracy ('accuracy', 0.9211538461538461) \n",
            "Epochs 128 Train Accuracy ('accuracy', 0.926923076923077) \n",
            "Epochs 129 Train Accuracy ('accuracy', 0.9173076923076923) \n",
            "Epochs 130 Train Accuracy ('accuracy', 0.9192307692307692) \n",
            "Epochs 131 Train Accuracy ('accuracy', 0.9173076923076923) \n",
            "Epochs 132 Train Accuracy ('accuracy', 0.9211538461538461) \n",
            "Epochs 133 Train Accuracy ('accuracy', 0.9153846153846154) \n",
            "Epochs 134 Train Accuracy ('accuracy', 0.9211538461538461) \n",
            "Epochs 135 Train Accuracy ('accuracy', 0.9230769230769231) \n",
            "Epochs 136 Train Accuracy ('accuracy', 0.926923076923077) \n",
            "Epochs 137 Train Accuracy ('accuracy', 0.925) \n",
            "Epochs 138 Train Accuracy ('accuracy', 0.9230769230769231) \n",
            "Epochs 139 Train Accuracy ('accuracy', 0.926923076923077) \n",
            "Epochs 140 Train Accuracy ('accuracy', 0.9288461538461539) \n",
            "Epochs 141 Train Accuracy ('accuracy', 0.9288461538461539) \n",
            "Epochs 142 Train Accuracy ('accuracy', 0.9307692307692308) \n",
            "Epochs 143 Train Accuracy ('accuracy', 0.9365384615384615) \n",
            "Epochs 144 Train Accuracy ('accuracy', 0.926923076923077) \n",
            "Epochs 145 Train Accuracy ('accuracy', 0.926923076923077) \n",
            "Epochs 146 Train Accuracy ('accuracy', 0.9307692307692308) \n",
            "Epochs 147 Train Accuracy ('accuracy', 0.9307692307692308) \n",
            "Epochs 148 Train Accuracy ('accuracy', 0.9307692307692308) \n",
            "Epochs 149 Train Accuracy ('accuracy', 0.9326923076923077) \n",
            "Epochs 150 Train Accuracy ('accuracy', 0.9307692307692308) \n",
            "Epochs 151 Train Accuracy ('accuracy', 0.9326923076923077) \n",
            "Epochs 152 Train Accuracy ('accuracy', 0.9326923076923077) \n",
            "Epochs 153 Train Accuracy ('accuracy', 0.9307692307692308) \n",
            "Epochs 154 Train Accuracy ('accuracy', 0.9288461538461539) \n",
            "Epochs 155 Train Accuracy ('accuracy', 0.9288461538461539) \n",
            "Epochs 156 Train Accuracy ('accuracy', 0.925) \n",
            "Epochs 157 Train Accuracy ('accuracy', 0.9326923076923077) \n",
            "Epochs 158 Train Accuracy ('accuracy', 0.9346153846153846) \n",
            "Epochs 159 Train Accuracy ('accuracy', 0.9346153846153846) \n",
            "Epochs 160 Train Accuracy ('accuracy', 0.9307692307692308) \n",
            "Epochs 161 Train Accuracy ('accuracy', 0.9326923076923077) \n",
            "Epochs 162 Train Accuracy ('accuracy', 0.9346153846153846) \n",
            "Epochs 163 Train Accuracy ('accuracy', 0.9346153846153846) \n",
            "Epochs 164 Train Accuracy ('accuracy', 0.9288461538461539) \n",
            "Epochs 165 Train Accuracy ('accuracy', 0.9346153846153846) \n",
            "Epochs 166 Train Accuracy ('accuracy', 0.9307692307692308) \n",
            "Epochs 167 Train Accuracy ('accuracy', 0.9288461538461539) \n",
            "Epochs 168 Train Accuracy ('accuracy', 0.9365384615384615) \n",
            "Epochs 169 Train Accuracy ('accuracy', 0.9365384615384615) \n",
            "Epochs 170 Train Accuracy ('accuracy', 0.9384615384615385) \n",
            "Epochs 171 Train Accuracy ('accuracy', 0.9403846153846154) \n",
            "Epochs 172 Train Accuracy ('accuracy', 0.9403846153846154) \n",
            "Epochs 173 Train Accuracy ('accuracy', 0.9384615384615385) \n",
            "Epochs 174 Train Accuracy ('accuracy', 0.9365384615384615) \n",
            "Epochs 175 Train Accuracy ('accuracy', 0.9384615384615385) \n",
            "Epochs 176 Train Accuracy ('accuracy', 0.9403846153846154) \n",
            "Epochs 177 Train Accuracy ('accuracy', 0.9346153846153846) \n",
            "Epochs 178 Train Accuracy ('accuracy', 0.926923076923077) \n",
            "Epochs 179 Train Accuracy ('accuracy', 0.9365384615384615) \n",
            "Epochs 180 Train Accuracy ('accuracy', 0.9384615384615385) \n",
            "Epochs 181 Train Accuracy ('accuracy', 0.9423076923076923) \n",
            "Epochs 182 Train Accuracy ('accuracy', 0.9384615384615385) \n",
            "Epochs 183 Train Accuracy ('accuracy', 0.9326923076923077) \n",
            "Epochs 184 Train Accuracy ('accuracy', 0.9403846153846154) \n",
            "Epochs 185 Train Accuracy ('accuracy', 0.9384615384615385) \n",
            "Epochs 186 Train Accuracy ('accuracy', 0.9326923076923077) \n",
            "Epochs 187 Train Accuracy ('accuracy', 0.9346153846153846) \n",
            "Epochs 188 Train Accuracy ('accuracy', 0.9326923076923077) \n",
            "Epochs 189 Train Accuracy ('accuracy', 0.9346153846153846) \n",
            "Epochs 190 Train Accuracy ('accuracy', 0.9384615384615385) \n",
            "Epochs 191 Train Accuracy ('accuracy', 0.9365384615384615) \n",
            "Epochs 192 Train Accuracy ('accuracy', 0.9365384615384615) \n",
            "Epochs 193 Train Accuracy ('accuracy', 0.9365384615384615) \n",
            "Epochs 194 Train Accuracy ('accuracy', 0.9365384615384615) \n",
            "Epochs 195 Train Accuracy ('accuracy', 0.9346153846153846) \n",
            "Epochs 196 Train Accuracy ('accuracy', 0.9346153846153846) \n",
            "Epochs 197 Train Accuracy ('accuracy', 0.9423076923076923) \n",
            "Epochs 198 Train Accuracy ('accuracy', 0.9346153846153846) \n",
            "Epochs 199 Train Accuracy ('accuracy', 0.9384615384615385) \n"
          ],
          "name": "stdout"
        }
      ]
    },
    {
      "cell_type": "code",
      "metadata": {
        "id": "5v97PZojt-dv",
        "colab_type": "code",
        "colab": {}
      },
      "source": [
        "y = mod.predict(test_iter)"
      ],
      "execution_count": 0,
      "outputs": []
    },
    {
      "cell_type": "code",
      "metadata": {
        "id": "SevFsQ6XuVy3",
        "colab_type": "code",
        "colab": {
          "base_uri": "https://localhost:8080/",
          "height": 1000
        },
        "outputId": "e12ad8d2-d116-47de-c43b-92f34f88c74f"
      },
      "source": [
        "y"
      ],
      "execution_count": 178,
      "outputs": [
        {
          "output_type": "execute_result",
          "data": {
            "text/plain": [
              "\n",
              "[[7.72098675e-02 9.22790110e-01 1.83792515e-09 2.69556577e-09\n",
              "  2.35013253e-09 1.26441080e-09 2.24014363e-09 1.77979897e-09]\n",
              " [7.58690417e-01 2.40885064e-01 6.45121399e-05 8.42525114e-05\n",
              "  7.79681068e-05 5.71741075e-05 7.49823448e-05 6.56266857e-05]\n",
              " [4.25182283e-01 5.74794352e-01 3.69534473e-06 4.51784399e-06\n",
              "  4.16987587e-06 3.03117076e-06 4.21411914e-06 3.68206497e-06]\n",
              " [9.99383211e-01 6.16763195e-04 5.48233785e-11 1.72091799e-10\n",
              "  1.38130965e-10 4.52733302e-11 9.66971017e-11 6.69361927e-11]\n",
              " [1.41227781e-03 9.98587728e-01 6.12996219e-15 1.18417578e-14\n",
              "  8.37182716e-15 3.44161557e-15 1.07612919e-14 5.50044138e-15]\n",
              " [1.40181731e-03 9.98598158e-01 5.36282097e-15 1.03428669e-14\n",
              "  7.30570915e-15 3.01009506e-15 9.45234220e-15 4.80989819e-15]\n",
              " [9.28569853e-01 7.13959485e-02 4.72145757e-06 7.68667996e-06\n",
              "  6.79424465e-06 4.12412555e-06 6.02496084e-06 5.00332544e-06]\n",
              " [9.96623158e-01 3.37686436e-03 5.44153700e-09 1.33896085e-08\n",
              "  1.11652243e-08 4.61160621e-09 8.43696046e-09 6.28187058e-09]\n",
              " [9.99703109e-01 2.96822895e-04 6.97833501e-12 2.30192289e-11\n",
              "  1.84867000e-11 5.75701943e-12 1.28986604e-11 8.81991008e-12]\n",
              " [2.09709814e-08 1.00000000e+00 1.13230297e-35 5.77823489e-35\n",
              "  2.43881271e-35 2.73620919e-36 4.61588737e-35 8.59723307e-36]\n",
              " [9.99889851e-01 1.10189663e-04 1.23609063e-13 5.07601556e-13\n",
              "  3.88615247e-13 9.77518644e-14 2.52122542e-13 1.60296757e-13]\n",
              " [9.92353022e-01 7.64705753e-03 1.43182532e-08 3.25041256e-08\n",
              "  2.72293779e-08 1.20761658e-08 2.13399129e-08 1.61505742e-08]\n",
              " [9.99663353e-01 3.36690631e-04 9.83568348e-12 3.23418722e-11\n",
              "  2.59220787e-11 8.10749731e-12 1.80567054e-11 1.23510030e-11]\n",
              " [9.99844074e-01 1.55942660e-04 7.57489124e-13 2.72393414e-12\n",
              "  2.15975913e-12 6.17015878e-13 1.47412627e-12 9.81438672e-13]\n",
              " [9.81995225e-01 1.80038214e-02 1.12119388e-07 2.26323294e-07\n",
              "  1.93065389e-07 9.55624486e-08 1.57996709e-07 1.23402856e-07]\n",
              " [9.99480546e-01 5.19442488e-04 1.65208212e-11 5.51561782e-11\n",
              "  4.36489421e-11 1.34182986e-11 2.98155979e-11 2.01839049e-11]\n",
              " [9.99112546e-01 8.87412461e-04 5.95257593e-11 1.85488083e-10\n",
              "  1.48125068e-10 4.85570195e-11 1.03315703e-10 7.13689524e-11]\n",
              " [9.99217749e-01 7.82186282e-04 8.18396115e-11 2.53320531e-10\n",
              "  2.03439696e-10 6.73986977e-11 1.42251808e-10 9.87113863e-11]\n",
              " [9.95164990e-01 4.83502820e-03 1.89455189e-08 4.33149765e-08\n",
              "  3.66109205e-08 1.62578377e-08 2.85486941e-08 2.17223874e-08]\n",
              " [9.95911956e-01 4.08808328e-03 7.94838861e-09 1.81802715e-08\n",
              "  1.54993600e-08 6.80366341e-09 1.20046044e-08 9.18669318e-09]\n",
              " [9.05029774e-01 9.49257091e-02 6.17135083e-06 9.90161607e-06\n",
              "  8.74121270e-06 5.36101106e-06 7.75084663e-06 6.45192813e-06]\n",
              " [1.22263085e-03 9.98777330e-01 1.67824237e-15 3.26477393e-15\n",
              "  2.28611058e-15 9.28738804e-16 3.01899610e-15 1.50223347e-15]\n",
              " [9.99913812e-01 8.62067463e-05 5.96512924e-14 2.50200875e-13\n",
              "  1.91314968e-13 4.70983217e-14 1.23732567e-13 7.82082122e-14]\n",
              " [1.21419791e-04 9.99878526e-01 1.42520454e-19 3.40550698e-19\n",
              "  2.14717902e-19 6.64082438e-20 3.02328698e-19 1.23229232e-19]\n",
              " [9.97859180e-01 2.14079092e-03 2.39576498e-10 6.69803935e-10\n",
              "  5.40395673e-10 1.95958513e-10 3.96625510e-10 2.81211499e-10]\n",
              " [9.99711931e-01 2.88002542e-04 5.06967775e-12 1.76572194e-11\n",
              "  1.39314792e-11 4.13045639e-12 9.49682000e-12 6.37018693e-12]\n",
              " [9.98842835e-01 1.15712860e-03 2.32383404e-10 5.51413082e-10\n",
              "  4.79734363e-10 1.99515945e-10 3.72680886e-10 2.86532437e-10]\n",
              " [9.95615125e-01 4.38488368e-03 2.14224610e-10 4.47975185e-10\n",
              "  4.01767675e-10 1.77537471e-10 3.21282695e-10 2.57248528e-10]\n",
              " [9.99768198e-01 2.31785845e-04 1.42853286e-12 5.29770151e-12\n",
              "  4.12253435e-12 1.14593773e-12 2.74558197e-12 1.80119092e-12]\n",
              " [9.35357392e-01 6.46397099e-02 3.75629980e-07 6.74926014e-07\n",
              "  5.78798677e-07 3.16259673e-07 5.02823923e-07 4.00134525e-07]\n",
              " [8.16536427e-01 1.83433637e-01 4.24843574e-06 6.57526925e-06\n",
              "  5.75534114e-06 3.61663820e-06 5.28585724e-06 4.38136885e-06]\n",
              " [9.99134481e-01 8.65535461e-04 6.23071317e-11 1.90647997e-10\n",
              "  1.52731341e-10 5.11128501e-11 1.08420543e-10 7.53032497e-11]\n",
              " [9.98870552e-01 1.12937193e-03 1.18868249e-10 3.54931917e-10\n",
              "  2.85477697e-10 9.75590997e-11 2.02530187e-10 1.41754206e-10]\n",
              " [8.87687147e-01 1.12278983e-01 4.73534874e-06 7.49852506e-06\n",
              "  6.60441265e-06 4.09098402e-06 5.96520704e-06 4.95716813e-06]\n",
              " [9.99804556e-01 1.95467524e-04 1.14204523e-12 4.17693397e-12\n",
              "  3.27641256e-12 9.22692695e-13 2.20613306e-12 1.45704184e-12]\n",
              " [9.99929547e-01 7.04703270e-05 3.14603114e-14 1.34040497e-13\n",
              "  1.02473917e-13 2.48070133e-14 6.61485027e-14 4.16291994e-14]\n",
              " [9.99544919e-01 4.55029745e-04 3.56839037e-11 1.10205740e-10\n",
              "  8.94653171e-11 2.97829053e-11 6.36117339e-11 4.44293317e-11]\n",
              " [9.80050743e-01 1.99446380e-02 5.93182563e-07 1.11123347e-06\n",
              "  9.67449978e-07 5.18072795e-07 8.19679371e-07 6.55574013e-07]\n",
              " [9.99809086e-01 1.90937833e-04 1.14219853e-12 4.20435301e-12\n",
              "  3.29109613e-12 9.22169134e-13 2.21103821e-12 1.45735409e-12]\n",
              " [9.99787390e-01 2.12589774e-04 1.67991337e-12 6.10283005e-12\n",
              "  4.78489774e-12 1.35922924e-12 3.22527205e-12 2.13470821e-12]\n",
              " [9.99133408e-01 8.66642222e-04 8.94318924e-11 2.70152373e-10\n",
              "  2.17343241e-10 7.37706563e-11 1.54776941e-10 1.08099543e-10]\n",
              " [9.99912858e-01 8.71246593e-05 1.29250221e-13 5.02642795e-13\n",
              "  3.93407691e-13 1.04209264e-13 2.63198643e-13 1.71083132e-13]\n",
              " [9.99322414e-01 6.77547650e-04 4.62361538e-11 1.45006535e-10\n",
              "  1.15977908e-10 3.79757753e-11 8.14698586e-11 5.62784888e-11]\n",
              " [9.99921560e-01 7.84366930e-05 9.35713909e-14 3.74513002e-13\n",
              "  2.90945924e-13 7.50798214e-14 1.92814392e-13 1.24099637e-13]\n",
              " [9.99928117e-01 7.18328520e-05 4.41106739e-14 1.83479249e-13\n",
              "  1.41219325e-13 3.50156238e-14 9.21051362e-14 5.84790734e-14]\n",
              " [9.99755681e-01 2.44282186e-04 7.84519845e-12 2.52991170e-11\n",
              "  2.05150653e-11 6.55005911e-12 1.45432260e-11 1.00505949e-11]\n",
              " [9.99477208e-01 5.22855611e-04 6.92683584e-12 2.38034731e-11\n",
              "  1.86339486e-11 5.54649642e-12 1.26423637e-11 8.45420348e-12]\n",
              " [9.99717891e-01 2.82130379e-04 5.56199791e-12 1.92437351e-11\n",
              "  1.52196779e-11 4.54418794e-12 1.04185480e-11 7.00454842e-12]\n",
              " [9.94199753e-01 5.80021041e-03 2.95045166e-09 7.13133197e-09\n",
              "  5.88262283e-09 2.44909604e-09 4.56514915e-09 3.37042794e-09]\n",
              " [9.99859095e-01 1.40844670e-04 6.41322065e-13 2.39963930e-12\n",
              "  1.87899869e-12 5.19124728e-13 1.26377359e-12 8.30467585e-13]\n",
              " [4.00633574e-01 5.99364102e-01 3.55252666e-07 4.52554445e-07\n",
              "  4.15220001e-07 2.80127324e-07 4.13140754e-07 3.54128645e-07]\n",
              " [1.07864777e-04 9.99892116e-01 4.75469135e-20 1.15174044e-19\n",
              "  7.20740756e-20 2.18099578e-20 1.02284844e-19 4.10954056e-20]\n",
              " [3.69703207e-06 9.99996305e-01 2.05607874e-26 6.68148300e-26\n",
              "  3.57309432e-26 7.29340580e-27 5.72717516e-26 1.68928523e-26]\n",
              " [9.54534044e-05 9.99904513e-01 5.14564341e-20 1.25690301e-19\n",
              "  7.83596918e-20 2.35238098e-20 1.10988174e-19 4.43321665e-20]\n",
              " [1.51146844e-01 8.48853052e-01 3.88627406e-08 5.21371781e-08\n",
              "  4.53266935e-08 2.93352489e-08 4.87528879e-08 3.79215983e-08]\n",
              " [2.04033058e-05 9.99979615e-01 3.48315506e-23 1.01531277e-22\n",
              "  5.98599961e-23 1.40551379e-23 8.36630724e-23 2.98036888e-23]\n",
              " [9.94355083e-01 5.64490259e-03 3.75596221e-09 7.31531768e-09\n",
              "  6.60886412e-09 3.21844063e-09 5.39884537e-09 4.42267689e-09]]\n",
              "<NDArray 57x8 @cpu(0)>"
            ]
          },
          "metadata": {
            "tags": []
          },
          "execution_count": 178
        }
      ]
    },
    {
      "cell_type": "code",
      "metadata": {
        "id": "nd0VGK3BuWmv",
        "colab_type": "code",
        "colab": {}
      },
      "source": [
        "score = mod.score(test_iter,['acc'])"
      ],
      "execution_count": 0,
      "outputs": []
    },
    {
      "cell_type": "code",
      "metadata": {
        "id": "JgdIzsgzvF1A",
        "colab_type": "code",
        "colab": {
          "base_uri": "https://localhost:8080/",
          "height": 34
        },
        "outputId": "eef5687f-c931-41b3-bd50-d23037c35f75"
      },
      "source": [
        "print(\"Accuracy score is {}\".format(score))"
      ],
      "execution_count": 180,
      "outputs": [
        {
          "output_type": "stream",
          "text": [
            "Accuracy score is [('accuracy', 0.9833333333333333)]\n"
          ],
          "name": "stdout"
        }
      ]
    },
    {
      "cell_type": "code",
      "metadata": {
        "id": "ypDtnH9ovK7_",
        "colab_type": "code",
        "colab": {}
      },
      "source": [
        "### this process is difficult we can use keras like operation\n",
        "train_iter.reset()\n",
        "\n",
        "## create again  a new neural net\n",
        "mod = mx.mod.Module(symbol=net,context=mx.cpu(),data_names=['data'],label_names=['softmax_label'])"
      ],
      "execution_count": 0,
      "outputs": []
    },
    {
      "cell_type": "code",
      "metadata": {
        "id": "67npOpx5wwIB",
        "colab_type": "code",
        "colab": {}
      },
      "source": [
        "mod.fit(train_iter,eval_data=test_iter,optimizer='Adam',optimizer_params={'learning_rate':.001},eval_metric='acc',num_epoch=10)"
      ],
      "execution_count": 0,
      "outputs": []
    },
    {
      "cell_type": "code",
      "metadata": {
        "id": "xObQMCJ0xEG0",
        "colab_type": "code",
        "colab": {}
      },
      "source": [
        "y = mod.predict(test_iter)"
      ],
      "execution_count": 0,
      "outputs": []
    },
    {
      "cell_type": "code",
      "metadata": {
        "id": "kW3Ll1PzxQOM",
        "colab_type": "code",
        "colab": {
          "base_uri": "https://localhost:8080/",
          "height": 34
        },
        "outputId": "b69a6915-4c28-4631-88c2-3bad43f10226"
      },
      "source": [
        "score = mod.score(test_iter,['acc'])\n",
        "print(\"Accuracy score is {}\".format(score))"
      ],
      "execution_count": 184,
      "outputs": [
        {
          "output_type": "stream",
          "text": [
            "Accuracy score is [('accuracy', 0.9333333333333333)]\n"
          ],
          "name": "stdout"
        }
      ]
    },
    {
      "cell_type": "code",
      "metadata": {
        "id": "e9Ch9QeB3Cdf",
        "colab_type": "code",
        "colab": {}
      },
      "source": [
        ""
      ],
      "execution_count": 0,
      "outputs": []
    },
    {
      "cell_type": "code",
      "metadata": {
        "id": "3wPyEbnzxdS9",
        "colab_type": "code",
        "colab": {}
      },
      "source": [
        ""
      ],
      "execution_count": 0,
      "outputs": []
    }
  ]
}